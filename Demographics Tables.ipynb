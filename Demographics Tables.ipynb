{
 "cells": [
  {
   "cell_type": "markdown",
   "id": "sexual-thanks",
   "metadata": {},
   "source": [
    "# Table 2: Admissions Demographics"
   ]
  },
  {
   "cell_type": "code",
   "execution_count": 1,
   "id": "checked-football",
   "metadata": {},
   "outputs": [],
   "source": [
    "import numpy as np\n",
    "import pandas as pd\n",
    "import seaborn as sns\n",
    "import math\n",
    "import statistics\n",
    "import numpy as np\n",
    "import scipy.stats as st\n",
    "from scipy import stats\n",
    "alpha = .05\n",
    "import statsmodels.api as sm"
   ]
  },
  {
   "cell_type": "code",
   "execution_count": null,
   "id": "copyrighted-front",
   "metadata": {},
   "outputs": [],
   "source": [
    "admissions = pd.read_excel('aml_data_8.16.23.xlsx')\n",
    "admissions.tail()\n",
    "#len(admissions)"
   ]
  },
  {
   "cell_type": "code",
   "execution_count": null,
   "id": "natural-angel",
   "metadata": {},
   "outputs": [],
   "source": [
    "admissions.columns"
   ]
  },
  {
   "cell_type": "code",
   "execution_count": null,
   "id": "continuing-seminar",
   "metadata": {},
   "outputs": [],
   "source": [
    "df = pd.DataFrame()"
   ]
  },
  {
   "cell_type": "markdown",
   "id": "broken-chocolate",
   "metadata": {},
   "source": [
    "## get_pval func\n"
   ]
  },
  {
   "cell_type": "code",
   "execution_count": null,
   "id": "rotary-chemistry",
   "metadata": {},
   "outputs": [],
   "source": [
    "def get_pval(field):\n",
    "    ads_field = admissions.loc[:,[\"infection_present\",field]]\n",
    "    bsi_neg= ads_field[(ads_field[field]==0)]['infection_present']\n",
    "    bsi_pos = ads_field[(ads_field[field]==1)]['infection_present']\n",
    "    \n",
    "    tot_ads = stats.shapiro(ads_field[field])\n",
    "\n",
    "    if tot_ads.pvalue < alpha:\n",
    "        #mann whitney\n",
    "        res = stats.mannwhitneyu(bsi_neg,bsi_pos)\n",
    "    else:\n",
    "        #ttest\n",
    "        res = stats.ttest_ind(bsi_neg,bsi_pos)\n",
    "\n",
    "    return res"
   ]
  },
  {
   "cell_type": "markdown",
   "id": "illegal-fraud",
   "metadata": {},
   "source": [
    "## get_pval_b func"
   ]
  },
  {
   "cell_type": "code",
   "execution_count": null,
   "id": "graduate-basin",
   "metadata": {},
   "outputs": [],
   "source": [
    "def get_pval_b(field):\n",
    "    contingency_table = pd.crosstab(index=admissions['infection_present'], columns=admissions[field])\n",
    "    res = stats.barnard_exact([contingency_table[0],contingency_table[1]])\n",
    "    return res"
   ]
  },
  {
   "cell_type": "code",
   "execution_count": null,
   "id": "oriental-maldives",
   "metadata": {},
   "outputs": [],
   "source": [
    "def get_pval_b2(field):\n",
    "    contingency_table = pd.crosstab(index=admissions['infection_present'], columns=admissions[field])\n",
    "    res = stats.boschloo_exact([contingency_table[0],contingency_table[1]])\n",
    "    return res"
   ]
  },
  {
   "cell_type": "markdown",
   "id": "aware-cattle",
   "metadata": {},
   "source": [
    "## get pval_median func"
   ]
  },
  {
   "cell_type": "code",
   "execution_count": null,
   "id": "weird-cornell",
   "metadata": {},
   "outputs": [],
   "source": [
    "def get_pval_median(field):\n",
    "    result_tot_pat = stats.shapiro(admissions[field])\n",
    "    if result_tot_pat.pvalue < alpha:\n",
    "        #mann whitney\n",
    "        tot_pat_res = stats.mannwhitneyu(neg_ads[field],pos_ads[field])\n",
    "    else:\n",
    "        #ttest\n",
    "        tot_pat_res = stats.ttest_ind(neg_ads[field],pos_ads[field],nan_policy='omit')\n",
    "\n",
    "    return tot_pat_res"
   ]
  },
  {
   "cell_type": "markdown",
   "id": "downtown-style",
   "metadata": {},
   "source": [
    "## get_stats func"
   ]
  },
  {
   "cell_type": "code",
   "execution_count": null,
   "id": "british-cream",
   "metadata": {},
   "outputs": [],
   "source": [
    "def get_stats(field,val):\n",
    "    return [len(neg_ads[neg_ads[field]==val]),\n",
    "    len(neg_ads[neg_ads[field]==val])/len(neg_ads[field]),\n",
    "    len(pos_ads[pos_ads[field]==val]),\n",
    "    len(pos_ads[pos_ads[field]==val])/len(pos_ads[field]), \n",
    "    len(admissions[admissions[field]==val]),\n",
    "    len(admissions[admissions[field]==val])/len(admissions[field])] "
   ]
  },
  {
   "cell_type": "markdown",
   "id": "bored-conversation",
   "metadata": {},
   "source": [
    "### Num admissions"
   ]
  },
  {
   "cell_type": "code",
   "execution_count": null,
   "id": "frozen-reform",
   "metadata": {},
   "outputs": [],
   "source": [
    "pos_ads = admissions[admissions['infection_present'] == 1]\n",
    "print('There are '+str(len(pos_ads))+' infection-positive admissions.')\n",
    "print('Percentage pos '+str(len(pos_ads)/len(admissions)) )\n",
    "print('There are '+str(len(pos_ads.MRN.unique()))+' patients that were infected.')\n",
    "#pos_ads.head()\n",
    "neg_ads = admissions[admissions['infection_present'] == 0]\n",
    "print('There are '+str(len(neg_ads))+' infection-negative admissions.')\n",
    "print('Percentage negative '+str(len(neg_ads)/len(admissions)) )\n",
    "#neg_ads.head()"
   ]
  },
  {
   "cell_type": "code",
   "execution_count": null,
   "id": "worse-reflection",
   "metadata": {},
   "outputs": [],
   "source": [
    "len(admissions.MRN.unique())"
   ]
  },
  {
   "cell_type": "markdown",
   "id": "southern-interim",
   "metadata": {},
   "source": [
    "### Sex"
   ]
  },
  {
   "cell_type": "code",
   "execution_count": null,
   "id": "sharing-habitat",
   "metadata": {},
   "outputs": [],
   "source": [
    "admissions['male'] = admissions['gender'].map({'M':1, 'F':0})\n",
    "neg_ads['male'] = neg_ads['gender'].map({'M':1, 'F':0})\n",
    "pos_ads['male'] = pos_ads['gender'].map({'M':1, 'F':0})"
   ]
  },
  {
   "cell_type": "code",
   "execution_count": null,
   "id": "treated-clark",
   "metadata": {},
   "outputs": [],
   "source": [
    "df[\"Male\"] = get_stats('male',1)\n",
    "df[\"Female Stats\"] = get_stats('male',0)\n",
    "df"
   ]
  },
  {
   "cell_type": "code",
   "execution_count": null,
   "id": "diagnostic-fields",
   "metadata": {},
   "outputs": [],
   "source": [
    "get_pval('male')"
   ]
  },
  {
   "cell_type": "code",
   "execution_count": null,
   "id": "corrected-lewis",
   "metadata": {},
   "outputs": [],
   "source": [
    "get_pval_b('male')"
   ]
  },
  {
   "cell_type": "code",
   "execution_count": null,
   "id": "demographic-grave",
   "metadata": {},
   "outputs": [],
   "source": [
    "get_pval_b2('male')"
   ]
  },
  {
   "cell_type": "markdown",
   "id": "serious-teens",
   "metadata": {},
   "source": [
    "### Race"
   ]
  },
  {
   "cell_type": "code",
   "execution_count": null,
   "id": "crazy-breeding",
   "metadata": {},
   "outputs": [],
   "source": [
    "df[\"White Stats\"] = get_stats('white_caucasian',1)\n",
    "df[\"Non White Stats\"] = get_stats('white_caucasian',0)\n",
    "df"
   ]
  },
  {
   "cell_type": "code",
   "execution_count": null,
   "id": "incorporated-renaissance",
   "metadata": {},
   "outputs": [],
   "source": [
    "get_pval('white_caucasian')"
   ]
  },
  {
   "cell_type": "code",
   "execution_count": null,
   "id": "operating-exemption",
   "metadata": {},
   "outputs": [],
   "source": [
    "get_pval_b('white_caucasian')"
   ]
  },
  {
   "cell_type": "code",
   "execution_count": null,
   "id": "flexible-sierra",
   "metadata": {},
   "outputs": [],
   "source": [
    "get_pval_b2('white_caucasian')"
   ]
  },
  {
   "cell_type": "code",
   "execution_count": null,
   "id": "french-finnish",
   "metadata": {},
   "outputs": [],
   "source": [
    "pd.crosstab(index=admissions['infection_present'], columns=admissions['white_caucasian'])"
   ]
  },
  {
   "cell_type": "markdown",
   "id": "structural-sister",
   "metadata": {},
   "source": [
    "### Diagnosis"
   ]
  },
  {
   "cell_type": "code",
   "execution_count": null,
   "id": "peripheral-occupation",
   "metadata": {},
   "outputs": [],
   "source": [
    "df[\"AML\"] = get_stats('AML_diag','AML')\n",
    "#df[\"Down Syd AML\"] = get_stats('AML_diag','Down Syd AML')\n",
    "df[\"2nd AML\"] = get_stats('AML_diag','2nd AML')\n",
    "#df[\"APML\"] = get_stats('AML_diag','APML')\n",
    "df"
   ]
  },
  {
   "cell_type": "code",
   "execution_count": null,
   "id": "declared-chance",
   "metadata": {},
   "outputs": [],
   "source": [
    "one_hot = pd.get_dummies(admissions['AML_diag'])\n",
    "admissions = admissions.join(one_hot)"
   ]
  },
  {
   "cell_type": "code",
   "execution_count": null,
   "id": "hairy-royalty",
   "metadata": {},
   "outputs": [],
   "source": [
    "pos_ads = admissions[admissions['infection_present'] == 1]\n",
    "neg_ads = admissions[admissions['infection_present'] == 0]"
   ]
  },
  {
   "cell_type": "code",
   "execution_count": null,
   "id": "competent-petersburg",
   "metadata": {},
   "outputs": [],
   "source": [
    "get_pval_median('AML')"
   ]
  },
  {
   "cell_type": "code",
   "execution_count": null,
   "id": "liberal-danish",
   "metadata": {},
   "outputs": [],
   "source": [
    "get_pval_median('2nd AML')"
   ]
  },
  {
   "cell_type": "code",
   "execution_count": null,
   "id": "experienced-livestock",
   "metadata": {},
   "outputs": [],
   "source": [
    "get_pval_b('AML')"
   ]
  },
  {
   "cell_type": "code",
   "execution_count": null,
   "id": "asian-underwear",
   "metadata": {},
   "outputs": [],
   "source": [
    "get_pval_b2('AML')"
   ]
  },
  {
   "cell_type": "markdown",
   "id": "logical-longer",
   "metadata": {},
   "source": [
    "### Age"
   ]
  },
  {
   "cell_type": "code",
   "execution_count": null,
   "id": "divided-partition",
   "metadata": {},
   "outputs": [],
   "source": [
    "neg_ads.age.describe()"
   ]
  },
  {
   "cell_type": "code",
   "execution_count": null,
   "id": "sorted-intake",
   "metadata": {},
   "outputs": [],
   "source": [
    "pos_ads.age.describe()"
   ]
  },
  {
   "cell_type": "code",
   "execution_count": null,
   "id": "hourly-breast",
   "metadata": {},
   "outputs": [],
   "source": [
    "admissions.age.describe()"
   ]
  },
  {
   "cell_type": "code",
   "execution_count": null,
   "id": "centered-aspect",
   "metadata": {},
   "outputs": [],
   "source": [
    "get_pval_median('age')"
   ]
  },
  {
   "cell_type": "markdown",
   "id": "altered-israel",
   "metadata": {},
   "source": [
    "### First BMI"
   ]
  },
  {
   "cell_type": "code",
   "execution_count": null,
   "id": "suspected-assembly",
   "metadata": {},
   "outputs": [],
   "source": [
    "neg_ads.first_bmi_kg_m2.describe()"
   ]
  },
  {
   "cell_type": "code",
   "execution_count": null,
   "id": "dried-ghost",
   "metadata": {},
   "outputs": [],
   "source": [
    "pos_ads.first_bmi_kg_m2.describe()"
   ]
  },
  {
   "cell_type": "code",
   "execution_count": null,
   "id": "median-disco",
   "metadata": {},
   "outputs": [],
   "source": [
    "admissions.first_bmi_kg_m2.describe()"
   ]
  },
  {
   "cell_type": "code",
   "execution_count": null,
   "id": "herbal-compound",
   "metadata": {},
   "outputs": [],
   "source": [
    "get_pval_median('first_bmi_kg_m2')"
   ]
  },
  {
   "cell_type": "markdown",
   "id": "backed-charger",
   "metadata": {},
   "source": [
    "### Neutropenia"
   ]
  },
  {
   "cell_type": "code",
   "execution_count": null,
   "id": "atlantic-flashing",
   "metadata": {},
   "outputs": [],
   "source": [
    "neg_ads.neutropenia.sum()"
   ]
  },
  {
   "cell_type": "code",
   "execution_count": null,
   "id": "moderate-container",
   "metadata": {},
   "outputs": [],
   "source": [
    "neg_ads.neutropenia.sum()/len(neg_ads)"
   ]
  },
  {
   "cell_type": "code",
   "execution_count": null,
   "id": "comparable-scott",
   "metadata": {},
   "outputs": [],
   "source": [
    "pos_ads.neutropenia.sum()"
   ]
  },
  {
   "cell_type": "code",
   "execution_count": null,
   "id": "micro-router",
   "metadata": {},
   "outputs": [],
   "source": [
    "pos_ads.neutropenia.sum()/len(pos_ads)"
   ]
  },
  {
   "cell_type": "code",
   "execution_count": null,
   "id": "potential-sarah",
   "metadata": {},
   "outputs": [],
   "source": [
    "admissions.neutropenia.sum()"
   ]
  },
  {
   "cell_type": "code",
   "execution_count": null,
   "id": "marked-armor",
   "metadata": {},
   "outputs": [],
   "source": [
    "admissions.neutropenia.sum()/len(admissions)"
   ]
  },
  {
   "cell_type": "markdown",
   "id": "usual-algeria",
   "metadata": {},
   "source": [
    "### Lowest ANC"
   ]
  },
  {
   "cell_type": "code",
   "execution_count": null,
   "id": "indian-hands",
   "metadata": {},
   "outputs": [],
   "source": [
    "neg_ads.lowest_neutrophil.describe()"
   ]
  },
  {
   "cell_type": "code",
   "execution_count": null,
   "id": "round-muslim",
   "metadata": {},
   "outputs": [],
   "source": [
    "pos_ads.lowest_neutrophil.describe()"
   ]
  },
  {
   "cell_type": "code",
   "execution_count": null,
   "id": "abandoned-tennessee",
   "metadata": {},
   "outputs": [],
   "source": [
    "admissions.lowest_neutrophil.describe()"
   ]
  },
  {
   "cell_type": "code",
   "execution_count": null,
   "id": "hybrid-apparatus",
   "metadata": {},
   "outputs": [],
   "source": [
    "get_pval_median('lowest_neutrophil')"
   ]
  },
  {
   "cell_type": "markdown",
   "id": "documented-confidence",
   "metadata": {},
   "source": [
    "### Lowest Platelet"
   ]
  },
  {
   "cell_type": "code",
   "execution_count": null,
   "id": "flush-leone",
   "metadata": {},
   "outputs": [],
   "source": [
    "neg_ads.lowest_platelet.describe()"
   ]
  },
  {
   "cell_type": "code",
   "execution_count": null,
   "id": "weekly-lancaster",
   "metadata": {
    "scrolled": true
   },
   "outputs": [],
   "source": [
    "pos_ads.lowest_platelet.describe()"
   ]
  },
  {
   "cell_type": "code",
   "execution_count": null,
   "id": "therapeutic-inquiry",
   "metadata": {},
   "outputs": [],
   "source": [
    "admissions.lowest_platelet.describe()"
   ]
  },
  {
   "cell_type": "code",
   "execution_count": null,
   "id": "hairy-float",
   "metadata": {},
   "outputs": [],
   "source": [
    "get_pval_median('lowest_platelet')"
   ]
  },
  {
   "cell_type": "markdown",
   "id": "decreased-capital",
   "metadata": {},
   "source": [
    "### LOS"
   ]
  },
  {
   "cell_type": "code",
   "execution_count": null,
   "id": "restricted-direction",
   "metadata": {},
   "outputs": [],
   "source": [
    "neg_ads.LOS.describe()"
   ]
  },
  {
   "cell_type": "code",
   "execution_count": null,
   "id": "optimum-toolbox",
   "metadata": {},
   "outputs": [],
   "source": [
    "pos_ads.LOS.describe()"
   ]
  },
  {
   "cell_type": "code",
   "execution_count": null,
   "id": "dangerous-gregory",
   "metadata": {},
   "outputs": [],
   "source": [
    "admissions.LOS.describe()"
   ]
  },
  {
   "cell_type": "code",
   "execution_count": null,
   "id": "clear-trinidad",
   "metadata": {},
   "outputs": [],
   "source": [
    "get_pval_median('LOS')"
   ]
  },
  {
   "cell_type": "code",
   "execution_count": null,
   "id": "extraordinary-argentina",
   "metadata": {},
   "outputs": [],
   "source": [
    "stats.ttest_ind(neg_ads['LOS'],pos_ads['LOS'],nan_policy='omit')"
   ]
  },
  {
   "cell_type": "markdown",
   "id": "exciting-caribbean",
   "metadata": {},
   "source": [
    "### Num PICU visits"
   ]
  },
  {
   "cell_type": "code",
   "execution_count": null,
   "id": "celtic-oregon",
   "metadata": {},
   "outputs": [],
   "source": [
    "print(len(neg_ads[neg_ads['icu_los']>0]))\n",
    "#len(neg_ads[neg_ads['icu_los']>0])/len(neg_ads)\n",
    "neg_ads.icu_visit.sum()/len(neg_ads)"
   ]
  },
  {
   "cell_type": "code",
   "execution_count": null,
   "id": "measured-jason",
   "metadata": {},
   "outputs": [],
   "source": [
    "print(len(pos_ads[pos_ads['icu_los']>0]))\n",
    "len(pos_ads[pos_ads['icu_los']>0])/len(pos_ads)"
   ]
  },
  {
   "cell_type": "code",
   "execution_count": null,
   "id": "classical-customs",
   "metadata": {},
   "outputs": [],
   "source": [
    "print(len(admissions[admissions['icu_los']>0]))\n",
    "len(admissions[admissions['icu_los']>0])/len(admissions)"
   ]
  },
  {
   "cell_type": "markdown",
   "id": "peaceful-lying",
   "metadata": {},
   "source": [
    "### PICU LOS"
   ]
  },
  {
   "cell_type": "code",
   "execution_count": null,
   "id": "beautiful-transportation",
   "metadata": {},
   "outputs": [],
   "source": [
    "neg_ads.icu_los.describe()"
   ]
  },
  {
   "cell_type": "code",
   "execution_count": null,
   "id": "banner-break",
   "metadata": {},
   "outputs": [],
   "source": [
    "pos_ads.icu_los.describe()"
   ]
  },
  {
   "cell_type": "code",
   "execution_count": null,
   "id": "effective-truck",
   "metadata": {},
   "outputs": [],
   "source": [
    "admissions.icu_los.describe()"
   ]
  },
  {
   "cell_type": "code",
   "execution_count": null,
   "id": "wireless-driving",
   "metadata": {},
   "outputs": [],
   "source": [
    "get_pval_median('icu_los')"
   ]
  },
  {
   "cell_type": "markdown",
   "id": "soviet-stanley",
   "metadata": {},
   "source": [
    "## Medications"
   ]
  },
  {
   "cell_type": "code",
   "execution_count": null,
   "id": "marine-exception",
   "metadata": {},
   "outputs": [],
   "source": [
    "admissions.dropna(subset=['cytarabine'],inplace=True)\n",
    "admissions.dropna(subset=['levo'],inplace=True)\n",
    "#admissions.dropna(subset=['vanco'],inplace=True)\n",
    "len(admissions)"
   ]
  },
  {
   "cell_type": "code",
   "execution_count": null,
   "id": "deadly-oliver",
   "metadata": {},
   "outputs": [],
   "source": [
    "print(len(admissions[admissions.infection_present == 0]))\n",
    "len(admissions[admissions.infection_present == 0])/len(admissions)"
   ]
  },
  {
   "cell_type": "code",
   "execution_count": null,
   "id": "interim-morgan",
   "metadata": {},
   "outputs": [],
   "source": [
    "print(len(admissions[admissions.infection_present == 1]))\n",
    "len(admissions[admissions.infection_present == 1])/len(admissions)"
   ]
  },
  {
   "cell_type": "markdown",
   "id": "intelligent-acceptance",
   "metadata": {},
   "source": [
    "### Cytarabine"
   ]
  },
  {
   "cell_type": "code",
   "execution_count": null,
   "id": "failing-effect",
   "metadata": {},
   "outputs": [],
   "source": [
    "df[\"Cyt Stats\"] = get_stats('cytarabine',1)\n",
    "df[\"No Cyt Stats\"] = get_stats('cytarabine',0)\n",
    "df"
   ]
  },
  {
   "cell_type": "code",
   "execution_count": null,
   "id": "threatened-ladder",
   "metadata": {},
   "outputs": [],
   "source": [
    "get_pval('cytarabine')"
   ]
  },
  {
   "cell_type": "code",
   "execution_count": null,
   "id": "complicated-county",
   "metadata": {},
   "outputs": [],
   "source": [
    "get_pval_b('cytarabine')"
   ]
  },
  {
   "cell_type": "code",
   "execution_count": null,
   "id": "arabic-split",
   "metadata": {},
   "outputs": [],
   "source": [
    "get_pval_b2('cytarabine')"
   ]
  },
  {
   "cell_type": "markdown",
   "id": "suspected-rating",
   "metadata": {},
   "source": [
    "#### Cytarabine dosage"
   ]
  },
  {
   "cell_type": "code",
   "execution_count": null,
   "id": "stuck-reset",
   "metadata": {},
   "outputs": [],
   "source": [
    "neg_ads[\"Cytarabine mg/m2/day\"].describe()"
   ]
  },
  {
   "cell_type": "code",
   "execution_count": null,
   "id": "ready-bundle",
   "metadata": {},
   "outputs": [],
   "source": [
    "pos_ads[\"Cytarabine mg/m2/day\"].describe()"
   ]
  },
  {
   "cell_type": "code",
   "execution_count": null,
   "id": "simple-carroll",
   "metadata": {},
   "outputs": [],
   "source": [
    "admissions[\"Cytarabine mg/m2/day\"].describe()"
   ]
  },
  {
   "cell_type": "code",
   "execution_count": null,
   "id": "exclusive-january",
   "metadata": {},
   "outputs": [],
   "source": [
    "neg_ads.dropna(subset=['Cytarabine mg/m2/day'],inplace=True)\n",
    "pos_ads.dropna(subset=['Cytarabine mg/m2/day'],inplace=True)\n",
    "get_pval_median('Cytarabine mg/m2/day')"
   ]
  },
  {
   "cell_type": "code",
   "execution_count": null,
   "id": "composed-clause",
   "metadata": {},
   "outputs": [],
   "source": [
    "#neg_ads['Cytarabine mg/m2/day'] = neg_ads['Cytarabine mg/m2/day'].replace(np.nan,0)\n",
    "#pos_ads['Cytarabine mg/m2/day'] = pos_ads['Cytarabine mg/m2/day'].replace(np.nan,0)\n",
    "#get_pval_median('Cytarabine mg/m2/day')"
   ]
  },
  {
   "cell_type": "markdown",
   "id": "subsequent-startup",
   "metadata": {},
   "source": [
    "### Levofloxacin"
   ]
  },
  {
   "cell_type": "code",
   "execution_count": null,
   "id": "elementary-skill",
   "metadata": {},
   "outputs": [],
   "source": [
    "df[\"Levo Stats\"] = get_stats('levo',1)\n",
    "df[\"No Levo Stats\"] = get_stats('levo',0)\n",
    "df"
   ]
  },
  {
   "cell_type": "code",
   "execution_count": null,
   "id": "elementary-czech",
   "metadata": {},
   "outputs": [],
   "source": [
    "get_pval('levo')"
   ]
  },
  {
   "cell_type": "code",
   "execution_count": null,
   "id": "sound-developer",
   "metadata": {},
   "outputs": [],
   "source": [
    "get_pval_b('levo')"
   ]
  },
  {
   "cell_type": "code",
   "execution_count": null,
   "id": "welsh-mistress",
   "metadata": {},
   "outputs": [],
   "source": [
    "get_pval_b2('levo')"
   ]
  },
  {
   "cell_type": "markdown",
   "id": "documented-universe",
   "metadata": {},
   "source": [
    "### Vancomycin"
   ]
  },
  {
   "cell_type": "code",
   "execution_count": null,
   "id": "worldwide-russia",
   "metadata": {},
   "outputs": [],
   "source": [
    "df[\"Vanco Stats\"] = get_stats('vanco',1)\n",
    "df[\"No Vanco Stats\"] = get_stats('vanco',0)\n",
    "df"
   ]
  },
  {
   "cell_type": "code",
   "execution_count": null,
   "id": "macro-fields",
   "metadata": {},
   "outputs": [],
   "source": [
    "get_pval('vanco')"
   ]
  },
  {
   "cell_type": "code",
   "execution_count": null,
   "id": "discrete-forum",
   "metadata": {},
   "outputs": [],
   "source": [
    "get_pval_b('vanco')"
   ]
  },
  {
   "cell_type": "code",
   "execution_count": null,
   "id": "smaller-software",
   "metadata": {},
   "outputs": [],
   "source": [
    "get_pval_b2('vanco')"
   ]
  },
  {
   "cell_type": "markdown",
   "id": "reflected-emperor",
   "metadata": {},
   "source": [
    "# Table 1: Patient Demographics"
   ]
  },
  {
   "cell_type": "code",
   "execution_count": null,
   "id": "suitable-accuracy",
   "metadata": {},
   "outputs": [],
   "source": [
    "import numpy as np\n",
    "import pandas as pd\n",
    "import seaborn as sns\n",
    "import math\n",
    "import statistics\n",
    "import numpy as np\n",
    "import scipy.stats as st"
   ]
  },
  {
   "cell_type": "markdown",
   "id": "confidential-pitch",
   "metadata": {},
   "source": [
    "### get_pd_pval()"
   ]
  },
  {
   "cell_type": "code",
   "execution_count": null,
   "id": "surprising-watershed",
   "metadata": {},
   "outputs": [],
   "source": [
    "def get_pd_pval(field):\n",
    "    patients_field = patients.loc[:,[\"infection_present\",field]]\n",
    "    bsi_neg= patients_field[(patients_field[field]==0)]['infection_present']\n",
    "    bsi_pos = patients_field[(patients_field[field]==1)]['infection_present']\n",
    "    \n",
    "    tot_patients = stats.shapiro(patients_field[field])\n",
    "\n",
    "    if tot_patients.pvalue < alpha:\n",
    "        #mann whitney\n",
    "        res = stats.mannwhitneyu(bsi_neg,bsi_pos)\n",
    "    else:\n",
    "        #ttest\n",
    "        res = stats.ttest_ind(bsi_neg,bsi_pos)\n",
    "\n",
    "    return res"
   ]
  },
  {
   "cell_type": "code",
   "execution_count": null,
   "id": "egyptian-replacement",
   "metadata": {},
   "outputs": [],
   "source": [
    "def get_pd_pval_b(field):\n",
    "    contingency_table = pd.crosstab(index=admissions['infection_present'], columns=admissions[field])\n",
    "    res = stats.barnard_exact([contingency_table[0],contingency_table[1]])\n",
    "    return res"
   ]
  },
  {
   "cell_type": "code",
   "execution_count": null,
   "id": "rocky-perception",
   "metadata": {},
   "outputs": [],
   "source": [
    "def get_pd_pval_b2(field):\n",
    "    contingency_table = pd.crosstab(index=admissions['infection_present'], columns=admissions[field])\n",
    "    res = stats.boschloo_exact([contingency_table[0],contingency_table[1]])\n",
    "    return res"
   ]
  },
  {
   "cell_type": "markdown",
   "id": "judicial-attachment",
   "metadata": {},
   "source": [
    "### get_pd_pval_median() func"
   ]
  },
  {
   "cell_type": "code",
   "execution_count": null,
   "id": "brazilian-swift",
   "metadata": {},
   "outputs": [],
   "source": [
    "def get_pd_pval_median(field):\n",
    "    result_tot_pat = stats.shapiro(patients[field])\n",
    "    if result_tot_pat.pvalue < alpha:\n",
    "        #mann whitney\n",
    "        tot_pat_res = stats.mannwhitneyu(neg_patients[field],pos_patients[field])\n",
    "    else:\n",
    "        #ttest\n",
    "        tot_pat_res = stats.ttest_ind(neg_patients[field],pos_patients[field],nan_policy='omit')\n",
    "\n",
    "    return tot_pat_res"
   ]
  },
  {
   "cell_type": "markdown",
   "id": "distinct-decision",
   "metadata": {},
   "source": [
    "### get_pd_stats()"
   ]
  },
  {
   "cell_type": "code",
   "execution_count": null,
   "id": "centered-sitting",
   "metadata": {},
   "outputs": [],
   "source": [
    "def get_pd_stats(field, value):\n",
    "    print('Neg BSI')\n",
    "    print(len(neg_patients[neg_patients[field]==value]))\n",
    "    print(len(neg_patients[neg_patients[field]==value])/len(neg_patients))\n",
    "    print('Pos BSI')\n",
    "    print(len(pos_patients[pos_patients[field]==value]))\n",
    "    print(len(pos_patients[pos_patients[field]==value])/len(pos_patients))\n",
    "    print('Total')\n",
    "    print(len(patients[patients[field]==value]))\n",
    "    print(len(patients[patients[field]==value])/len(patients))"
   ]
  },
  {
   "cell_type": "code",
   "execution_count": null,
   "id": "simple-lambda",
   "metadata": {},
   "outputs": [],
   "source": [
    "patients = pd.read_excel('patient_demographics_data.xlsx')\n",
    "patients.columns"
   ]
  },
  {
   "cell_type": "code",
   "execution_count": null,
   "id": "framed-preserve",
   "metadata": {},
   "outputs": [],
   "source": [
    "neg_patients = patients[patients['infection_present']==0]\n",
    "pos_patients = patients[patients['infection_present']==1]"
   ]
  },
  {
   "cell_type": "code",
   "execution_count": null,
   "id": "decent-pharmacy",
   "metadata": {},
   "outputs": [],
   "source": [
    "len(neg_patients)"
   ]
  },
  {
   "cell_type": "code",
   "execution_count": null,
   "id": "explicit-commons",
   "metadata": {},
   "outputs": [],
   "source": [
    "len(neg_patients)/len(patients)"
   ]
  },
  {
   "cell_type": "code",
   "execution_count": null,
   "id": "streaming-embassy",
   "metadata": {},
   "outputs": [],
   "source": [
    "len(pos_patients)"
   ]
  },
  {
   "cell_type": "code",
   "execution_count": null,
   "id": "fancy-there",
   "metadata": {},
   "outputs": [],
   "source": [
    "len(pos_patients)/len(patients)"
   ]
  },
  {
   "cell_type": "markdown",
   "id": "considered-storage",
   "metadata": {},
   "source": [
    "### Num Admissions"
   ]
  },
  {
   "cell_type": "code",
   "execution_count": null,
   "id": "protected-lawyer",
   "metadata": {},
   "outputs": [],
   "source": [
    "patients.num_admissions.describe()"
   ]
  },
  {
   "cell_type": "code",
   "execution_count": null,
   "id": "corrected-association",
   "metadata": {},
   "outputs": [],
   "source": [
    "import scipy.stats as st\n",
    "st.norm.interval(alpha=0.95, loc=np.mean(patients.num_admissions), scale=st.sem(patients.num_admissions))"
   ]
  },
  {
   "cell_type": "code",
   "execution_count": null,
   "id": "greatest-turkey",
   "metadata": {},
   "outputs": [],
   "source": [
    "neg_patients.num_admissions.describe()"
   ]
  },
  {
   "cell_type": "code",
   "execution_count": null,
   "id": "split-transport",
   "metadata": {},
   "outputs": [],
   "source": [
    "import scipy.stats as st\n",
    "st.norm.interval(alpha=0.95, loc=np.mean(neg_patients.num_admissions), scale=st.sem(neg_patients.num_admissions))"
   ]
  },
  {
   "cell_type": "code",
   "execution_count": null,
   "id": "bulgarian-syracuse",
   "metadata": {},
   "outputs": [],
   "source": [
    "pos_patients.num_admissions.describe()"
   ]
  },
  {
   "cell_type": "code",
   "execution_count": null,
   "id": "norwegian-housing",
   "metadata": {},
   "outputs": [],
   "source": [
    "st.norm.interval(alpha=0.95, loc=np.mean(pos_patients.num_admissions), scale=st.sem(pos_patients.num_admissions))"
   ]
  },
  {
   "cell_type": "markdown",
   "id": "intellectual-navigation",
   "metadata": {},
   "source": [
    "### Deaths"
   ]
  },
  {
   "cell_type": "code",
   "execution_count": null,
   "id": "increasing-senate",
   "metadata": {},
   "outputs": [],
   "source": [
    "len(patients[patients.alive_dead == 1])\n",
    "#len(patients[patients.alive_dead == 1])/len(patients)"
   ]
  },
  {
   "cell_type": "code",
   "execution_count": null,
   "id": "confident-ozone",
   "metadata": {},
   "outputs": [],
   "source": [
    "len(neg_patients[neg_patients.alive_dead == 1])\n",
    "#len(neg_patients[neg_patients.alive_dead == 1])/len(neg_patients)"
   ]
  },
  {
   "cell_type": "code",
   "execution_count": null,
   "id": "wireless-shield",
   "metadata": {},
   "outputs": [],
   "source": [
    "len(pos_patients[pos_patients.alive_dead == 1])\n",
    "#len(pos_patients[pos_patients.alive_dead == 1])/len(pos_patients)"
   ]
  },
  {
   "cell_type": "code",
   "execution_count": null,
   "id": "clean-camcorder",
   "metadata": {},
   "outputs": [],
   "source": [
    "get_pd_pval('alive_dead')"
   ]
  },
  {
   "cell_type": "code",
   "execution_count": null,
   "id": "logical-hamilton",
   "metadata": {},
   "outputs": [],
   "source": [
    "get_pd_pval_b('alive_dead')"
   ]
  },
  {
   "cell_type": "code",
   "execution_count": null,
   "id": "capable-marriage",
   "metadata": {},
   "outputs": [],
   "source": [
    "get_pd_pval_b2('alive_dead')"
   ]
  },
  {
   "cell_type": "markdown",
   "id": "fewer-listening",
   "metadata": {},
   "source": [
    "### Sex"
   ]
  },
  {
   "cell_type": "code",
   "execution_count": null,
   "id": "quick-albany",
   "metadata": {},
   "outputs": [],
   "source": [
    "patients.loc[:,'male'] = patients['gender'].map({'M':1, 'F':0})\n",
    "neg_patients.loc[:,'male'] = neg_patients['gender'].map({'M':1, 'F':0})\n",
    "pos_patients.loc[:,'male'] = pos_patients['gender'].map({'M':1, 'F':0})"
   ]
  },
  {
   "cell_type": "code",
   "execution_count": null,
   "id": "governmental-studio",
   "metadata": {},
   "outputs": [],
   "source": [
    "get_pd_stats('male',1)"
   ]
  },
  {
   "cell_type": "code",
   "execution_count": null,
   "id": "proud-facing",
   "metadata": {},
   "outputs": [],
   "source": [
    "get_pd_stats('male',0)"
   ]
  },
  {
   "cell_type": "code",
   "execution_count": null,
   "id": "stunning-issue",
   "metadata": {},
   "outputs": [],
   "source": [
    "get_pd_pval('male')"
   ]
  },
  {
   "cell_type": "code",
   "execution_count": null,
   "id": "entire-pakistan",
   "metadata": {},
   "outputs": [],
   "source": [
    "get_pd_pval_b('male')"
   ]
  },
  {
   "cell_type": "code",
   "execution_count": null,
   "id": "objective-mechanism",
   "metadata": {},
   "outputs": [],
   "source": [
    "get_pd_pval_b2('male')"
   ]
  },
  {
   "cell_type": "markdown",
   "id": "accessory-gambling",
   "metadata": {},
   "source": [
    "### Race"
   ]
  },
  {
   "cell_type": "code",
   "execution_count": null,
   "id": "sticky-moisture",
   "metadata": {},
   "outputs": [],
   "source": [
    "get_pd_stats('white_caucasian',1)"
   ]
  },
  {
   "cell_type": "code",
   "execution_count": null,
   "id": "applicable-investigation",
   "metadata": {},
   "outputs": [],
   "source": [
    "get_pd_stats('white_caucasian',0)"
   ]
  },
  {
   "cell_type": "code",
   "execution_count": null,
   "id": "affiliated-mathematics",
   "metadata": {},
   "outputs": [],
   "source": [
    "get_pd_pval('white_caucasian')"
   ]
  },
  {
   "cell_type": "code",
   "execution_count": null,
   "id": "armed-addiction",
   "metadata": {},
   "outputs": [],
   "source": [
    "get_pd_pval_b('white_caucasian')"
   ]
  },
  {
   "cell_type": "code",
   "execution_count": null,
   "id": "hispanic-wilderness",
   "metadata": {},
   "outputs": [],
   "source": [
    "get_pd_pval_b2('white_caucasian')"
   ]
  },
  {
   "cell_type": "markdown",
   "id": "structured-national",
   "metadata": {},
   "source": [
    "### Diganosis Age"
   ]
  },
  {
   "cell_type": "code",
   "execution_count": null,
   "id": "strong-missile",
   "metadata": {},
   "outputs": [],
   "source": [
    "neg_patients['age_diagnosis'].describe()"
   ]
  },
  {
   "cell_type": "code",
   "execution_count": null,
   "id": "instrumental-cambridge",
   "metadata": {},
   "outputs": [],
   "source": [
    "pos_patients['age_diagnosis'].describe()"
   ]
  },
  {
   "cell_type": "code",
   "execution_count": null,
   "id": "widespread-pillow",
   "metadata": {},
   "outputs": [],
   "source": [
    "patients['age_diagnosis'].describe()"
   ]
  },
  {
   "cell_type": "code",
   "execution_count": null,
   "id": "international-success",
   "metadata": {},
   "outputs": [],
   "source": [
    "get_pd_pval_median('age_diagnosis')"
   ]
  },
  {
   "cell_type": "markdown",
   "id": "necessary-principle",
   "metadata": {},
   "source": [
    "### Age at 1st infection"
   ]
  },
  {
   "cell_type": "code",
   "execution_count": null,
   "id": "cardiac-essex",
   "metadata": {},
   "outputs": [],
   "source": [
    "pos_patients['age_first_infection'].describe()"
   ]
  },
  {
   "cell_type": "markdown",
   "id": "unsigned-operation",
   "metadata": {},
   "source": [
    "### Diagnosis"
   ]
  },
  {
   "cell_type": "code",
   "execution_count": null,
   "id": "geographic-bobby",
   "metadata": {},
   "outputs": [],
   "source": [
    "get_pd_stats('AML_diag','AML')"
   ]
  },
  {
   "cell_type": "code",
   "execution_count": null,
   "id": "valuable-ethiopia",
   "metadata": {},
   "outputs": [],
   "source": [
    "get_pd_stats('AML_diag','2nd AML')"
   ]
  },
  {
   "cell_type": "code",
   "execution_count": null,
   "id": "prescription-segment",
   "metadata": {},
   "outputs": [],
   "source": [
    "one_hot = pd.get_dummies(patients['AML_diag'])\n",
    "patients = patients.join(one_hot)"
   ]
  },
  {
   "cell_type": "code",
   "execution_count": null,
   "id": "veterinary-fountain",
   "metadata": {},
   "outputs": [],
   "source": [
    "neg_patients = patients[patients['infection_present']==0]\n",
    "pos_patients = patients[patients['infection_present']==1]"
   ]
  },
  {
   "cell_type": "code",
   "execution_count": null,
   "id": "confused-situation",
   "metadata": {},
   "outputs": [],
   "source": [
    "get_pd_pval_median('AML')"
   ]
  },
  {
   "cell_type": "code",
   "execution_count": null,
   "id": "center-premises",
   "metadata": {},
   "outputs": [],
   "source": [
    "get_pd_pval_median('2nd AML')"
   ]
  },
  {
   "cell_type": "code",
   "execution_count": null,
   "id": "expressed-museum",
   "metadata": {},
   "outputs": [],
   "source": [
    "get_pd_pval_b('AML')"
   ]
  },
  {
   "cell_type": "code",
   "execution_count": null,
   "id": "reported-moldova",
   "metadata": {},
   "outputs": [],
   "source": [
    "get_pd_pval_b2('AML')"
   ]
  },
  {
   "cell_type": "markdown",
   "id": "integrated-seminar",
   "metadata": {},
   "source": [
    "# Table 5: Cyt > 2000"
   ]
  },
  {
   "cell_type": "code",
   "execution_count": 2,
   "id": "fantastic-third",
   "metadata": {},
   "outputs": [
    {
     "data": {
      "text/html": [
       "<div>\n",
       "<style scoped>\n",
       "    .dataframe tbody tr th:only-of-type {\n",
       "        vertical-align: middle;\n",
       "    }\n",
       "\n",
       "    .dataframe tbody tr th {\n",
       "        vertical-align: top;\n",
       "    }\n",
       "\n",
       "    .dataframe thead th {\n",
       "        text-align: right;\n",
       "    }\n",
       "</style>\n",
       "<table border=\"1\" class=\"dataframe\">\n",
       "  <thead>\n",
       "    <tr style=\"text-align: right;\">\n",
       "      <th></th>\n",
       "      <th>MRN</th>\n",
       "      <th>age</th>\n",
       "      <th>race_code</th>\n",
       "      <th>white_caucasian</th>\n",
       "      <th>race</th>\n",
       "      <th>language_code</th>\n",
       "      <th>gender</th>\n",
       "      <th>dod</th>\n",
       "      <th>survival_days</th>\n",
       "      <th>survival_months</th>\n",
       "      <th>...</th>\n",
       "      <th>max_temp</th>\n",
       "      <th>max_temp_38.5</th>\n",
       "      <th>CV_line_days</th>\n",
       "      <th>fday_CV_line</th>\n",
       "      <th>lday_CV_line</th>\n",
       "      <th>CV_line_name</th>\n",
       "      <th>CV_buckets</th>\n",
       "      <th>CV_line</th>\n",
       "      <th>AML Diagnosis</th>\n",
       "      <th>AML_diag</th>\n",
       "    </tr>\n",
       "  </thead>\n",
       "  <tbody>\n",
       "    <tr>\n",
       "      <th>51</th>\n",
       "      <td>38</td>\n",
       "      <td>7.34</td>\n",
       "      <td>White/Caucasian</td>\n",
       "      <td>1</td>\n",
       "      <td>White/Caucasian</td>\n",
       "      <td>English</td>\n",
       "      <td>M</td>\n",
       "      <td>NaT</td>\n",
       "      <td>4250</td>\n",
       "      <td>141.666667</td>\n",
       "      <td>...</td>\n",
       "      <td>40.6</td>\n",
       "      <td>1</td>\n",
       "      <td>NaN</td>\n",
       "      <td>2006-09-18</td>\n",
       "      <td>NaT</td>\n",
       "      <td>BROVIAC or HICKMAN</td>\n",
       "      <td>Hickman</td>\n",
       "      <td>Hickman</td>\n",
       "      <td>AML</td>\n",
       "      <td>AML</td>\n",
       "    </tr>\n",
       "    <tr>\n",
       "      <th>52</th>\n",
       "      <td>39</td>\n",
       "      <td>4.12</td>\n",
       "      <td>White/Caucasian</td>\n",
       "      <td>1</td>\n",
       "      <td>White/Caucasian</td>\n",
       "      <td>English</td>\n",
       "      <td>F</td>\n",
       "      <td>NaT</td>\n",
       "      <td>5534</td>\n",
       "      <td>184.466667</td>\n",
       "      <td>...</td>\n",
       "      <td>40.2</td>\n",
       "      <td>1</td>\n",
       "      <td>179.0</td>\n",
       "      <td>2006-09-28</td>\n",
       "      <td>2007-03-27</td>\n",
       "      <td>BROVIAC or HICKMAN</td>\n",
       "      <td>Hickman</td>\n",
       "      <td>Hickman</td>\n",
       "      <td>AML</td>\n",
       "      <td>AML</td>\n",
       "    </tr>\n",
       "    <tr>\n",
       "      <th>53</th>\n",
       "      <td>19</td>\n",
       "      <td>4.22</td>\n",
       "      <td>White/Caucasian</td>\n",
       "      <td>1</td>\n",
       "      <td>White/Caucasian</td>\n",
       "      <td>English</td>\n",
       "      <td>M</td>\n",
       "      <td>NaT</td>\n",
       "      <td>5576</td>\n",
       "      <td>185.866667</td>\n",
       "      <td>...</td>\n",
       "      <td>40.4</td>\n",
       "      <td>1</td>\n",
       "      <td>182.0</td>\n",
       "      <td>2006-08-09</td>\n",
       "      <td>2007-02-08</td>\n",
       "      <td>BROVIAC or HICKMAN</td>\n",
       "      <td>Hickman</td>\n",
       "      <td>Hickman</td>\n",
       "      <td>AML</td>\n",
       "      <td>AML</td>\n",
       "    </tr>\n",
       "    <tr>\n",
       "      <th>54</th>\n",
       "      <td>40</td>\n",
       "      <td>1.02</td>\n",
       "      <td>White/Caucasian</td>\n",
       "      <td>1</td>\n",
       "      <td>White/Caucasian</td>\n",
       "      <td>English</td>\n",
       "      <td>F</td>\n",
       "      <td>2007-08-11</td>\n",
       "      <td>296</td>\n",
       "      <td>9.866667</td>\n",
       "      <td>...</td>\n",
       "      <td>39.0</td>\n",
       "      <td>1</td>\n",
       "      <td>NaN</td>\n",
       "      <td>2006-10-20</td>\n",
       "      <td>NaT</td>\n",
       "      <td>BROVIAC or HICKMAN</td>\n",
       "      <td>Hickman</td>\n",
       "      <td>Hickman</td>\n",
       "      <td>AML</td>\n",
       "      <td>AML</td>\n",
       "    </tr>\n",
       "    <tr>\n",
       "      <th>55</th>\n",
       "      <td>36</td>\n",
       "      <td>6.33</td>\n",
       "      <td>White/Caucasian</td>\n",
       "      <td>1</td>\n",
       "      <td>White/Caucasian</td>\n",
       "      <td>English</td>\n",
       "      <td>M</td>\n",
       "      <td>NaT</td>\n",
       "      <td>5389</td>\n",
       "      <td>179.633333</td>\n",
       "      <td>...</td>\n",
       "      <td>38.7</td>\n",
       "      <td>1</td>\n",
       "      <td>236.0</td>\n",
       "      <td>2006-10-27</td>\n",
       "      <td>2007-06-21</td>\n",
       "      <td>BROVIAC or HICKMAN</td>\n",
       "      <td>Hickman</td>\n",
       "      <td>Hickman</td>\n",
       "      <td>AML</td>\n",
       "      <td>AML</td>\n",
       "    </tr>\n",
       "  </tbody>\n",
       "</table>\n",
       "<p>5 rows × 87 columns</p>\n",
       "</div>"
      ],
      "text/plain": [
       "    MRN   age        race_code  white_caucasian             race  \\\n",
       "51   38  7.34  White/Caucasian                1  White/Caucasian   \n",
       "52   39  4.12  White/Caucasian                1  White/Caucasian   \n",
       "53   19  4.22  White/Caucasian                1  White/Caucasian   \n",
       "54   40  1.02  White/Caucasian                1  White/Caucasian   \n",
       "55   36  6.33  White/Caucasian                1  White/Caucasian   \n",
       "\n",
       "   language_code gender        dod  survival_days  survival_months  ...  \\\n",
       "51       English      M        NaT           4250       141.666667  ...   \n",
       "52       English      F        NaT           5534       184.466667  ...   \n",
       "53       English      M        NaT           5576       185.866667  ...   \n",
       "54       English      F 2007-08-11            296         9.866667  ...   \n",
       "55       English      M        NaT           5389       179.633333  ...   \n",
       "\n",
       "    max_temp max_temp_38.5 CV_line_days fday_CV_line lday_CV_line  \\\n",
       "51      40.6             1          NaN   2006-09-18          NaT   \n",
       "52      40.2             1        179.0   2006-09-28   2007-03-27   \n",
       "53      40.4             1        182.0   2006-08-09   2007-02-08   \n",
       "54      39.0             1          NaN   2006-10-20          NaT   \n",
       "55      38.7             1        236.0   2006-10-27   2007-06-21   \n",
       "\n",
       "           CV_line_name  CV_buckets  CV_line AML Diagnosis AML_diag  \n",
       "51  BROVIAC or HICKMAN      Hickman  Hickman           AML      AML  \n",
       "52  BROVIAC or HICKMAN      Hickman  Hickman           AML      AML  \n",
       "53  BROVIAC or HICKMAN      Hickman  Hickman           AML      AML  \n",
       "54  BROVIAC or HICKMAN      Hickman  Hickman           AML      AML  \n",
       "55  BROVIAC or HICKMAN      Hickman  Hickman           AML      AML  \n",
       "\n",
       "[5 rows x 87 columns]"
      ]
     },
     "execution_count": 2,
     "metadata": {},
     "output_type": "execute_result"
    }
   ],
   "source": [
    "admissions = pd.read_excel('aml_data_8.16.23.xlsx')\n",
    "admissions.dropna(subset=['cytarabine'],inplace=True)\n",
    "admissions.head()\n",
    "#len(admissions)"
   ]
  },
  {
   "cell_type": "code",
   "execution_count": 3,
   "id": "mounted-booking",
   "metadata": {},
   "outputs": [],
   "source": [
    "table5 = pd.DataFrame()"
   ]
  },
  {
   "cell_type": "code",
   "execution_count": 4,
   "id": "small-preview",
   "metadata": {},
   "outputs": [
    {
     "name": "stdout",
     "output_type": "stream",
     "text": [
      "There are 86 infection-positive admissions.\n",
      "Percentage pos 0.20046620046620048\n",
      "There are 47 patients that were infected.\n",
      "There are 343 infection-negative admissions.\n",
      "Percentage negative 0.7995337995337995\n"
     ]
    }
   ],
   "source": [
    "pos_ads = admissions[admissions['infection_present'] == 1]\n",
    "print('There are '+str(len(pos_ads))+' infection-positive admissions.')\n",
    "print('Percentage pos '+str(len(pos_ads)/len(admissions)) )\n",
    "print('There are '+str(len(pos_ads.MRN.unique()))+' patients that were infected.')\n",
    "#pos_ads.head()\n",
    "neg_ads = admissions[admissions['infection_present'] == 0]\n",
    "print('There are '+str(len(neg_ads))+' infection-negative admissions.')\n",
    "print('Percentage negative '+str(len(neg_ads)/len(admissions)) )\n",
    "#neg_ads.head()"
   ]
  },
  {
   "cell_type": "code",
   "execution_count": 5,
   "id": "uniform-mixture",
   "metadata": {},
   "outputs": [
    {
     "ename": "NameError",
     "evalue": "name 'get_stats' is not defined",
     "output_type": "error",
     "traceback": [
      "\u001b[0;31m---------------------------------------------------------------------------\u001b[0m",
      "\u001b[0;31mNameError\u001b[0m                                 Traceback (most recent call last)",
      "\u001b[0;32m<ipython-input-5-4beedc47b442>\u001b[0m in \u001b[0;36m<module>\u001b[0;34m\u001b[0m\n\u001b[0;32m----> 1\u001b[0;31m \u001b[0mtable5\u001b[0m\u001b[0;34m[\u001b[0m\u001b[0;34m\"no_cyt\"\u001b[0m\u001b[0;34m]\u001b[0m \u001b[0;34m=\u001b[0m \u001b[0mget_stats\u001b[0m\u001b[0;34m(\u001b[0m\u001b[0;34m'cytarabine'\u001b[0m\u001b[0;34m,\u001b[0m\u001b[0;36m0\u001b[0m\u001b[0;34m)\u001b[0m\u001b[0;34m\u001b[0m\u001b[0;34m\u001b[0m\u001b[0m\n\u001b[0m",
      "\u001b[0;31mNameError\u001b[0m: name 'get_stats' is not defined"
     ]
    }
   ],
   "source": [
    "table5[\"no_cyt\"] = get_stats('cytarabine',0)"
   ]
  },
  {
   "cell_type": "code",
   "execution_count": null,
   "id": "serious-residence",
   "metadata": {},
   "outputs": [],
   "source": [
    "get_pval_b('cytarabine')"
   ]
  },
  {
   "cell_type": "code",
   "execution_count": null,
   "id": "right-italy",
   "metadata": {},
   "outputs": [],
   "source": [
    "table5[\"cyt_2000\"] = get_stats('cyt_2000',1)\n",
    "table5[\"cyt_less_2000\"] = get_stats('cyt_2000',0)\n",
    "table5[\"cyt1_1999\"] = get_stats('cyt_1_1999',1)\n",
    "table5"
   ]
  },
  {
   "cell_type": "code",
   "execution_count": null,
   "id": "fifth-funds",
   "metadata": {},
   "outputs": [],
   "source": [
    "get_pval_b('cyt_2000')"
   ]
  },
  {
   "cell_type": "code",
   "execution_count": 9,
   "id": "simplified-destruction",
   "metadata": {},
   "outputs": [
    {
     "data": {
      "text/plain": [
       "(18.06399917706291,\n",
       " 0.00011952325673110384,\n",
       " 2,\n",
       " array([[ 53.56876457, 216.67365967,  72.75757576],\n",
       "        [ 13.43123543,  54.32634033,  18.24242424]]))"
      ]
     },
     "execution_count": 9,
     "metadata": {},
     "output_type": "execute_result"
    }
   ],
   "source": [
    "contingency_table = [[60,224,59],[7,47,32]]\n",
    "res = stats.chi2_contingency([contingency_table[0],contingency_table[1]])\n",
    "res"
   ]
  },
  {
   "cell_type": "code",
   "execution_count": null,
   "id": "quantitative-twenty",
   "metadata": {},
   "outputs": [],
   "source": []
  }
 ],
 "metadata": {
  "kernelspec": {
   "display_name": "Python 3",
   "language": "python",
   "name": "python3"
  },
  "language_info": {
   "codemirror_mode": {
    "name": "ipython",
    "version": 3
   },
   "file_extension": ".py",
   "mimetype": "text/x-python",
   "name": "python",
   "nbconvert_exporter": "python",
   "pygments_lexer": "ipython3",
   "version": "3.9.13"
  }
 },
 "nbformat": 4,
 "nbformat_minor": 5
}
