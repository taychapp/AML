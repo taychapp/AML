{
 "cells": [
  {
   "cell_type": "markdown",
   "id": "sexual-thanks",
   "metadata": {},
   "source": [
    "# Table 2: Admissions Demographics"
   ]
  },
  {
   "cell_type": "code",
   "execution_count": 1,
   "id": "checked-football",
   "metadata": {},
   "outputs": [],
   "source": [
    "import numpy as np\n",
    "import pandas as pd\n",
    "import seaborn as sns\n",
    "import math\n",
    "import statistics\n",
    "import numpy as np\n",
    "import scipy.stats as st\n",
    "from scipy import stats\n",
    "alpha = .05\n",
    "import statsmodels.api as sm"
   ]
  },
  {
   "cell_type": "code",
   "execution_count": 2,
   "id": "copyrighted-front",
   "metadata": {},
   "outputs": [
    {
     "data": {
      "text/plain": [
       "480"
      ]
     },
     "execution_count": 2,
     "metadata": {},
     "output_type": "execute_result"
    }
   ],
   "source": [
    "admissions = pd.read_excel('data/aml_data_8.16.23.xlsx')\n",
    "len(admissions)"
   ]
  },
  {
   "cell_type": "code",
   "execution_count": 3,
   "id": "continuing-seminar",
   "metadata": {},
   "outputs": [],
   "source": [
    "df = pd.DataFrame()"
   ]
  },
  {
   "cell_type": "markdown",
   "id": "illegal-fraud",
   "metadata": {},
   "source": [
    "## get_pval_b func"
   ]
  },
  {
   "cell_type": "code",
   "execution_count": 4,
   "id": "graduate-basin",
   "metadata": {},
   "outputs": [],
   "source": [
    "def get_pval_b(field):\n",
    "    contingency_table = pd.crosstab(index=admissions['infection_present'], columns=admissions[field])\n",
    "    res = stats.barnard_exact([contingency_table[0],contingency_table[1]])\n",
    "    return res"
   ]
  },
  {
   "cell_type": "code",
   "execution_count": 5,
   "id": "oriental-maldives",
   "metadata": {},
   "outputs": [],
   "source": [
    "def get_pval_b2(field):\n",
    "    contingency_table = pd.crosstab(index=admissions['infection_present'], columns=admissions[field])\n",
    "    res = stats.boschloo_exact([contingency_table[0],contingency_table[1]])\n",
    "    return res"
   ]
  },
  {
   "cell_type": "markdown",
   "id": "aware-cattle",
   "metadata": {},
   "source": [
    "## get pval_median func"
   ]
  },
  {
   "cell_type": "code",
   "execution_count": 6,
   "id": "weird-cornell",
   "metadata": {},
   "outputs": [],
   "source": [
    "def get_pval_median(field):\n",
    "    result_tot_pat = stats.shapiro(admissions[field])\n",
    "    if result_tot_pat.pvalue < alpha:\n",
    "        #mann whitney\n",
    "        tot_pat_res = stats.mannwhitneyu(neg_ads[field],pos_ads[field])\n",
    "    else:\n",
    "        #ttest\n",
    "        tot_pat_res = stats.ttest_ind(neg_ads[field],pos_ads[field],nan_policy='omit')\n",
    "\n",
    "    return tot_pat_res"
   ]
  },
  {
   "cell_type": "markdown",
   "id": "downtown-style",
   "metadata": {},
   "source": [
    "## get_stats func"
   ]
  },
  {
   "cell_type": "code",
   "execution_count": 7,
   "id": "british-cream",
   "metadata": {},
   "outputs": [],
   "source": [
    "def get_stats(field,val):\n",
    "    return [len(neg_ads[neg_ads[field]==val]),\n",
    "    len(neg_ads[neg_ads[field]==val])/len(neg_ads[field]),\n",
    "    len(pos_ads[pos_ads[field]==val]),\n",
    "    len(pos_ads[pos_ads[field]==val])/len(pos_ads[field]), \n",
    "    len(admissions[admissions[field]==val]),\n",
    "    len(admissions[admissions[field]==val])/len(admissions[field])] "
   ]
  },
  {
   "cell_type": "markdown",
   "id": "bored-conversation",
   "metadata": {},
   "source": [
    "### Num admissions"
   ]
  },
  {
   "cell_type": "code",
   "execution_count": 8,
   "id": "frozen-reform",
   "metadata": {},
   "outputs": [
    {
     "name": "stdout",
     "output_type": "stream",
     "text": [
      "There are 91 infection-positive admissions.\n",
      "Percentage pos 0.18958333333333333\n",
      "There are 52 patients that were infected.\n",
      "There are 389 infection-negative admissions.\n",
      "Percentage negative 0.8104166666666667\n"
     ]
    }
   ],
   "source": [
    "pos_ads = admissions[admissions['infection_present'] == 1]\n",
    "print('There are '+str(len(pos_ads))+' infection-positive admissions.')\n",
    "print('Percentage pos '+str(len(pos_ads)/len(admissions)) )\n",
    "print('There are '+str(len(pos_ads.MRN.unique()))+' patients that were infected.')\n",
    "#pos_ads.head()\n",
    "neg_ads = admissions[admissions['infection_present'] == 0]\n",
    "print('There are '+str(len(neg_ads))+' infection-negative admissions.')\n",
    "print('Percentage negative '+str(len(neg_ads)/len(admissions)) )\n",
    "#neg_ads.head()"
   ]
  },
  {
   "cell_type": "code",
   "execution_count": 9,
   "id": "worse-reflection",
   "metadata": {},
   "outputs": [
    {
     "data": {
      "text/plain": [
       "95"
      ]
     },
     "execution_count": 9,
     "metadata": {},
     "output_type": "execute_result"
    }
   ],
   "source": [
    "len(admissions.MRN.unique())"
   ]
  },
  {
   "cell_type": "markdown",
   "id": "southern-interim",
   "metadata": {},
   "source": [
    "### Sex"
   ]
  },
  {
   "cell_type": "code",
   "execution_count": 10,
   "id": "sharing-habitat",
   "metadata": {},
   "outputs": [
    {
     "name": "stderr",
     "output_type": "stream",
     "text": [
      "<ipython-input-10-24e99177cde6>:2: SettingWithCopyWarning: \n",
      "A value is trying to be set on a copy of a slice from a DataFrame.\n",
      "Try using .loc[row_indexer,col_indexer] = value instead\n",
      "\n",
      "See the caveats in the documentation: https://pandas.pydata.org/pandas-docs/stable/user_guide/indexing.html#returning-a-view-versus-a-copy\n",
      "  neg_ads['male'] = neg_ads['gender'].map({'M':1, 'F':0})\n",
      "<ipython-input-10-24e99177cde6>:3: SettingWithCopyWarning: \n",
      "A value is trying to be set on a copy of a slice from a DataFrame.\n",
      "Try using .loc[row_indexer,col_indexer] = value instead\n",
      "\n",
      "See the caveats in the documentation: https://pandas.pydata.org/pandas-docs/stable/user_guide/indexing.html#returning-a-view-versus-a-copy\n",
      "  pos_ads['male'] = pos_ads['gender'].map({'M':1, 'F':0})\n"
     ]
    }
   ],
   "source": [
    "admissions['male'] = admissions['gender'].map({'M':1, 'F':0})\n",
    "neg_ads['male'] = neg_ads['gender'].map({'M':1, 'F':0})\n",
    "pos_ads['male'] = pos_ads['gender'].map({'M':1, 'F':0})"
   ]
  },
  {
   "cell_type": "code",
   "execution_count": 11,
   "id": "treated-clark",
   "metadata": {},
   "outputs": [
    {
     "data": {
      "text/html": [
       "<div>\n",
       "<style scoped>\n",
       "    .dataframe tbody tr th:only-of-type {\n",
       "        vertical-align: middle;\n",
       "    }\n",
       "\n",
       "    .dataframe tbody tr th {\n",
       "        vertical-align: top;\n",
       "    }\n",
       "\n",
       "    .dataframe thead th {\n",
       "        text-align: right;\n",
       "    }\n",
       "</style>\n",
       "<table border=\"1\" class=\"dataframe\">\n",
       "  <thead>\n",
       "    <tr style=\"text-align: right;\">\n",
       "      <th></th>\n",
       "      <th>Male</th>\n",
       "      <th>Female Stats</th>\n",
       "    </tr>\n",
       "  </thead>\n",
       "  <tbody>\n",
       "    <tr>\n",
       "      <th>0</th>\n",
       "      <td>199.000000</td>\n",
       "      <td>190.000000</td>\n",
       "    </tr>\n",
       "    <tr>\n",
       "      <th>1</th>\n",
       "      <td>0.511568</td>\n",
       "      <td>0.488432</td>\n",
       "    </tr>\n",
       "    <tr>\n",
       "      <th>2</th>\n",
       "      <td>54.000000</td>\n",
       "      <td>37.000000</td>\n",
       "    </tr>\n",
       "    <tr>\n",
       "      <th>3</th>\n",
       "      <td>0.593407</td>\n",
       "      <td>0.406593</td>\n",
       "    </tr>\n",
       "    <tr>\n",
       "      <th>4</th>\n",
       "      <td>253.000000</td>\n",
       "      <td>227.000000</td>\n",
       "    </tr>\n",
       "    <tr>\n",
       "      <th>5</th>\n",
       "      <td>0.527083</td>\n",
       "      <td>0.472917</td>\n",
       "    </tr>\n",
       "  </tbody>\n",
       "</table>\n",
       "</div>"
      ],
      "text/plain": [
       "         Male  Female Stats\n",
       "0  199.000000    190.000000\n",
       "1    0.511568      0.488432\n",
       "2   54.000000     37.000000\n",
       "3    0.593407      0.406593\n",
       "4  253.000000    227.000000\n",
       "5    0.527083      0.472917"
      ]
     },
     "execution_count": 11,
     "metadata": {},
     "output_type": "execute_result"
    }
   ],
   "source": [
    "df[\"Male\"] = get_stats('male',1)\n",
    "df[\"Female Stats\"] = get_stats('male',0)\n",
    "df"
   ]
  },
  {
   "cell_type": "code",
   "execution_count": 12,
   "id": "corrected-lewis",
   "metadata": {},
   "outputs": [
    {
     "data": {
      "text/plain": [
       "BarnardExactResult(statistic=1.407668615251027, pvalue=0.16149048043027456)"
      ]
     },
     "execution_count": 12,
     "metadata": {},
     "output_type": "execute_result"
    }
   ],
   "source": [
    "get_pval_b('male')"
   ]
  },
  {
   "cell_type": "markdown",
   "id": "serious-teens",
   "metadata": {},
   "source": [
    "### Race"
   ]
  },
  {
   "cell_type": "code",
   "execution_count": 13,
   "id": "crazy-breeding",
   "metadata": {},
   "outputs": [
    {
     "data": {
      "text/html": [
       "<div>\n",
       "<style scoped>\n",
       "    .dataframe tbody tr th:only-of-type {\n",
       "        vertical-align: middle;\n",
       "    }\n",
       "\n",
       "    .dataframe tbody tr th {\n",
       "        vertical-align: top;\n",
       "    }\n",
       "\n",
       "    .dataframe thead th {\n",
       "        text-align: right;\n",
       "    }\n",
       "</style>\n",
       "<table border=\"1\" class=\"dataframe\">\n",
       "  <thead>\n",
       "    <tr style=\"text-align: right;\">\n",
       "      <th></th>\n",
       "      <th>Male</th>\n",
       "      <th>Female Stats</th>\n",
       "      <th>White Stats</th>\n",
       "      <th>Non White Stats</th>\n",
       "    </tr>\n",
       "  </thead>\n",
       "  <tbody>\n",
       "    <tr>\n",
       "      <th>0</th>\n",
       "      <td>199.000000</td>\n",
       "      <td>190.000000</td>\n",
       "      <td>265.000000</td>\n",
       "      <td>124.000000</td>\n",
       "    </tr>\n",
       "    <tr>\n",
       "      <th>1</th>\n",
       "      <td>0.511568</td>\n",
       "      <td>0.488432</td>\n",
       "      <td>0.681234</td>\n",
       "      <td>0.318766</td>\n",
       "    </tr>\n",
       "    <tr>\n",
       "      <th>2</th>\n",
       "      <td>54.000000</td>\n",
       "      <td>37.000000</td>\n",
       "      <td>69.000000</td>\n",
       "      <td>22.000000</td>\n",
       "    </tr>\n",
       "    <tr>\n",
       "      <th>3</th>\n",
       "      <td>0.593407</td>\n",
       "      <td>0.406593</td>\n",
       "      <td>0.758242</td>\n",
       "      <td>0.241758</td>\n",
       "    </tr>\n",
       "    <tr>\n",
       "      <th>4</th>\n",
       "      <td>253.000000</td>\n",
       "      <td>227.000000</td>\n",
       "      <td>334.000000</td>\n",
       "      <td>146.000000</td>\n",
       "    </tr>\n",
       "    <tr>\n",
       "      <th>5</th>\n",
       "      <td>0.527083</td>\n",
       "      <td>0.472917</td>\n",
       "      <td>0.695833</td>\n",
       "      <td>0.304167</td>\n",
       "    </tr>\n",
       "  </tbody>\n",
       "</table>\n",
       "</div>"
      ],
      "text/plain": [
       "         Male  Female Stats  White Stats  Non White Stats\n",
       "0  199.000000    190.000000   265.000000       124.000000\n",
       "1    0.511568      0.488432     0.681234         0.318766\n",
       "2   54.000000     37.000000    69.000000        22.000000\n",
       "3    0.593407      0.406593     0.758242         0.241758\n",
       "4  253.000000    227.000000   334.000000       146.000000\n",
       "5    0.527083      0.472917     0.695833         0.304167"
      ]
     },
     "execution_count": 13,
     "metadata": {},
     "output_type": "execute_result"
    }
   ],
   "source": [
    "df[\"White Stats\"] = get_stats('white_caucasian',1)\n",
    "df[\"Non White Stats\"] = get_stats('white_caucasian',0)\n",
    "df"
   ]
  },
  {
   "cell_type": "code",
   "execution_count": 14,
   "id": "operating-exemption",
   "metadata": {},
   "outputs": [
    {
     "data": {
      "text/plain": [
       "BarnardExactResult(statistic=1.4374783486931773, pvalue=0.15925045245399355)"
      ]
     },
     "execution_count": 14,
     "metadata": {},
     "output_type": "execute_result"
    }
   ],
   "source": [
    "get_pval_b('white_caucasian')"
   ]
  },
  {
   "cell_type": "markdown",
   "id": "structural-sister",
   "metadata": {},
   "source": [
    "### Diagnosis"
   ]
  },
  {
   "cell_type": "code",
   "execution_count": 15,
   "id": "peripheral-occupation",
   "metadata": {},
   "outputs": [
    {
     "data": {
      "text/html": [
       "<div>\n",
       "<style scoped>\n",
       "    .dataframe tbody tr th:only-of-type {\n",
       "        vertical-align: middle;\n",
       "    }\n",
       "\n",
       "    .dataframe tbody tr th {\n",
       "        vertical-align: top;\n",
       "    }\n",
       "\n",
       "    .dataframe thead th {\n",
       "        text-align: right;\n",
       "    }\n",
       "</style>\n",
       "<table border=\"1\" class=\"dataframe\">\n",
       "  <thead>\n",
       "    <tr style=\"text-align: right;\">\n",
       "      <th></th>\n",
       "      <th>Male</th>\n",
       "      <th>Female Stats</th>\n",
       "      <th>White Stats</th>\n",
       "      <th>Non White Stats</th>\n",
       "      <th>AML</th>\n",
       "      <th>2nd AML</th>\n",
       "    </tr>\n",
       "  </thead>\n",
       "  <tbody>\n",
       "    <tr>\n",
       "      <th>0</th>\n",
       "      <td>199.000000</td>\n",
       "      <td>190.000000</td>\n",
       "      <td>265.000000</td>\n",
       "      <td>124.000000</td>\n",
       "      <td>371.000000</td>\n",
       "      <td>18.000000</td>\n",
       "    </tr>\n",
       "    <tr>\n",
       "      <th>1</th>\n",
       "      <td>0.511568</td>\n",
       "      <td>0.488432</td>\n",
       "      <td>0.681234</td>\n",
       "      <td>0.318766</td>\n",
       "      <td>0.953728</td>\n",
       "      <td>0.046272</td>\n",
       "    </tr>\n",
       "    <tr>\n",
       "      <th>2</th>\n",
       "      <td>54.000000</td>\n",
       "      <td>37.000000</td>\n",
       "      <td>69.000000</td>\n",
       "      <td>22.000000</td>\n",
       "      <td>85.000000</td>\n",
       "      <td>6.000000</td>\n",
       "    </tr>\n",
       "    <tr>\n",
       "      <th>3</th>\n",
       "      <td>0.593407</td>\n",
       "      <td>0.406593</td>\n",
       "      <td>0.758242</td>\n",
       "      <td>0.241758</td>\n",
       "      <td>0.934066</td>\n",
       "      <td>0.065934</td>\n",
       "    </tr>\n",
       "    <tr>\n",
       "      <th>4</th>\n",
       "      <td>253.000000</td>\n",
       "      <td>227.000000</td>\n",
       "      <td>334.000000</td>\n",
       "      <td>146.000000</td>\n",
       "      <td>456.000000</td>\n",
       "      <td>24.000000</td>\n",
       "    </tr>\n",
       "    <tr>\n",
       "      <th>5</th>\n",
       "      <td>0.527083</td>\n",
       "      <td>0.472917</td>\n",
       "      <td>0.695833</td>\n",
       "      <td>0.304167</td>\n",
       "      <td>0.950000</td>\n",
       "      <td>0.050000</td>\n",
       "    </tr>\n",
       "  </tbody>\n",
       "</table>\n",
       "</div>"
      ],
      "text/plain": [
       "         Male  Female Stats  White Stats  Non White Stats         AML  \\\n",
       "0  199.000000    190.000000   265.000000       124.000000  371.000000   \n",
       "1    0.511568      0.488432     0.681234         0.318766    0.953728   \n",
       "2   54.000000     37.000000    69.000000        22.000000   85.000000   \n",
       "3    0.593407      0.406593     0.758242         0.241758    0.934066   \n",
       "4  253.000000    227.000000   334.000000       146.000000  456.000000   \n",
       "5    0.527083      0.472917     0.695833         0.304167    0.950000   \n",
       "\n",
       "     2nd AML  \n",
       "0  18.000000  \n",
       "1   0.046272  \n",
       "2   6.000000  \n",
       "3   0.065934  \n",
       "4  24.000000  \n",
       "5   0.050000  "
      ]
     },
     "execution_count": 15,
     "metadata": {},
     "output_type": "execute_result"
    }
   ],
   "source": [
    "df[\"AML\"] = get_stats('AML_diag','AML')\n",
    "#df[\"Down Syd AML\"] = get_stats('AML_diag','Down Syd AML')\n",
    "df[\"2nd AML\"] = get_stats('AML_diag','2nd AML')\n",
    "#df[\"APML\"] = get_stats('AML_diag','APML')\n",
    "df"
   ]
  },
  {
   "cell_type": "code",
   "execution_count": 16,
   "id": "declared-chance",
   "metadata": {},
   "outputs": [],
   "source": [
    "one_hot = pd.get_dummies(admissions['AML_diag'])\n",
    "admissions = admissions.join(one_hot)"
   ]
  },
  {
   "cell_type": "code",
   "execution_count": 17,
   "id": "hairy-royalty",
   "metadata": {},
   "outputs": [],
   "source": [
    "pos_ads = admissions[admissions['infection_present'] == 1]\n",
    "neg_ads = admissions[admissions['infection_present'] == 0]"
   ]
  },
  {
   "cell_type": "code",
   "execution_count": 18,
   "id": "competent-petersburg",
   "metadata": {},
   "outputs": [
    {
     "data": {
      "text/plain": [
       "MannwhitneyuResult(statistic=18047.5, pvalue=0.43963874286188487)"
      ]
     },
     "execution_count": 18,
     "metadata": {},
     "output_type": "execute_result"
    }
   ],
   "source": [
    "get_pval_median('AML')"
   ]
  },
  {
   "cell_type": "code",
   "execution_count": 19,
   "id": "liberal-danish",
   "metadata": {},
   "outputs": [
    {
     "data": {
      "text/plain": [
       "MannwhitneyuResult(statistic=17351.5, pvalue=0.43963874286188487)"
      ]
     },
     "execution_count": 19,
     "metadata": {},
     "output_type": "execute_result"
    }
   ],
   "source": [
    "get_pval_median('2nd AML')"
   ]
  },
  {
   "cell_type": "code",
   "execution_count": 20,
   "id": "experienced-livestock",
   "metadata": {},
   "outputs": [
    {
     "data": {
      "text/plain": [
       "BarnardExactResult(statistic=-0.774722767706877, pvalue=0.44617032447582883)"
      ]
     },
     "execution_count": 20,
     "metadata": {},
     "output_type": "execute_result"
    }
   ],
   "source": [
    "get_pval_b('AML')"
   ]
  },
  {
   "cell_type": "markdown",
   "id": "logical-longer",
   "metadata": {},
   "source": [
    "### Age"
   ]
  },
  {
   "cell_type": "code",
   "execution_count": 21,
   "id": "divided-partition",
   "metadata": {},
   "outputs": [
    {
     "data": {
      "text/plain": [
       "count    389.000000\n",
       "mean       7.901054\n",
       "std        5.688102\n",
       "min        0.000000\n",
       "25%        2.140000\n",
       "50%        7.150000\n",
       "75%       13.570000\n",
       "max       19.200000\n",
       "Name: age, dtype: float64"
      ]
     },
     "execution_count": 21,
     "metadata": {},
     "output_type": "execute_result"
    }
   ],
   "source": [
    "neg_ads.age.describe()"
   ]
  },
  {
   "cell_type": "code",
   "execution_count": 22,
   "id": "sorted-intake",
   "metadata": {},
   "outputs": [
    {
     "data": {
      "text/plain": [
       "count    91.000000\n",
       "mean      9.468571\n",
       "std       5.734161\n",
       "min       0.930000\n",
       "25%       3.845000\n",
       "50%       9.810000\n",
       "75%      14.500000\n",
       "max      19.220000\n",
       "Name: age, dtype: float64"
      ]
     },
     "execution_count": 22,
     "metadata": {},
     "output_type": "execute_result"
    }
   ],
   "source": [
    "pos_ads.age.describe()"
   ]
  },
  {
   "cell_type": "code",
   "execution_count": 23,
   "id": "hourly-breast",
   "metadata": {},
   "outputs": [
    {
     "data": {
      "text/plain": [
       "count    480.000000\n",
       "mean       8.198229\n",
       "std        5.723995\n",
       "min        0.000000\n",
       "25%        2.237500\n",
       "50%        8.310000\n",
       "75%       13.812500\n",
       "max       19.220000\n",
       "Name: age, dtype: float64"
      ]
     },
     "execution_count": 23,
     "metadata": {},
     "output_type": "execute_result"
    }
   ],
   "source": [
    "admissions.age.describe()"
   ]
  },
  {
   "cell_type": "code",
   "execution_count": 24,
   "id": "centered-aspect",
   "metadata": {},
   "outputs": [
    {
     "data": {
      "text/plain": [
       "MannwhitneyuResult(statistic=14955.5, pvalue=0.021268460584726173)"
      ]
     },
     "execution_count": 24,
     "metadata": {},
     "output_type": "execute_result"
    }
   ],
   "source": [
    "get_pval_median('age')"
   ]
  },
  {
   "cell_type": "markdown",
   "id": "altered-israel",
   "metadata": {},
   "source": [
    "### First BMI"
   ]
  },
  {
   "cell_type": "code",
   "execution_count": 25,
   "id": "suspected-assembly",
   "metadata": {},
   "outputs": [
    {
     "data": {
      "text/plain": [
       "count    388.000000\n",
       "mean      18.956477\n",
       "std        5.196454\n",
       "min       10.000000\n",
       "25%       15.800000\n",
       "50%       17.400000\n",
       "75%       20.000000\n",
       "max       44.600000\n",
       "Name: first_bmi_kg_m2, dtype: float64"
      ]
     },
     "execution_count": 25,
     "metadata": {},
     "output_type": "execute_result"
    }
   ],
   "source": [
    "neg_ads.first_bmi_kg_m2.describe()"
   ]
  },
  {
   "cell_type": "code",
   "execution_count": 26,
   "id": "dried-ghost",
   "metadata": {},
   "outputs": [
    {
     "data": {
      "text/plain": [
       "count    91.000000\n",
       "mean     20.128571\n",
       "std       6.374538\n",
       "min      13.500000\n",
       "25%      16.350000\n",
       "50%      17.900000\n",
       "75%      21.850000\n",
       "max      46.600000\n",
       "Name: first_bmi_kg_m2, dtype: float64"
      ]
     },
     "execution_count": 26,
     "metadata": {},
     "output_type": "execute_result"
    }
   ],
   "source": [
    "pos_ads.first_bmi_kg_m2.describe()"
   ]
  },
  {
   "cell_type": "code",
   "execution_count": 27,
   "id": "median-disco",
   "metadata": {},
   "outputs": [
    {
     "data": {
      "text/plain": [
       "count    479.000000\n",
       "mean      19.179151\n",
       "std        5.452075\n",
       "min       10.000000\n",
       "25%       15.800000\n",
       "50%       17.500000\n",
       "75%       20.250000\n",
       "max       46.600000\n",
       "Name: first_bmi_kg_m2, dtype: float64"
      ]
     },
     "execution_count": 27,
     "metadata": {},
     "output_type": "execute_result"
    }
   ],
   "source": [
    "admissions.first_bmi_kg_m2.describe()"
   ]
  },
  {
   "cell_type": "code",
   "execution_count": 28,
   "id": "herbal-compound",
   "metadata": {},
   "outputs": [
    {
     "data": {
      "text/plain": [
       "Ttest_indResult(statistic=-1.8504100414390119, pvalue=0.06487261023086215)"
      ]
     },
     "execution_count": 28,
     "metadata": {},
     "output_type": "execute_result"
    }
   ],
   "source": [
    "get_pval_median('first_bmi_kg_m2')"
   ]
  },
  {
   "cell_type": "markdown",
   "id": "backed-charger",
   "metadata": {},
   "source": [
    "### Neutropenia"
   ]
  },
  {
   "cell_type": "code",
   "execution_count": 29,
   "id": "atlantic-flashing",
   "metadata": {},
   "outputs": [
    {
     "data": {
      "text/plain": [
       "319"
      ]
     },
     "execution_count": 29,
     "metadata": {},
     "output_type": "execute_result"
    }
   ],
   "source": [
    "neg_ads.neutropenia.sum()"
   ]
  },
  {
   "cell_type": "code",
   "execution_count": 30,
   "id": "moderate-container",
   "metadata": {},
   "outputs": [
    {
     "data": {
      "text/plain": [
       "0.8200514138817481"
      ]
     },
     "execution_count": 30,
     "metadata": {},
     "output_type": "execute_result"
    }
   ],
   "source": [
    "neg_ads.neutropenia.sum()/len(neg_ads)"
   ]
  },
  {
   "cell_type": "code",
   "execution_count": 31,
   "id": "comparable-scott",
   "metadata": {},
   "outputs": [
    {
     "data": {
      "text/plain": [
       "88"
      ]
     },
     "execution_count": 31,
     "metadata": {},
     "output_type": "execute_result"
    }
   ],
   "source": [
    "pos_ads.neutropenia.sum()"
   ]
  },
  {
   "cell_type": "code",
   "execution_count": 32,
   "id": "micro-router",
   "metadata": {},
   "outputs": [
    {
     "data": {
      "text/plain": [
       "0.967032967032967"
      ]
     },
     "execution_count": 32,
     "metadata": {},
     "output_type": "execute_result"
    }
   ],
   "source": [
    "pos_ads.neutropenia.sum()/len(pos_ads)"
   ]
  },
  {
   "cell_type": "code",
   "execution_count": 33,
   "id": "potential-sarah",
   "metadata": {},
   "outputs": [
    {
     "data": {
      "text/plain": [
       "407"
      ]
     },
     "execution_count": 33,
     "metadata": {},
     "output_type": "execute_result"
    }
   ],
   "source": [
    "admissions.neutropenia.sum()"
   ]
  },
  {
   "cell_type": "code",
   "execution_count": 34,
   "id": "marked-armor",
   "metadata": {},
   "outputs": [
    {
     "data": {
      "text/plain": [
       "0.8479166666666667"
      ]
     },
     "execution_count": 34,
     "metadata": {},
     "output_type": "execute_result"
    }
   ],
   "source": [
    "admissions.neutropenia.sum()/len(admissions)"
   ]
  },
  {
   "cell_type": "markdown",
   "id": "usual-algeria",
   "metadata": {},
   "source": [
    "### Lowest ANC"
   ]
  },
  {
   "cell_type": "code",
   "execution_count": 35,
   "id": "indian-hands",
   "metadata": {},
   "outputs": [
    {
     "data": {
      "text/plain": [
       "count    386.000000\n",
       "mean       0.621259\n",
       "std        2.055551\n",
       "min        0.000000\n",
       "25%        0.002000\n",
       "50%        0.008000\n",
       "75%        0.034000\n",
       "max       17.978000\n",
       "Name: lowest_neutrophil, dtype: float64"
      ]
     },
     "execution_count": 35,
     "metadata": {},
     "output_type": "execute_result"
    }
   ],
   "source": [
    "neg_ads.lowest_neutrophil.describe()"
   ]
  },
  {
   "cell_type": "code",
   "execution_count": 36,
   "id": "round-muslim",
   "metadata": {},
   "outputs": [
    {
     "data": {
      "text/plain": [
       "count    91.000000\n",
       "mean      0.187516\n",
       "std       1.464885\n",
       "min       0.000000\n",
       "25%       0.000000\n",
       "50%       0.003000\n",
       "75%       0.007000\n",
       "max      13.899000\n",
       "Name: lowest_neutrophil, dtype: float64"
      ]
     },
     "execution_count": 36,
     "metadata": {},
     "output_type": "execute_result"
    }
   ],
   "source": [
    "pos_ads.lowest_neutrophil.describe()"
   ]
  },
  {
   "cell_type": "code",
   "execution_count": 37,
   "id": "abandoned-tennessee",
   "metadata": {},
   "outputs": [
    {
     "data": {
      "text/plain": [
       "count    477.000000\n",
       "mean       0.538512\n",
       "std        1.962742\n",
       "min        0.000000\n",
       "25%        0.001000\n",
       "50%        0.007000\n",
       "75%        0.022000\n",
       "max       17.978000\n",
       "Name: lowest_neutrophil, dtype: float64"
      ]
     },
     "execution_count": 37,
     "metadata": {},
     "output_type": "execute_result"
    }
   ],
   "source": [
    "admissions.lowest_neutrophil.describe()"
   ]
  },
  {
   "cell_type": "code",
   "execution_count": 38,
   "id": "hybrid-apparatus",
   "metadata": {},
   "outputs": [
    {
     "data": {
      "text/plain": [
       "Ttest_indResult(statistic=1.9015782025002501, pvalue=0.05783110469338381)"
      ]
     },
     "execution_count": 38,
     "metadata": {},
     "output_type": "execute_result"
    }
   ],
   "source": [
    "get_pval_median('lowest_neutrophil')"
   ]
  },
  {
   "cell_type": "markdown",
   "id": "documented-confidence",
   "metadata": {},
   "source": [
    "### Lowest Platelet"
   ]
  },
  {
   "cell_type": "code",
   "execution_count": 39,
   "id": "flush-leone",
   "metadata": {},
   "outputs": [
    {
     "data": {
      "text/plain": [
       "count     386.000000\n",
       "mean       76.606218\n",
       "std       100.375867\n",
       "min         0.000000\n",
       "25%        10.000000\n",
       "50%        27.000000\n",
       "75%       110.750000\n",
       "max      1176.000000\n",
       "Name: lowest_platelet, dtype: float64"
      ]
     },
     "execution_count": 39,
     "metadata": {},
     "output_type": "execute_result"
    }
   ],
   "source": [
    "neg_ads.lowest_platelet.describe()"
   ]
  },
  {
   "cell_type": "code",
   "execution_count": 40,
   "id": "weekly-lancaster",
   "metadata": {
    "scrolled": true
   },
   "outputs": [
    {
     "data": {
      "text/plain": [
       "count     91.000000\n",
       "mean      42.934066\n",
       "std       47.516033\n",
       "min        1.000000\n",
       "25%       10.000000\n",
       "50%       11.000000\n",
       "75%      101.500000\n",
       "max      154.000000\n",
       "Name: lowest_platelet, dtype: float64"
      ]
     },
     "execution_count": 40,
     "metadata": {},
     "output_type": "execute_result"
    }
   ],
   "source": [
    "pos_ads.lowest_platelet.describe()"
   ]
  },
  {
   "cell_type": "code",
   "execution_count": 41,
   "id": "therapeutic-inquiry",
   "metadata": {},
   "outputs": [
    {
     "data": {
      "text/plain": [
       "count     477.000000\n",
       "mean       70.182390\n",
       "std        93.549173\n",
       "min         0.000000\n",
       "25%        10.000000\n",
       "50%        15.000000\n",
       "75%       108.000000\n",
       "max      1176.000000\n",
       "Name: lowest_platelet, dtype: float64"
      ]
     },
     "execution_count": 41,
     "metadata": {},
     "output_type": "execute_result"
    }
   ],
   "source": [
    "admissions.lowest_platelet.describe()"
   ]
  },
  {
   "cell_type": "code",
   "execution_count": 42,
   "id": "hairy-float",
   "metadata": {},
   "outputs": [
    {
     "data": {
      "text/plain": [
       "Ttest_indResult(statistic=3.116921895787596, pvalue=0.0019382832527590113)"
      ]
     },
     "execution_count": 42,
     "metadata": {},
     "output_type": "execute_result"
    }
   ],
   "source": [
    "get_pval_median('lowest_platelet')"
   ]
  },
  {
   "cell_type": "markdown",
   "id": "defined-winter",
   "metadata": {},
   "source": [
    "### Lowest Hemoglobin"
   ]
  },
  {
   "cell_type": "code",
   "execution_count": 43,
   "id": "christian-camera",
   "metadata": {},
   "outputs": [
    {
     "data": {
      "text/plain": [
       "count    385.000000\n",
       "mean       9.905455\n",
       "std        1.487078\n",
       "min        3.700000\n",
       "25%       10.000000\n",
       "50%       10.100000\n",
       "75%       10.300000\n",
       "max       16.100000\n",
       "Name: lowest_hemoglobin, dtype: float64"
      ]
     },
     "execution_count": 43,
     "metadata": {},
     "output_type": "execute_result"
    }
   ],
   "source": [
    "neg_ads.lowest_hemoglobin.describe()"
   ]
  },
  {
   "cell_type": "code",
   "execution_count": 44,
   "id": "needed-wagon",
   "metadata": {},
   "outputs": [
    {
     "data": {
      "text/plain": [
       "count    90.000000\n",
       "mean     10.191111\n",
       "std       1.128253\n",
       "min       4.700000\n",
       "25%      10.000000\n",
       "50%      10.100000\n",
       "75%      10.300000\n",
       "max      16.400000\n",
       "Name: lowest_hemoglobin, dtype: float64"
      ]
     },
     "execution_count": 44,
     "metadata": {},
     "output_type": "execute_result"
    }
   ],
   "source": [
    "pos_ads.lowest_hemoglobin.describe()"
   ]
  },
  {
   "cell_type": "code",
   "execution_count": 45,
   "id": "sitting-argentina",
   "metadata": {},
   "outputs": [
    {
     "data": {
      "text/plain": [
       "count    475.000000\n",
       "mean       9.959579\n",
       "std        1.429366\n",
       "min        3.700000\n",
       "25%       10.000000\n",
       "50%       10.100000\n",
       "75%       10.300000\n",
       "max       16.400000\n",
       "Name: lowest_hemoglobin, dtype: float64"
      ]
     },
     "execution_count": 45,
     "metadata": {},
     "output_type": "execute_result"
    }
   ],
   "source": [
    "admissions.lowest_hemoglobin.describe()"
   ]
  },
  {
   "cell_type": "code",
   "execution_count": 46,
   "id": "european-second",
   "metadata": {},
   "outputs": [
    {
     "data": {
      "text/plain": [
       "Ttest_indResult(statistic=-1.7103526748858844, pvalue=0.08785641594979429)"
      ]
     },
     "execution_count": 46,
     "metadata": {},
     "output_type": "execute_result"
    }
   ],
   "source": [
    "get_pval_median('lowest_hemoglobin')"
   ]
  },
  {
   "cell_type": "markdown",
   "id": "blind-scheduling",
   "metadata": {},
   "source": [
    "### Lowest Monocytes"
   ]
  },
  {
   "cell_type": "code",
   "execution_count": 47,
   "id": "dress-unemployment",
   "metadata": {},
   "outputs": [
    {
     "data": {
      "text/plain": [
       "count    383.000000\n",
       "mean       2.621410\n",
       "std        5.563556\n",
       "min        0.000000\n",
       "25%        0.000000\n",
       "50%        0.000000\n",
       "75%        1.000000\n",
       "max       35.000000\n",
       "Name: lowest_monocytes, dtype: float64"
      ]
     },
     "execution_count": 47,
     "metadata": {},
     "output_type": "execute_result"
    }
   ],
   "source": [
    "neg_ads.lowest_monocytes.describe()"
   ]
  },
  {
   "cell_type": "code",
   "execution_count": 48,
   "id": "viral-camcorder",
   "metadata": {},
   "outputs": [
    {
     "data": {
      "text/plain": [
       "count    91.000000\n",
       "mean      0.879121\n",
       "std       3.087016\n",
       "min       0.000000\n",
       "25%       0.000000\n",
       "50%       0.000000\n",
       "75%       0.000000\n",
       "max      19.000000\n",
       "Name: lowest_monocytes, dtype: float64"
      ]
     },
     "execution_count": 48,
     "metadata": {},
     "output_type": "execute_result"
    }
   ],
   "source": [
    "pos_ads.lowest_monocytes.describe()"
   ]
  },
  {
   "cell_type": "code",
   "execution_count": 49,
   "id": "executed-wages",
   "metadata": {},
   "outputs": [
    {
     "data": {
      "text/plain": [
       "count    474.000000\n",
       "mean       2.286920\n",
       "std        5.223337\n",
       "min        0.000000\n",
       "25%        0.000000\n",
       "50%        0.000000\n",
       "75%        1.000000\n",
       "max       35.000000\n",
       "Name: lowest_monocytes, dtype: float64"
      ]
     },
     "execution_count": 49,
     "metadata": {},
     "output_type": "execute_result"
    }
   ],
   "source": [
    "admissions.lowest_monocytes.describe()"
   ]
  },
  {
   "cell_type": "code",
   "execution_count": 50,
   "id": "collaborative-container",
   "metadata": {},
   "outputs": [
    {
     "data": {
      "text/plain": [
       "Ttest_indResult(statistic=2.882252994492411, pvalue=0.004128497887636125)"
      ]
     },
     "execution_count": 50,
     "metadata": {},
     "output_type": "execute_result"
    }
   ],
   "source": [
    "get_pval_median('lowest_monocytes')"
   ]
  },
  {
   "cell_type": "markdown",
   "id": "decreased-capital",
   "metadata": {},
   "source": [
    "### LOS"
   ]
  },
  {
   "cell_type": "code",
   "execution_count": 51,
   "id": "restricted-direction",
   "metadata": {},
   "outputs": [
    {
     "data": {
      "text/plain": [
       "count    389.000000\n",
       "mean      21.720748\n",
       "std       12.863455\n",
       "min        0.351389\n",
       "25%        9.462500\n",
       "50%       24.288194\n",
       "75%       29.109722\n",
       "max       74.301389\n",
       "Name: LOS, dtype: float64"
      ]
     },
     "execution_count": 51,
     "metadata": {},
     "output_type": "execute_result"
    }
   ],
   "source": [
    "neg_ads.LOS.describe()"
   ]
  },
  {
   "cell_type": "code",
   "execution_count": 52,
   "id": "optimum-toolbox",
   "metadata": {},
   "outputs": [
    {
     "data": {
      "text/plain": [
       "count    91.000000\n",
       "mean     28.954792\n",
       "std      12.508978\n",
       "min       2.186806\n",
       "25%      24.241319\n",
       "50%      28.404167\n",
       "75%      33.135764\n",
       "max      81.857639\n",
       "Name: LOS, dtype: float64"
      ]
     },
     "execution_count": 52,
     "metadata": {},
     "output_type": "execute_result"
    }
   ],
   "source": [
    "pos_ads.LOS.describe()"
   ]
  },
  {
   "cell_type": "code",
   "execution_count": 53,
   "id": "dangerous-gregory",
   "metadata": {},
   "outputs": [
    {
     "data": {
      "text/plain": [
       "count    480.000000\n",
       "mean      23.092202\n",
       "std       13.095427\n",
       "min        0.351389\n",
       "25%       18.257292\n",
       "50%       25.225347\n",
       "75%       29.979688\n",
       "max       81.857639\n",
       "Name: LOS, dtype: float64"
      ]
     },
     "execution_count": 53,
     "metadata": {},
     "output_type": "execute_result"
    }
   ],
   "source": [
    "admissions.LOS.describe()"
   ]
  },
  {
   "cell_type": "code",
   "execution_count": 54,
   "id": "clear-trinidad",
   "metadata": {},
   "outputs": [
    {
     "data": {
      "text/plain": [
       "MannwhitneyuResult(statistic=11970.0, pvalue=1.5129548588987548e-06)"
      ]
     },
     "execution_count": 54,
     "metadata": {},
     "output_type": "execute_result"
    }
   ],
   "source": [
    "get_pval_median('LOS')"
   ]
  },
  {
   "cell_type": "code",
   "execution_count": 55,
   "id": "extraordinary-argentina",
   "metadata": {},
   "outputs": [
    {
     "data": {
      "text/plain": [
       "Ttest_indResult(statistic=-4.854361901487121, pvalue=1.638293272194672e-06)"
      ]
     },
     "execution_count": 55,
     "metadata": {},
     "output_type": "execute_result"
    }
   ],
   "source": [
    "# double check\n",
    "stats.ttest_ind(neg_ads['LOS'],pos_ads['LOS'],nan_policy='omit')"
   ]
  },
  {
   "cell_type": "markdown",
   "id": "exciting-caribbean",
   "metadata": {},
   "source": [
    "### Num PICU visits"
   ]
  },
  {
   "cell_type": "code",
   "execution_count": 56,
   "id": "celtic-oregon",
   "metadata": {},
   "outputs": [
    {
     "name": "stdout",
     "output_type": "stream",
     "text": [
      "34\n"
     ]
    },
    {
     "data": {
      "text/plain": [
       "0.08740359897172237"
      ]
     },
     "execution_count": 56,
     "metadata": {},
     "output_type": "execute_result"
    }
   ],
   "source": [
    "print(len(neg_ads[neg_ads['icu_los']>0]))\n",
    "#len(neg_ads[neg_ads['icu_los']>0])/len(neg_ads)\n",
    "neg_ads.icu_visit.sum()/len(neg_ads)"
   ]
  },
  {
   "cell_type": "code",
   "execution_count": 57,
   "id": "measured-jason",
   "metadata": {},
   "outputs": [
    {
     "name": "stdout",
     "output_type": "stream",
     "text": [
      "20\n"
     ]
    },
    {
     "data": {
      "text/plain": [
       "0.21978021978021978"
      ]
     },
     "execution_count": 57,
     "metadata": {},
     "output_type": "execute_result"
    }
   ],
   "source": [
    "print(len(pos_ads[pos_ads['icu_los']>0]))\n",
    "len(pos_ads[pos_ads['icu_los']>0])/len(pos_ads)"
   ]
  },
  {
   "cell_type": "code",
   "execution_count": 58,
   "id": "classical-customs",
   "metadata": {},
   "outputs": [
    {
     "name": "stdout",
     "output_type": "stream",
     "text": [
      "54\n"
     ]
    },
    {
     "data": {
      "text/plain": [
       "0.1125"
      ]
     },
     "execution_count": 58,
     "metadata": {},
     "output_type": "execute_result"
    }
   ],
   "source": [
    "print(len(admissions[admissions['icu_los']>0]))\n",
    "len(admissions[admissions['icu_los']>0])/len(admissions)"
   ]
  },
  {
   "cell_type": "markdown",
   "id": "peaceful-lying",
   "metadata": {},
   "source": [
    "### PICU LOS"
   ]
  },
  {
   "cell_type": "code",
   "execution_count": 59,
   "id": "beautiful-transportation",
   "metadata": {},
   "outputs": [
    {
     "data": {
      "text/plain": [
       "count    34.000000\n",
       "mean      6.633824\n",
       "std       8.660392\n",
       "min       0.040000\n",
       "25%       1.222500\n",
       "50%       2.935000\n",
       "75%       7.155000\n",
       "max      41.030000\n",
       "Name: icu_los, dtype: float64"
      ]
     },
     "execution_count": 59,
     "metadata": {},
     "output_type": "execute_result"
    }
   ],
   "source": [
    "neg_ads.icu_los.describe()"
   ]
  },
  {
   "cell_type": "code",
   "execution_count": 60,
   "id": "banner-break",
   "metadata": {},
   "outputs": [
    {
     "data": {
      "text/plain": [
       "count    21.000000\n",
       "mean      8.742381\n",
       "std      12.122500\n",
       "min       0.000000\n",
       "25%       1.610000\n",
       "50%       3.160000\n",
       "75%      10.440000\n",
       "max      48.850000\n",
       "Name: icu_los, dtype: float64"
      ]
     },
     "execution_count": 60,
     "metadata": {},
     "output_type": "execute_result"
    }
   ],
   "source": [
    "pos_ads.icu_los.describe()"
   ]
  },
  {
   "cell_type": "code",
   "execution_count": 61,
   "id": "effective-truck",
   "metadata": {},
   "outputs": [
    {
     "data": {
      "text/plain": [
       "count    55.000000\n",
       "mean      7.438909\n",
       "std      10.066350\n",
       "min       0.000000\n",
       "25%       1.245000\n",
       "50%       3.080000\n",
       "75%       9.250000\n",
       "max      48.850000\n",
       "Name: icu_los, dtype: float64"
      ]
     },
     "execution_count": 61,
     "metadata": {},
     "output_type": "execute_result"
    }
   ],
   "source": [
    "admissions.icu_los.describe()"
   ]
  },
  {
   "cell_type": "code",
   "execution_count": 62,
   "id": "wireless-driving",
   "metadata": {},
   "outputs": [
    {
     "data": {
      "text/plain": [
       "Ttest_indResult(statistic=-0.7516658720374025, pvalue=0.45557706941736853)"
      ]
     },
     "execution_count": 62,
     "metadata": {},
     "output_type": "execute_result"
    }
   ],
   "source": [
    "get_pval_median('icu_los')"
   ]
  },
  {
   "cell_type": "markdown",
   "id": "soviet-stanley",
   "metadata": {},
   "source": [
    "## Medications"
   ]
  },
  {
   "cell_type": "code",
   "execution_count": 63,
   "id": "marine-exception",
   "metadata": {},
   "outputs": [
    {
     "data": {
      "text/plain": [
       "429"
      ]
     },
     "execution_count": 63,
     "metadata": {},
     "output_type": "execute_result"
    }
   ],
   "source": [
    "admissions.dropna(subset=['cytarabine'],inplace=True)\n",
    "admissions.dropna(subset=['levo'],inplace=True)\n",
    "#admissions.dropna(subset=['vanco'],inplace=True)\n",
    "len(admissions)"
   ]
  },
  {
   "cell_type": "code",
   "execution_count": 64,
   "id": "deadly-oliver",
   "metadata": {},
   "outputs": [
    {
     "name": "stdout",
     "output_type": "stream",
     "text": [
      "343\n"
     ]
    },
    {
     "data": {
      "text/plain": [
       "0.7995337995337995"
      ]
     },
     "execution_count": 64,
     "metadata": {},
     "output_type": "execute_result"
    }
   ],
   "source": [
    "print(len(admissions[admissions.infection_present == 0]))\n",
    "len(admissions[admissions.infection_present == 0])/len(admissions)"
   ]
  },
  {
   "cell_type": "code",
   "execution_count": 65,
   "id": "interim-morgan",
   "metadata": {},
   "outputs": [
    {
     "name": "stdout",
     "output_type": "stream",
     "text": [
      "86\n"
     ]
    },
    {
     "data": {
      "text/plain": [
       "0.20046620046620048"
      ]
     },
     "execution_count": 65,
     "metadata": {},
     "output_type": "execute_result"
    }
   ],
   "source": [
    "print(len(admissions[admissions.infection_present == 1]))\n",
    "len(admissions[admissions.infection_present == 1])/len(admissions)"
   ]
  },
  {
   "cell_type": "code",
   "execution_count": 66,
   "id": "hourly-cabin",
   "metadata": {},
   "outputs": [
    {
     "name": "stderr",
     "output_type": "stream",
     "text": [
      "<ipython-input-66-746b67610e5e>:1: SettingWithCopyWarning: \n",
      "A value is trying to be set on a copy of a slice from a DataFrame\n",
      "\n",
      "See the caveats in the documentation: https://pandas.pydata.org/pandas-docs/stable/user_guide/indexing.html#returning-a-view-versus-a-copy\n",
      "  neg_ads.dropna(subset=['cytarabine'],inplace=True)\n",
      "<ipython-input-66-746b67610e5e>:2: SettingWithCopyWarning: \n",
      "A value is trying to be set on a copy of a slice from a DataFrame\n",
      "\n",
      "See the caveats in the documentation: https://pandas.pydata.org/pandas-docs/stable/user_guide/indexing.html#returning-a-view-versus-a-copy\n",
      "  pos_ads.dropna(subset=['cytarabine'],inplace=True)\n"
     ]
    }
   ],
   "source": [
    "neg_ads.dropna(subset=['cytarabine'],inplace=True)\n",
    "pos_ads.dropna(subset=['cytarabine'],inplace=True)"
   ]
  },
  {
   "cell_type": "markdown",
   "id": "intelligent-acceptance",
   "metadata": {},
   "source": [
    "### Cytarabine"
   ]
  },
  {
   "cell_type": "code",
   "execution_count": 67,
   "id": "failing-effect",
   "metadata": {},
   "outputs": [
    {
     "data": {
      "text/html": [
       "<div>\n",
       "<style scoped>\n",
       "    .dataframe tbody tr th:only-of-type {\n",
       "        vertical-align: middle;\n",
       "    }\n",
       "\n",
       "    .dataframe tbody tr th {\n",
       "        vertical-align: top;\n",
       "    }\n",
       "\n",
       "    .dataframe thead th {\n",
       "        text-align: right;\n",
       "    }\n",
       "</style>\n",
       "<table border=\"1\" class=\"dataframe\">\n",
       "  <thead>\n",
       "    <tr style=\"text-align: right;\">\n",
       "      <th></th>\n",
       "      <th>Male</th>\n",
       "      <th>Female Stats</th>\n",
       "      <th>White Stats</th>\n",
       "      <th>Non White Stats</th>\n",
       "      <th>AML</th>\n",
       "      <th>2nd AML</th>\n",
       "      <th>Cyt Stats</th>\n",
       "      <th>No Cyt Stats</th>\n",
       "    </tr>\n",
       "  </thead>\n",
       "  <tbody>\n",
       "    <tr>\n",
       "      <th>0</th>\n",
       "      <td>199.000000</td>\n",
       "      <td>190.000000</td>\n",
       "      <td>265.000000</td>\n",
       "      <td>124.000000</td>\n",
       "      <td>371.000000</td>\n",
       "      <td>18.000000</td>\n",
       "      <td>283.000000</td>\n",
       "      <td>60.000000</td>\n",
       "    </tr>\n",
       "    <tr>\n",
       "      <th>1</th>\n",
       "      <td>0.511568</td>\n",
       "      <td>0.488432</td>\n",
       "      <td>0.681234</td>\n",
       "      <td>0.318766</td>\n",
       "      <td>0.953728</td>\n",
       "      <td>0.046272</td>\n",
       "      <td>0.825073</td>\n",
       "      <td>0.174927</td>\n",
       "    </tr>\n",
       "    <tr>\n",
       "      <th>2</th>\n",
       "      <td>54.000000</td>\n",
       "      <td>37.000000</td>\n",
       "      <td>69.000000</td>\n",
       "      <td>22.000000</td>\n",
       "      <td>85.000000</td>\n",
       "      <td>6.000000</td>\n",
       "      <td>79.000000</td>\n",
       "      <td>7.000000</td>\n",
       "    </tr>\n",
       "    <tr>\n",
       "      <th>3</th>\n",
       "      <td>0.593407</td>\n",
       "      <td>0.406593</td>\n",
       "      <td>0.758242</td>\n",
       "      <td>0.241758</td>\n",
       "      <td>0.934066</td>\n",
       "      <td>0.065934</td>\n",
       "      <td>0.918605</td>\n",
       "      <td>0.081395</td>\n",
       "    </tr>\n",
       "    <tr>\n",
       "      <th>4</th>\n",
       "      <td>253.000000</td>\n",
       "      <td>227.000000</td>\n",
       "      <td>334.000000</td>\n",
       "      <td>146.000000</td>\n",
       "      <td>456.000000</td>\n",
       "      <td>24.000000</td>\n",
       "      <td>362.000000</td>\n",
       "      <td>67.000000</td>\n",
       "    </tr>\n",
       "    <tr>\n",
       "      <th>5</th>\n",
       "      <td>0.527083</td>\n",
       "      <td>0.472917</td>\n",
       "      <td>0.695833</td>\n",
       "      <td>0.304167</td>\n",
       "      <td>0.950000</td>\n",
       "      <td>0.050000</td>\n",
       "      <td>0.843823</td>\n",
       "      <td>0.156177</td>\n",
       "    </tr>\n",
       "  </tbody>\n",
       "</table>\n",
       "</div>"
      ],
      "text/plain": [
       "         Male  Female Stats  White Stats  Non White Stats         AML  \\\n",
       "0  199.000000    190.000000   265.000000       124.000000  371.000000   \n",
       "1    0.511568      0.488432     0.681234         0.318766    0.953728   \n",
       "2   54.000000     37.000000    69.000000        22.000000   85.000000   \n",
       "3    0.593407      0.406593     0.758242         0.241758    0.934066   \n",
       "4  253.000000    227.000000   334.000000       146.000000  456.000000   \n",
       "5    0.527083      0.472917     0.695833         0.304167    0.950000   \n",
       "\n",
       "     2nd AML   Cyt Stats  No Cyt Stats  \n",
       "0  18.000000  283.000000     60.000000  \n",
       "1   0.046272    0.825073      0.174927  \n",
       "2   6.000000   79.000000      7.000000  \n",
       "3   0.065934    0.918605      0.081395  \n",
       "4  24.000000  362.000000     67.000000  \n",
       "5   0.050000    0.843823      0.156177  "
      ]
     },
     "execution_count": 67,
     "metadata": {},
     "output_type": "execute_result"
    }
   ],
   "source": [
    "df[\"Cyt Stats\"] = get_stats('cytarabine',1)\n",
    "df[\"No Cyt Stats\"] = get_stats('cytarabine',0)\n",
    "df"
   ]
  },
  {
   "cell_type": "code",
   "execution_count": 68,
   "id": "complicated-county",
   "metadata": {},
   "outputs": [
    {
     "data": {
      "text/plain": [
       "BarnardExactResult(statistic=2.136448233790324, pvalue=0.03361006406230964)"
      ]
     },
     "execution_count": 68,
     "metadata": {},
     "output_type": "execute_result"
    }
   ],
   "source": [
    "get_pval_b('cytarabine')"
   ]
  },
  {
   "cell_type": "markdown",
   "id": "suspected-rating",
   "metadata": {},
   "source": [
    "#### Cytarabine dosage"
   ]
  },
  {
   "cell_type": "code",
   "execution_count": 69,
   "id": "stuck-reset",
   "metadata": {},
   "outputs": [
    {
     "data": {
      "text/plain": [
       "count      343.000000\n",
       "mean      1261.986055\n",
       "std       2123.105987\n",
       "min          0.000000\n",
       "25%        121.549619\n",
       "50%        208.590853\n",
       "75%       1955.621630\n",
       "max      12218.181818\n",
       "Name: Cytarabine mg/m2/day, dtype: float64"
      ]
     },
     "execution_count": 69,
     "metadata": {},
     "output_type": "execute_result"
    }
   ],
   "source": [
    "neg_ads[\"Cytarabine mg/m2/day\"].describe()"
   ]
  },
  {
   "cell_type": "code",
   "execution_count": 70,
   "id": "complimentary-memorial",
   "metadata": {},
   "outputs": [
    {
     "data": {
      "text/plain": [
       "(1037.301765999479, 1486.670344591018)"
      ]
     },
     "execution_count": 70,
     "metadata": {},
     "output_type": "execute_result"
    }
   ],
   "source": [
    "import scipy.stats as st\n",
    "st.norm.interval(alpha=0.95, loc=np.nanmean(neg_ads[\"Cytarabine mg/m2/day\"]), scale=st.sem(neg_ads[\"Cytarabine mg/m2/day\"],nan_policy='omit'))"
   ]
  },
  {
   "cell_type": "code",
   "execution_count": 71,
   "id": "ready-bundle",
   "metadata": {},
   "outputs": [
    {
     "data": {
      "text/plain": [
       "count       86.000000\n",
       "mean      2112.633214\n",
       "std       2754.126543\n",
       "min          0.000000\n",
       "25%        175.867947\n",
       "50%       1607.184355\n",
       "75%       2111.285939\n",
       "max      12537.313433\n",
       "Name: Cytarabine mg/m2/day, dtype: float64"
      ]
     },
     "execution_count": 71,
     "metadata": {},
     "output_type": "execute_result"
    }
   ],
   "source": [
    "pos_ads[\"Cytarabine mg/m2/day\"].describe()"
   ]
  },
  {
   "cell_type": "code",
   "execution_count": 72,
   "id": "continental-possible",
   "metadata": {},
   "outputs": [
    {
     "data": {
      "text/plain": [
       "(1530.553107816906, 2694.7133191959847)"
      ]
     },
     "execution_count": 72,
     "metadata": {},
     "output_type": "execute_result"
    }
   ],
   "source": [
    "st.norm.interval(alpha=0.95, loc=np.nanmean(pos_ads[\"Cytarabine mg/m2/day\"]), scale=st.sem(pos_ads[\"Cytarabine mg/m2/day\"],nan_policy='omit'))"
   ]
  },
  {
   "cell_type": "code",
   "execution_count": 73,
   "id": "simple-carroll",
   "metadata": {},
   "outputs": [
    {
     "data": {
      "text/plain": [
       "count      429.000000\n",
       "mean      1432.512059\n",
       "std       2285.718483\n",
       "min          0.000000\n",
       "25%        128.859510\n",
       "50%        220.959596\n",
       "75%       1974.943052\n",
       "max      12537.313433\n",
       "Name: Cytarabine mg/m2/day, dtype: float64"
      ]
     },
     "execution_count": 73,
     "metadata": {},
     "output_type": "execute_result"
    }
   ],
   "source": [
    "admissions[\"Cytarabine mg/m2/day\"].describe()"
   ]
  },
  {
   "cell_type": "code",
   "execution_count": 74,
   "id": "future-heating",
   "metadata": {},
   "outputs": [
    {
     "data": {
      "text/plain": [
       "(1216.219198135495, 1648.8049199429406)"
      ]
     },
     "execution_count": 74,
     "metadata": {},
     "output_type": "execute_result"
    }
   ],
   "source": [
    "st.norm.interval(alpha=0.95, loc=np.nanmean(admissions[\"Cytarabine mg/m2/day\"]), scale=st.sem(admissions[\"Cytarabine mg/m2/day\"],nan_policy='omit'))"
   ]
  },
  {
   "cell_type": "code",
   "execution_count": 75,
   "id": "exclusive-january",
   "metadata": {},
   "outputs": [
    {
     "name": "stderr",
     "output_type": "stream",
     "text": [
      "<ipython-input-75-7b13736966c5>:1: SettingWithCopyWarning: \n",
      "A value is trying to be set on a copy of a slice from a DataFrame\n",
      "\n",
      "See the caveats in the documentation: https://pandas.pydata.org/pandas-docs/stable/user_guide/indexing.html#returning-a-view-versus-a-copy\n",
      "  neg_ads.dropna(subset=['Cytarabine mg/m2/day'],inplace=True)\n",
      "<ipython-input-75-7b13736966c5>:2: SettingWithCopyWarning: \n",
      "A value is trying to be set on a copy of a slice from a DataFrame\n",
      "\n",
      "See the caveats in the documentation: https://pandas.pydata.org/pandas-docs/stable/user_guide/indexing.html#returning-a-view-versus-a-copy\n",
      "  pos_ads.dropna(subset=['Cytarabine mg/m2/day'],inplace=True)\n"
     ]
    },
    {
     "data": {
      "text/plain": [
       "MannwhitneyuResult(statistic=11148.0, pvalue=0.0004502303110800332)"
      ]
     },
     "execution_count": 75,
     "metadata": {},
     "output_type": "execute_result"
    }
   ],
   "source": [
    "neg_ads.dropna(subset=['Cytarabine mg/m2/day'],inplace=True)\n",
    "pos_ads.dropna(subset=['Cytarabine mg/m2/day'],inplace=True)\n",
    "get_pval_median('Cytarabine mg/m2/day')"
   ]
  },
  {
   "cell_type": "markdown",
   "id": "subsequent-startup",
   "metadata": {},
   "source": [
    "### Levofloxacin"
   ]
  },
  {
   "cell_type": "code",
   "execution_count": 76,
   "id": "elementary-skill",
   "metadata": {},
   "outputs": [
    {
     "data": {
      "text/html": [
       "<div>\n",
       "<style scoped>\n",
       "    .dataframe tbody tr th:only-of-type {\n",
       "        vertical-align: middle;\n",
       "    }\n",
       "\n",
       "    .dataframe tbody tr th {\n",
       "        vertical-align: top;\n",
       "    }\n",
       "\n",
       "    .dataframe thead th {\n",
       "        text-align: right;\n",
       "    }\n",
       "</style>\n",
       "<table border=\"1\" class=\"dataframe\">\n",
       "  <thead>\n",
       "    <tr style=\"text-align: right;\">\n",
       "      <th></th>\n",
       "      <th>Male</th>\n",
       "      <th>Female Stats</th>\n",
       "      <th>White Stats</th>\n",
       "      <th>Non White Stats</th>\n",
       "      <th>AML</th>\n",
       "      <th>2nd AML</th>\n",
       "      <th>Cyt Stats</th>\n",
       "      <th>No Cyt Stats</th>\n",
       "      <th>Levo Stats</th>\n",
       "      <th>No Levo Stats</th>\n",
       "    </tr>\n",
       "  </thead>\n",
       "  <tbody>\n",
       "    <tr>\n",
       "      <th>0</th>\n",
       "      <td>199.000000</td>\n",
       "      <td>190.000000</td>\n",
       "      <td>265.000000</td>\n",
       "      <td>124.000000</td>\n",
       "      <td>371.000000</td>\n",
       "      <td>18.000000</td>\n",
       "      <td>283.000000</td>\n",
       "      <td>60.000000</td>\n",
       "      <td>142.000000</td>\n",
       "      <td>201.000000</td>\n",
       "    </tr>\n",
       "    <tr>\n",
       "      <th>1</th>\n",
       "      <td>0.511568</td>\n",
       "      <td>0.488432</td>\n",
       "      <td>0.681234</td>\n",
       "      <td>0.318766</td>\n",
       "      <td>0.953728</td>\n",
       "      <td>0.046272</td>\n",
       "      <td>0.825073</td>\n",
       "      <td>0.174927</td>\n",
       "      <td>0.413994</td>\n",
       "      <td>0.586006</td>\n",
       "    </tr>\n",
       "    <tr>\n",
       "      <th>2</th>\n",
       "      <td>54.000000</td>\n",
       "      <td>37.000000</td>\n",
       "      <td>69.000000</td>\n",
       "      <td>22.000000</td>\n",
       "      <td>85.000000</td>\n",
       "      <td>6.000000</td>\n",
       "      <td>79.000000</td>\n",
       "      <td>7.000000</td>\n",
       "      <td>21.000000</td>\n",
       "      <td>65.000000</td>\n",
       "    </tr>\n",
       "    <tr>\n",
       "      <th>3</th>\n",
       "      <td>0.593407</td>\n",
       "      <td>0.406593</td>\n",
       "      <td>0.758242</td>\n",
       "      <td>0.241758</td>\n",
       "      <td>0.934066</td>\n",
       "      <td>0.065934</td>\n",
       "      <td>0.918605</td>\n",
       "      <td>0.081395</td>\n",
       "      <td>0.244186</td>\n",
       "      <td>0.755814</td>\n",
       "    </tr>\n",
       "    <tr>\n",
       "      <th>4</th>\n",
       "      <td>253.000000</td>\n",
       "      <td>227.000000</td>\n",
       "      <td>334.000000</td>\n",
       "      <td>146.000000</td>\n",
       "      <td>456.000000</td>\n",
       "      <td>24.000000</td>\n",
       "      <td>362.000000</td>\n",
       "      <td>67.000000</td>\n",
       "      <td>163.000000</td>\n",
       "      <td>266.000000</td>\n",
       "    </tr>\n",
       "    <tr>\n",
       "      <th>5</th>\n",
       "      <td>0.527083</td>\n",
       "      <td>0.472917</td>\n",
       "      <td>0.695833</td>\n",
       "      <td>0.304167</td>\n",
       "      <td>0.950000</td>\n",
       "      <td>0.050000</td>\n",
       "      <td>0.843823</td>\n",
       "      <td>0.156177</td>\n",
       "      <td>0.379953</td>\n",
       "      <td>0.620047</td>\n",
       "    </tr>\n",
       "  </tbody>\n",
       "</table>\n",
       "</div>"
      ],
      "text/plain": [
       "         Male  Female Stats  White Stats  Non White Stats         AML  \\\n",
       "0  199.000000    190.000000   265.000000       124.000000  371.000000   \n",
       "1    0.511568      0.488432     0.681234         0.318766    0.953728   \n",
       "2   54.000000     37.000000    69.000000        22.000000   85.000000   \n",
       "3    0.593407      0.406593     0.758242         0.241758    0.934066   \n",
       "4  253.000000    227.000000   334.000000       146.000000  456.000000   \n",
       "5    0.527083      0.472917     0.695833         0.304167    0.950000   \n",
       "\n",
       "     2nd AML   Cyt Stats  No Cyt Stats  Levo Stats  No Levo Stats  \n",
       "0  18.000000  283.000000     60.000000  142.000000     201.000000  \n",
       "1   0.046272    0.825073      0.174927    0.413994       0.586006  \n",
       "2   6.000000   79.000000      7.000000   21.000000      65.000000  \n",
       "3   0.065934    0.918605      0.081395    0.244186       0.755814  \n",
       "4  24.000000  362.000000     67.000000  163.000000     266.000000  \n",
       "5   0.050000    0.843823      0.156177    0.379953       0.620047  "
      ]
     },
     "execution_count": 76,
     "metadata": {},
     "output_type": "execute_result"
    }
   ],
   "source": [
    "df[\"Levo Stats\"] = get_stats('levo',1)\n",
    "df[\"No Levo Stats\"] = get_stats('levo',0)\n",
    "df"
   ]
  },
  {
   "cell_type": "code",
   "execution_count": 77,
   "id": "sound-developer",
   "metadata": {},
   "outputs": [
    {
     "data": {
      "text/plain": [
       "BarnardExactResult(statistic=-2.9010069658269124, pvalue=0.0045783328715056325)"
      ]
     },
     "execution_count": 77,
     "metadata": {},
     "output_type": "execute_result"
    }
   ],
   "source": [
    "get_pval_b('levo')"
   ]
  },
  {
   "cell_type": "markdown",
   "id": "documented-universe",
   "metadata": {},
   "source": [
    "### Vancomycin"
   ]
  },
  {
   "cell_type": "code",
   "execution_count": 78,
   "id": "worldwide-russia",
   "metadata": {},
   "outputs": [
    {
     "data": {
      "text/html": [
       "<div>\n",
       "<style scoped>\n",
       "    .dataframe tbody tr th:only-of-type {\n",
       "        vertical-align: middle;\n",
       "    }\n",
       "\n",
       "    .dataframe tbody tr th {\n",
       "        vertical-align: top;\n",
       "    }\n",
       "\n",
       "    .dataframe thead th {\n",
       "        text-align: right;\n",
       "    }\n",
       "</style>\n",
       "<table border=\"1\" class=\"dataframe\">\n",
       "  <thead>\n",
       "    <tr style=\"text-align: right;\">\n",
       "      <th></th>\n",
       "      <th>Male</th>\n",
       "      <th>Female Stats</th>\n",
       "      <th>White Stats</th>\n",
       "      <th>Non White Stats</th>\n",
       "      <th>AML</th>\n",
       "      <th>2nd AML</th>\n",
       "      <th>Cyt Stats</th>\n",
       "      <th>No Cyt Stats</th>\n",
       "      <th>Levo Stats</th>\n",
       "      <th>No Levo Stats</th>\n",
       "      <th>Vanco Stats</th>\n",
       "      <th>No Vanco Stats</th>\n",
       "    </tr>\n",
       "  </thead>\n",
       "  <tbody>\n",
       "    <tr>\n",
       "      <th>0</th>\n",
       "      <td>199.000000</td>\n",
       "      <td>190.000000</td>\n",
       "      <td>265.000000</td>\n",
       "      <td>124.000000</td>\n",
       "      <td>371.000000</td>\n",
       "      <td>18.000000</td>\n",
       "      <td>283.000000</td>\n",
       "      <td>60.000000</td>\n",
       "      <td>142.000000</td>\n",
       "      <td>201.000000</td>\n",
       "      <td>289.000000</td>\n",
       "      <td>54.000000</td>\n",
       "    </tr>\n",
       "    <tr>\n",
       "      <th>1</th>\n",
       "      <td>0.511568</td>\n",
       "      <td>0.488432</td>\n",
       "      <td>0.681234</td>\n",
       "      <td>0.318766</td>\n",
       "      <td>0.953728</td>\n",
       "      <td>0.046272</td>\n",
       "      <td>0.825073</td>\n",
       "      <td>0.174927</td>\n",
       "      <td>0.413994</td>\n",
       "      <td>0.586006</td>\n",
       "      <td>0.842566</td>\n",
       "      <td>0.157434</td>\n",
       "    </tr>\n",
       "    <tr>\n",
       "      <th>2</th>\n",
       "      <td>54.000000</td>\n",
       "      <td>37.000000</td>\n",
       "      <td>69.000000</td>\n",
       "      <td>22.000000</td>\n",
       "      <td>85.000000</td>\n",
       "      <td>6.000000</td>\n",
       "      <td>79.000000</td>\n",
       "      <td>7.000000</td>\n",
       "      <td>21.000000</td>\n",
       "      <td>65.000000</td>\n",
       "      <td>74.000000</td>\n",
       "      <td>12.000000</td>\n",
       "    </tr>\n",
       "    <tr>\n",
       "      <th>3</th>\n",
       "      <td>0.593407</td>\n",
       "      <td>0.406593</td>\n",
       "      <td>0.758242</td>\n",
       "      <td>0.241758</td>\n",
       "      <td>0.934066</td>\n",
       "      <td>0.065934</td>\n",
       "      <td>0.918605</td>\n",
       "      <td>0.081395</td>\n",
       "      <td>0.244186</td>\n",
       "      <td>0.755814</td>\n",
       "      <td>0.860465</td>\n",
       "      <td>0.139535</td>\n",
       "    </tr>\n",
       "    <tr>\n",
       "      <th>4</th>\n",
       "      <td>253.000000</td>\n",
       "      <td>227.000000</td>\n",
       "      <td>334.000000</td>\n",
       "      <td>146.000000</td>\n",
       "      <td>456.000000</td>\n",
       "      <td>24.000000</td>\n",
       "      <td>362.000000</td>\n",
       "      <td>67.000000</td>\n",
       "      <td>163.000000</td>\n",
       "      <td>266.000000</td>\n",
       "      <td>363.000000</td>\n",
       "      <td>66.000000</td>\n",
       "    </tr>\n",
       "    <tr>\n",
       "      <th>5</th>\n",
       "      <td>0.527083</td>\n",
       "      <td>0.472917</td>\n",
       "      <td>0.695833</td>\n",
       "      <td>0.304167</td>\n",
       "      <td>0.950000</td>\n",
       "      <td>0.050000</td>\n",
       "      <td>0.843823</td>\n",
       "      <td>0.156177</td>\n",
       "      <td>0.379953</td>\n",
       "      <td>0.620047</td>\n",
       "      <td>0.846154</td>\n",
       "      <td>0.153846</td>\n",
       "    </tr>\n",
       "  </tbody>\n",
       "</table>\n",
       "</div>"
      ],
      "text/plain": [
       "         Male  Female Stats  White Stats  Non White Stats         AML  \\\n",
       "0  199.000000    190.000000   265.000000       124.000000  371.000000   \n",
       "1    0.511568      0.488432     0.681234         0.318766    0.953728   \n",
       "2   54.000000     37.000000    69.000000        22.000000   85.000000   \n",
       "3    0.593407      0.406593     0.758242         0.241758    0.934066   \n",
       "4  253.000000    227.000000   334.000000       146.000000  456.000000   \n",
       "5    0.527083      0.472917     0.695833         0.304167    0.950000   \n",
       "\n",
       "     2nd AML   Cyt Stats  No Cyt Stats  Levo Stats  No Levo Stats  \\\n",
       "0  18.000000  283.000000     60.000000  142.000000     201.000000   \n",
       "1   0.046272    0.825073      0.174927    0.413994       0.586006   \n",
       "2   6.000000   79.000000      7.000000   21.000000      65.000000   \n",
       "3   0.065934    0.918605      0.081395    0.244186       0.755814   \n",
       "4  24.000000  362.000000     67.000000  163.000000     266.000000   \n",
       "5   0.050000    0.843823      0.156177    0.379953       0.620047   \n",
       "\n",
       "   Vanco Stats  No Vanco Stats  \n",
       "0   289.000000       54.000000  \n",
       "1     0.842566        0.157434  \n",
       "2    74.000000       12.000000  \n",
       "3     0.860465        0.139535  \n",
       "4   363.000000       66.000000  \n",
       "5     0.846154        0.153846  "
      ]
     },
     "execution_count": 78,
     "metadata": {},
     "output_type": "execute_result"
    }
   ],
   "source": [
    "df[\"Vanco Stats\"] = get_stats('vanco',1)\n",
    "df[\"No Vanco Stats\"] = get_stats('vanco',0)\n",
    "df"
   ]
  },
  {
   "cell_type": "code",
   "execution_count": 79,
   "id": "discrete-forum",
   "metadata": {},
   "outputs": [
    {
     "data": {
      "text/plain": [
       "BarnardExactResult(statistic=0.4113779434124534, pvalue=0.7036778892775385)"
      ]
     },
     "execution_count": 79,
     "metadata": {},
     "output_type": "execute_result"
    }
   ],
   "source": [
    "get_pval_b('vanco')"
   ]
  },
  {
   "cell_type": "markdown",
   "id": "reflected-emperor",
   "metadata": {},
   "source": [
    "# Table 1: Patient Demographics"
   ]
  },
  {
   "cell_type": "code",
   "execution_count": 80,
   "id": "suitable-accuracy",
   "metadata": {},
   "outputs": [],
   "source": [
    "import numpy as np\n",
    "import pandas as pd\n",
    "import seaborn as sns\n",
    "import math\n",
    "import statistics\n",
    "import numpy as np\n",
    "import scipy.stats as st"
   ]
  },
  {
   "cell_type": "markdown",
   "id": "confidential-pitch",
   "metadata": {},
   "source": [
    "### get_pd_pval()"
   ]
  },
  {
   "cell_type": "code",
   "execution_count": 81,
   "id": "surprising-watershed",
   "metadata": {},
   "outputs": [],
   "source": [
    "def get_pd_pval(field):\n",
    "    patients_field = patients.loc[:,[\"infection_present\",field]]\n",
    "    bsi_neg= patients_field[(patients_field[field]==0)]['infection_present']\n",
    "    bsi_pos = patients_field[(patients_field[field]==1)]['infection_present']\n",
    "    \n",
    "    tot_patients = stats.shapiro(patients_field[field])\n",
    "\n",
    "    if tot_patients.pvalue < alpha:\n",
    "        #mann whitney\n",
    "        res = stats.mannwhitneyu(bsi_neg,bsi_pos)\n",
    "    else:\n",
    "        #ttest\n",
    "        res = stats.ttest_ind(bsi_neg,bsi_pos)\n",
    "\n",
    "    return res"
   ]
  },
  {
   "cell_type": "code",
   "execution_count": 82,
   "id": "egyptian-replacement",
   "metadata": {},
   "outputs": [],
   "source": [
    "def get_pd_pval_b(field):\n",
    "    contingency_table = pd.crosstab(index=admissions['infection_present'], columns=admissions[field])\n",
    "    res = stats.barnard_exact([contingency_table[0],contingency_table[1]])\n",
    "    return res"
   ]
  },
  {
   "cell_type": "code",
   "execution_count": 83,
   "id": "rocky-perception",
   "metadata": {},
   "outputs": [],
   "source": [
    "def get_pd_pval_b2(field):\n",
    "    contingency_table = pd.crosstab(index=admissions['infection_present'], columns=admissions[field])\n",
    "    res = stats.boschloo_exact([contingency_table[0],contingency_table[1]])\n",
    "    return res"
   ]
  },
  {
   "cell_type": "markdown",
   "id": "judicial-attachment",
   "metadata": {},
   "source": [
    "### get_pd_pval_median() func"
   ]
  },
  {
   "cell_type": "code",
   "execution_count": 84,
   "id": "brazilian-swift",
   "metadata": {},
   "outputs": [],
   "source": [
    "def get_pd_pval_median(field):\n",
    "    result_tot_pat = stats.shapiro(patients[field])\n",
    "    if result_tot_pat.pvalue < alpha:\n",
    "        #mann whitney\n",
    "        tot_pat_res = stats.mannwhitneyu(neg_patients[field],pos_patients[field])\n",
    "    else:\n",
    "        #ttest\n",
    "        tot_pat_res = stats.ttest_ind(neg_patients[field],pos_patients[field],nan_policy='omit')\n",
    "\n",
    "    return tot_pat_res"
   ]
  },
  {
   "cell_type": "markdown",
   "id": "distinct-decision",
   "metadata": {},
   "source": [
    "### get_pd_stats()"
   ]
  },
  {
   "cell_type": "code",
   "execution_count": 85,
   "id": "centered-sitting",
   "metadata": {},
   "outputs": [],
   "source": [
    "def get_pd_stats(field, value):\n",
    "    print('Neg BSI')\n",
    "    print(len(neg_patients[neg_patients[field]==value]))\n",
    "    print(len(neg_patients[neg_patients[field]==value])/len(neg_patients))\n",
    "    print('Pos BSI')\n",
    "    print(len(pos_patients[pos_patients[field]==value]))\n",
    "    print(len(pos_patients[pos_patients[field]==value])/len(pos_patients))\n",
    "    print('Total')\n",
    "    print(len(patients[patients[field]==value]))\n",
    "    print(len(patients[patients[field]==value])/len(patients))"
   ]
  },
  {
   "cell_type": "code",
   "execution_count": 86,
   "id": "simple-lambda",
   "metadata": {},
   "outputs": [],
   "source": [
    "patients = pd.read_excel('data/patient_demographics_data.xlsx')"
   ]
  },
  {
   "cell_type": "code",
   "execution_count": 87,
   "id": "framed-preserve",
   "metadata": {},
   "outputs": [],
   "source": [
    "neg_patients = patients[patients['infection_present']==0]\n",
    "pos_patients = patients[patients['infection_present']==1]"
   ]
  },
  {
   "cell_type": "code",
   "execution_count": 88,
   "id": "decent-pharmacy",
   "metadata": {},
   "outputs": [
    {
     "data": {
      "text/plain": [
       "43"
      ]
     },
     "execution_count": 88,
     "metadata": {},
     "output_type": "execute_result"
    }
   ],
   "source": [
    "len(neg_patients)"
   ]
  },
  {
   "cell_type": "code",
   "execution_count": 89,
   "id": "explicit-commons",
   "metadata": {},
   "outputs": [
    {
     "data": {
      "text/plain": [
       "0.45263157894736844"
      ]
     },
     "execution_count": 89,
     "metadata": {},
     "output_type": "execute_result"
    }
   ],
   "source": [
    "len(neg_patients)/len(patients)"
   ]
  },
  {
   "cell_type": "code",
   "execution_count": 90,
   "id": "streaming-embassy",
   "metadata": {},
   "outputs": [
    {
     "data": {
      "text/plain": [
       "52"
      ]
     },
     "execution_count": 90,
     "metadata": {},
     "output_type": "execute_result"
    }
   ],
   "source": [
    "len(pos_patients)"
   ]
  },
  {
   "cell_type": "code",
   "execution_count": 91,
   "id": "fancy-there",
   "metadata": {},
   "outputs": [
    {
     "data": {
      "text/plain": [
       "0.5473684210526316"
      ]
     },
     "execution_count": 91,
     "metadata": {},
     "output_type": "execute_result"
    }
   ],
   "source": [
    "len(pos_patients)/len(patients)"
   ]
  },
  {
   "cell_type": "markdown",
   "id": "considered-storage",
   "metadata": {},
   "source": [
    "### Num Admissions"
   ]
  },
  {
   "cell_type": "code",
   "execution_count": 92,
   "id": "protected-lawyer",
   "metadata": {},
   "outputs": [
    {
     "data": {
      "text/plain": [
       "count    95.000000\n",
       "mean      5.052632\n",
       "std       2.438034\n",
       "min       1.000000\n",
       "25%       3.000000\n",
       "50%       5.000000\n",
       "75%       6.500000\n",
       "max      13.000000\n",
       "Name: num_admissions, dtype: float64"
      ]
     },
     "execution_count": 92,
     "metadata": {},
     "output_type": "execute_result"
    }
   ],
   "source": [
    "patients.num_admissions.describe()"
   ]
  },
  {
   "cell_type": "code",
   "execution_count": 93,
   "id": "corrected-association",
   "metadata": {},
   "outputs": [
    {
     "data": {
      "text/plain": [
       "(4.562372081128308, 5.542891076766428)"
      ]
     },
     "execution_count": 93,
     "metadata": {},
     "output_type": "execute_result"
    }
   ],
   "source": [
    "import scipy.stats as st\n",
    "st.norm.interval(alpha=0.95, loc=np.mean(patients.num_admissions), scale=st.sem(patients.num_admissions))"
   ]
  },
  {
   "cell_type": "code",
   "execution_count": 94,
   "id": "greatest-turkey",
   "metadata": {},
   "outputs": [
    {
     "data": {
      "text/plain": [
       "count    43.000000\n",
       "mean      4.069767\n",
       "std       2.175572\n",
       "min       1.000000\n",
       "25%       2.000000\n",
       "50%       4.000000\n",
       "75%       6.000000\n",
       "max       8.000000\n",
       "Name: num_admissions, dtype: float64"
      ]
     },
     "execution_count": 94,
     "metadata": {},
     "output_type": "execute_result"
    }
   ],
   "source": [
    "neg_patients.num_admissions.describe()"
   ]
  },
  {
   "cell_type": "code",
   "execution_count": 95,
   "id": "split-transport",
   "metadata": {},
   "outputs": [
    {
     "data": {
      "text/plain": [
       "(3.4195071314949783, 4.720027752225952)"
      ]
     },
     "execution_count": 95,
     "metadata": {},
     "output_type": "execute_result"
    }
   ],
   "source": [
    "import scipy.stats as st\n",
    "st.norm.interval(alpha=0.95, loc=np.mean(neg_patients.num_admissions), scale=st.sem(neg_patients.num_admissions))"
   ]
  },
  {
   "cell_type": "code",
   "execution_count": 96,
   "id": "bulgarian-syracuse",
   "metadata": {},
   "outputs": [
    {
     "data": {
      "text/plain": [
       "count    52.000000\n",
       "mean      5.865385\n",
       "std       2.360034\n",
       "min       1.000000\n",
       "25%       4.000000\n",
       "50%       6.000000\n",
       "75%       7.000000\n",
       "max      13.000000\n",
       "Name: num_admissions, dtype: float64"
      ]
     },
     "execution_count": 96,
     "metadata": {},
     "output_type": "execute_result"
    }
   ],
   "source": [
    "pos_patients.num_admissions.describe()"
   ]
  },
  {
   "cell_type": "code",
   "execution_count": 97,
   "id": "norwegian-housing",
   "metadata": {},
   "outputs": [
    {
     "data": {
      "text/plain": [
       "(5.223931958363363, 6.506837272405867)"
      ]
     },
     "execution_count": 97,
     "metadata": {},
     "output_type": "execute_result"
    }
   ],
   "source": [
    "st.norm.interval(alpha=0.95, loc=np.mean(pos_patients.num_admissions), scale=st.sem(pos_patients.num_admissions))"
   ]
  },
  {
   "cell_type": "markdown",
   "id": "intellectual-navigation",
   "metadata": {},
   "source": [
    "### Deaths"
   ]
  },
  {
   "cell_type": "code",
   "execution_count": 98,
   "id": "increasing-senate",
   "metadata": {},
   "outputs": [
    {
     "name": "stdout",
     "output_type": "stream",
     "text": [
      "36\n"
     ]
    },
    {
     "data": {
      "text/plain": [
       "0.37894736842105264"
      ]
     },
     "execution_count": 98,
     "metadata": {},
     "output_type": "execute_result"
    }
   ],
   "source": [
    "print(len(patients[patients.deceased == 1]))\n",
    "len(patients[patients.deceased == 1])/len(patients)"
   ]
  },
  {
   "cell_type": "code",
   "execution_count": 99,
   "id": "confident-ozone",
   "metadata": {},
   "outputs": [
    {
     "name": "stdout",
     "output_type": "stream",
     "text": [
      "18\n"
     ]
    },
    {
     "data": {
      "text/plain": [
       "0.4186046511627907"
      ]
     },
     "execution_count": 99,
     "metadata": {},
     "output_type": "execute_result"
    }
   ],
   "source": [
    "print(len(neg_patients[neg_patients.deceased == 1]))\n",
    "len(neg_patients[neg_patients.deceased == 1])/len(neg_patients)"
   ]
  },
  {
   "cell_type": "code",
   "execution_count": 100,
   "id": "wireless-shield",
   "metadata": {},
   "outputs": [
    {
     "name": "stdout",
     "output_type": "stream",
     "text": [
      "18\n"
     ]
    },
    {
     "data": {
      "text/plain": [
       "0.34615384615384615"
      ]
     },
     "execution_count": 100,
     "metadata": {},
     "output_type": "execute_result"
    }
   ],
   "source": [
    "print(len(pos_patients[pos_patients.deceased == 1]))\n",
    "len(pos_patients[pos_patients.deceased == 1])/len(pos_patients)"
   ]
  },
  {
   "cell_type": "code",
   "execution_count": 101,
   "id": "logical-hamilton",
   "metadata": {},
   "outputs": [
    {
     "data": {
      "text/plain": [
       "BarnardExactResult(statistic=-1.0711522458779001, pvalue=0.31788373689236454)"
      ]
     },
     "execution_count": 101,
     "metadata": {},
     "output_type": "execute_result"
    }
   ],
   "source": [
    "get_pd_pval_b('deceased')"
   ]
  },
  {
   "cell_type": "markdown",
   "id": "fewer-listening",
   "metadata": {},
   "source": [
    "### Sex"
   ]
  },
  {
   "cell_type": "code",
   "execution_count": 102,
   "id": "quick-albany",
   "metadata": {},
   "outputs": [
    {
     "name": "stderr",
     "output_type": "stream",
     "text": [
      "/usr/local/lib/python3.9/site-packages/pandas/core/indexing.py:1597: SettingWithCopyWarning: \n",
      "A value is trying to be set on a copy of a slice from a DataFrame.\n",
      "Try using .loc[row_indexer,col_indexer] = value instead\n",
      "\n",
      "See the caveats in the documentation: https://pandas.pydata.org/pandas-docs/stable/user_guide/indexing.html#returning-a-view-versus-a-copy\n",
      "  self.obj[key] = value\n",
      "/usr/local/lib/python3.9/site-packages/pandas/core/indexing.py:1676: SettingWithCopyWarning: \n",
      "A value is trying to be set on a copy of a slice from a DataFrame.\n",
      "Try using .loc[row_indexer,col_indexer] = value instead\n",
      "\n",
      "See the caveats in the documentation: https://pandas.pydata.org/pandas-docs/stable/user_guide/indexing.html#returning-a-view-versus-a-copy\n",
      "  self._setitem_single_column(ilocs[0], value, pi)\n"
     ]
    }
   ],
   "source": [
    "patients.loc[:,'male'] = patients['gender'].map({'M':1, 'F':0})\n",
    "neg_patients.loc[:,'male'] = neg_patients['gender'].map({'M':1, 'F':0})\n",
    "pos_patients.loc[:,'male'] = pos_patients['gender'].map({'M':1, 'F':0})"
   ]
  },
  {
   "cell_type": "code",
   "execution_count": 103,
   "id": "governmental-studio",
   "metadata": {},
   "outputs": [
    {
     "name": "stdout",
     "output_type": "stream",
     "text": [
      "Neg BSI\n",
      "20\n",
      "0.46511627906976744\n",
      "Pos BSI\n",
      "27\n",
      "0.5192307692307693\n",
      "Total\n",
      "47\n",
      "0.49473684210526314\n"
     ]
    }
   ],
   "source": [
    "get_pd_stats('male',1)"
   ]
  },
  {
   "cell_type": "code",
   "execution_count": 104,
   "id": "proud-facing",
   "metadata": {},
   "outputs": [
    {
     "name": "stdout",
     "output_type": "stream",
     "text": [
      "Neg BSI\n",
      "23\n",
      "0.5348837209302325\n",
      "Pos BSI\n",
      "25\n",
      "0.4807692307692308\n",
      "Total\n",
      "48\n",
      "0.5052631578947369\n"
     ]
    }
   ],
   "source": [
    "get_pd_stats('male',0)"
   ]
  },
  {
   "cell_type": "code",
   "execution_count": 105,
   "id": "entire-pakistan",
   "metadata": {},
   "outputs": [
    {
     "data": {
      "text/plain": [
       "BarnardExactResult(statistic=1.9537142885602183, pvalue=0.05279244824060565)"
      ]
     },
     "execution_count": 105,
     "metadata": {},
     "output_type": "execute_result"
    }
   ],
   "source": [
    "get_pd_pval_b('male')"
   ]
  },
  {
   "cell_type": "markdown",
   "id": "accessory-gambling",
   "metadata": {},
   "source": [
    "### Race"
   ]
  },
  {
   "cell_type": "code",
   "execution_count": 106,
   "id": "sticky-moisture",
   "metadata": {},
   "outputs": [
    {
     "name": "stdout",
     "output_type": "stream",
     "text": [
      "Neg BSI\n",
      "30\n",
      "0.6976744186046512\n",
      "Pos BSI\n",
      "39\n",
      "0.75\n",
      "Total\n",
      "69\n",
      "0.7263157894736842\n"
     ]
    }
   ],
   "source": [
    "get_pd_stats('white_caucasian',1)"
   ]
  },
  {
   "cell_type": "code",
   "execution_count": 107,
   "id": "applicable-investigation",
   "metadata": {},
   "outputs": [
    {
     "name": "stdout",
     "output_type": "stream",
     "text": [
      "Neg BSI\n",
      "13\n",
      "0.3023255813953488\n",
      "Pos BSI\n",
      "13\n",
      "0.25\n",
      "Total\n",
      "26\n",
      "0.2736842105263158\n"
     ]
    }
   ],
   "source": [
    "get_pd_stats('white_caucasian',0)"
   ]
  },
  {
   "cell_type": "code",
   "execution_count": 108,
   "id": "armed-addiction",
   "metadata": {},
   "outputs": [
    {
     "data": {
      "text/plain": [
       "BarnardExactResult(statistic=1.6232924267688968, pvalue=0.1089976559247995)"
      ]
     },
     "execution_count": 108,
     "metadata": {},
     "output_type": "execute_result"
    }
   ],
   "source": [
    "get_pd_pval_b('white_caucasian')"
   ]
  },
  {
   "cell_type": "markdown",
   "id": "structured-national",
   "metadata": {},
   "source": [
    "### Diganosis Age"
   ]
  },
  {
   "cell_type": "code",
   "execution_count": 109,
   "id": "strong-missile",
   "metadata": {},
   "outputs": [
    {
     "data": {
      "text/plain": [
       "count    43.000000\n",
       "mean      7.604842\n",
       "std       5.776675\n",
       "min       0.049315\n",
       "25%       1.749315\n",
       "50%       6.764384\n",
       "75%      12.382192\n",
       "max      18.509589\n",
       "Name: age_diagnosis, dtype: float64"
      ]
     },
     "execution_count": 109,
     "metadata": {},
     "output_type": "execute_result"
    }
   ],
   "source": [
    "neg_patients['age_diagnosis'].describe()"
   ]
  },
  {
   "cell_type": "code",
   "execution_count": 110,
   "id": "instrumental-cambridge",
   "metadata": {},
   "outputs": [
    {
     "data": {
      "text/plain": [
       "count    52.000000\n",
       "mean      8.060063\n",
       "std       5.622297\n",
       "min       0.342466\n",
       "25%       2.043836\n",
       "50%       8.857534\n",
       "75%      12.880822\n",
       "max      18.750685\n",
       "Name: age_diagnosis, dtype: float64"
      ]
     },
     "execution_count": 110,
     "metadata": {},
     "output_type": "execute_result"
    }
   ],
   "source": [
    "pos_patients['age_diagnosis'].describe()"
   ]
  },
  {
   "cell_type": "code",
   "execution_count": 111,
   "id": "widespread-pillow",
   "metadata": {},
   "outputs": [
    {
     "data": {
      "text/plain": [
       "count    95.000000\n",
       "mean      7.854016\n",
       "std       5.666754\n",
       "min       0.049315\n",
       "25%       1.868493\n",
       "50%       7.980822\n",
       "75%      13.016438\n",
       "max      18.750685\n",
       "Name: age_diagnosis, dtype: float64"
      ]
     },
     "execution_count": 111,
     "metadata": {},
     "output_type": "execute_result"
    }
   ],
   "source": [
    "patients['age_diagnosis'].describe()"
   ]
  },
  {
   "cell_type": "code",
   "execution_count": 112,
   "id": "international-success",
   "metadata": {},
   "outputs": [
    {
     "data": {
      "text/plain": [
       "MannwhitneyuResult(statistic=1058.0, pvalue=0.6564103927620106)"
      ]
     },
     "execution_count": 112,
     "metadata": {},
     "output_type": "execute_result"
    }
   ],
   "source": [
    "get_pd_pval_median('age_diagnosis')"
   ]
  },
  {
   "cell_type": "markdown",
   "id": "necessary-principle",
   "metadata": {},
   "source": [
    "### Age at 1st infection"
   ]
  },
  {
   "cell_type": "code",
   "execution_count": 113,
   "id": "cardiac-essex",
   "metadata": {},
   "outputs": [
    {
     "data": {
      "text/plain": [
       "count    52.000000\n",
       "mean      8.264808\n",
       "std       5.685857\n",
       "min       0.930000\n",
       "25%       2.057500\n",
       "50%       9.200000\n",
       "75%      13.412500\n",
       "max      19.220000\n",
       "Name: age_first_infection, dtype: float64"
      ]
     },
     "execution_count": 113,
     "metadata": {},
     "output_type": "execute_result"
    }
   ],
   "source": [
    "pos_patients['age_first_infection'].describe()"
   ]
  },
  {
   "cell_type": "markdown",
   "id": "unsigned-operation",
   "metadata": {},
   "source": [
    "### Diagnosis"
   ]
  },
  {
   "cell_type": "code",
   "execution_count": 114,
   "id": "geographic-bobby",
   "metadata": {},
   "outputs": [
    {
     "name": "stdout",
     "output_type": "stream",
     "text": [
      "Neg BSI\n",
      "37\n",
      "0.8604651162790697\n",
      "Pos BSI\n",
      "47\n",
      "0.9038461538461539\n",
      "Total\n",
      "84\n",
      "0.8842105263157894\n"
     ]
    }
   ],
   "source": [
    "get_pd_stats('AML_diag','AML')"
   ]
  },
  {
   "cell_type": "code",
   "execution_count": 115,
   "id": "valuable-ethiopia",
   "metadata": {},
   "outputs": [
    {
     "name": "stdout",
     "output_type": "stream",
     "text": [
      "Neg BSI\n",
      "6\n",
      "0.13953488372093023\n",
      "Pos BSI\n",
      "5\n",
      "0.09615384615384616\n",
      "Total\n",
      "11\n",
      "0.11578947368421053\n"
     ]
    }
   ],
   "source": [
    "get_pd_stats('AML_diag','2nd AML')"
   ]
  },
  {
   "cell_type": "code",
   "execution_count": 116,
   "id": "prescription-segment",
   "metadata": {},
   "outputs": [],
   "source": [
    "one_hot = pd.get_dummies(patients['AML_diag'])\n",
    "patients = patients.join(one_hot)"
   ]
  },
  {
   "cell_type": "code",
   "execution_count": 117,
   "id": "veterinary-fountain",
   "metadata": {},
   "outputs": [],
   "source": [
    "neg_patients = patients[patients['infection_present']==0]\n",
    "pos_patients = patients[patients['infection_present']==1]"
   ]
  },
  {
   "cell_type": "code",
   "execution_count": 118,
   "id": "expressed-museum",
   "metadata": {},
   "outputs": [
    {
     "data": {
      "text/plain": [
       "BarnardExactResult(statistic=-0.3224366026765867, pvalue=0.7708909715769282)"
      ]
     },
     "execution_count": 118,
     "metadata": {},
     "output_type": "execute_result"
    }
   ],
   "source": [
    "get_pd_pval_b('AML')"
   ]
  },
  {
   "cell_type": "markdown",
   "id": "integrated-seminar",
   "metadata": {},
   "source": [
    "# Table 5: Cyt >= 2000"
   ]
  },
  {
   "cell_type": "code",
   "execution_count": 119,
   "id": "fantastic-third",
   "metadata": {},
   "outputs": [
    {
     "data": {
      "text/plain": [
       "429"
      ]
     },
     "execution_count": 119,
     "metadata": {},
     "output_type": "execute_result"
    }
   ],
   "source": [
    "admissions = pd.read_excel('data/aml_data_8.16.23.xlsx')\n",
    "admissions.dropna(subset=['cytarabine'],inplace=True)\n",
    "len(admissions)"
   ]
  },
  {
   "cell_type": "code",
   "execution_count": 120,
   "id": "mounted-booking",
   "metadata": {},
   "outputs": [],
   "source": [
    "table5 = pd.DataFrame()"
   ]
  },
  {
   "cell_type": "code",
   "execution_count": 121,
   "id": "small-preview",
   "metadata": {},
   "outputs": [
    {
     "name": "stdout",
     "output_type": "stream",
     "text": [
      "There are 86 infection-positive admissions.\n",
      "Percentage pos 0.20046620046620048\n",
      "There are 47 patients that were infected.\n",
      "There are 343 infection-negative admissions.\n",
      "Percentage negative 0.7995337995337995\n"
     ]
    }
   ],
   "source": [
    "pos_ads = admissions[admissions['infection_present'] == 1]\n",
    "print('There are '+str(len(pos_ads))+' infection-positive admissions.')\n",
    "print('Percentage pos '+str(len(pos_ads)/len(admissions)) )\n",
    "print('There are '+str(len(pos_ads.MRN.unique()))+' patients that were infected.')\n",
    "#pos_ads.head()\n",
    "neg_ads = admissions[admissions['infection_present'] == 0]\n",
    "print('There are '+str(len(neg_ads))+' infection-negative admissions.')\n",
    "print('Percentage negative '+str(len(neg_ads)/len(admissions)) )\n",
    "#neg_ads.head()"
   ]
  },
  {
   "cell_type": "code",
   "execution_count": 122,
   "id": "uniform-mixture",
   "metadata": {},
   "outputs": [],
   "source": [
    "table5[\"no_cyt\"] = get_stats('cytarabine',0)"
   ]
  },
  {
   "cell_type": "code",
   "execution_count": 123,
   "id": "serious-residence",
   "metadata": {},
   "outputs": [
    {
     "data": {
      "text/plain": [
       "BarnardExactResult(statistic=2.136448233790324, pvalue=0.03361006406230964)"
      ]
     },
     "execution_count": 123,
     "metadata": {},
     "output_type": "execute_result"
    }
   ],
   "source": [
    "get_pval_b('cytarabine')"
   ]
  },
  {
   "cell_type": "code",
   "execution_count": 124,
   "id": "right-italy",
   "metadata": {},
   "outputs": [
    {
     "data": {
      "text/html": [
       "<div>\n",
       "<style scoped>\n",
       "    .dataframe tbody tr th:only-of-type {\n",
       "        vertical-align: middle;\n",
       "    }\n",
       "\n",
       "    .dataframe tbody tr th {\n",
       "        vertical-align: top;\n",
       "    }\n",
       "\n",
       "    .dataframe thead th {\n",
       "        text-align: right;\n",
       "    }\n",
       "</style>\n",
       "<table border=\"1\" class=\"dataframe\">\n",
       "  <thead>\n",
       "    <tr style=\"text-align: right;\">\n",
       "      <th></th>\n",
       "      <th>no_cyt</th>\n",
       "      <th>cyt_2000</th>\n",
       "      <th>cyt_less_2000</th>\n",
       "      <th>cyt1_1999</th>\n",
       "    </tr>\n",
       "  </thead>\n",
       "  <tbody>\n",
       "    <tr>\n",
       "      <th>0</th>\n",
       "      <td>60.000000</td>\n",
       "      <td>59.000000</td>\n",
       "      <td>284.000000</td>\n",
       "      <td>224.000000</td>\n",
       "    </tr>\n",
       "    <tr>\n",
       "      <th>1</th>\n",
       "      <td>0.174927</td>\n",
       "      <td>0.172012</td>\n",
       "      <td>0.827988</td>\n",
       "      <td>0.653061</td>\n",
       "    </tr>\n",
       "    <tr>\n",
       "      <th>2</th>\n",
       "      <td>7.000000</td>\n",
       "      <td>32.000000</td>\n",
       "      <td>54.000000</td>\n",
       "      <td>47.000000</td>\n",
       "    </tr>\n",
       "    <tr>\n",
       "      <th>3</th>\n",
       "      <td>0.081395</td>\n",
       "      <td>0.372093</td>\n",
       "      <td>0.627907</td>\n",
       "      <td>0.546512</td>\n",
       "    </tr>\n",
       "    <tr>\n",
       "      <th>4</th>\n",
       "      <td>67.000000</td>\n",
       "      <td>91.000000</td>\n",
       "      <td>338.000000</td>\n",
       "      <td>271.000000</td>\n",
       "    </tr>\n",
       "    <tr>\n",
       "      <th>5</th>\n",
       "      <td>0.156177</td>\n",
       "      <td>0.212121</td>\n",
       "      <td>0.787879</td>\n",
       "      <td>0.631702</td>\n",
       "    </tr>\n",
       "  </tbody>\n",
       "</table>\n",
       "</div>"
      ],
      "text/plain": [
       "      no_cyt   cyt_2000  cyt_less_2000   cyt1_1999\n",
       "0  60.000000  59.000000     284.000000  224.000000\n",
       "1   0.174927   0.172012       0.827988    0.653061\n",
       "2   7.000000  32.000000      54.000000   47.000000\n",
       "3   0.081395   0.372093       0.627907    0.546512\n",
       "4  67.000000  91.000000     338.000000  271.000000\n",
       "5   0.156177   0.212121       0.787879    0.631702"
      ]
     },
     "execution_count": 124,
     "metadata": {},
     "output_type": "execute_result"
    }
   ],
   "source": [
    "table5[\"cyt_2000\"] = get_stats('cyt_2000',1)\n",
    "table5[\"cyt_less_2000\"] = get_stats('cyt_2000',0)\n",
    "table5[\"cyt1_1999\"] = get_stats('cyt_1_1999',1)\n",
    "table5"
   ]
  },
  {
   "cell_type": "code",
   "execution_count": 125,
   "id": "fifth-funds",
   "metadata": {},
   "outputs": [
    {
     "data": {
      "text/plain": [
       "BarnardExactResult(statistic=4.058378226689207, pvalue=0.00021230167662919936)"
      ]
     },
     "execution_count": 125,
     "metadata": {},
     "output_type": "execute_result"
    }
   ],
   "source": [
    "get_pval_b('cyt_2000')"
   ]
  },
  {
   "cell_type": "code",
   "execution_count": 126,
   "id": "simplified-destruction",
   "metadata": {},
   "outputs": [
    {
     "data": {
      "text/plain": [
       "(18.06399917706291,\n",
       " 0.00011952325673110384,\n",
       " 2,\n",
       " array([[ 53.56876457, 216.67365967,  72.75757576],\n",
       "        [ 13.43123543,  54.32634033,  18.24242424]]))"
      ]
     },
     "execution_count": 126,
     "metadata": {},
     "output_type": "execute_result"
    }
   ],
   "source": [
    "contingency_table = [[60,224,59],[7,47,32]]\n",
    "res = stats.chi2_contingency([contingency_table[0],contingency_table[1]])\n",
    "res"
   ]
  }
 ],
 "metadata": {
  "kernelspec": {
   "display_name": "Python 3",
   "language": "python",
   "name": "python3"
  },
  "language_info": {
   "codemirror_mode": {
    "name": "ipython",
    "version": 3
   },
   "file_extension": ".py",
   "mimetype": "text/x-python",
   "name": "python",
   "nbconvert_exporter": "python",
   "pygments_lexer": "ipython3",
   "version": "3.9.13"
  }
 },
 "nbformat": 4,
 "nbformat_minor": 5
}
