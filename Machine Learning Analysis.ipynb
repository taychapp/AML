{
 "cells": [
  {
   "cell_type": "markdown",
   "id": "necessary-orchestra",
   "metadata": {},
   "source": [
    "<center>\n",
    "    <h1><u>AML Infections Machine Learning Analysis</u></h1>\n",
    "</center>"
   ]
  },
  {
   "cell_type": "code",
   "execution_count": null,
   "id": "fuzzy-presentation",
   "metadata": {},
   "outputs": [],
   "source": [
    "#run once\n",
    "#pip install openpyxl\n",
    "#pip install lifelines"
   ]
  },
  {
   "cell_type": "code",
   "execution_count": 1,
   "id": "vocal-smile",
   "metadata": {},
   "outputs": [
    {
     "name": "stdout",
     "output_type": "stream",
     "text": [
      "There are 423 total admissions.\n",
      "There are 338 infection-negative admissions.\n"
     ]
    }
   ],
   "source": [
    "import numpy as np\n",
    "import pandas as pd\n",
    "from scipy import stats\n",
    "import matplotlib.pyplot as plt\n",
    "from matplotlib.pyplot import plot, show, savefig, xlim, figure, \\\n",
    "                ylim, legend, boxplot, setp, axes\n",
    "%matplotlib inline\n",
    "import statsmodels.api as sm\n",
    "\n",
    "admissions = pd.read_excel('data/aml_data_8.16.23.xlsx')\n",
    "admissions.dropna(subset=['Cytarabine mg/m2/day'],inplace=True)\n",
    "ads_cv = pd.get_dummies(admissions['CV_line'], drop_first = True)\n",
    "cvs = ads_cv.columns\n",
    "admissions = pd.concat([admissions, ads_cv], axis=1)\n",
    "admissions['male'] = admissions['gender'].map({'M':1, 'F':0})\n",
    "\n",
    "admissions.first_bmi_kg_m2 = admissions.first_bmi_kg_m2.replace(np.nan,admissions.first_bmi_kg_m2.median())\n",
    "admissions.dropna(subset=['lowest_neutrophil'],inplace=True)\n",
    "admissions.dropna(subset=['lowest_platelet'],inplace=True)\n",
    "admissions.dropna(subset=['lowest_hemoglobin'],inplace=True)\n",
    "admissions.dropna(subset=['lowest_monocytes'],inplace=True)\n",
    "admissions.reset_index(inplace=True)\n",
    "print('There are '+str(len(admissions))+' total admissions.')\n",
    "neg_ads = admissions[admissions['infection_present'] == 0]\n",
    "print('There are '+str(len(neg_ads))+' infection-negative admissions.')"
   ]
  },
  {
   "cell_type": "markdown",
   "id": "elect-living",
   "metadata": {},
   "source": [
    "# Baseline Fever and Baseline ANC models"
   ]
  },
  {
   "cell_type": "code",
   "execution_count": 2,
   "id": "dangerous-aaron",
   "metadata": {},
   "outputs": [
    {
     "name": "stdout",
     "output_type": "stream",
     "text": [
      "              precision    recall  f1-score   support\n",
      "\n",
      "           0       0.96      0.38      0.55       338\n",
      "           1       0.27      0.93      0.42        85\n",
      "\n",
      "    accuracy                           0.49       423\n",
      "   macro avg       0.61      0.66      0.48       423\n",
      "weighted avg       0.82      0.49      0.52       423\n",
      "\n"
     ]
    }
   ],
   "source": [
    "# Baseline fever model\n",
    "# (0, recall) is specificity/TNR. FPR = 1-0.38 = 0.62\n",
    "# (1, recall) is sensitivity/TPR = 0.93\n",
    "from sklearn.metrics import classification_report\n",
    "fevers = admissions['max_temp_38.5']\n",
    "infections = admissions['infection_present']\n",
    "print(classification_report(infections,fevers))"
   ]
  },
  {
   "cell_type": "code",
   "execution_count": 3,
   "id": "sporting-custom",
   "metadata": {},
   "outputs": [
    {
     "name": "stdout",
     "output_type": "stream",
     "text": [
      "              precision    recall  f1-score   support\n",
      "\n",
      "           0       0.95      0.16      0.27       338\n",
      "           1       0.22      0.96      0.36        85\n",
      "\n",
      "    accuracy                           0.32       423\n",
      "   macro avg       0.59      0.56      0.32       423\n",
      "weighted avg       0.80      0.32      0.29       423\n",
      "\n"
     ]
    }
   ],
   "source": [
    "# Baseline ANC model\n",
    "anc = admissions['neutropenia']\n",
    "infections = admissions['infection_present']\n",
    "print(classification_report(infections,anc))"
   ]
  },
  {
   "cell_type": "markdown",
   "id": "combined-japanese",
   "metadata": {},
   "source": [
    "# Machine Learning Models"
   ]
  },
  {
   "cell_type": "code",
   "execution_count": 4,
   "id": "controversial-modification",
   "metadata": {},
   "outputs": [],
   "source": [
    "from sklearn.linear_model import LogisticRegression\n",
    "from sklearn.neighbors import KNeighborsClassifier\n",
    "from sklearn.ensemble import RandomForestClassifier\n",
    "\n",
    "from sklearn.model_selection import train_test_split\n",
    "from sklearn.model_selection import LeaveOneOut\n",
    "from sklearn.metrics import roc_auc_score, roc_curve\n",
    "from sklearn.preprocessing import StandardScaler\n",
    "from sklearn import ensemble\n",
    "from sklearn import model_selection\n",
    "\n",
    "featureset = ['age','white_caucasian','first_bmi_kg_m2','lowest_neutrophil','lowest_platelet',\n",
    "        'max_temp_38.5','Cytarabine mg/m2/day','levo','lowest_hemoglobin','lowest_monocytes',\n",
    "        'Other', 'Port','male',\n",
    "        'infection_present']\n",
    "ads_CART = admissions[featureset]\n",
    "X = ads_CART.drop(['infection_present'],axis=1)\n",
    "scaler = StandardScaler()\n",
    "X_normalized = pd.DataFrame(scaler.fit_transform(X))\n",
    "y = ads_CART['infection_present']"
   ]
  },
  {
   "cell_type": "markdown",
   "id": "expressed-invite",
   "metadata": {},
   "source": [
    "#### Load results from 3/8/2024"
   ]
  },
  {
   "cell_type": "code",
   "execution_count": null,
   "id": "latter-pennsylvania",
   "metadata": {},
   "outputs": [],
   "source": [
    "import pickle\n",
    "with open('output/logreg_preds.pickle', 'rb') as handle:\n",
    "    all_logreg_preds_2 = pickle.load(handle)\n",
    "with open('output/knn_preds.pickle', 'rb') as handle:\n",
    "    all_knn_preds = pickle.load(handle)\n",
    "with open('output/rf_preds.pickle', 'rb') as handle:\n",
    "    all_rf_preds = pickle.load(handle)\n",
    "with open('output/y_tests.pickle', 'rb') as handle:\n",
    "    all_y_tests = pickle.load(handle)\n",
    "with open('output/scaler.pickle', 'rb') as handle:\n",
    "    scaler = pickle.load(handle)"
   ]
  },
  {
   "cell_type": "markdown",
   "id": "prime-serve",
   "metadata": {},
   "source": [
    "## Logistic Regression"
   ]
  },
  {
   "cell_type": "code",
   "execution_count": null,
   "id": "presidential-design",
   "metadata": {},
   "outputs": [],
   "source": [
    "# generating parameter grid\n",
    "lr_params_2 = {'C':[0.0001,0.0005,0.001,0.005,0.01,0.05,0.1,0.5,1],'penalty':['l2'],'class_weight':[None],'solver':['liblinear']}\n",
    "lr_grid_2 = model_selection.ParameterGrid(lr_params_2)\n",
    "\n",
    "loo = LeaveOneOut()\n",
    "\n",
    "all_logreg_preds_2 = []\n",
    "all_y_tests = []\n",
    "\n",
    "# iterate over grid and fit/score model with the varying hyperparameters\n",
    "for param in lr_grid_2:\n",
    "#     print(param)\n",
    "    lr_clf = LogisticRegression(**param)  # unpacking param which is a dictionary\n",
    "    logreg_preds = []\n",
    "    y_tests = []\n",
    "    \n",
    "    for train_index, test_index in loo.split(X_normalized):\n",
    "        X_train, X_test = X_normalized.loc[train_index], X_normalized.loc[test_index]\n",
    "        y_train, y_test = y[train_index], y[test_index]\n",
    "        y_tests.append(y_test.iloc[0])\n",
    "        \n",
    "        lr_clf.fit(X_train, y_train)\n",
    "        logreg_preds.append(lr_clf.predict_proba(X_test).T[1][0])\n",
    "        \n",
    "    all_logreg_preds_2.append(logreg_preds)\n",
    "    all_y_tests.append(y_tests)"
   ]
  },
  {
   "cell_type": "code",
   "execution_count": null,
   "id": "diagnostic-father",
   "metadata": {},
   "outputs": [],
   "source": [
    "# 4 {'C': 0.01, 'class_weight': None, 'penalty': 'l2', 'solver': 'liblinear'}\n",
    "# AUC:  0.7476505395057432\n",
    "# TPR close to Fever TPR 0.93:  0.9294117647058824\n",
    "# FPR when TPR=0.93:  0.606508875739645\n",
    "# TPR close to Fever FPR 0.62:  0.9411764705882353\n",
    "# FPR when FPR=0.62:  0.6124260355029586\n",
    "\n",
    "counter = -1\n",
    "for param in lr_grid_2:\n",
    "    counter += 1\n",
    "    print(counter, param)\n",
    "\n",
    "    fpr1, tpr1, thresh1 = roc_curve(all_y_tests[counter], all_logreg_preds_2[counter])\n",
    "    auc1= roc_auc_score(all_y_tests[counter], all_logreg_preds_2[counter])\n",
    "    \n",
    "    print('AUC: ', auc1)\n",
    "    print('TPR close to Fever TPR 0.93: ', tpr1[next(x[0] for x in enumerate(tpr1) if x[1] >= 0.929)])\n",
    "    print('FPR when TPR=0.93: ',fpr1[next(x[0] for x in enumerate(tpr1) if x[1] >= 0.929)])\n",
    "\n",
    "    rev_tpr1 = np.flip(tpr1)\n",
    "    rev_fpr1 = np.flip(fpr1)\n",
    "    print('TPR close to Fever FPR 0.62: ', rev_tpr1[next(x[0] for x in enumerate(rev_fpr1) if x[1] <= 0.62)]) \n",
    "    print('FPR when FPR=0.62: ', rev_fpr1[next(x[0] for x in enumerate(rev_fpr1) if x[1] <= 0.62)])    \n",
    "\n",
    "    fig = plt.figure(figsize=(10, 6))\n",
    "    font = {'family' : 'normal',\n",
    "            'weight' : 'normal',\n",
    "            'size'   : 14}\n",
    "    plt.rc('font', **font)\n",
    "    plt.plot([0, 1], [0, 1], linestyle='--')\n",
    "    plt.plot(0.62,0.93,'o', label='Fever')\n",
    "    plt.plot(0.84,0.96,'o', label='Neutropenia')\n",
    "    plt.plot(fpr1, tpr1, label='Logistic regression (AUC = %0.3f)' % auc1)\n",
    "    plt.xlim([0.0, 1.0])\n",
    "    plt.ylim([0.0, 1.0])\n",
    "    plt.xlabel('False Positive Rate')\n",
    "    plt.ylabel('True Positive Rate')\n",
    "    plt.legend(loc='lower right');\n",
    "    plt.show()"
   ]
  },
  {
   "cell_type": "code",
   "execution_count": null,
   "id": "annual-christmas",
   "metadata": {},
   "outputs": [],
   "source": [
    "import matplotlib.pyplot as plt\n",
    "%matplotlib inline\n",
    "import seaborn as sns\n",
    "lr_preds = all_logreg_preds_2[4]\n",
    "lr_preds_mean = sum(all_logreg_preds_2[4])/len(all_logreg_preds_2[4])\n",
    "plt = sns.histplot(data=lr_preds)\n",
    "plt.axvline(lr_preds_mean, color='k', lw=2)\n",
    "plt.axvline(np.median(np.array(lr_preds)), color='k', ls='--', lw=2)\n",
    "plt.set_xlabel(\"BSI Predicted Probability\")\n",
    "fig = plt.get_figure()\n",
    "# fig.savefig(\"output/pred_hist.png\")"
   ]
  },
  {
   "cell_type": "markdown",
   "id": "immediate-authentication",
   "metadata": {},
   "source": [
    "## Random Forest"
   ]
  },
  {
   "cell_type": "code",
   "execution_count": null,
   "id": "actual-lotus",
   "metadata": {},
   "outputs": [],
   "source": [
    "rf_params = {'n_estimators':[250],'max_depth':[1,2,5,8,10]}\n",
    "rf_grid = model_selection.ParameterGrid(rf_params)\n",
    "loo = LeaveOneOut()\n",
    "\n",
    "all_rf_preds = []\n",
    "all_y_rf_tests = []\n",
    "\n",
    "for param in rf_grid:\n",
    "    print(param)\n",
    "    rf_clf = RandomForestClassifier(**param)\n",
    "    rf_preds = []\n",
    "    feat_imp = []\n",
    "    y_tests = []\n",
    "    for train_index, test_index in loo.split(X_normalized):\n",
    "        X_train, X_test = X_normalized.loc[train_index], X_normalized.loc[test_index]\n",
    "        y_train, y_test = y[train_index], y[test_index]\n",
    "        y_tests.append(y_test.iloc[0])\n",
    "        \n",
    "        rf_clf.fit(X_train, y_train)\n",
    "        rf_preds.append(rf_clf.predict_proba(X_test).T[1][0])\n",
    "        \n",
    "    all_rf_preds.append(rf_preds)\n",
    "    all_y_rf_tests.append(y_tests)"
   ]
  },
  {
   "cell_type": "code",
   "execution_count": null,
   "id": "structural-vacuum",
   "metadata": {},
   "outputs": [],
   "source": [
    "# Best: 1 {'max_depth': 2, 'n_estimators': 250}\n",
    "# AUC:  0.7388096066829098\n",
    "# TPR close to Fever TPR 0.93:  0.9294117647058824\n",
    "# FPR when TPR=0.93:  0.7071005917159763\n",
    "# TPR close to Fever FPR 0.62:  0.8823529411764706\n",
    "# FPR when FPR=0.62:  0.6035502958579881\n",
    "counter = -1\n",
    "for param in rf_grid:\n",
    "    counter += 1\n",
    "    print(counter, param)\n",
    "\n",
    "    fpr3, tpr3, thresh3 = roc_curve(all_y_tests[counter], all_rf_preds[counter])\n",
    "    auc3= roc_auc_score(all_y_tests[counter], all_rf_preds[counter])\n",
    "    \n",
    "    print('AUC: ', auc3)\n",
    "    print('TPR close to Fever TPR 0.93: ', tpr3[next(x[0] for x in enumerate(tpr3) if x[1] >= 0.929)])\n",
    "    print('FPR when TPR=0.93: ',fpr3[next(x[0] for x in enumerate(tpr3) if x[1] >= 0.929)])\n",
    "    \n",
    "    rev_tpr3 = np.flip(tpr3)\n",
    "    rev_fpr3 = np.flip(fpr3)\n",
    "    print('TPR close to Fever FPR 0.62: ', rev_tpr3[next(x[0] for x in enumerate(rev_fpr3) if x[1] <= 0.62)]) \n",
    "    print('FPR when FPR=0.62: ', rev_fpr3[next(x[0] for x in enumerate(rev_fpr3) if x[1] <= 0.62)])    \n",
    "    \n",
    "#     fig = plt.figure(figsize=(10, 6))\n",
    "#     font = {'family' : 'normal',\n",
    "#             'weight' : 'normal',\n",
    "#             'size'   : 14}\n",
    "#     plt.rc('font', **font)\n",
    "#     plt.plot([0, 1], [0, 1], linestyle='--')\n",
    "#     plt.plot(0.62,0.93,'o', label='Fever')\n",
    "#     plt.plot(0.84,0.96,'o', label='Neutropenia')\n",
    "#     plt.plot(fpr1, tpr1, label='Random Forest (AUC = %0.3f)' % auc3)\n",
    "#     plt.xlim([0.0, 1.0])\n",
    "#     plt.ylim([0.0, 1.0])\n",
    "#     plt.xlabel('False Positive Rate')\n",
    "#     plt.ylabel('True Positive Rate')\n",
    "#     plt.legend(loc='lower right');\n",
    "#     plt.show()\n",
    "    print()"
   ]
  },
  {
   "cell_type": "markdown",
   "id": "noble-aberdeen",
   "metadata": {},
   "source": [
    "## KNN"
   ]
  },
  {
   "cell_type": "code",
   "execution_count": null,
   "id": "behavioral-fairy",
   "metadata": {},
   "outputs": [],
   "source": [
    "knn_params = {'n_neighbors':[5,10,25,50,100],'weights':['uniform','distance']}\n",
    "knn_grid = model_selection.ParameterGrid(knn_params)\n",
    "loo = LeaveOneOut()\n",
    "\n",
    "all_knn_preds = []\n",
    "all_y_knn_tests = []\n",
    "\n",
    "for param in knn_grid:\n",
    "    print(param)\n",
    "    knn_clf = KNeighborsClassifier(**param)\n",
    "    knn_preds = []\n",
    "    y_tests = []\n",
    "    for train_index, test_index in loo.split(X_normalized):\n",
    "        X_train, X_test = X_normalized.loc[train_index], X_normalized.loc[test_index]\n",
    "        y_train, y_test = y[train_index], y[test_index]\n",
    "        y_tests.append(y_test.iloc[0])\n",
    "        \n",
    "        knn_clf.fit(X_train, y_train)\n",
    "        knn_preds.append(knn_clf.predict_proba(X_test).T[1][0])\n",
    "        \n",
    "    all_knn_preds.append(knn_preds)\n",
    "    all_y_knn_tests.append(y_tests)"
   ]
  },
  {
   "cell_type": "code",
   "execution_count": null,
   "id": "empirical-austin",
   "metadata": {},
   "outputs": [],
   "source": [
    "# Best: 6 {'n_neighbors': 50, 'weights': 'uniform'}\n",
    "# AUC:  0.7123738252697528\n",
    "# TPR close to Fever TPR 0.93:  0.9411764705882353\n",
    "# FPR when TPR=0.93:  0.7366863905325444\n",
    "# TPR close to Fever FPR 0.62:  0.8588235294117647\n",
    "# FPR when FPR=0.62:  0.606508875739645\n",
    "counter = -1\n",
    "for param in knn_grid:\n",
    "    counter += 1\n",
    "    print(counter, param)\n",
    "\n",
    "    fpr2, tpr2, thresh2 = roc_curve(all_y_tests[counter], all_knn_preds[counter])\n",
    "    auc2= roc_auc_score(all_y_tests[counter], all_knn_preds[counter])\n",
    "    \n",
    "    print('AUC: ', auc2)\n",
    "    print('TPR close to Fever TPR 0.93: ', tpr2[next(x[0] for x in enumerate(tpr2) if x[1] >= 0.929)])\n",
    "    print('FPR when TPR=0.93: ',fpr2[next(x[0] for x in enumerate(tpr2) if x[1] >= 0.929)])\n",
    "    \n",
    "    rev_tpr2 = np.flip(tpr2)\n",
    "    rev_fpr2 = np.flip(fpr2)\n",
    "    print('TPR close to Fever FPR 0.62: ', rev_tpr2[next(x[0] for x in enumerate(rev_fpr2) if x[1] <= 0.62)]) \n",
    "    print('FPR when FPR=0.62: ', rev_fpr2[next(x[0] for x in enumerate(rev_fpr2) if x[1] <= 0.62)])    \n",
    "    \n",
    "#     fig = plt.figure(figsize=(10, 6))\n",
    "#     font = {'family' : 'normal',\n",
    "#             'weight' : 'normal',\n",
    "#             'size'   : 14}\n",
    "#     plt.rc('font', **font)\n",
    "#     plt.plot([0, 1], [0, 1], linestyle='--')\n",
    "#     plt.plot(0.62,0.93,'o', label='Fever')\n",
    "#     plt.plot(0.84,0.96,'o', label='Neutropenia')\n",
    "#     plt.plot(fpr1, tpr1, label='KNN (AUC = %0.3f)' % auc2)\n",
    "#     plt.xlim([0.0, 1.0])\n",
    "#     plt.ylim([0.0, 1.0])\n",
    "#     plt.xlabel('False Positive Rate')\n",
    "#     plt.ylabel('True Positive Rate')\n",
    "#     plt.legend(loc='lower right');\n",
    "#     plt.show()\n",
    "    print()"
   ]
  },
  {
   "cell_type": "code",
   "execution_count": null,
   "id": "above-disorder",
   "metadata": {},
   "outputs": [],
   "source": [
    "# Saving our lists/findings\n",
    "import pickle\n",
    "with open('output/logreg_preds.pickle', 'wb') as handle:\n",
    "    pickle.dump(all_logreg_preds_2, handle, protocol=pickle.HIGHEST_PROTOCOL)\n",
    "with open('output/knn_preds.pickle', 'wb') as handle:\n",
    "    pickle.dump(all_knn_preds, handle, protocol=pickle.HIGHEST_PROTOCOL)\n",
    "with open('output/rf_preds.pickle', 'wb') as handle:\n",
    "    pickle.dump(all_rf_preds, handle, protocol=pickle.HIGHEST_PROTOCOL)\n",
    "with open('output/y_tests.pickle', 'wb') as handle:\n",
    "    pickle.dump(all_y_tests, handle, protocol=pickle.HIGHEST_PROTOCOL)\n",
    "with open('output/scaler.pickle', 'wb') as handle:\n",
    "    pickle.dump(scaler, handle, protocol=pickle.HIGHEST_PROTOCOL)"
   ]
  },
  {
   "cell_type": "markdown",
   "id": "imperial-election",
   "metadata": {},
   "source": [
    "## Analyzing Results"
   ]
  },
  {
   "cell_type": "code",
   "execution_count": 5,
   "id": "million-marshall",
   "metadata": {},
   "outputs": [],
   "source": [
    "import pickle\n",
    "with open('output/logreg_preds.pickle', 'rb') as handle:\n",
    "    all_logreg_preds_2 = pickle.load(handle)\n",
    "with open('output/knn_preds.pickle', 'rb') as handle:\n",
    "    all_knn_preds = pickle.load(handle)\n",
    "with open('output/rf_preds.pickle', 'rb') as handle:\n",
    "    all_rf_preds = pickle.load(handle)\n",
    "with open('output/y_tests.pickle', 'rb') as handle:\n",
    "    all_y_tests = pickle.load(handle)\n",
    "with open('output/scaler.pickle', 'rb') as handle:\n",
    "    scaler = pickle.load(handle)"
   ]
  },
  {
   "cell_type": "code",
   "execution_count": 7,
   "id": "adjusted-geography",
   "metadata": {},
   "outputs": [
    {
     "data": {
      "image/png": "[encoded data removed]",
      "text/plain": [
       "<Figure size 720x432 with 1 Axes>"
      ]
     },
     "metadata": {
      "needs_background": "light"
     },
     "output_type": "display_data"
    }
   ],
   "source": [
    "fpr1, tpr1, thresh1 = roc_curve(all_y_tests[4], all_logreg_preds_2[4])\n",
    "auc1= roc_auc_score(all_y_tests[4], all_logreg_preds_2[4])\n",
    "\n",
    "fpr2, tpr2, thresh2 = roc_curve(all_y_tests[6], all_knn_preds[6])\n",
    "auc2= roc_auc_score(all_y_tests[6], all_knn_preds[6])\n",
    "\n",
    "fpr3, tpr3, thresh3 = roc_curve(all_y_tests[1], all_rf_preds[1])\n",
    "auc3= roc_auc_score(all_y_tests[1], all_rf_preds[1])\n",
    "\n",
    "fig = plt.figure(figsize=(10, 6))\n",
    "font = {'family' : 'normal',\n",
    "        'weight' : 'normal',\n",
    "        'size'   : 14}\n",
    "plt.rc('font', **font)\n",
    "plt.plot([0, 1], [0, 1], linestyle='--')\n",
    "plt.plot(0.62,0.93,'o', label='Fever')\n",
    "plt.plot(0.84,0.96,'o', label='Neutropenia')\n",
    "plt.plot(fpr1, tpr1, label='Logistic regression (AUC = %0.3f)' % auc1)\n",
    "plt.plot(fpr2, tpr2, label='KNN (AUC = %0.3f)' % auc2)\n",
    "plt.plot(fpr3, tpr3, label='Random Forest (AUC = %0.3f)' % auc3)\n",
    "plt.xlim([0.0, 1.0])\n",
    "plt.ylim([0.0, 1.0])\n",
    "plt.xlabel('False Positive Rate')\n",
    "plt.ylabel('True Positive Rate')\n",
    "plt.legend(loc='lower right');\n",
    "plt.show()\n",
    "# fig.savefig('output/best_models_5.5.24.png',bbox_inches='tight')"
   ]
  },
  {
   "cell_type": "markdown",
   "id": "bibliographic-republican",
   "metadata": {},
   "source": [
    "### Zooming in on our best model -- regularized logistic regression"
   ]
  },
  {
   "cell_type": "code",
   "execution_count": 8,
   "id": "abandoned-monkey",
   "metadata": {},
   "outputs": [
    {
     "data": {
      "image/png": "[encoded data removed]",
      "text/plain": [
       "<Figure size 720x432 with 1 Axes>"
      ]
     },
     "metadata": {
      "needs_background": "light"
     },
     "output_type": "display_data"
    }
   ],
   "source": [
    "fpr1, tpr1, thresh1 = roc_curve(all_y_tests[4], all_logreg_preds_2[4])\n",
    "auc1= roc_auc_score(all_y_tests[4], all_logreg_preds_2[4])\n",
    "\n",
    "fig = plt.figure(figsize=(10, 6))\n",
    "font = {'family' : 'normal',\n",
    "        'weight' : 'normal',\n",
    "        'size'   : 14}\n",
    "plt.rc('font', **font)\n",
    "plt.plot([0, 1], [0, 1], linestyle='--')\n",
    "plt.plot(0.62,0.93,'o', label='Fever')\n",
    "plt.plot(0.84,0.96,'o', label='Neutropenia')\n",
    "plt.plot(fpr1, tpr1, label='Logistic regression (AUC = %0.3f)' % auc1)\n",
    "plt.xlim([0.0, 1.0])\n",
    "plt.ylim([0.0, 1.0])\n",
    "plt.xlabel('False Positive Rate')\n",
    "plt.ylabel('True Positive Rate')\n",
    "plt.legend(loc='lower right');\n",
    "plt.show()\n",
    "# fig.savefig('output/best_model_3.8.24.png',bbox_inches='tight')"
   ]
  },
  {
   "cell_type": "code",
   "execution_count": 9,
   "id": "particular-little",
   "metadata": {},
   "outputs": [
    {
     "data": {
      "image/png": "[encoded data removed]",
      "text/plain": [
       "<Figure size 720x432 with 1 Axes>"
      ]
     },
     "metadata": {
      "needs_background": "light"
     },
     "output_type": "display_data"
    }
   ],
   "source": [
    "# 4 {'C': 0.01, 'class_weight': None, 'penalty': 'l2', 'solver': 'liblinear'}\n",
    "fpr1, tpr1, thresh1 = roc_curve(all_y_tests[4], all_logreg_preds_2[4])\n",
    "auc1= roc_auc_score(all_y_tests[4], all_logreg_preds_2[4])\n",
    "fig = plt.figure(figsize=(10, 6))\n",
    "font = {'family' : 'normal',\n",
    "        'weight' : 'normal',\n",
    "        'size'   : 14}\n",
    "plt.rc('font', **font)\n",
    "plt.plot(0.62,0.93,'o', label='Fever')\n",
    "plt.plot(0.84,0.96,'o', label='Neutropenia')\n",
    "plt.plot(fpr1[110:125], tpr1[110:125], 'x--g', label='Logistic regression (AUC = %0.3f)' % auc1)\n",
    "plt.xlabel('False Positive Rate')\n",
    "plt.ylabel('True Positive Rate')\n",
    "plt.legend(loc='lower right');\n",
    "plt.show()\n",
    "# fig.savefig('output/best_model_zoomedin_3.8.24.png',bbox_inches='tight')"
   ]
  },
  {
   "cell_type": "code",
   "execution_count": 10,
   "id": "massive-economics",
   "metadata": {},
   "outputs": [
    {
     "name": "stdout",
     "output_type": "stream",
     "text": [
      "0.9294117647058824 0.606508875739645\n",
      "0.9411764705882353 0.6124260355029586\n",
      "0.9411764705882353 0.650887573964497\n"
     ]
    }
   ],
   "source": [
    "print(tpr1[113],fpr1[113]) # same tpr, lower fpr\n",
    "# print(tpr1[114],fpr1[114])\n",
    "print(tpr1[115],fpr1[115]) # same/slightly lower fpr and higher tpr\n",
    "print(tpr1[116],fpr1[116])"
   ]
  },
  {
   "cell_type": "markdown",
   "id": "broad-reproduction",
   "metadata": {},
   "source": [
    "### Finding the most important features in the best random forest model"
   ]
  },
  {
   "cell_type": "code",
   "execution_count": 11,
   "id": "arranged-weather",
   "metadata": {},
   "outputs": [
    {
     "data": {
      "text/plain": [
       "array([0.06623489, 0.00453827, 0.06170174, 0.15339292, 0.07936694,\n",
       "       0.20749406, 0.23318204, 0.03370463, 0.03318358, 0.11006361,\n",
       "       0.00785769, 0.00666976, 0.00260986])"
      ]
     },
     "execution_count": 11,
     "metadata": {},
     "output_type": "execute_result"
    }
   ],
   "source": [
    "rf = RandomForestClassifier(max_depth=2, n_estimators=250)\n",
    "rf.fit(X_normalized,y)\n",
    "rf.feature_importances_"
   ]
  },
  {
   "cell_type": "code",
   "execution_count": null,
   "id": "liked-millennium",
   "metadata": {},
   "outputs": [],
   "source": [
    "featureset = ['age','white_caucasian','first_bmi_kg_m2','lowest_neutrophil','lowest_platelet',\n",
    "        'max_temp_38.5','Cytarabine mg/m2/day','levo','lowest_hemoglobin','lowest_monocytes',\n",
    "        'Other', 'Port','male',\n",
    "        'infection_present']\n",
    "# max_temp_28.5, lowest_neutrophil, Cytarabine mg/m2/day, lowest_monocytes, first_bmi_kg_m2\n",
    "# lowest_platelet"
   ]
  },
  {
   "cell_type": "markdown",
   "id": "automated-purchase",
   "metadata": {},
   "source": [
    "### Comparing our best model to fever model using confusion matrices"
   ]
  },
  {
   "cell_type": "code",
   "execution_count": 12,
   "id": "artificial-wagner",
   "metadata": {},
   "outputs": [
    {
     "name": "stdout",
     "output_type": "stream",
     "text": [
      "              precision    recall  f1-score   support\n",
      "\n",
      "           0       0.96      0.38      0.55       338\n",
      "           1       0.27      0.93      0.42        85\n",
      "\n",
      "    accuracy                           0.49       423\n",
      "   macro avg       0.61      0.66      0.48       423\n",
      "weighted avg       0.82      0.49      0.52       423\n",
      "\n"
     ]
    }
   ],
   "source": [
    "from sklearn.metrics import classification_report\n",
    "fevers = admissions['max_temp_38.5']\n",
    "infections = admissions['infection_present']\n",
    "print(classification_report(infections,fevers))"
   ]
  },
  {
   "cell_type": "code",
   "execution_count": 13,
   "id": "olympic-improvement",
   "metadata": {},
   "outputs": [
    {
     "name": "stderr",
     "output_type": "stream",
     "text": [
      "findfont: Font family ['normal'] not found. Falling back to DejaVu Sans.\n",
      "findfont: Font family ['normal'] not found. Falling back to DejaVu Sans.\n"
     ]
    },
    {
     "data": {
      "image/png": "[encoded data removed]",
      "text/plain": [
       "<Figure size 720x432 with 1 Axes>"
      ]
     },
     "metadata": {
      "needs_background": "light"
     },
     "output_type": "display_data"
    }
   ],
   "source": [
    "from sklearn.metrics import confusion_matrix\n",
    "cMatrix = confusion_matrix(y_true = infections, y_pred = fevers)\n",
    "fig = plt.figure(figsize=(10, 6))\n",
    "plt.imshow(cMatrix, cmap=plt.cm.Blues)\n",
    "plt.text(0, 0, '{}'.format(cMatrix[0, 0]), horizontalalignment='center',fontsize = 'xx-large')\n",
    "plt.text(0, 1, '{}'.format(cMatrix[1, 0]), horizontalalignment='center',fontsize = 'xx-large')\n",
    "plt.text(1, 0, '{}'.format(cMatrix[0, 1]), horizontalalignment='center',fontsize = 'xx-large')\n",
    "plt.text(1, 1, '{}'.format(cMatrix[1, 1]), horizontalalignment='center',fontsize = 'xx-large')\n",
    "tick_marks = [0,1]\n",
    "labels = ['No infection', 'Infection']\n",
    "plt.xticks(tick_marks, labels, rotation=90,fontsize = 'x-large')\n",
    "plt.ylim([-0.5,1.5])\n",
    "plt.yticks(tick_marks, labels,fontsize = 'x-large')\n",
    "plt.ylabel('True label',fontsize = 'xx-large')\n",
    "plt.xlabel('Predicted label',fontsize = 'xx-large')\n",
    "plt.show()"
   ]
  },
  {
   "cell_type": "code",
   "execution_count": 14,
   "id": "acute-living",
   "metadata": {},
   "outputs": [
    {
     "name": "stdout",
     "output_type": "stream",
     "text": [
      "0.31183791167153174\n"
     ]
    }
   ],
   "source": [
    "fpr1, tpr1, thresh1 = roc_curve(all_y_tests[4], all_logreg_preds_2[4])\n",
    "auc1= roc_auc_score(all_y_tests[4], all_logreg_preds_2[4])\n",
    "lr_preds_class = all_logreg_preds_2[4]\n",
    "lrrounds = []\n",
    "for i in lr_preds_class:\n",
    "    if i > thresh1[next(x[0] for x in enumerate(tpr1) if x[1] > 0.93)]:\n",
    "        lrrounds.append(1)\n",
    "    else:\n",
    "        lrrounds.append(0)\n",
    "print(thresh1[next(x[0] for x in enumerate(tpr1) if x[1] > 0.93)])"
   ]
  },
  {
   "cell_type": "code",
   "execution_count": 15,
   "id": "expanded-parker",
   "metadata": {},
   "outputs": [
    {
     "name": "stdout",
     "output_type": "stream",
     "text": [
      "              precision    recall  f1-score   support\n",
      "\n",
      "           0       0.96      0.39      0.55       338\n",
      "           1       0.28      0.93      0.43        85\n",
      "\n",
      "    accuracy                           0.50       423\n",
      "   macro avg       0.62      0.66      0.49       423\n",
      "weighted avg       0.82      0.50      0.53       423\n",
      "\n"
     ]
    }
   ],
   "source": [
    "from sklearn.metrics import classification_report\n",
    "lr_preds_f = pd.cut(lr_preds_class,bins=[-1,0.31183791167153174,1],right=True,labels=[0,1])\n",
    "print(classification_report(all_y_tests[7],lr_preds_f))"
   ]
  },
  {
   "cell_type": "code",
   "execution_count": 16,
   "id": "democratic-thumbnail",
   "metadata": {},
   "outputs": [
    {
     "data": {
      "image/png": "[encoded data removed]",
      "text/plain": [
       "<Figure size 720x432 with 1 Axes>"
      ]
     },
     "metadata": {
      "needs_background": "light"
     },
     "output_type": "display_data"
    }
   ],
   "source": [
    "from sklearn.metrics import confusion_matrix\n",
    "cMatrix = confusion_matrix(y_true = all_y_tests[4], y_pred = lr_preds_f)\n",
    "fig = plt.figure(figsize=(10, 6))\n",
    "plt.imshow(cMatrix, cmap=plt.cm.Blues)\n",
    "plt.text(0, 0, '{}'.format(cMatrix[0, 0]), horizontalalignment='center',fontsize = 'xx-large')\n",
    "plt.text(0, 1, '{}'.format(cMatrix[1, 0]), horizontalalignment='center',fontsize = 'xx-large')\n",
    "plt.text(1, 0, '{}'.format(cMatrix[0, 1]), horizontalalignment='center',fontsize = 'xx-large')\n",
    "plt.text(1, 1, '{}'.format(cMatrix[1, 1]), horizontalalignment='center',fontsize = 'xx-large')\n",
    "tick_marks = [0,1]\n",
    "labels = ['No infection', 'Infection']\n",
    "plt.xticks(tick_marks, labels, rotation=90,fontsize = 'x-large')\n",
    "plt.ylim([-0.5,1.5])\n",
    "plt.yticks(tick_marks, labels,fontsize = 'x-large')\n",
    "plt.ylabel('True label',fontsize = 'xx-large')\n",
    "plt.xlabel('Predicted label',fontsize = 'xx-large')\n",
    "plt.show()"
   ]
  },
  {
   "cell_type": "markdown",
   "id": "successful-dance",
   "metadata": {},
   "source": [
    "## Real-world application"
   ]
  },
  {
   "cell_type": "code",
   "execution_count": 17,
   "id": "labeled-yemen",
   "metadata": {},
   "outputs": [],
   "source": [
    "import pickle\n",
    "with open('output/logreg_preds.pickle', 'rb') as handle:\n",
    "    all_logreg_preds_2 = pickle.load(handle)\n",
    "with open('output/knn_preds.pickle', 'rb') as handle:\n",
    "    all_knn_preds = pickle.load(handle)\n",
    "with open('output/rf_preds.pickle', 'rb') as handle:\n",
    "    all_rf_preds = pickle.load(handle)\n",
    "with open('output/y_tests.pickle', 'rb') as handle:\n",
    "    all_y_tests = pickle.load(handle)\n",
    "with open('output/scaler.pickle', 'rb') as handle:\n",
    "    scaler = pickle.load(handle)"
   ]
  },
  {
   "cell_type": "markdown",
   "id": "coral-kitty",
   "metadata": {},
   "source": [
    "#### Find threshold for desired TPR"
   ]
  },
  {
   "cell_type": "code",
   "execution_count": 18,
   "id": "catholic-glenn",
   "metadata": {},
   "outputs": [
    {
     "name": "stdout",
     "output_type": "stream",
     "text": [
      "0.29014161446620707\n"
     ]
    }
   ],
   "source": [
    "fpr1, tpr1, thresh1 = roc_curve(all_y_tests[4], all_logreg_preds_2[4])\n",
    "auc1= roc_auc_score(all_y_tests[4], all_logreg_preds_2[4])\n",
    "lr_preds_class = all_logreg_preds_2[4]\n",
    "lrrounds = []\n",
    "for i in lr_preds_class:\n",
    "    if i > thresh1[next(x[0] for x in enumerate(tpr1) if x[1] > 0.955)]:\n",
    "        lrrounds.append(1)\n",
    "    else:\n",
    "        lrrounds.append(0)\n",
    "print(thresh1[next(x[0] for x in enumerate(tpr1) if x[1] > 0.955)])"
   ]
  },
  {
   "cell_type": "code",
   "execution_count": 19,
   "id": "significant-officer",
   "metadata": {},
   "outputs": [
    {
     "name": "stdout",
     "output_type": "stream",
     "text": [
      "              precision    recall  f1-score   support\n",
      "\n",
      "           0       0.96      0.30      0.45       338\n",
      "           1       0.25      0.95      0.40        85\n",
      "\n",
      "    accuracy                           0.43       423\n",
      "   macro avg       0.61      0.62      0.43       423\n",
      "weighted avg       0.82      0.43      0.44       423\n",
      "\n"
     ]
    }
   ],
   "source": [
    "from sklearn.metrics import classification_report\n",
    "lr_preds_f = pd.cut(lr_preds_class,bins=[-1,0.29014161446620707,1],right=True,labels=[0,1])\n",
    "print(classification_report(all_y_tests[4],lr_preds_f))"
   ]
  },
  {
   "cell_type": "code",
   "execution_count": 20,
   "id": "angry-presentation",
   "metadata": {},
   "outputs": [
    {
     "data": {
      "image/png": "[encoded data removed]",
      "text/plain": [
       "<Figure size 720x432 with 1 Axes>"
      ]
     },
     "metadata": {
      "needs_background": "light"
     },
     "output_type": "display_data"
    }
   ],
   "source": [
    "from sklearn.metrics import confusion_matrix\n",
    "cMatrix = confusion_matrix(y_true = all_y_tests[4], y_pred = lr_preds_f)\n",
    "fig = plt.figure(figsize=(10, 6))\n",
    "plt.imshow(cMatrix, cmap=plt.cm.Blues)\n",
    "plt.text(0, 0, '{}'.format(cMatrix[0, 0]), horizontalalignment='center',fontsize = 'xx-large')\n",
    "plt.text(0, 1, '{}'.format(cMatrix[1, 0]), horizontalalignment='center',fontsize = 'xx-large')\n",
    "plt.text(1, 0, '{}'.format(cMatrix[0, 1]), horizontalalignment='center',fontsize = 'xx-large')\n",
    "plt.text(1, 1, '{}'.format(cMatrix[1, 1]), horizontalalignment='center',fontsize = 'xx-large')\n",
    "tick_marks = [0,1]\n",
    "labels = ['No infection', 'Infection']\n",
    "plt.xticks(tick_marks, labels, rotation=90,fontsize = 'x-large')\n",
    "plt.ylim([-0.5,1.5])\n",
    "plt.yticks(tick_marks, labels,fontsize = 'x-large')\n",
    "plt.ylabel('True label',fontsize = 'xx-large')\n",
    "plt.xlabel('Predicted label',fontsize = 'xx-large')\n",
    "plt.show()"
   ]
  },
  {
   "cell_type": "markdown",
   "id": "induced-studio",
   "metadata": {},
   "source": [
    "### Predict BSI for new admissions"
   ]
  },
  {
   "cell_type": "markdown",
   "id": "micro-mississippi",
   "metadata": {},
   "source": [
    "Best model LR {'C': 0.01, 'class_weight': None, 'penalty': 'l2', 'solver': 'liblinear'}\n",
    "<br> Threshold: 0.30609164636288244"
   ]
  },
  {
   "cell_type": "code",
   "execution_count": 21,
   "id": "agricultural-gabriel",
   "metadata": {},
   "outputs": [
    {
     "data": {
      "text/plain": [
       "array([0.26885912])"
      ]
     },
     "execution_count": 21,
     "metadata": {},
     "output_type": "execute_result"
    }
   ],
   "source": [
    "new_patient = pd.read_excel('data/New Patient Data Blinded.xlsx')\n",
    "new_patient['male'] = new_patient['gender'].map({'M':1, 'F':0})\n",
    "new_patient['Port'] = 0\n",
    "new_patient['Other'] = 0\n",
    "features = ['age',\n",
    "        'white_caucasian','first_bmi_kg_m2','lowest_neutrophil','lowest_platelet',\n",
    "        'max_temp_38.5','Cytarabine mg/m2/day','levo',\n",
    "        'lowest_hemoglobin','lowest_monocytes',\n",
    "        'Other', 'Port',\n",
    "        'male']\n",
    "new_patient = new_patient[features]\n",
    "new_patient_normalized = scaler.transform(new_patient)\n",
    "\n",
    "best_model = LogisticRegression(C=0.01, class_weight=None, penalty='l2', solver='liblinear')\n",
    "best_model.fit(X_normalized,y)\n",
    "best_model.predict_proba(new_patient_normalized).T[1]"
   ]
  },
  {
   "cell_type": "code",
   "execution_count": 22,
   "id": "brutal-verification",
   "metadata": {},
   "outputs": [
    {
     "data": {
      "text/plain": [
       "array([[ 0.05413702,  0.06228247,  0.02771054, -0.04637815, -0.0888361 ,\n",
       "         0.21912577,  0.12689446, -0.12786271,  0.08458082, -0.07113245,\n",
       "         0.05315441,  0.03610469,  0.04559439]])"
      ]
     },
     "execution_count": 22,
     "metadata": {},
     "output_type": "execute_result"
    }
   ],
   "source": [
    "best_model.coef_"
   ]
  },
  {
   "cell_type": "code",
   "execution_count": 23,
   "id": "chronic-coalition",
   "metadata": {},
   "outputs": [
    {
     "data": {
      "text/plain": [
       "array([0.36729824])"
      ]
     },
     "execution_count": 23,
     "metadata": {},
     "output_type": "execute_result"
    }
   ],
   "source": [
    "new_patient = pd.read_excel('data/New Patient No Fever BSI Pos.xlsx')\n",
    "new_patient['male'] = new_patient['gender'].map({'M':1, 'F':0})\n",
    "new_patient['Port'] = 1\n",
    "new_patient['Other'] = 0\n",
    "features = ['age',\n",
    "        'white_caucasian','first_bmi_kg_m2','lowest_neutrophil','lowest_platelet',\n",
    "        'max_temp_38.5','Cytarabine mg/m2/day','levo',\n",
    "        'lowest_hemoglobin','lowest_monocytes',\n",
    "        'Other', 'Port',\n",
    "        'male']\n",
    "new_patient = new_patient[features]\n",
    "new_patient_normalized = scaler.transform(new_patient)\n",
    "best_model = LogisticRegression(C=0.01, class_weight=None, penalty='l2', solver='liblinear')\n",
    "best_model.fit(X_normalized,y)\n",
    "best_model.predict_proba(new_patient_normalized).T[1]"
   ]
  },
  {
   "cell_type": "markdown",
   "id": "static-kelly",
   "metadata": {},
   "source": [
    "# Logistic Regression Univariate Analysis for Explanation"
   ]
  },
  {
   "cell_type": "code",
   "execution_count": 24,
   "id": "large-daughter",
   "metadata": {},
   "outputs": [
    {
     "name": "stdout",
     "output_type": "stream",
     "text": [
      "There are 429 total admissions.\n",
      "There are 343 infection-negative admissions.\n"
     ]
    }
   ],
   "source": [
    "import numpy as np\n",
    "import pandas as pd\n",
    "from scipy import stats\n",
    "import matplotlib.pyplot as plt\n",
    "from matplotlib.pyplot import plot, show, savefig, xlim, figure, \\\n",
    "                ylim, legend, boxplot, setp, axes\n",
    "%matplotlib inline\n",
    "import statsmodels.api as sm\n",
    "\n",
    "admissions = pd.read_excel('data/aml_data_8.16.23.xlsx')\n",
    "admissions.dropna(subset=['cytarabine'],inplace=True)\n",
    "ads_cv = pd.get_dummies(admissions['CV_line'], drop_first = True)\n",
    "cvs = ads_cv.columns\n",
    "admissions = pd.concat([admissions, ads_cv], axis=1)\n",
    "admissions['male'] = admissions['gender'].map({'M':1, 'F':0})\n",
    "\n",
    "print('There are '+str(len(admissions))+' total admissions.')\n",
    "neg_ads = admissions[admissions['infection_present'] == 0]\n",
    "print('There are '+str(len(neg_ads))+' infection-negative admissions.')"
   ]
  },
  {
   "cell_type": "markdown",
   "id": "exclusive-senior",
   "metadata": {},
   "source": [
    "#### Cytarabine"
   ]
  },
  {
   "cell_type": "code",
   "execution_count": 25,
   "id": "further-louisiana",
   "metadata": {},
   "outputs": [
    {
     "name": "stdout",
     "output_type": "stream",
     "text": [
      "Optimization terminated successfully.\n",
      "         Current function value: 0.483703\n",
      "         Iterations 6\n"
     ]
    },
    {
     "data": {
      "text/html": [
       "<table class=\"simpletable\">\n",
       "<caption>Logit Regression Results</caption>\n",
       "<tr>\n",
       "  <th>Dep. Variable:</th>   <td>infection_present</td> <th>  No. Observations:  </th>  <td>   429</td> \n",
       "</tr>\n",
       "<tr>\n",
       "  <th>Model:</th>                 <td>Logit</td>       <th>  Df Residuals:      </th>  <td>   424</td> \n",
       "</tr>\n",
       "<tr>\n",
       "  <th>Method:</th>                 <td>MLE</td>        <th>  Df Model:          </th>  <td>     4</td> \n",
       "</tr>\n",
       "<tr>\n",
       "  <th>Date:</th>            <td>Wed, 08 May 2024</td>  <th>  Pseudo R-squ.:     </th>  <td>0.03462</td>\n",
       "</tr>\n",
       "<tr>\n",
       "  <th>Time:</th>                <td>10:16:36</td>      <th>  Log-Likelihood:    </th> <td> -207.51</td>\n",
       "</tr>\n",
       "<tr>\n",
       "  <th>converged:</th>             <td>True</td>        <th>  LL-Null:           </th> <td> -214.95</td>\n",
       "</tr>\n",
       "<tr>\n",
       "  <th>Covariance Type:</th>     <td>nonrobust</td>     <th>  LLR p-value:       </th> <td>0.004952</td>\n",
       "</tr>\n",
       "</table>\n",
       "<table class=\"simpletable\">\n",
       "<tr>\n",
       "           <td></td>              <th>coef</th>     <th>std err</th>      <th>z</th>      <th>P>|z|</th>  <th>[0.025</th>    <th>0.975]</th>  \n",
       "</tr>\n",
       "<tr>\n",
       "  <th>const</th>               <td>   -2.2413</td> <td>    0.312</td> <td>   -7.181</td> <td> 0.000</td> <td>   -2.853</td> <td>   -1.630</td>\n",
       "</tr>\n",
       "<tr>\n",
       "  <th>age</th>                 <td>    0.0313</td> <td>    0.023</td> <td>    1.366</td> <td> 0.172</td> <td>   -0.014</td> <td>    0.076</td>\n",
       "</tr>\n",
       "<tr>\n",
       "  <th>male</th>                <td>    0.2831</td> <td>    0.263</td> <td>    1.077</td> <td> 0.281</td> <td>   -0.232</td> <td>    0.798</td>\n",
       "</tr>\n",
       "<tr>\n",
       "  <th>white_caucasian</th>     <td>    0.3430</td> <td>    0.281</td> <td>    1.220</td> <td> 0.223</td> <td>   -0.208</td> <td>    0.894</td>\n",
       "</tr>\n",
       "<tr>\n",
       "  <th>Cytarabine_g/m2/day</th> <td>    0.1166</td> <td>    0.047</td> <td>    2.494</td> <td> 0.013</td> <td>    0.025</td> <td>    0.208</td>\n",
       "</tr>\n",
       "</table>"
      ],
      "text/plain": [
       "<class 'statsmodels.iolib.summary.Summary'>\n",
       "\"\"\"\n",
       "                           Logit Regression Results                           \n",
       "==============================================================================\n",
       "Dep. Variable:      infection_present   No. Observations:                  429\n",
       "Model:                          Logit   Df Residuals:                      424\n",
       "Method:                           MLE   Df Model:                            4\n",
       "Date:                Wed, 08 May 2024   Pseudo R-squ.:                 0.03462\n",
       "Time:                        10:16:36   Log-Likelihood:                -207.51\n",
       "converged:                       True   LL-Null:                       -214.95\n",
       "Covariance Type:            nonrobust   LLR p-value:                  0.004952\n",
       "=======================================================================================\n",
       "                          coef    std err          z      P>|z|      [0.025      0.975]\n",
       "---------------------------------------------------------------------------------------\n",
       "const                  -2.2413      0.312     -7.181      0.000      -2.853      -1.630\n",
       "age                     0.0313      0.023      1.366      0.172      -0.014       0.076\n",
       "male                    0.2831      0.263      1.077      0.281      -0.232       0.798\n",
       "white_caucasian         0.3430      0.281      1.220      0.223      -0.208       0.894\n",
       "Cytarabine_g/m2/day     0.1166      0.047      2.494      0.013       0.025       0.208\n",
       "=======================================================================================\n",
       "\"\"\""
      ]
     },
     "execution_count": 25,
     "metadata": {},
     "output_type": "execute_result"
    }
   ],
   "source": [
    "# continuous cytarabine\n",
    "admissions['Cytarabine_g/m2/day'] = admissions['Cytarabine mg/m2/day']*0.001\n",
    "featureset = ['age','male','white_caucasian','Cytarabine_g/m2/day','infection_present']\n",
    "ads_logreg = admissions[featureset]\n",
    "target = ads_logreg['infection_present']\n",
    "features = ads_logreg.drop(['infection_present'],axis=1)\n",
    "model = sm.Logit(target, sm.add_constant(features))\n",
    "result = model.fit()\n",
    "result.summary()"
   ]
  },
  {
   "cell_type": "markdown",
   "id": "compact-parking",
   "metadata": {},
   "source": [
    "#### Levofloxacin"
   ]
  },
  {
   "cell_type": "code",
   "execution_count": 26,
   "id": "chubby-recipe",
   "metadata": {},
   "outputs": [
    {
     "name": "stdout",
     "output_type": "stream",
     "text": [
      "Optimization terminated successfully.\n",
      "         Current function value: 0.481614\n",
      "         Iterations 6\n"
     ]
    },
    {
     "data": {
      "text/html": [
       "<table class=\"simpletable\">\n",
       "<caption>Logit Regression Results</caption>\n",
       "<tr>\n",
       "  <th>Dep. Variable:</th>   <td>infection_present</td> <th>  No. Observations:  </th>  <td>   429</td> \n",
       "</tr>\n",
       "<tr>\n",
       "  <th>Model:</th>                 <td>Logit</td>       <th>  Df Residuals:      </th>  <td>   424</td> \n",
       "</tr>\n",
       "<tr>\n",
       "  <th>Method:</th>                 <td>MLE</td>        <th>  Df Model:          </th>  <td>     4</td> \n",
       "</tr>\n",
       "<tr>\n",
       "  <th>Date:</th>            <td>Wed, 08 May 2024</td>  <th>  Pseudo R-squ.:     </th>  <td>0.03879</td>\n",
       "</tr>\n",
       "<tr>\n",
       "  <th>Time:</th>                <td>10:16:37</td>      <th>  Log-Likelihood:    </th> <td> -206.61</td>\n",
       "</tr>\n",
       "<tr>\n",
       "  <th>converged:</th>             <td>True</td>        <th>  LL-Null:           </th> <td> -214.95</td>\n",
       "</tr>\n",
       "<tr>\n",
       "  <th>Covariance Type:</th>     <td>nonrobust</td>     <th>  LLR p-value:       </th> <td>0.002236</td>\n",
       "</tr>\n",
       "</table>\n",
       "<table class=\"simpletable\">\n",
       "<tr>\n",
       "         <td></td>            <th>coef</th>     <th>std err</th>      <th>z</th>      <th>P>|z|</th>  <th>[0.025</th>    <th>0.975]</th>  \n",
       "</tr>\n",
       "<tr>\n",
       "  <th>const</th>           <td>   -1.8782</td> <td>    0.320</td> <td>   -5.871</td> <td> 0.000</td> <td>   -2.505</td> <td>   -1.251</td>\n",
       "</tr>\n",
       "<tr>\n",
       "  <th>age</th>             <td>    0.0363</td> <td>    0.023</td> <td>    1.586</td> <td> 0.113</td> <td>   -0.009</td> <td>    0.081</td>\n",
       "</tr>\n",
       "<tr>\n",
       "  <th>male</th>            <td>    0.1998</td> <td>    0.266</td> <td>    0.752</td> <td> 0.452</td> <td>   -0.321</td> <td>    0.720</td>\n",
       "</tr>\n",
       "<tr>\n",
       "  <th>white_caucasian</th> <td>    0.4431</td> <td>    0.282</td> <td>    1.571</td> <td> 0.116</td> <td>   -0.110</td> <td>    0.996</td>\n",
       "</tr>\n",
       "<tr>\n",
       "  <th>levo</th>            <td>   -0.7517</td> <td>    0.280</td> <td>   -2.689</td> <td> 0.007</td> <td>   -1.300</td> <td>   -0.204</td>\n",
       "</tr>\n",
       "</table>"
      ],
      "text/plain": [
       "<class 'statsmodels.iolib.summary.Summary'>\n",
       "\"\"\"\n",
       "                           Logit Regression Results                           \n",
       "==============================================================================\n",
       "Dep. Variable:      infection_present   No. Observations:                  429\n",
       "Model:                          Logit   Df Residuals:                      424\n",
       "Method:                           MLE   Df Model:                            4\n",
       "Date:                Wed, 08 May 2024   Pseudo R-squ.:                 0.03879\n",
       "Time:                        10:16:37   Log-Likelihood:                -206.61\n",
       "converged:                       True   LL-Null:                       -214.95\n",
       "Covariance Type:            nonrobust   LLR p-value:                  0.002236\n",
       "===================================================================================\n",
       "                      coef    std err          z      P>|z|      [0.025      0.975]\n",
       "-----------------------------------------------------------------------------------\n",
       "const              -1.8782      0.320     -5.871      0.000      -2.505      -1.251\n",
       "age                 0.0363      0.023      1.586      0.113      -0.009       0.081\n",
       "male                0.1998      0.266      0.752      0.452      -0.321       0.720\n",
       "white_caucasian     0.4431      0.282      1.571      0.116      -0.110       0.996\n",
       "levo               -0.7517      0.280     -2.689      0.007      -1.300      -0.204\n",
       "===================================================================================\n",
       "\"\"\""
      ]
     },
     "execution_count": 26,
     "metadata": {},
     "output_type": "execute_result"
    }
   ],
   "source": [
    "featureset = ['age','male','white_caucasian','levo','infection_present']\n",
    "ads_logreg = admissions[featureset]\n",
    "target = ads_logreg['infection_present']\n",
    "features = ads_logreg.drop(['infection_present'],axis=1)\n",
    "model = sm.Logit(target, sm.add_constant(features))\n",
    "result = model.fit()\n",
    "result.summary()"
   ]
  },
  {
   "cell_type": "markdown",
   "id": "opposite-rachel",
   "metadata": {},
   "source": [
    "#### All Treatments and Controls (age,sex,race)"
   ]
  },
  {
   "cell_type": "code",
   "execution_count": 27,
   "id": "norman-minneapolis",
   "metadata": {},
   "outputs": [
    {
     "name": "stdout",
     "output_type": "stream",
     "text": [
      "Optimization terminated successfully.\n",
      "         Current function value: 0.475943\n",
      "         Iterations 6\n"
     ]
    },
    {
     "data": {
      "text/html": [
       "<table class=\"simpletable\">\n",
       "<caption>Logit Regression Results</caption>\n",
       "<tr>\n",
       "  <th>Dep. Variable:</th>   <td>infection_present</td> <th>  No. Observations:  </th>  <td>   429</td>  \n",
       "</tr>\n",
       "<tr>\n",
       "  <th>Model:</th>                 <td>Logit</td>       <th>  Df Residuals:      </th>  <td>   423</td>  \n",
       "</tr>\n",
       "<tr>\n",
       "  <th>Method:</th>                 <td>MLE</td>        <th>  Df Model:          </th>  <td>     5</td>  \n",
       "</tr>\n",
       "<tr>\n",
       "  <th>Date:</th>            <td>Wed, 08 May 2024</td>  <th>  Pseudo R-squ.:     </th>  <td>0.05011</td> \n",
       "</tr>\n",
       "<tr>\n",
       "  <th>Time:</th>                <td>10:16:38</td>      <th>  Log-Likelihood:    </th> <td> -204.18</td> \n",
       "</tr>\n",
       "<tr>\n",
       "  <th>converged:</th>             <td>True</td>        <th>  LL-Null:           </th> <td> -214.95</td> \n",
       "</tr>\n",
       "<tr>\n",
       "  <th>Covariance Type:</th>     <td>nonrobust</td>     <th>  LLR p-value:       </th> <td>0.0006401</td>\n",
       "</tr>\n",
       "</table>\n",
       "<table class=\"simpletable\">\n",
       "<tr>\n",
       "           <td></td>              <th>coef</th>     <th>std err</th>      <th>z</th>      <th>P>|z|</th>  <th>[0.025</th>    <th>0.975]</th>  \n",
       "</tr>\n",
       "<tr>\n",
       "  <th>const</th>               <td>   -1.9770</td> <td>    0.325</td> <td>   -6.090</td> <td> 0.000</td> <td>   -2.613</td> <td>   -1.341</td>\n",
       "</tr>\n",
       "<tr>\n",
       "  <th>age</th>                 <td>    0.0301</td> <td>    0.023</td> <td>    1.292</td> <td> 0.197</td> <td>   -0.016</td> <td>    0.076</td>\n",
       "</tr>\n",
       "<tr>\n",
       "  <th>male</th>                <td>    0.1933</td> <td>    0.268</td> <td>    0.720</td> <td> 0.471</td> <td>   -0.333</td> <td>    0.719</td>\n",
       "</tr>\n",
       "<tr>\n",
       "  <th>white_caucasian</th>     <td>    0.4051</td> <td>    0.284</td> <td>    1.425</td> <td> 0.154</td> <td>   -0.152</td> <td>    0.962</td>\n",
       "</tr>\n",
       "<tr>\n",
       "  <th>Cytarabine_g/m2/day</th> <td>    0.1044</td> <td>    0.047</td> <td>    2.238</td> <td> 0.025</td> <td>    0.013</td> <td>    0.196</td>\n",
       "</tr>\n",
       "<tr>\n",
       "  <th>levo</th>                <td>   -0.7039</td> <td>    0.281</td> <td>   -2.501</td> <td> 0.012</td> <td>   -1.256</td> <td>   -0.152</td>\n",
       "</tr>\n",
       "</table>"
      ],
      "text/plain": [
       "<class 'statsmodels.iolib.summary.Summary'>\n",
       "\"\"\"\n",
       "                           Logit Regression Results                           \n",
       "==============================================================================\n",
       "Dep. Variable:      infection_present   No. Observations:                  429\n",
       "Model:                          Logit   Df Residuals:                      423\n",
       "Method:                           MLE   Df Model:                            5\n",
       "Date:                Wed, 08 May 2024   Pseudo R-squ.:                 0.05011\n",
       "Time:                        10:16:38   Log-Likelihood:                -204.18\n",
       "converged:                       True   LL-Null:                       -214.95\n",
       "Covariance Type:            nonrobust   LLR p-value:                 0.0006401\n",
       "=======================================================================================\n",
       "                          coef    std err          z      P>|z|      [0.025      0.975]\n",
       "---------------------------------------------------------------------------------------\n",
       "const                  -1.9770      0.325     -6.090      0.000      -2.613      -1.341\n",
       "age                     0.0301      0.023      1.292      0.197      -0.016       0.076\n",
       "male                    0.1933      0.268      0.720      0.471      -0.333       0.719\n",
       "white_caucasian         0.4051      0.284      1.425      0.154      -0.152       0.962\n",
       "Cytarabine_g/m2/day     0.1044      0.047      2.238      0.025       0.013       0.196\n",
       "levo                   -0.7039      0.281     -2.501      0.012      -1.256      -0.152\n",
       "=======================================================================================\n",
       "\"\"\""
      ]
     },
     "execution_count": 27,
     "metadata": {},
     "output_type": "execute_result"
    }
   ],
   "source": [
    "admissions = pd.read_excel('data/aml_data_8.16.23.xlsx')\n",
    "admissions.dropna(subset=['Cytarabine mg/m2/day'],inplace=True)\n",
    "admissions['male'] = admissions['gender'].map({'M':1, 'F':0})\n",
    "admissions['Cytarabine_g/m2/day'] = admissions['Cytarabine mg/m2/day']*0.001\n",
    "featureset = ['age','male','white_caucasian','Cytarabine_g/m2/day','levo','infection_present']\n",
    "ads_logreg = admissions[featureset]\n",
    "target = ads_logreg['infection_present']\n",
    "features = ads_logreg.drop(['infection_present'],axis=1)\n",
    "model = sm.Logit(target, sm.add_constant(features))\n",
    "result = model.fit()\n",
    "result.summary()"
   ]
  },
  {
   "cell_type": "markdown",
   "id": "decent-template",
   "metadata": {},
   "source": [
    "#### Cumulative cytarabine dose per cycle"
   ]
  },
  {
   "cell_type": "code",
   "execution_count": 28,
   "id": "perfect-browse",
   "metadata": {},
   "outputs": [
    {
     "name": "stdout",
     "output_type": "stream",
     "text": [
      "Optimization terminated successfully.\n",
      "         Current function value: 0.479163\n",
      "         Iterations 6\n"
     ]
    },
    {
     "data": {
      "text/html": [
       "<table class=\"simpletable\">\n",
       "<caption>Logit Regression Results</caption>\n",
       "<tr>\n",
       "  <th>Dep. Variable:</th>   <td>infection_present</td> <th>  No. Observations:  </th>  <td>   429</td>  \n",
       "</tr>\n",
       "<tr>\n",
       "  <th>Model:</th>                 <td>Logit</td>       <th>  Df Residuals:      </th>  <td>   424</td>  \n",
       "</tr>\n",
       "<tr>\n",
       "  <th>Method:</th>                 <td>MLE</td>        <th>  Df Model:          </th>  <td>     4</td>  \n",
       "</tr>\n",
       "<tr>\n",
       "  <th>Date:</th>            <td>Wed, 08 May 2024</td>  <th>  Pseudo R-squ.:     </th>  <td>0.04368</td> \n",
       "</tr>\n",
       "<tr>\n",
       "  <th>Time:</th>                <td>10:16:38</td>      <th>  Log-Likelihood:    </th> <td> -205.56</td> \n",
       "</tr>\n",
       "<tr>\n",
       "  <th>converged:</th>             <td>True</td>        <th>  LL-Null:           </th> <td> -214.95</td> \n",
       "</tr>\n",
       "<tr>\n",
       "  <th>Covariance Type:</th>     <td>nonrobust</td>     <th>  LLR p-value:       </th> <td>0.0008693</td>\n",
       "</tr>\n",
       "</table>\n",
       "<table class=\"simpletable\">\n",
       "<tr>\n",
       "                 <td></td>                   <th>coef</th>     <th>std err</th>      <th>z</th>      <th>P>|z|</th>  <th>[0.025</th>    <th>0.975]</th>  \n",
       "</tr>\n",
       "<tr>\n",
       "  <th>const</th>                          <td>   -2.5234</td> <td>    0.340</td> <td>   -7.413</td> <td> 0.000</td> <td>   -3.191</td> <td>   -1.856</td>\n",
       "</tr>\n",
       "<tr>\n",
       "  <th>age</th>                            <td>    0.0324</td> <td>    0.023</td> <td>    1.408</td> <td> 0.159</td> <td>   -0.013</td> <td>    0.077</td>\n",
       "</tr>\n",
       "<tr>\n",
       "  <th>male</th>                           <td>    0.2676</td> <td>    0.264</td> <td>    1.013</td> <td> 0.311</td> <td>   -0.250</td> <td>    0.785</td>\n",
       "</tr>\n",
       "<tr>\n",
       "  <th>white_caucasian</th>                <td>    0.3516</td> <td>    0.283</td> <td>    1.243</td> <td> 0.214</td> <td>   -0.203</td> <td>    0.906</td>\n",
       "</tr>\n",
       "<tr>\n",
       "  <th>Cytarabine_g/m2/day_cumulative</th> <td>    0.0847</td> <td>    0.027</td> <td>    3.144</td> <td> 0.002</td> <td>    0.032</td> <td>    0.138</td>\n",
       "</tr>\n",
       "</table>"
      ],
      "text/plain": [
       "<class 'statsmodels.iolib.summary.Summary'>\n",
       "\"\"\"\n",
       "                           Logit Regression Results                           \n",
       "==============================================================================\n",
       "Dep. Variable:      infection_present   No. Observations:                  429\n",
       "Model:                          Logit   Df Residuals:                      424\n",
       "Method:                           MLE   Df Model:                            4\n",
       "Date:                Wed, 08 May 2024   Pseudo R-squ.:                 0.04368\n",
       "Time:                        10:16:38   Log-Likelihood:                -205.56\n",
       "converged:                       True   LL-Null:                       -214.95\n",
       "Covariance Type:            nonrobust   LLR p-value:                 0.0008693\n",
       "==================================================================================================\n",
       "                                     coef    std err          z      P>|z|      [0.025      0.975]\n",
       "--------------------------------------------------------------------------------------------------\n",
       "const                             -2.5234      0.340     -7.413      0.000      -3.191      -1.856\n",
       "age                                0.0324      0.023      1.408      0.159      -0.013       0.077\n",
       "male                               0.2676      0.264      1.013      0.311      -0.250       0.785\n",
       "white_caucasian                    0.3516      0.283      1.243      0.214      -0.203       0.906\n",
       "Cytarabine_g/m2/day_cumulative     0.0847      0.027      3.144      0.002       0.032       0.138\n",
       "==================================================================================================\n",
       "\"\"\""
      ]
     },
     "execution_count": 28,
     "metadata": {},
     "output_type": "execute_result"
    }
   ],
   "source": [
    "admissions['Cytarabine_g/m2/day_cumulative'] = admissions['Cytarabine mg/m2']*0.001\n",
    "featureset = ['age','male','white_caucasian','Cytarabine_g/m2/day_cumulative','infection_present']\n",
    "ads_logreg = admissions[featureset]\n",
    "target = ads_logreg['infection_present']\n",
    "features = ads_logreg.drop(['infection_present'],axis=1)\n",
    "model = sm.Logit(target, sm.add_constant(features))\n",
    "result = model.fit()\n",
    "result.summary()"
   ]
  },
  {
   "cell_type": "markdown",
   "id": "referenced-netherlands",
   "metadata": {},
   "source": [
    "# Survival Analysis: Kaplan Meier Curve"
   ]
  },
  {
   "cell_type": "code",
   "execution_count": 29,
   "id": "interesting-arrest",
   "metadata": {},
   "outputs": [
    {
     "data": {
      "text/plain": [
       "Text(0, 0.5, 'Probability of Survival')"
      ]
     },
     "execution_count": 29,
     "metadata": {},
     "output_type": "execute_result"
    },
    {
     "name": "stderr",
     "output_type": "stream",
     "text": [
      "findfont: Font family ['normal'] not found. Falling back to DejaVu Sans.\n"
     ]
    },
    {
     "data": {
      "image/png": "[encoded data removed]",
      "text/plain": [
       "<Figure size 432x288 with 1 Axes>"
      ]
     },
     "metadata": {
      "needs_background": "light"
     },
     "output_type": "display_data"
    }
   ],
   "source": [
    "from lifelines import KaplanMeierFitter\n",
    "admissions = pd.read_excel('data/aml_data_8.16.23.xlsx')\n",
    "# infected vs not infected\n",
    "kmf = KaplanMeierFitter()\n",
    "kmc_ads = admissions.drop_duplicates(subset='MRN',keep='last')\n",
    "X = kmc_ads['survival_months']\n",
    "Y = kmc_ads['deceased']\n",
    "score_group = kmc_ads['infection_present'] == 1\n",
    "ax = plt.subplot(111)\n",
    "kmf.fit(X[~score_group], event_observed = Y[~score_group], label = 'No Infection')\n",
    "kmf.plot(ax = ax)\n",
    "kmf.fit(X[score_group], event_observed = Y[score_group], label = 'Infection')\n",
    "kmf.plot(ax = ax)\n",
    "font = {'family' : 'normal',\n",
    "        'weight' : 'normal',\n",
    "        'size'   : 14}\n",
    "plt.rc('font', **font)\n",
    "#plt.title(\"Kaplan Meier Estimates by Infection/No Infection\")\n",
    "plt.xlabel(\"Month After AML diagnosis\")\n",
    "plt.ylabel(\"Probability of Survival\")\n",
    "# plt.savefig('output/KM_infections.png',bbox_inches='tight')"
   ]
  },
  {
   "cell_type": "code",
   "execution_count": 30,
   "id": "happy-ceramic",
   "metadata": {},
   "outputs": [
    {
     "name": "stdout",
     "output_type": "stream",
     "text": [
      "95\n",
      "36\n",
      "0.37894736842105264\n"
     ]
    }
   ],
   "source": [
    "print(len(Y)) # num patients\n",
    "print(sum(Y)) # num deaths\n",
    "print(sum(Y)/len(Y)) # death ratio"
   ]
  },
  {
   "cell_type": "code",
   "execution_count": 31,
   "id": "standing-publisher",
   "metadata": {},
   "outputs": [
    {
     "data": {
      "text/html": [
       "<div>\n",
       "<style scoped>\n",
       "    .dataframe tbody tr th:only-of-type {\n",
       "        vertical-align: middle;\n",
       "    }\n",
       "\n",
       "    .dataframe tbody tr th {\n",
       "        vertical-align: top;\n",
       "    }\n",
       "\n",
       "    .dataframe thead th {\n",
       "        text-align: right;\n",
       "    }\n",
       "</style>\n",
       "<table border=\"1\" class=\"dataframe\">\n",
       "  <tbody>\n",
       "    <tr>\n",
       "      <th>t_0</th>\n",
       "      <td>-1</td>\n",
       "    </tr>\n",
       "    <tr>\n",
       "      <th>null_distribution</th>\n",
       "      <td>chi squared</td>\n",
       "    </tr>\n",
       "    <tr>\n",
       "      <th>degrees_of_freedom</th>\n",
       "      <td>1</td>\n",
       "    </tr>\n",
       "    <tr>\n",
       "      <th>test_name</th>\n",
       "      <td>logrank_test</td>\n",
       "    </tr>\n",
       "  </tbody>\n",
       "</table>\n",
       "</div><table border=\"1\" class=\"dataframe\">\n",
       "  <thead>\n",
       "    <tr style=\"text-align: right;\">\n",
       "      <th></th>\n",
       "      <th>test_statistic</th>\n",
       "      <th>p</th>\n",
       "      <th>-log2(p)</th>\n",
       "    </tr>\n",
       "  </thead>\n",
       "  <tbody>\n",
       "    <tr>\n",
       "      <th>0</th>\n",
       "      <td>0.00</td>\n",
       "      <td>0.97</td>\n",
       "      <td>0.04</td>\n",
       "    </tr>\n",
       "  </tbody>\n",
       "</table>"
      ],
      "text/latex": [
       "\\begin{tabular}{lrrr}\n",
       "\\toprule\n",
       "{} &  test\\_statistic &         p &  -log2(p) \\\\\n",
       "\\midrule\n",
       "0 &        0.001348 &  0.970714 &  0.042882 \\\\\n",
       "\\bottomrule\n",
       "\\end{tabular}\n"
      ],
      "text/plain": [
       "<lifelines.StatisticalResult: logrank_test>\n",
       "               t_0 = -1\n",
       " null_distribution = chi squared\n",
       "degrees_of_freedom = 1\n",
       "         test_name = logrank_test\n",
       "\n",
       "---\n",
       " test_statistic    p  -log2(p)\n",
       "           0.00 0.97      0.04"
      ]
     },
     "metadata": {},
     "output_type": "display_data"
    }
   ],
   "source": [
    "# logrank test\n",
    "from lifelines.statistics import logrank_test\n",
    "results=logrank_test(X[~score_group],X[score_group],event_observed_A=Y[~score_group], event_observed_B=Y[score_group])\n",
    "results.print_summary()"
   ]
  },
  {
   "cell_type": "code",
   "execution_count": 32,
   "id": "casual-worry",
   "metadata": {},
   "outputs": [
    {
     "data": {
      "text/plain": [
       "Text(0, 0.5, 'Probability of Survival')"
      ]
     },
     "execution_count": 32,
     "metadata": {},
     "output_type": "execute_result"
    },
    {
     "data": {
      "image/png": "[encoded data removed]",
      "text/plain": [
       "<Figure size 432x288 with 1 Axes>"
      ]
     },
     "metadata": {
      "needs_background": "light"
     },
     "output_type": "display_data"
    }
   ],
   "source": [
    "# race (white vs. other)\n",
    "kmf = KaplanMeierFitter()\n",
    "kmc_ads = admissions.drop_duplicates(subset='MRN',keep='last')\n",
    "X = kmc_ads['survival_months']\n",
    "Y = kmc_ads['deceased']\n",
    "score_group = kmc_ads['white_caucasian'] == 1\n",
    "ax = plt.subplot(111)\n",
    "kmf.fit(X[score_group], event_observed = Y[score_group], label = 'White/Caucasian')\n",
    "kmf.plot(ax = ax)\n",
    "kmf.fit(X[~score_group], event_observed = Y[~score_group], label = 'Other')\n",
    "kmf.plot(ax = ax)\n",
    "font = {'family' : 'normal',\n",
    "        'weight' : 'normal',\n",
    "        'size'   : 14}\n",
    "plt.rc('font', **font)\n",
    "#plt.title(\"Kaplan Meier Estimates by Race\")\n",
    "plt.xlabel(\"Month After AML diagnosis\")\n",
    "plt.ylabel(\"Probability of Survival\")\n",
    "# plt.savefig('output/KM_race.png',bbox_inches='tight')"
   ]
  },
  {
   "cell_type": "code",
   "execution_count": 33,
   "id": "explicit-light",
   "metadata": {},
   "outputs": [
    {
     "data": {
      "text/html": [
       "<div>\n",
       "<style scoped>\n",
       "    .dataframe tbody tr th:only-of-type {\n",
       "        vertical-align: middle;\n",
       "    }\n",
       "\n",
       "    .dataframe tbody tr th {\n",
       "        vertical-align: top;\n",
       "    }\n",
       "\n",
       "    .dataframe thead th {\n",
       "        text-align: right;\n",
       "    }\n",
       "</style>\n",
       "<table border=\"1\" class=\"dataframe\">\n",
       "  <tbody>\n",
       "    <tr>\n",
       "      <th>t_0</th>\n",
       "      <td>-1</td>\n",
       "    </tr>\n",
       "    <tr>\n",
       "      <th>null_distribution</th>\n",
       "      <td>chi squared</td>\n",
       "    </tr>\n",
       "    <tr>\n",
       "      <th>degrees_of_freedom</th>\n",
       "      <td>1</td>\n",
       "    </tr>\n",
       "    <tr>\n",
       "      <th>test_name</th>\n",
       "      <td>logrank_test</td>\n",
       "    </tr>\n",
       "  </tbody>\n",
       "</table>\n",
       "</div><table border=\"1\" class=\"dataframe\">\n",
       "  <thead>\n",
       "    <tr style=\"text-align: right;\">\n",
       "      <th></th>\n",
       "      <th>test_statistic</th>\n",
       "      <th>p</th>\n",
       "      <th>-log2(p)</th>\n",
       "    </tr>\n",
       "  </thead>\n",
       "  <tbody>\n",
       "    <tr>\n",
       "      <th>0</th>\n",
       "      <td>6.00</td>\n",
       "      <td>0.01</td>\n",
       "      <td>6.13</td>\n",
       "    </tr>\n",
       "  </tbody>\n",
       "</table>"
      ],
      "text/latex": [
       "\\begin{tabular}{lrrr}\n",
       "\\toprule\n",
       "{} &  test\\_statistic &         p &  -log2(p) \\\\\n",
       "\\midrule\n",
       "0 &        5.998901 &  0.014315 &  6.126349 \\\\\n",
       "\\bottomrule\n",
       "\\end{tabular}\n"
      ],
      "text/plain": [
       "<lifelines.StatisticalResult: logrank_test>\n",
       "               t_0 = -1\n",
       " null_distribution = chi squared\n",
       "degrees_of_freedom = 1\n",
       "         test_name = logrank_test\n",
       "\n",
       "---\n",
       " test_statistic    p  -log2(p)\n",
       "           6.00 0.01      6.13"
      ]
     },
     "metadata": {},
     "output_type": "display_data"
    }
   ],
   "source": [
    "results=logrank_test(X[score_group],X[~score_group],event_observed_A=Y[score_group], event_observed_B=Y[~score_group])\n",
    "results.print_summary()"
   ]
  },
  {
   "cell_type": "markdown",
   "id": "diverse-format",
   "metadata": {},
   "source": [
    "#### Survival grouped by patients diagnosed 2005-2009, vs 2010-2014, vs 2015 – 2019 to view survival difference"
   ]
  },
  {
   "cell_type": "code",
   "execution_count": 34,
   "id": "significant-kentucky",
   "metadata": {},
   "outputs": [
    {
     "name": "stdout",
     "output_type": "stream",
     "text": [
      "There are 480 total admissions.\n",
      "There are 389 infection-negative admissions.\n"
     ]
    }
   ],
   "source": [
    "import numpy as np\n",
    "import pandas as pd\n",
    "from scipy import stats\n",
    "import matplotlib.pyplot as plt\n",
    "from matplotlib.pyplot import plot, show, savefig, xlim, figure, \\\n",
    "                ylim, legend, boxplot, setp, axes\n",
    "%matplotlib inline\n",
    "import statsmodels.api as sm\n",
    "\n",
    "admissions = pd.read_excel('data/aml_data_8.16.23.xlsx')\n",
    "\n",
    "print('There are '+str(len(admissions))+' total admissions.')\n",
    "neg_ads = admissions[admissions['infection_present'] == 0]\n",
    "print('There are '+str(len(neg_ads))+' infection-negative admissions.')"
   ]
  },
  {
   "cell_type": "code",
   "execution_count": 35,
   "id": "yellow-sussex",
   "metadata": {},
   "outputs": [
    {
     "name": "stdout",
     "output_type": "stream",
     "text": [
      "Death rate 2005-2009: 0.3888888888888889\n",
      "Survival rate 2005-2009: 0.6111111111111112\n",
      "Number survived: 22\n"
     ]
    },
    {
     "data": {
      "text/plain": [
       "36"
      ]
     },
     "execution_count": 35,
     "metadata": {},
     "output_type": "execute_result"
    }
   ],
   "source": [
    "kmc_ads = admissions.drop_duplicates(subset='MRN',keep='first')\n",
    "kmc_5_9_ads = kmc_ads[(kmc_ads['admit_date'] >= '2005') & (kmc_ads['admit_date'] < '2010')]\n",
    "print('Death rate 2005-2009:',len(kmc_5_9_ads[kmc_5_9_ads['deceased'] == 1])/len(kmc_5_9_ads))\n",
    "print('Survival rate 2005-2009:',len(kmc_5_9_ads[kmc_5_9_ads['deceased'] == 0])/len(kmc_5_9_ads))\n",
    "print('Number survived:',len(kmc_5_9_ads[kmc_5_9_ads['deceased'] == 0]))\n",
    "len(kmc_5_9_ads)"
   ]
  },
  {
   "cell_type": "code",
   "execution_count": 36,
   "id": "loose-bristol",
   "metadata": {},
   "outputs": [
    {
     "name": "stdout",
     "output_type": "stream",
     "text": [
      "Death rate 2010-2014: 0.35714285714285715\n",
      "Survival rate 2010-2014: 0.6428571428571429\n",
      "Number survived: 18\n"
     ]
    },
    {
     "data": {
      "text/plain": [
       "28"
      ]
     },
     "execution_count": 36,
     "metadata": {},
     "output_type": "execute_result"
    }
   ],
   "source": [
    "kmc_10_14_ads = kmc_ads[(kmc_ads['admit_date'] >= '2010') & (kmc_ads['admit_date'] < '2015')]\n",
    "print('Death rate 2010-2014:',len(kmc_10_14_ads[kmc_10_14_ads['deceased'] == 1])/len(kmc_10_14_ads))\n",
    "print('Survival rate 2010-2014:',len(kmc_10_14_ads[kmc_10_14_ads['deceased'] == 0])/len(kmc_10_14_ads))\n",
    "print('Number survived:',len(kmc_10_14_ads[kmc_10_14_ads['deceased'] == 0]))\n",
    "len(kmc_10_14_ads)"
   ]
  },
  {
   "cell_type": "code",
   "execution_count": 37,
   "id": "basic-winner",
   "metadata": {},
   "outputs": [
    {
     "name": "stdout",
     "output_type": "stream",
     "text": [
      "Death rate 2015-2019: 0.3870967741935484\n",
      "Survival rate 2015-2019: 0.6129032258064516\n",
      "Number survived: 19\n"
     ]
    },
    {
     "data": {
      "text/plain": [
       "31"
      ]
     },
     "execution_count": 37,
     "metadata": {},
     "output_type": "execute_result"
    }
   ],
   "source": [
    "kmc_15_19_ads = kmc_ads[(kmc_ads['admit_date'] >= '2015') & (kmc_ads['admit_date'] < '2020')]\n",
    "print('Death rate 2015-2019:',len(kmc_15_19_ads[kmc_15_19_ads['deceased'] == 1])/len(kmc_15_19_ads))\n",
    "print('Survival rate 2015-2019:',len(kmc_15_19_ads[kmc_15_19_ads['deceased'] == 0])/len(kmc_15_19_ads))\n",
    "print('Number survived:',len(kmc_15_19_ads[kmc_15_19_ads['deceased'] == 0]))\n",
    "len(kmc_15_19_ads)"
   ]
  }
 ],
 "metadata": {
  "kernelspec": {
   "display_name": "Python 3",
   "language": "python",
   "name": "python3"
  },
  "language_info": {
   "codemirror_mode": {
    "name": "ipython",
    "version": 3
   },
   "file_extension": ".py",
   "mimetype": "text/x-python",
   "name": "python",
   "nbconvert_exporter": "python",
   "pygments_lexer": "ipython3",
   "version": "3.9.13"
  }
 },
 "nbformat": 4,
 "nbformat_minor": 5
}
