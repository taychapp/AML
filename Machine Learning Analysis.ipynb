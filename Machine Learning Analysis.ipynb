{
 "cells": [
  {
   "cell_type": "markdown",
   "id": "necessary-orchestra",
   "metadata": {},
   "source": [
    "<center>\n",
    "    <h1><u>AML Infections Data Analysis</u></h1>\n",
    "</center>"
   ]
  },
  {
   "cell_type": "code",
   "execution_count": 1,
   "id": "fuzzy-presentation",
   "metadata": {},
   "outputs": [
    {
     "data": {
      "text/plain": [
       "480"
      ]
     },
     "execution_count": 1,
     "metadata": {},
     "output_type": "execute_result"
    }
   ],
   "source": [
    "import numpy as np\n",
    "import pandas as pd\n",
    "import matplotlib.pyplot as plt\n",
    "%matplotlib inline\n",
    "from matplotlib.pyplot import plot, show, savefig, xlim, figure, \\\n",
    "                ylim, legend, boxplot, setp, axes\n",
    "\n",
    "#run once\n",
    "#pip install openpyxl\n",
    "#pip install lifelines\n",
    "\n",
    "admissions = pd.read_excel('data/aml_data_8.16.23.xlsx')\n",
    "#admissions.head()\n",
    "len(admissions)"
   ]
  },
  {
   "cell_type": "code",
   "execution_count": 2,
   "id": "preliminary-sheep",
   "metadata": {},
   "outputs": [
    {
     "name": "stdout",
     "output_type": "stream",
     "text": [
      "There are 389 infection-negative admissions.\n"
     ]
    }
   ],
   "source": [
    "neg_ads = admissions[admissions['infection_present'] == 0]\n",
    "print('There are '+str(len(neg_ads))+' infection-negative admissions.')"
   ]
  },
  {
   "cell_type": "code",
   "execution_count": 3,
   "id": "minor-pension",
   "metadata": {},
   "outputs": [
    {
     "data": {
      "text/plain": [
       "87"
      ]
     },
     "execution_count": 3,
     "metadata": {},
     "output_type": "execute_result"
    }
   ],
   "source": [
    "len(admissions.columns)"
   ]
  },
  {
   "cell_type": "markdown",
   "id": "referenced-netherlands",
   "metadata": {},
   "source": [
    "# Survival Analysis: Kaplan Meier Curve"
   ]
  },
  {
   "cell_type": "code",
   "execution_count": 4,
   "id": "interesting-arrest",
   "metadata": {},
   "outputs": [
    {
     "data": {
      "text/plain": [
       "Text(0, 0.5, 'Probability of Survival')"
      ]
     },
     "execution_count": 4,
     "metadata": {},
     "output_type": "execute_result"
    },
    {
     "data": {
      "image/png": "[encoded data removed]",
      "text/plain": [
       "<Figure size 432x288 with 1 Axes>"
      ]
     },
     "metadata": {
      "needs_background": "light"
     },
     "output_type": "display_data"
    }
   ],
   "source": [
    "from lifelines import KaplanMeierFitter\n",
    "# infected vs not infected\n",
    "kmf = KaplanMeierFitter()\n",
    "kmc_ads = admissions.drop_duplicates(subset='MRN',keep='last')\n",
    "X = kmc_ads['survival_months']\n",
    "Y = kmc_ads['alive_dead']\n",
    "score_group = kmc_ads['infection_present'] == 1\n",
    "ax = plt.subplot(111)\n",
    "kmf.fit(X[~score_group], event_observed = Y[~score_group], label = 'No Infection')\n",
    "kmf.plot(ax = ax)\n",
    "kmf.fit(X[score_group], event_observed = Y[score_group], label = 'Infection')\n",
    "kmf.plot(ax = ax)\n",
    "font = {'family' : 'normal',\n",
    "        'weight' : 'normal',\n",
    "        'size'   : 14}\n",
    "plt.rc('font', **font)\n",
    "#plt.title(\"Kaplan Meier Estimates by Infection/No Infection\")\n",
    "plt.xlabel(\"Month After AML diagnosis\")\n",
    "plt.ylabel(\"Probability of Survival\")\n",
    "# plt.savefig('output/KM_infections.png',bbox_inches='tight')"
   ]
  },
  {
   "cell_type": "code",
   "execution_count": 5,
   "id": "happy-ceramic",
   "metadata": {},
   "outputs": [
    {
     "name": "stdout",
     "output_type": "stream",
     "text": [
      "95\n",
      "36\n",
      "0.37894736842105264\n"
     ]
    }
   ],
   "source": [
    "print(len(Y)) # num patients\n",
    "print(sum(Y)) # num deaths\n",
    "print(sum(Y)/len(Y)) # death ratio"
   ]
  },
  {
   "cell_type": "code",
   "execution_count": 6,
   "id": "standing-publisher",
   "metadata": {},
   "outputs": [
    {
     "data": {
      "text/html": [
       "<div>\n",
       "<style scoped>\n",
       "    .dataframe tbody tr th:only-of-type {\n",
       "        vertical-align: middle;\n",
       "    }\n",
       "\n",
       "    .dataframe tbody tr th {\n",
       "        vertical-align: top;\n",
       "    }\n",
       "\n",
       "    .dataframe thead th {\n",
       "        text-align: right;\n",
       "    }\n",
       "</style>\n",
       "<table border=\"1\" class=\"dataframe\">\n",
       "  <tbody>\n",
       "    <tr>\n",
       "      <th>t_0</th>\n",
       "      <td>-1</td>\n",
       "    </tr>\n",
       "    <tr>\n",
       "      <th>null_distribution</th>\n",
       "      <td>chi squared</td>\n",
       "    </tr>\n",
       "    <tr>\n",
       "      <th>degrees_of_freedom</th>\n",
       "      <td>1</td>\n",
       "    </tr>\n",
       "    <tr>\n",
       "      <th>test_name</th>\n",
       "      <td>logrank_test</td>\n",
       "    </tr>\n",
       "  </tbody>\n",
       "</table>\n",
       "</div><table border=\"1\" class=\"dataframe\">\n",
       "  <thead>\n",
       "    <tr style=\"text-align: right;\">\n",
       "      <th></th>\n",
       "      <th>test_statistic</th>\n",
       "      <th>p</th>\n",
       "      <th>-log2(p)</th>\n",
       "    </tr>\n",
       "  </thead>\n",
       "  <tbody>\n",
       "    <tr>\n",
       "      <th>0</th>\n",
       "      <td>0.00</td>\n",
       "      <td>0.97</td>\n",
       "      <td>0.04</td>\n",
       "    </tr>\n",
       "  </tbody>\n",
       "</table>"
      ],
      "text/latex": [
       "\\begin{tabular}{lrrr}\n",
       "\\toprule\n",
       "{} &  test\\_statistic &         p &  -log2(p) \\\\\n",
       "\\midrule\n",
       "0 &        0.001348 &  0.970714 &  0.042882 \\\\\n",
       "\\bottomrule\n",
       "\\end{tabular}\n"
      ],
      "text/plain": [
       "<lifelines.StatisticalResult: logrank_test>\n",
       "               t_0 = -1\n",
       " null_distribution = chi squared\n",
       "degrees_of_freedom = 1\n",
       "         test_name = logrank_test\n",
       "\n",
       "---\n",
       " test_statistic    p  -log2(p)\n",
       "           0.00 0.97      0.04"
      ]
     },
     "metadata": {},
     "output_type": "display_data"
    }
   ],
   "source": [
    "# logrank test\n",
    "from lifelines.statistics import logrank_test\n",
    "results=logrank_test(X[~score_group],X[score_group],event_observed_A=Y[~score_group], event_observed_B=Y[score_group])\n",
    "results.print_summary()"
   ]
  },
  {
   "cell_type": "code",
   "execution_count": 7,
   "id": "casual-worry",
   "metadata": {},
   "outputs": [
    {
     "data": {
      "text/plain": [
       "Text(0, 0.5, 'Probability of Survival')"
      ]
     },
     "execution_count": 7,
     "metadata": {},
     "output_type": "execute_result"
    },
    {
     "name": "stderr",
     "output_type": "stream",
     "text": [
      "findfont: Font family ['normal'] not found. Falling back to DejaVu Sans.\n"
     ]
    },
    {
     "data": {
      "image/png": "[encoded data removed]",
      "text/plain": [
       "<Figure size 432x288 with 1 Axes>"
      ]
     },
     "metadata": {
      "needs_background": "light"
     },
     "output_type": "display_data"
    }
   ],
   "source": [
    "# race (white vs. other)\n",
    "kmf = KaplanMeierFitter()\n",
    "kmc_ads = admissions.drop_duplicates(subset='MRN',keep='last')\n",
    "X = kmc_ads['survival_months']\n",
    "Y = kmc_ads['alive_dead']\n",
    "score_group = kmc_ads['white_caucasian'] == 1\n",
    "ax = plt.subplot(111)\n",
    "kmf.fit(X[score_group], event_observed = Y[score_group], label = 'White/Caucasian')\n",
    "kmf.plot(ax = ax)\n",
    "kmf.fit(X[~score_group], event_observed = Y[~score_group], label = 'Other')\n",
    "kmf.plot(ax = ax)\n",
    "font = {'family' : 'normal',\n",
    "        'weight' : 'normal',\n",
    "        'size'   : 14}\n",
    "plt.rc('font', **font)\n",
    "#plt.title(\"Kaplan Meier Estimates by Race\")\n",
    "plt.xlabel(\"Month After AML diagnosis\")\n",
    "plt.ylabel(\"Probability of Survival\")\n",
    "# plt.savefig('output/KM_race.png',bbox_inches='tight')"
   ]
  },
  {
   "cell_type": "code",
   "execution_count": 8,
   "id": "explicit-light",
   "metadata": {},
   "outputs": [
    {
     "data": {
      "text/html": [
       "<div>\n",
       "<style scoped>\n",
       "    .dataframe tbody tr th:only-of-type {\n",
       "        vertical-align: middle;\n",
       "    }\n",
       "\n",
       "    .dataframe tbody tr th {\n",
       "        vertical-align: top;\n",
       "    }\n",
       "\n",
       "    .dataframe thead th {\n",
       "        text-align: right;\n",
       "    }\n",
       "</style>\n",
       "<table border=\"1\" class=\"dataframe\">\n",
       "  <tbody>\n",
       "    <tr>\n",
       "      <th>t_0</th>\n",
       "      <td>-1</td>\n",
       "    </tr>\n",
       "    <tr>\n",
       "      <th>null_distribution</th>\n",
       "      <td>chi squared</td>\n",
       "    </tr>\n",
       "    <tr>\n",
       "      <th>degrees_of_freedom</th>\n",
       "      <td>1</td>\n",
       "    </tr>\n",
       "    <tr>\n",
       "      <th>test_name</th>\n",
       "      <td>logrank_test</td>\n",
       "    </tr>\n",
       "  </tbody>\n",
       "</table>\n",
       "</div><table border=\"1\" class=\"dataframe\">\n",
       "  <thead>\n",
       "    <tr style=\"text-align: right;\">\n",
       "      <th></th>\n",
       "      <th>test_statistic</th>\n",
       "      <th>p</th>\n",
       "      <th>-log2(p)</th>\n",
       "    </tr>\n",
       "  </thead>\n",
       "  <tbody>\n",
       "    <tr>\n",
       "      <th>0</th>\n",
       "      <td>6.00</td>\n",
       "      <td>0.01</td>\n",
       "      <td>6.13</td>\n",
       "    </tr>\n",
       "  </tbody>\n",
       "</table>"
      ],
      "text/latex": [
       "\\begin{tabular}{lrrr}\n",
       "\\toprule\n",
       "{} &  test\\_statistic &         p &  -log2(p) \\\\\n",
       "\\midrule\n",
       "0 &        5.998901 &  0.014315 &  6.126349 \\\\\n",
       "\\bottomrule\n",
       "\\end{tabular}\n"
      ],
      "text/plain": [
       "<lifelines.StatisticalResult: logrank_test>\n",
       "               t_0 = -1\n",
       " null_distribution = chi squared\n",
       "degrees_of_freedom = 1\n",
       "         test_name = logrank_test\n",
       "\n",
       "---\n",
       " test_statistic    p  -log2(p)\n",
       "           6.00 0.01      6.13"
      ]
     },
     "metadata": {},
     "output_type": "display_data"
    }
   ],
   "source": [
    "results=logrank_test(X[score_group],X[~score_group],event_observed_A=Y[score_group], event_observed_B=Y[~score_group])\n",
    "results.print_summary()"
   ]
  },
  {
   "cell_type": "markdown",
   "id": "conservative-springer",
   "metadata": {},
   "source": [
    "# Machine Learning Analysis"
   ]
  },
  {
   "cell_type": "markdown",
   "id": "rental-privilege",
   "metadata": {},
   "source": [
    "## Explanation"
   ]
  },
  {
   "cell_type": "code",
   "execution_count": 9,
   "id": "large-daughter",
   "metadata": {},
   "outputs": [
    {
     "name": "stdout",
     "output_type": "stream",
     "text": [
      "There are 429 total admissions.\n",
      "There are 343 infection-negative admissions.\n"
     ]
    }
   ],
   "source": [
    "import numpy as np\n",
    "import pandas as pd\n",
    "from scipy import stats\n",
    "import matplotlib.pyplot as plt\n",
    "from matplotlib.pyplot import plot, show, savefig, xlim, figure, \\\n",
    "                ylim, legend, boxplot, setp, axes\n",
    "%matplotlib inline\n",
    "import statsmodels.api as sm\n",
    "\n",
    "admissions = pd.read_excel('data/aml_data_8.16.23.xlsx')\n",
    "admissions.dropna(subset=['cytarabine'],inplace=True)\n",
    "ads_cv = pd.get_dummies(admissions['CV_line'], drop_first = True)\n",
    "cvs = ads_cv.columns\n",
    "admissions = pd.concat([admissions, ads_cv], axis=1)\n",
    "admissions['male'] = admissions['gender'].map({'M':1, 'F':0})\n",
    "\n",
    "print('There are '+str(len(admissions))+' total admissions.')\n",
    "neg_ads = admissions[admissions['infection_present'] == 0]\n",
    "print('There are '+str(len(neg_ads))+' infection-negative admissions.')"
   ]
  },
  {
   "cell_type": "markdown",
   "id": "static-kelly",
   "metadata": {},
   "source": [
    "### Univariate Analysis & Logistic Regression"
   ]
  },
  {
   "cell_type": "code",
   "execution_count": 10,
   "id": "absent-myanmar",
   "metadata": {},
   "outputs": [],
   "source": [
    "alpha = .05"
   ]
  },
  {
   "cell_type": "code",
   "execution_count": 11,
   "id": "smaller-certification",
   "metadata": {},
   "outputs": [
    {
     "name": "stdout",
     "output_type": "stream",
     "text": [
      "There are 86 infection-positive admissions.\n",
      "There are 47 patients that were infected.\n",
      "There are 343 infection-negative admissions.\n"
     ]
    }
   ],
   "source": [
    "pos_ads = admissions[admissions['infection_present'] == 1]\n",
    "print('There are '+str(len(pos_ads))+' infection-positive admissions.')\n",
    "print('There are '+str(len(pos_ads.MRN.unique()))+' patients that were infected.')\n",
    "#pos_ads.head()\n",
    "neg_ads = admissions[admissions['infection_present'] == 0]\n",
    "print('There are '+str(len(neg_ads))+' infection-negative admissions.')\n",
    "#neg_ads.head()"
   ]
  },
  {
   "cell_type": "markdown",
   "id": "exclusive-senior",
   "metadata": {},
   "source": [
    "#### Cytarabine"
   ]
  },
  {
   "cell_type": "code",
   "execution_count": 12,
   "id": "further-louisiana",
   "metadata": {},
   "outputs": [
    {
     "name": "stdout",
     "output_type": "stream",
     "text": [
      "Optimization terminated successfully.\n",
      "         Current function value: 0.483703\n",
      "         Iterations 6\n"
     ]
    },
    {
     "data": {
      "text/html": [
       "<table class=\"simpletable\">\n",
       "<caption>Logit Regression Results</caption>\n",
       "<tr>\n",
       "  <th>Dep. Variable:</th>   <td>infection_present</td> <th>  No. Observations:  </th>  <td>   429</td> \n",
       "</tr>\n",
       "<tr>\n",
       "  <th>Model:</th>                 <td>Logit</td>       <th>  Df Residuals:      </th>  <td>   424</td> \n",
       "</tr>\n",
       "<tr>\n",
       "  <th>Method:</th>                 <td>MLE</td>        <th>  Df Model:          </th>  <td>     4</td> \n",
       "</tr>\n",
       "<tr>\n",
       "  <th>Date:</th>            <td>Wed, 22 Nov 2023</td>  <th>  Pseudo R-squ.:     </th>  <td>0.03462</td>\n",
       "</tr>\n",
       "<tr>\n",
       "  <th>Time:</th>                <td>12:31:45</td>      <th>  Log-Likelihood:    </th> <td> -207.51</td>\n",
       "</tr>\n",
       "<tr>\n",
       "  <th>converged:</th>             <td>True</td>        <th>  LL-Null:           </th> <td> -214.95</td>\n",
       "</tr>\n",
       "<tr>\n",
       "  <th>Covariance Type:</th>     <td>nonrobust</td>     <th>  LLR p-value:       </th> <td>0.004952</td>\n",
       "</tr>\n",
       "</table>\n",
       "<table class=\"simpletable\">\n",
       "<tr>\n",
       "           <td></td>              <th>coef</th>     <th>std err</th>      <th>z</th>      <th>P>|z|</th>  <th>[0.025</th>    <th>0.975]</th>  \n",
       "</tr>\n",
       "<tr>\n",
       "  <th>const</th>               <td>   -2.2413</td> <td>    0.312</td> <td>   -7.181</td> <td> 0.000</td> <td>   -2.853</td> <td>   -1.630</td>\n",
       "</tr>\n",
       "<tr>\n",
       "  <th>age</th>                 <td>    0.0313</td> <td>    0.023</td> <td>    1.366</td> <td> 0.172</td> <td>   -0.014</td> <td>    0.076</td>\n",
       "</tr>\n",
       "<tr>\n",
       "  <th>male</th>                <td>    0.2831</td> <td>    0.263</td> <td>    1.077</td> <td> 0.281</td> <td>   -0.232</td> <td>    0.798</td>\n",
       "</tr>\n",
       "<tr>\n",
       "  <th>white_caucasian</th>     <td>    0.3430</td> <td>    0.281</td> <td>    1.220</td> <td> 0.223</td> <td>   -0.208</td> <td>    0.894</td>\n",
       "</tr>\n",
       "<tr>\n",
       "  <th>Cytarabine_g/m2/day</th> <td>    0.1166</td> <td>    0.047</td> <td>    2.494</td> <td> 0.013</td> <td>    0.025</td> <td>    0.208</td>\n",
       "</tr>\n",
       "</table>"
      ],
      "text/plain": [
       "<class 'statsmodels.iolib.summary.Summary'>\n",
       "\"\"\"\n",
       "                           Logit Regression Results                           \n",
       "==============================================================================\n",
       "Dep. Variable:      infection_present   No. Observations:                  429\n",
       "Model:                          Logit   Df Residuals:                      424\n",
       "Method:                           MLE   Df Model:                            4\n",
       "Date:                Wed, 22 Nov 2023   Pseudo R-squ.:                 0.03462\n",
       "Time:                        12:31:45   Log-Likelihood:                -207.51\n",
       "converged:                       True   LL-Null:                       -214.95\n",
       "Covariance Type:            nonrobust   LLR p-value:                  0.004952\n",
       "=======================================================================================\n",
       "                          coef    std err          z      P>|z|      [0.025      0.975]\n",
       "---------------------------------------------------------------------------------------\n",
       "const                  -2.2413      0.312     -7.181      0.000      -2.853      -1.630\n",
       "age                     0.0313      0.023      1.366      0.172      -0.014       0.076\n",
       "male                    0.2831      0.263      1.077      0.281      -0.232       0.798\n",
       "white_caucasian         0.3430      0.281      1.220      0.223      -0.208       0.894\n",
       "Cytarabine_g/m2/day     0.1166      0.047      2.494      0.013       0.025       0.208\n",
       "=======================================================================================\n",
       "\"\"\""
      ]
     },
     "execution_count": 12,
     "metadata": {},
     "output_type": "execute_result"
    }
   ],
   "source": [
    "# continuous cytarabine\n",
    "admissions['Cytarabine_g/m2/day'] = admissions['Cytarabine mg/m2/day']*0.001\n",
    "featureset = ['age','male','white_caucasian','Cytarabine_g/m2/day','infection_present']\n",
    "ads_logreg = admissions[featureset]\n",
    "target = ads_logreg['infection_present']\n",
    "features = ads_logreg.drop(['infection_present'],axis=1)\n",
    "model = sm.Logit(target, sm.add_constant(features))\n",
    "result = model.fit()\n",
    "result.summary()"
   ]
  },
  {
   "cell_type": "code",
   "execution_count": null,
   "id": "aging-community",
   "metadata": {},
   "outputs": [],
   "source": [
    "# cytarabine >= 2000\n",
    "featureset = ['age','male','white_caucasian','cyt_2000','infection_present']\n",
    "ads_logreg = admissions[featureset]\n",
    "target = ads_logreg['infection_present']\n",
    "features = ads_logreg.drop(['infection_present'],axis=1)\n",
    "model = sm.Logit(target, sm.add_constant(features))\n",
    "result = model.fit()\n",
    "result.summary()"
   ]
  },
  {
   "cell_type": "code",
   "execution_count": null,
   "id": "visible-message",
   "metadata": {},
   "outputs": [],
   "source": [
    "# continuous cytarabine\n",
    "# admissions['Cytarabine_g/m2/day'] = admissions['Cytarabine mg/m2/day']*0.001\n",
    "featureset = ['age','male','white_caucasian','Cytarabine mg/m2/day','infection_present']\n",
    "ads_logreg = admissions[featureset]\n",
    "target = ads_logreg['infection_present']\n",
    "features = ads_logreg.drop(['infection_present'],axis=1)\n",
    "model = sm.Logit(target, sm.add_constant(features))\n",
    "result = model.fit()\n",
    "result.summary()"
   ]
  },
  {
   "cell_type": "code",
   "execution_count": null,
   "id": "toxic-universe",
   "metadata": {},
   "outputs": [],
   "source": [
    "# binary cytarabine\n",
    "featureset = ['age','male','white_caucasian','cytarabine','infection_present']\n",
    "ads_logreg = admissions[featureset]\n",
    "target = ads_logreg['infection_present']\n",
    "features = ads_logreg.drop(['infection_present'],axis=1)\n",
    "model = sm.Logit(target, sm.add_constant(features))\n",
    "result = model.fit()\n",
    "result.summary()"
   ]
  },
  {
   "cell_type": "markdown",
   "id": "compact-parking",
   "metadata": {},
   "source": [
    "#### Levofloxacin"
   ]
  },
  {
   "cell_type": "code",
   "execution_count": 13,
   "id": "chubby-recipe",
   "metadata": {},
   "outputs": [
    {
     "name": "stdout",
     "output_type": "stream",
     "text": [
      "Optimization terminated successfully.\n",
      "         Current function value: 0.481614\n",
      "         Iterations 6\n"
     ]
    },
    {
     "data": {
      "text/html": [
       "<table class=\"simpletable\">\n",
       "<caption>Logit Regression Results</caption>\n",
       "<tr>\n",
       "  <th>Dep. Variable:</th>   <td>infection_present</td> <th>  No. Observations:  </th>  <td>   429</td> \n",
       "</tr>\n",
       "<tr>\n",
       "  <th>Model:</th>                 <td>Logit</td>       <th>  Df Residuals:      </th>  <td>   424</td> \n",
       "</tr>\n",
       "<tr>\n",
       "  <th>Method:</th>                 <td>MLE</td>        <th>  Df Model:          </th>  <td>     4</td> \n",
       "</tr>\n",
       "<tr>\n",
       "  <th>Date:</th>            <td>Wed, 22 Nov 2023</td>  <th>  Pseudo R-squ.:     </th>  <td>0.03879</td>\n",
       "</tr>\n",
       "<tr>\n",
       "  <th>Time:</th>                <td>12:31:50</td>      <th>  Log-Likelihood:    </th> <td> -206.61</td>\n",
       "</tr>\n",
       "<tr>\n",
       "  <th>converged:</th>             <td>True</td>        <th>  LL-Null:           </th> <td> -214.95</td>\n",
       "</tr>\n",
       "<tr>\n",
       "  <th>Covariance Type:</th>     <td>nonrobust</td>     <th>  LLR p-value:       </th> <td>0.002236</td>\n",
       "</tr>\n",
       "</table>\n",
       "<table class=\"simpletable\">\n",
       "<tr>\n",
       "         <td></td>            <th>coef</th>     <th>std err</th>      <th>z</th>      <th>P>|z|</th>  <th>[0.025</th>    <th>0.975]</th>  \n",
       "</tr>\n",
       "<tr>\n",
       "  <th>const</th>           <td>   -1.8782</td> <td>    0.320</td> <td>   -5.871</td> <td> 0.000</td> <td>   -2.505</td> <td>   -1.251</td>\n",
       "</tr>\n",
       "<tr>\n",
       "  <th>age</th>             <td>    0.0363</td> <td>    0.023</td> <td>    1.586</td> <td> 0.113</td> <td>   -0.009</td> <td>    0.081</td>\n",
       "</tr>\n",
       "<tr>\n",
       "  <th>male</th>            <td>    0.1998</td> <td>    0.266</td> <td>    0.752</td> <td> 0.452</td> <td>   -0.321</td> <td>    0.720</td>\n",
       "</tr>\n",
       "<tr>\n",
       "  <th>white_caucasian</th> <td>    0.4431</td> <td>    0.282</td> <td>    1.571</td> <td> 0.116</td> <td>   -0.110</td> <td>    0.996</td>\n",
       "</tr>\n",
       "<tr>\n",
       "  <th>levo</th>            <td>   -0.7517</td> <td>    0.280</td> <td>   -2.689</td> <td> 0.007</td> <td>   -1.300</td> <td>   -0.204</td>\n",
       "</tr>\n",
       "</table>"
      ],
      "text/plain": [
       "<class 'statsmodels.iolib.summary.Summary'>\n",
       "\"\"\"\n",
       "                           Logit Regression Results                           \n",
       "==============================================================================\n",
       "Dep. Variable:      infection_present   No. Observations:                  429\n",
       "Model:                          Logit   Df Residuals:                      424\n",
       "Method:                           MLE   Df Model:                            4\n",
       "Date:                Wed, 22 Nov 2023   Pseudo R-squ.:                 0.03879\n",
       "Time:                        12:31:50   Log-Likelihood:                -206.61\n",
       "converged:                       True   LL-Null:                       -214.95\n",
       "Covariance Type:            nonrobust   LLR p-value:                  0.002236\n",
       "===================================================================================\n",
       "                      coef    std err          z      P>|z|      [0.025      0.975]\n",
       "-----------------------------------------------------------------------------------\n",
       "const              -1.8782      0.320     -5.871      0.000      -2.505      -1.251\n",
       "age                 0.0363      0.023      1.586      0.113      -0.009       0.081\n",
       "male                0.1998      0.266      0.752      0.452      -0.321       0.720\n",
       "white_caucasian     0.4431      0.282      1.571      0.116      -0.110       0.996\n",
       "levo               -0.7517      0.280     -2.689      0.007      -1.300      -0.204\n",
       "===================================================================================\n",
       "\"\"\""
      ]
     },
     "execution_count": 13,
     "metadata": {},
     "output_type": "execute_result"
    }
   ],
   "source": [
    "featureset = ['age','male','white_caucasian','levo','infection_present']\n",
    "ads_logreg = admissions[featureset]\n",
    "target = ads_logreg['infection_present']\n",
    "features = ads_logreg.drop(['infection_present'],axis=1)\n",
    "model = sm.Logit(target, sm.add_constant(features))\n",
    "result = model.fit()\n",
    "result.summary()"
   ]
  },
  {
   "cell_type": "markdown",
   "id": "approved-layout",
   "metadata": {},
   "source": [
    "#### Vancomycin - not reporting anymore"
   ]
  },
  {
   "cell_type": "code",
   "execution_count": null,
   "id": "discrete-webmaster",
   "metadata": {},
   "outputs": [],
   "source": [
    "featureset = ['age','male','white_caucasian','vanco','infection_present']\n",
    "ads_logreg = admissions[featureset]\n",
    "target = ads_logreg['infection_present']\n",
    "features = ads_logreg.drop(['infection_present'],axis=1)\n",
    "model = sm.Logit(target, sm.add_constant(features))\n",
    "result = model.fit()\n",
    "result.summary()"
   ]
  },
  {
   "cell_type": "markdown",
   "id": "opposite-rachel",
   "metadata": {},
   "source": [
    "#### Logistic Regression with  Treatments and Controls (age,sex,race)"
   ]
  },
  {
   "cell_type": "code",
   "execution_count": 14,
   "id": "norman-minneapolis",
   "metadata": {},
   "outputs": [
    {
     "name": "stdout",
     "output_type": "stream",
     "text": [
      "Optimization terminated successfully.\n",
      "         Current function value: 0.475943\n",
      "         Iterations 6\n"
     ]
    },
    {
     "data": {
      "text/html": [
       "<table class=\"simpletable\">\n",
       "<caption>Logit Regression Results</caption>\n",
       "<tr>\n",
       "  <th>Dep. Variable:</th>   <td>infection_present</td> <th>  No. Observations:  </th>  <td>   429</td>  \n",
       "</tr>\n",
       "<tr>\n",
       "  <th>Model:</th>                 <td>Logit</td>       <th>  Df Residuals:      </th>  <td>   423</td>  \n",
       "</tr>\n",
       "<tr>\n",
       "  <th>Method:</th>                 <td>MLE</td>        <th>  Df Model:          </th>  <td>     5</td>  \n",
       "</tr>\n",
       "<tr>\n",
       "  <th>Date:</th>            <td>Wed, 22 Nov 2023</td>  <th>  Pseudo R-squ.:     </th>  <td>0.05011</td> \n",
       "</tr>\n",
       "<tr>\n",
       "  <th>Time:</th>                <td>12:31:53</td>      <th>  Log-Likelihood:    </th> <td> -204.18</td> \n",
       "</tr>\n",
       "<tr>\n",
       "  <th>converged:</th>             <td>True</td>        <th>  LL-Null:           </th> <td> -214.95</td> \n",
       "</tr>\n",
       "<tr>\n",
       "  <th>Covariance Type:</th>     <td>nonrobust</td>     <th>  LLR p-value:       </th> <td>0.0006401</td>\n",
       "</tr>\n",
       "</table>\n",
       "<table class=\"simpletable\">\n",
       "<tr>\n",
       "           <td></td>              <th>coef</th>     <th>std err</th>      <th>z</th>      <th>P>|z|</th>  <th>[0.025</th>    <th>0.975]</th>  \n",
       "</tr>\n",
       "<tr>\n",
       "  <th>const</th>               <td>   -1.9770</td> <td>    0.325</td> <td>   -6.090</td> <td> 0.000</td> <td>   -2.613</td> <td>   -1.341</td>\n",
       "</tr>\n",
       "<tr>\n",
       "  <th>age</th>                 <td>    0.0301</td> <td>    0.023</td> <td>    1.292</td> <td> 0.197</td> <td>   -0.016</td> <td>    0.076</td>\n",
       "</tr>\n",
       "<tr>\n",
       "  <th>male</th>                <td>    0.1933</td> <td>    0.268</td> <td>    0.720</td> <td> 0.471</td> <td>   -0.333</td> <td>    0.719</td>\n",
       "</tr>\n",
       "<tr>\n",
       "  <th>white_caucasian</th>     <td>    0.4051</td> <td>    0.284</td> <td>    1.425</td> <td> 0.154</td> <td>   -0.152</td> <td>    0.962</td>\n",
       "</tr>\n",
       "<tr>\n",
       "  <th>Cytarabine_g/m2/day</th> <td>    0.1044</td> <td>    0.047</td> <td>    2.238</td> <td> 0.025</td> <td>    0.013</td> <td>    0.196</td>\n",
       "</tr>\n",
       "<tr>\n",
       "  <th>levo</th>                <td>   -0.7039</td> <td>    0.281</td> <td>   -2.501</td> <td> 0.012</td> <td>   -1.256</td> <td>   -0.152</td>\n",
       "</tr>\n",
       "</table>"
      ],
      "text/plain": [
       "<class 'statsmodels.iolib.summary.Summary'>\n",
       "\"\"\"\n",
       "                           Logit Regression Results                           \n",
       "==============================================================================\n",
       "Dep. Variable:      infection_present   No. Observations:                  429\n",
       "Model:                          Logit   Df Residuals:                      423\n",
       "Method:                           MLE   Df Model:                            5\n",
       "Date:                Wed, 22 Nov 2023   Pseudo R-squ.:                 0.05011\n",
       "Time:                        12:31:53   Log-Likelihood:                -204.18\n",
       "converged:                       True   LL-Null:                       -214.95\n",
       "Covariance Type:            nonrobust   LLR p-value:                 0.0006401\n",
       "=======================================================================================\n",
       "                          coef    std err          z      P>|z|      [0.025      0.975]\n",
       "---------------------------------------------------------------------------------------\n",
       "const                  -1.9770      0.325     -6.090      0.000      -2.613      -1.341\n",
       "age                     0.0301      0.023      1.292      0.197      -0.016       0.076\n",
       "male                    0.1933      0.268      0.720      0.471      -0.333       0.719\n",
       "white_caucasian         0.4051      0.284      1.425      0.154      -0.152       0.962\n",
       "Cytarabine_g/m2/day     0.1044      0.047      2.238      0.025       0.013       0.196\n",
       "levo                   -0.7039      0.281     -2.501      0.012      -1.256      -0.152\n",
       "=======================================================================================\n",
       "\"\"\""
      ]
     },
     "execution_count": 14,
     "metadata": {},
     "output_type": "execute_result"
    }
   ],
   "source": [
    "# continuous cytarabine\n",
    "admissions = pd.read_excel('data/aml_data_8.16.23.xlsx')\n",
    "admissions.dropna(subset=['Cytarabine mg/m2/day'],inplace=True)\n",
    "admissions['male'] = admissions['gender'].map({'M':1, 'F':0})\n",
    "\n",
    "admissions['Cytarabine_g/m2/day'] = admissions['Cytarabine mg/m2/day']*0.001\n",
    "featureset = ['age','male','white_caucasian','Cytarabine_g/m2/day','levo','infection_present']\n",
    "ads_logreg = admissions[featureset]\n",
    "target = ads_logreg['infection_present']\n",
    "features = ads_logreg.drop(['infection_present'],axis=1)\n",
    "model = sm.Logit(target, sm.add_constant(features))\n",
    "result = model.fit()\n",
    "result.summary()"
   ]
  },
  {
   "cell_type": "code",
   "execution_count": null,
   "id": "spectacular-community",
   "metadata": {},
   "outputs": [],
   "source": [
    "# cytarabine >= 2000\n",
    "admissions = pd.read_excel('data/aml_data_8.16.23.xlsx')\n",
    "admissions.dropna(subset=['Cytarabine mg/m2/day'],inplace=True)\n",
    "admissions['male'] = admissions['gender'].map({'M':1, 'F':0})\n",
    "\n",
    "featureset = ['age','male','white_caucasian','cyt_2000','levo','infection_present']\n",
    "ads_logreg = admissions[featureset]\n",
    "target = ads_logreg['infection_present']\n",
    "features = ads_logreg.drop(['infection_present'],axis=1)\n",
    "model = sm.Logit(target, sm.add_constant(features))\n",
    "result = model.fit()\n",
    "result.summary()"
   ]
  },
  {
   "cell_type": "code",
   "execution_count": null,
   "id": "loved-consumer",
   "metadata": {},
   "outputs": [],
   "source": [
    "# continuous cytarabine\n",
    "admissions = pd.read_excel('data/aml_data_8.16.23.xlsx')\n",
    "admissions.dropna(subset=['Cytarabine mg/m2/day'],inplace=True)\n",
    "admissions['male'] = admissions['gender'].map({'M':1, 'F':0})\n",
    "\n",
    "# admissions['Cytarabine_g/m2/day'] = admissions['Cytarabine mg/m2/day']*0.001\n",
    "featureset = ['age','male','white_caucasian','Cytarabine mg/m2/day','levo','infection_present']\n",
    "ads_logreg = admissions[featureset]\n",
    "target = ads_logreg['infection_present']\n",
    "features = ads_logreg.drop(['infection_present'],axis=1)\n",
    "model = sm.Logit(target, sm.add_constant(features))\n",
    "result = model.fit()\n",
    "result.summary()"
   ]
  },
  {
   "cell_type": "code",
   "execution_count": null,
   "id": "boolean-challenge",
   "metadata": {},
   "outputs": [],
   "source": [
    "# binary cytarabine\n",
    "admissions = pd.read_excel('data/aml_data_8.16.23.xlsx')\n",
    "admissions.dropna(subset=['Cytarabine mg/m2/day'],inplace=True)\n",
    "ads_cv = pd.get_dummies(admissions['CV_line'], drop_first = True)\n",
    "cvs = ads_cv.columns\n",
    "admissions = pd.concat([admissions, ads_cv], axis=1)\n",
    "admissions['male'] = admissions['gender'].map({'M':1, 'F':0})\n",
    "\n",
    "featureset = ['age','male','white_caucasian','cytarabine','levo','infection_present']\n",
    "ads_logreg = admissions[featureset]\n",
    "target = ads_logreg['infection_present']\n",
    "features = ads_logreg.drop(['infection_present'],axis=1)\n",
    "model = sm.Logit(target, sm.add_constant(features))\n",
    "result = model.fit()\n",
    "result.summary()"
   ]
  },
  {
   "cell_type": "markdown",
   "id": "documented-amino",
   "metadata": {},
   "source": [
    "## Prediction"
   ]
  },
  {
   "cell_type": "markdown",
   "id": "attempted-reporter",
   "metadata": {},
   "source": [
    "#### Using our best model that has continous cytarabine and hemoglobin and monocytes (pickles #9)"
   ]
  },
  {
   "cell_type": "code",
   "execution_count": 15,
   "id": "vocal-smile",
   "metadata": {},
   "outputs": [
    {
     "name": "stdout",
     "output_type": "stream",
     "text": [
      "There are 423 total admissions.\n",
      "There are 338 infection-negative admissions.\n"
     ]
    }
   ],
   "source": [
    "import numpy as np\n",
    "import pandas as pd\n",
    "from scipy import stats\n",
    "import matplotlib.pyplot as plt\n",
    "from matplotlib.pyplot import plot, show, savefig, xlim, figure, \\\n",
    "                ylim, legend, boxplot, setp, axes\n",
    "%matplotlib inline\n",
    "import statsmodels.api as sm\n",
    "\n",
    "admissions = pd.read_excel('data/aml_data_8.16.23.xlsx')\n",
    "admissions.dropna(subset=['Cytarabine mg/m2/day'],inplace=True)\n",
    "ads_cv = pd.get_dummies(admissions['CV_line'], drop_first = True)\n",
    "cvs = ads_cv.columns\n",
    "admissions = pd.concat([admissions, ads_cv], axis=1)\n",
    "admissions['male'] = admissions['gender'].map({'M':1, 'F':0})\n",
    "\n",
    "admissions.first_bmi_kg_m2 = admissions.first_bmi_kg_m2.replace(np.nan,admissions.first_bmi_kg_m2.median())\n",
    "admissions.dropna(subset=['lowest_neutrophil'],inplace=True)\n",
    "admissions.dropna(subset=['lowest_platelet'],inplace=True)\n",
    "admissions.dropna(subset=['lowest_hemoglobin'],inplace=True)\n",
    "admissions.dropna(subset=['lowest_monocytes'],inplace=True)\n",
    "admissions.reset_index(inplace=True)\n",
    "print('There are '+str(len(admissions))+' total admissions.')\n",
    "neg_ads = admissions[admissions['infection_present'] == 0]\n",
    "print('There are '+str(len(neg_ads))+' infection-negative admissions.')"
   ]
  },
  {
   "cell_type": "code",
   "execution_count": 16,
   "id": "controversial-modification",
   "metadata": {},
   "outputs": [],
   "source": [
    "from sklearn.linear_model import LogisticRegression\n",
    "from sklearn.tree import DecisionTreeClassifier\n",
    "from sklearn.neighbors import KNeighborsClassifier\n",
    "from sklearn.ensemble import RandomForestClassifier\n",
    "\n",
    "from sklearn.model_selection import train_test_split\n",
    "from sklearn.model_selection import KFold\n",
    "from sklearn.model_selection import LeaveOneOut\n",
    "from sklearn.model_selection import GridSearchCV\n",
    "from sklearn.metrics import roc_auc_score, roc_curve\n",
    "\n",
    "\n",
    "featureset = ['age',\n",
    "        'white_caucasian','first_bmi_kg_m2','lowest_neutrophil','lowest_platelet',\n",
    "        'max_temp_38.5','Cytarabine mg/m2/day','levo',\n",
    "        'lowest_hemoglobin','lowest_monocytes',\n",
    "        'Other', 'Port',\n",
    "        'male','infection_present']\n",
    "ads_CART = admissions[featureset]\n",
    "X = ads_CART.drop(['infection_present'],axis=1)\n",
    "y = ads_CART['infection_present']\n",
    "\n",
    "cart = DecisionTreeClassifier()\n",
    "logreg = LogisticRegression(solver='liblinear')\n",
    "knn = KNeighborsClassifier()\n",
    "rf = RandomForestClassifier()\n",
    "\n",
    "cart_params = {'max_depth':[1,2,3,4,5,6,7,8,9,10]}\n",
    "logreg_params = {'C':[0.0001,0.001,0.01,0.1,1,10,100,250,500,750,1000],'penalty':['l1','l2']}\n",
    "knn_params = {'n_neighbors':[1,2,3,4,5,6,7,8,9,10],'weights':['uniform','distance']}\n",
    "rf_params = {'n_estimators':[10, 100, 250, 500, 1000],'max_depth':[1,2,5,8,10]} # if slow, only do 1000 n_est\n",
    "\n",
    "flogreg_score = []\n",
    "cart_score = []\n",
    "logreg_score = []\n",
    "knn_score = []\n",
    "rf_score = []"
   ]
  },
  {
   "cell_type": "markdown",
   "id": "young-inside",
   "metadata": {},
   "source": [
    "### LOO (Leave One Out) Cross Validation *(<6 hrs)*"
   ]
  },
  {
   "cell_type": "code",
   "execution_count": null,
   "id": "mature-compensation",
   "metadata": {},
   "outputs": [],
   "source": [
    "loo = LeaveOneOut()\n",
    "cart_preds = []\n",
    "logreg_preds = []\n",
    "knn_preds = []\n",
    "rf_preds = []\n",
    "feat_imp = []\n",
    "y_tests = []\n",
    "logreg_betas = []\n",
    "for train_index, test_index in loo.split(X):\n",
    "    X_train, X_test = X.loc[train_index], X.loc[test_index]\n",
    "    y_train, y_test = y[train_index], y[test_index]\n",
    "    y_tests.append(y_test)\n",
    "\n",
    "    cartGS = GridSearchCV(cart, cart_params, cv=3, scoring='roc_auc')\n",
    "    cartGS.fit(X_train,y_train)\n",
    "    cart_preds.append(cartGS.best_estimator_.predict_proba(X_test).T[1])\n",
    "\n",
    "    logregGS = GridSearchCV(logreg, logreg_params, cv=3, scoring='roc_auc')\n",
    "    logregGS.fit(X_train,y_train)\n",
    "    logreg_preds.append(logregGS.best_estimator_.predict_proba(X_test).T[1])\n",
    "    #Store betas\n",
    "    logreg_betas.append(logregGS.best_estimator_.coef_)\n",
    "\n",
    "    knnGS = GridSearchCV(knn, knn_params, cv=3, scoring='roc_auc')\n",
    "    knnGS.fit(X_train,y_train)\n",
    "    knn_preds.append(knnGS.best_estimator_.predict_proba(X_test).T[1])\n",
    "\n",
    "    rfGS = GridSearchCV(rf, rf_params, cv=3, scoring='roc_auc')\n",
    "    rfGS.fit(X_train,y_train)\n",
    "    rf_preds.append(rfGS.best_estimator_.predict_proba(X_test).T[1])\n",
    "    #Store feature importances\n",
    "    feat_imp.append(rfGS.best_estimator_.feature_importances_)"
   ]
  },
  {
   "cell_type": "code",
   "execution_count": null,
   "id": "above-disorder",
   "metadata": {},
   "outputs": [],
   "source": [
    "# Saving our lists/findings\n",
    "import pickle\n",
    "with open('output/cart_preds9.pickle', 'wb') as handle:\n",
    "    pickle.dump(cart_preds, handle, protocol=pickle.HIGHEST_PROTOCOL)\n",
    "with open('output/logreg_preds9.pickle', 'wb') as handle:\n",
    "    pickle.dump(logreg_preds, handle, protocol=pickle.HIGHEST_PROTOCOL)\n",
    "with open('output/knn_preds9.pickle', 'wb') as handle:\n",
    "    pickle.dump(knn_preds, handle, protocol=pickle.HIGHEST_PROTOCOL)\n",
    "with open('output/rf_preds9.pickle', 'wb') as handle:\n",
    "    pickle.dump(rf_preds, handle, protocol=pickle.HIGHEST_PROTOCOL)\n",
    "with open('output/feat_imp9.pickle', 'wb') as handle:\n",
    "    pickle.dump(feat_imp, handle, protocol=pickle.HIGHEST_PROTOCOL)\n",
    "with open('output/y_tests9.pickle', 'wb') as handle:\n",
    "    pickle.dump(y_tests, handle, protocol=pickle.HIGHEST_PROTOCOL)\n",
    "with open('output/logreg_betas9.pickle', 'wb') as handle:\n",
    "    pickle.dump(logreg_betas, handle, protocol=pickle.HIGHEST_PROTOCOL)"
   ]
  },
  {
   "cell_type": "code",
   "execution_count": 17,
   "id": "homeless-prison",
   "metadata": {},
   "outputs": [],
   "source": [
    "import pickle\n",
    "with open('output/cart_preds9.pickle', 'rb') as handle:\n",
    "    cart_preds = pickle.load(handle)\n",
    "with open('output/logreg_preds9.pickle', 'rb') as handle:\n",
    "    logreg_preds = pickle.load(handle)\n",
    "with open('output/knn_preds9.pickle', 'rb') as handle:\n",
    "    knn_preds = pickle.load(handle)\n",
    "with open('output/rf_preds9.pickle', 'rb') as handle:\n",
    "    rf_preds = pickle.load(handle)\n",
    "with open('output/feat_imp9.pickle', 'rb') as handle:\n",
    "    feat_imp = pickle.load(handle)\n",
    "with open('output/y_tests9.pickle', 'rb') as handle:\n",
    "    y_tests = pickle.load(handle)\n",
    "with open('output/logreg_betas9.pickle', 'rb') as handle:\n",
    "    logreg_betas = pickle.load(handle)"
   ]
  },
  {
   "cell_type": "markdown",
   "id": "elect-living",
   "metadata": {},
   "source": [
    "### Building Baseline Fever, Baseline ANC"
   ]
  },
  {
   "cell_type": "code",
   "execution_count": 18,
   "id": "dangerous-aaron",
   "metadata": {},
   "outputs": [
    {
     "name": "stdout",
     "output_type": "stream",
     "text": [
      "              precision    recall  f1-score   support\n",
      "\n",
      "           0       0.96      0.38      0.55       338\n",
      "           1       0.27      0.93      0.42        85\n",
      "\n",
      "    accuracy                           0.49       423\n",
      "   macro avg       0.61      0.66      0.48       423\n",
      "weighted avg       0.82      0.49      0.52       423\n",
      "\n"
     ]
    }
   ],
   "source": [
    "# Baseline fever model\n",
    "# (0, recall) is specificity/TNR. FPR = 1-0.38 = 0.62\n",
    "# (1, recall) is sensitivity/TPR = 0.93\n",
    "from sklearn.metrics import classification_report\n",
    "fevers = admissions['max_temp_38.5']\n",
    "infections = admissions['infection_present']\n",
    "print(classification_report(infections,fevers))"
   ]
  },
  {
   "cell_type": "code",
   "execution_count": 19,
   "id": "sporting-custom",
   "metadata": {},
   "outputs": [
    {
     "name": "stdout",
     "output_type": "stream",
     "text": [
      "              precision    recall  f1-score   support\n",
      "\n",
      "           0       0.95      0.16      0.27       338\n",
      "           1       0.22      0.96      0.36        85\n",
      "\n",
      "    accuracy                           0.32       423\n",
      "   macro avg       0.59      0.56      0.32       423\n",
      "weighted avg       0.80      0.32      0.29       423\n",
      "\n"
     ]
    }
   ],
   "source": [
    "# Baseline ANC model\n",
    "anc = admissions['neutropenia']\n",
    "infections = admissions['infection_present']\n",
    "print(classification_report(infections,anc))"
   ]
  },
  {
   "cell_type": "code",
   "execution_count": 20,
   "id": "employed-bible",
   "metadata": {},
   "outputs": [
    {
     "data": {
      "image/png": "[encoded data removed]",
      "text/plain": [
       "<Figure size 720x432 with 1 Axes>"
      ]
     },
     "metadata": {
      "needs_background": "light"
     },
     "output_type": "display_data"
    }
   ],
   "source": [
    "fpr, tpr, thresh = roc_curve(y_tests, cart_preds)\n",
    "auc= roc_auc_score(y_tests, cart_preds)\n",
    "\n",
    "fpr1, tpr1, thresh1 = roc_curve(y_tests, logreg_preds)\n",
    "auc1= roc_auc_score(y_tests, logreg_preds)\n",
    "\n",
    "fpr2, tpr2, thresh2 = roc_curve(y_tests, knn_preds)\n",
    "auc2= roc_auc_score(y_tests, knn_preds)\n",
    "\n",
    "fpr3, tpr3, thresh3 = roc_curve(y_tests, rf_preds)\n",
    "auc3= roc_auc_score(y_tests, rf_preds)\n",
    "\n",
    "fig = plt.figure(figsize=(10, 6))\n",
    "font = {'family' : 'normal',\n",
    "        'weight' : 'normal',\n",
    "        'size'   : 14}\n",
    "plt.rc('font', **font)\n",
    "plt.plot([0, 1], [0, 1], linestyle='--')\n",
    "plt.plot(0.62,0.93,'o', label='Fever')\n",
    "plt.plot(0.84,0.96,'o', label='Neutropenia')\n",
    "plt.plot(fpr, tpr, label='CART (AUC = %0.3f)' % auc)\n",
    "plt.plot(fpr1, tpr1, label='Logistic regression (AUC = %0.3f)' % auc1)\n",
    "plt.plot(fpr2, tpr2, label='KNN (AUC = %0.3f)' % auc2)\n",
    "plt.plot(fpr3, tpr3, label='Random Forest (AUC = %0.3f)' % auc3)\n",
    "plt.xlim([0.0, 1.0])\n",
    "plt.ylim([0.0, 1.0])\n",
    "plt.xlabel('False Positive Rate')\n",
    "plt.ylabel('True Positive Rate')\n",
    "plt.legend(loc='lower right');\n",
    "plt.show()\n",
    "# fig.savefig('output/prediction_models9.png',bbox_inches='tight')"
   ]
  },
  {
   "cell_type": "markdown",
   "id": "complimentary-rouge",
   "metadata": {},
   "source": [
    "#### Finding specificity of ML models at same sensivity as baseline models"
   ]
  },
  {
   "cell_type": "code",
   "execution_count": 21,
   "id": "certified-gentleman",
   "metadata": {},
   "outputs": [
    {
     "data": {
      "text/plain": [
       "0.742603550295858"
      ]
     },
     "execution_count": 21,
     "metadata": {},
     "output_type": "execute_result"
    }
   ],
   "source": [
    "# looking for fpr3 where tpr3 == 0.93, look at left-most point for RF\n",
    "#tpr3[108] #0.9294\n",
    "#tpr3[109] #0.9412\n",
    "#fpr3[108] #0.7426\n",
    "fpr3[109] #0.7426, same as fpr1[108]"
   ]
  },
  {
   "cell_type": "code",
   "execution_count": 22,
   "id": "characteristic-texture",
   "metadata": {},
   "outputs": [
    {
     "data": {
      "text/plain": [
       "0.6479289940828402"
      ]
     },
     "execution_count": 22,
     "metadata": {},
     "output_type": "execute_result"
    }
   ],
   "source": [
    "# looking for fpr1 where tpr1 == 0.93, look at left-most point for LR\n",
    "#tpr1[108] #\n",
    "fpr1[108]"
   ]
  },
  {
   "cell_type": "code",
   "execution_count": 23,
   "id": "lucky-mayor",
   "metadata": {},
   "outputs": [
    {
     "data": {
      "text/plain": [
       "0.742603550295858"
      ]
     },
     "execution_count": 23,
     "metadata": {},
     "output_type": "execute_result"
    }
   ],
   "source": [
    "# comparing LR to Neutropenia TPR=0.96\n",
    "#tpr1[112] #0.965\n",
    "fpr1[112]"
   ]
  },
  {
   "cell_type": "markdown",
   "id": "conceptual-formula",
   "metadata": {},
   "source": [
    "#### Random Forest top 5 most important features"
   ]
  },
  {
   "cell_type": "code",
   "execution_count": 24,
   "id": "legal-contents",
   "metadata": {},
   "outputs": [],
   "source": [
    "features = ['age','white_caucasian','first_bmi_kg_m2','lowest_neutrophil','lowest_platelet',\n",
    "        'max_temp_38.5','Cytarabine mg/m2/day','levo','Other', 'Port',\n",
    "        'lowest_hemoglobin','lowest_monocytes','male']"
   ]
  },
  {
   "cell_type": "code",
   "execution_count": 25,
   "id": "subsequent-darwin",
   "metadata": {},
   "outputs": [],
   "source": [
    "rf_feat = sum(feat_imp)/len(feat_imp)"
   ]
  },
  {
   "cell_type": "code",
   "execution_count": 26,
   "id": "demonstrated-sullivan",
   "metadata": {},
   "outputs": [],
   "source": [
    "rf_feat_sorted, features_ranked = (list(t) for t in zip(*sorted(zip(rf_feat, features), reverse=True)))"
   ]
  },
  {
   "cell_type": "code",
   "execution_count": 27,
   "id": "adverse-denmark",
   "metadata": {},
   "outputs": [
    {
     "data": {
      "text/plain": [
       "['max_temp_38.5',\n",
       " 'Cytarabine mg/m2/day',\n",
       " 'lowest_neutrophil',\n",
       " 'Port',\n",
       " 'lowest_platelet',\n",
       " 'age',\n",
       " 'first_bmi_kg_m2',\n",
       " 'levo',\n",
       " 'Other',\n",
       " 'white_caucasian',\n",
       " 'male',\n",
       " 'lowest_hemoglobin',\n",
       " 'lowest_monocytes']"
      ]
     },
     "execution_count": 27,
     "metadata": {},
     "output_type": "execute_result"
    }
   ],
   "source": [
    "features_ranked"
   ]
  },
  {
   "cell_type": "markdown",
   "id": "departmental-cincinnati",
   "metadata": {},
   "source": [
    "### Comparing our ML models to baseline models"
   ]
  },
  {
   "cell_type": "code",
   "execution_count": 28,
   "id": "engaged-problem",
   "metadata": {},
   "outputs": [
    {
     "name": "stderr",
     "output_type": "stream",
     "text": [
      "findfont: Font family ['normal'] not found. Falling back to DejaVu Sans.\n",
      "findfont: Font family ['normal'] not found. Falling back to DejaVu Sans.\n"
     ]
    },
    {
     "data": {
      "image/png": "[encoded data removed]",
      "text/plain": [
       "<Figure size 720x432 with 1 Axes>"
      ]
     },
     "metadata": {
      "needs_background": "light"
     },
     "output_type": "display_data"
    }
   ],
   "source": [
    "#Find proportion positive\n",
    "from sklearn.metrics import confusion_matrix\n",
    "cMatrix = confusion_matrix(y_true = infections, y_pred = fevers)\n",
    "fig = plt.figure(figsize=(10, 6))\n",
    "plt.imshow(cMatrix, cmap=plt.cm.Blues)\n",
    "plt.text(0, 0, '{}'.format(cMatrix[0, 0]), horizontalalignment='center',fontsize = 'xx-large')\n",
    "plt.text(0, 1, '{}'.format(cMatrix[1, 0]), horizontalalignment='center',fontsize = 'xx-large')\n",
    "plt.text(1, 0, '{}'.format(cMatrix[0, 1]), horizontalalignment='center',fontsize = 'xx-large')\n",
    "plt.text(1, 1, '{}'.format(cMatrix[1, 1]), horizontalalignment='center',fontsize = 'xx-large')\n",
    "tick_marks = [0,1]\n",
    "labels = ['No infection', 'Infection']\n",
    "plt.xticks(tick_marks, labels, rotation=90,fontsize = 'x-large')\n",
    "plt.ylim([-0.5,1.5])\n",
    "plt.yticks(tick_marks, labels,fontsize = 'x-large')\n",
    "plt.ylabel('True label',fontsize = 'xx-large')\n",
    "plt.xlabel('Predicted label',fontsize = 'xx-large')\n",
    "plt.show()"
   ]
  },
  {
   "cell_type": "code",
   "execution_count": 29,
   "id": "induced-perfume",
   "metadata": {},
   "outputs": [
    {
     "data": {
      "image/png": "[encoded data removed]",
      "text/plain": [
       "<Figure size 720x432 with 1 Axes>"
      ]
     },
     "metadata": {
      "needs_background": "light"
     },
     "output_type": "display_data"
    }
   ],
   "source": [
    "#Find proportion positive\n",
    "from sklearn.metrics import confusion_matrix\n",
    "cMatrix = confusion_matrix(y_true = infections, y_pred = anc)\n",
    "fig = plt.figure(figsize=(10, 6))\n",
    "plt.imshow(cMatrix, cmap=plt.cm.Blues)\n",
    "plt.text(0, 0, '{}'.format(cMatrix[0, 0]), horizontalalignment='center',fontsize = 'xx-large')\n",
    "plt.text(0, 1, '{}'.format(cMatrix[1, 0]), horizontalalignment='center',fontsize = 'xx-large')\n",
    "plt.text(1, 0, '{}'.format(cMatrix[0, 1]), horizontalalignment='center',fontsize = 'xx-large')\n",
    "plt.text(1, 1, '{}'.format(cMatrix[1, 1]), horizontalalignment='center',fontsize = 'xx-large')\n",
    "tick_marks = [0,1]\n",
    "labels = ['No infection', 'Infection']\n",
    "plt.xticks(tick_marks, labels, rotation=90,fontsize = 'x-large')\n",
    "plt.ylim([-0.5,1.5])\n",
    "plt.yticks(tick_marks, labels,fontsize = 'x-large')\n",
    "plt.ylabel('True label',fontsize = 'xx-large')\n",
    "plt.xlabel('Predicted label',fontsize = 'xx-large')\n",
    "plt.show()"
   ]
  },
  {
   "cell_type": "code",
   "execution_count": 30,
   "id": "mobile-single",
   "metadata": {},
   "outputs": [],
   "source": [
    "lr_preds_class = np.concatenate(logreg_preds).ravel()"
   ]
  },
  {
   "cell_type": "code",
   "execution_count": 31,
   "id": "voluntary-physiology",
   "metadata": {},
   "outputs": [
    {
     "name": "stdout",
     "output_type": "stream",
     "text": [
      "0.07773350983524205\n"
     ]
    }
   ],
   "source": [
    "# Comparing TPR of Fever model to same of LR\n",
    "lrrounds = []\n",
    "for i in lr_preds_class:\n",
    "    if i > thresh1[next(x[0] for x in enumerate(tpr1) if x[1] > 0.93)]:\n",
    "        lrrounds.append(1)\n",
    "    else:\n",
    "        lrrounds.append(0)\n",
    "print(thresh1[next(x[0] for x in enumerate(tpr1) if x[1] > 0.93)])"
   ]
  },
  {
   "cell_type": "code",
   "execution_count": 32,
   "id": "social-honey",
   "metadata": {},
   "outputs": [
    {
     "name": "stdout",
     "output_type": "stream",
     "text": [
      "              precision    recall  f1-score   support\n",
      "\n",
      "           0       0.95      0.35      0.51       338\n",
      "           1       0.27      0.93      0.41        85\n",
      "\n",
      "    accuracy                           0.47       423\n",
      "   macro avg       0.61      0.64      0.46       423\n",
      "weighted avg       0.81      0.47      0.49       423\n",
      "\n"
     ]
    }
   ],
   "source": [
    "from sklearn.metrics import classification_report\n",
    "lr_preds_f = pd.cut(lr_preds_class,bins=[-1,0.07773350983524205,1],right=True,labels=[0,1])\n",
    "#infections = ads_CART['infection_present']\n",
    "print(classification_report(y_tests,lr_preds_f))"
   ]
  },
  {
   "cell_type": "code",
   "execution_count": 33,
   "id": "laden-conversion",
   "metadata": {},
   "outputs": [
    {
     "data": {
      "image/png": "[encoded data removed]",
      "text/plain": [
       "<Figure size 720x432 with 1 Axes>"
      ]
     },
     "metadata": {
      "needs_background": "light"
     },
     "output_type": "display_data"
    }
   ],
   "source": [
    "#Positive Proportion calc\n",
    "from sklearn.metrics import confusion_matrix\n",
    "cMatrix = confusion_matrix(y_true = y_tests, y_pred = lr_preds_f)\n",
    "fig = plt.figure(figsize=(10, 6))\n",
    "plt.imshow(cMatrix, cmap=plt.cm.Blues)\n",
    "plt.text(0, 0, '{}'.format(cMatrix[0, 0]), horizontalalignment='center',fontsize = 'xx-large')\n",
    "plt.text(0, 1, '{}'.format(cMatrix[1, 0]), horizontalalignment='center',fontsize = 'xx-large')\n",
    "plt.text(1, 0, '{}'.format(cMatrix[0, 1]), horizontalalignment='center',fontsize = 'xx-large')\n",
    "plt.text(1, 1, '{}'.format(cMatrix[1, 1]), horizontalalignment='center',fontsize = 'xx-large')\n",
    "tick_marks = [0,1]\n",
    "labels = ['No infection', 'Infection']\n",
    "plt.xticks(tick_marks, labels, rotation=90,fontsize = 'x-large')\n",
    "plt.ylim([-0.5,1.5])\n",
    "plt.yticks(tick_marks, labels,fontsize = 'x-large')\n",
    "plt.ylabel('True label',fontsize = 'xx-large')\n",
    "plt.xlabel('Predicted label',fontsize = 'xx-large')\n",
    "plt.show()"
   ]
  },
  {
   "cell_type": "code",
   "execution_count": 34,
   "id": "secret-guest",
   "metadata": {},
   "outputs": [
    {
     "name": "stdout",
     "output_type": "stream",
     "text": [
      "0.04072373670889517\n"
     ]
    }
   ],
   "source": [
    "# Comparing TPR of ANC model to same of LR\n",
    "lrrounds = []\n",
    "for i in lr_preds_class:\n",
    "    if i > thresh1[next(x[0] for x in enumerate(tpr1) if x[1] > 0.965)]:\n",
    "        lrrounds.append(1)\n",
    "    else:\n",
    "        lrrounds.append(0)\n",
    "print(thresh1[next(x[0] for x in enumerate(tpr1) if x[1] > 0.965)])"
   ]
  },
  {
   "cell_type": "code",
   "execution_count": 35,
   "id": "acute-nightlife",
   "metadata": {},
   "outputs": [
    {
     "name": "stdout",
     "output_type": "stream",
     "text": [
      "              precision    recall  f1-score   support\n",
      "\n",
      "           0       0.97      0.26      0.41       338\n",
      "           1       0.25      0.96      0.39        85\n",
      "\n",
      "    accuracy                           0.40       423\n",
      "   macro avg       0.61      0.61      0.40       423\n",
      "weighted avg       0.82      0.40      0.40       423\n",
      "\n"
     ]
    }
   ],
   "source": [
    "from sklearn.metrics import classification_report\n",
    "lr_preds_f = pd.cut(lr_preds_class,bins=[-1,0.04072373670889517,1],right=True,labels=[0,1])\n",
    "#infections = ads_CART['infection_present']\n",
    "print(classification_report(y_tests,lr_preds_f))"
   ]
  },
  {
   "cell_type": "code",
   "execution_count": 36,
   "id": "taken-witness",
   "metadata": {},
   "outputs": [
    {
     "data": {
      "image/png": "[encoded data removed]",
      "text/plain": [
       "<Figure size 720x432 with 1 Axes>"
      ]
     },
     "metadata": {
      "needs_background": "light"
     },
     "output_type": "display_data"
    }
   ],
   "source": [
    "#Positive Proportion calc\n",
    "from sklearn.metrics import confusion_matrix\n",
    "cMatrix = confusion_matrix(y_true = y_tests, y_pred = lr_preds_f)\n",
    "fig = plt.figure(figsize=(10, 6))\n",
    "plt.imshow(cMatrix, cmap=plt.cm.Blues)\n",
    "plt.text(0, 0, '{}'.format(cMatrix[0, 0]), horizontalalignment='center',fontsize = 'xx-large')\n",
    "plt.text(0, 1, '{}'.format(cMatrix[1, 0]), horizontalalignment='center',fontsize = 'xx-large')\n",
    "plt.text(1, 0, '{}'.format(cMatrix[0, 1]), horizontalalignment='center',fontsize = 'xx-large')\n",
    "plt.text(1, 1, '{}'.format(cMatrix[1, 1]), horizontalalignment='center',fontsize = 'xx-large')\n",
    "tick_marks = [0,1]\n",
    "labels = ['No infection', 'Infection']\n",
    "plt.xticks(tick_marks, labels, rotation=90,fontsize = 'x-large')\n",
    "plt.ylim([-0.5,1.5])\n",
    "plt.yticks(tick_marks, labels,fontsize = 'x-large')\n",
    "plt.ylabel('True label',fontsize = 'xx-large')\n",
    "plt.xlabel('Predicted label',fontsize = 'xx-large')\n",
    "plt.show()"
   ]
  },
  {
   "cell_type": "code",
   "execution_count": 37,
   "id": "flexible-uncertainty",
   "metadata": {},
   "outputs": [],
   "source": [
    "rf_preds_class = np.concatenate(rf_preds).ravel()"
   ]
  },
  {
   "cell_type": "code",
   "execution_count": 38,
   "id": "sunset-legend",
   "metadata": {},
   "outputs": [
    {
     "name": "stdout",
     "output_type": "stream",
     "text": [
      "0.14970173614905227\n"
     ]
    }
   ],
   "source": [
    "# Comparing TPR of Fever model to same of RF\n",
    "rfrounds = []\n",
    "for i in rf_preds_class:\n",
    "    if i > thresh3[next(x[0] for x in enumerate(tpr3) if x[1] > 0.93)]:\n",
    "        rfrounds.append(1)\n",
    "    else:\n",
    "        rfrounds.append(0)\n",
    "print(thresh3[next(x[0] for x in enumerate(tpr3) if x[1] > 0.93)])"
   ]
  },
  {
   "cell_type": "code",
   "execution_count": 39,
   "id": "respected-renewal",
   "metadata": {},
   "outputs": [
    {
     "name": "stdout",
     "output_type": "stream",
     "text": [
      "              precision    recall  f1-score   support\n",
      "\n",
      "           0       0.94      0.26      0.40       338\n",
      "           1       0.24      0.93      0.38        85\n",
      "\n",
      "    accuracy                           0.39       423\n",
      "   macro avg       0.59      0.59      0.39       423\n",
      "weighted avg       0.80      0.39      0.40       423\n",
      "\n"
     ]
    }
   ],
   "source": [
    "from sklearn.metrics import classification_report\n",
    "rf_preds_f = pd.cut(rf_preds_class,bins=[-1,0.14970173614905227,1],right=True,labels=[0,1])\n",
    "#infections = ads_CART['infection_present']\n",
    "print(classification_report(y_tests,rf_preds_f))"
   ]
  },
  {
   "cell_type": "code",
   "execution_count": 40,
   "id": "historical-benchmark",
   "metadata": {},
   "outputs": [
    {
     "data": {
      "image/png": "[encoded data removed]",
      "text/plain": [
       "<Figure size 720x432 with 1 Axes>"
      ]
     },
     "metadata": {
      "needs_background": "light"
     },
     "output_type": "display_data"
    }
   ],
   "source": [
    "#Positive Proportion calc\n",
    "from sklearn.metrics import confusion_matrix\n",
    "cMatrix = confusion_matrix(y_true = y_tests, y_pred = rf_preds_f)\n",
    "fig = plt.figure(figsize=(10, 6))\n",
    "plt.imshow(cMatrix, cmap=plt.cm.Blues)\n",
    "plt.text(0, 0, '{}'.format(cMatrix[0, 0]), horizontalalignment='center',fontsize = 'xx-large')\n",
    "plt.text(0, 1, '{}'.format(cMatrix[1, 0]), horizontalalignment='center',fontsize = 'xx-large')\n",
    "plt.text(1, 0, '{}'.format(cMatrix[0, 1]), horizontalalignment='center',fontsize = 'xx-large')\n",
    "plt.text(1, 1, '{}'.format(cMatrix[1, 1]), horizontalalignment='center',fontsize = 'xx-large')\n",
    "tick_marks = [0,1]\n",
    "labels = ['No infection', 'Infection']\n",
    "plt.xticks(tick_marks, labels, rotation=90,fontsize = 'x-large')\n",
    "plt.ylim([-0.5,1.5])\n",
    "plt.yticks(tick_marks, labels,fontsize = 'x-large')\n",
    "plt.ylabel('True label',fontsize = 'xx-large')\n",
    "plt.xlabel('Predicted label',fontsize = 'xx-large')\n",
    "plt.show()"
   ]
  },
  {
   "cell_type": "code",
   "execution_count": 41,
   "id": "toxic-packaging",
   "metadata": {},
   "outputs": [
    {
     "name": "stdout",
     "output_type": "stream",
     "text": [
      "0.1258509718825377\n"
     ]
    }
   ],
   "source": [
    "# Comparing TPR of ANC model to same of RF\n",
    "rfrounds = []\n",
    "for i in rf_preds_class:\n",
    "    if i > thresh3[next(x[0] for x in enumerate(tpr3) if x[1] > 0.965)]:\n",
    "        rfrounds.append(1)\n",
    "    else:\n",
    "        rfrounds.append(0)\n",
    "print(thresh3[next(x[0] for x in enumerate(tpr3) if x[1] > 0.965)])"
   ]
  },
  {
   "cell_type": "code",
   "execution_count": 42,
   "id": "falling-scout",
   "metadata": {},
   "outputs": [
    {
     "name": "stdout",
     "output_type": "stream",
     "text": [
      "              precision    recall  f1-score   support\n",
      "\n",
      "           0       0.94      0.15      0.26       338\n",
      "           1       0.22      0.96      0.36        85\n",
      "\n",
      "    accuracy                           0.31       423\n",
      "   macro avg       0.58      0.56      0.31       423\n",
      "weighted avg       0.80      0.31      0.28       423\n",
      "\n"
     ]
    }
   ],
   "source": [
    "from sklearn.metrics import classification_report\n",
    "rf_preds_f = pd.cut(rf_preds_class,bins=[-1,0.1258509718825377,1],right=True,labels=[0,1])\n",
    "#infections = ads_CART['infection_present']\n",
    "print(classification_report(y_tests,rf_preds_f))"
   ]
  },
  {
   "cell_type": "code",
   "execution_count": 43,
   "id": "shaped-helmet",
   "metadata": {},
   "outputs": [
    {
     "data": {
      "image/png": "[encoded data removed]",
      "text/plain": [
       "<Figure size 720x432 with 1 Axes>"
      ]
     },
     "metadata": {
      "needs_background": "light"
     },
     "output_type": "display_data"
    }
   ],
   "source": [
    "#PPV calc check (1, precision)\n",
    "from sklearn.metrics import confusion_matrix\n",
    "cMatrix = confusion_matrix(y_true = y_tests, y_pred = rf_preds_f)\n",
    "fig = plt.figure(figsize=(10, 6))\n",
    "plt.imshow(cMatrix, cmap=plt.cm.Blues)\n",
    "plt.text(0, 0, '{}'.format(cMatrix[0, 0]), horizontalalignment='center',fontsize = 'xx-large')\n",
    "plt.text(0, 1, '{}'.format(cMatrix[1, 0]), horizontalalignment='center',fontsize = 'xx-large')\n",
    "plt.text(1, 0, '{}'.format(cMatrix[0, 1]), horizontalalignment='center',fontsize = 'xx-large')\n",
    "plt.text(1, 1, '{}'.format(cMatrix[1, 1]), horizontalalignment='center',fontsize = 'xx-large')\n",
    "tick_marks = [0,1]\n",
    "labels = ['No infection', 'Infection']\n",
    "plt.xticks(tick_marks, labels, rotation=90,fontsize = 'x-large')\n",
    "plt.ylim([-0.5,1.5])\n",
    "plt.yticks(tick_marks, labels,fontsize = 'x-large')\n",
    "plt.ylabel('True label',fontsize = 'xx-large')\n",
    "plt.xlabel('Predicted label',fontsize = 'xx-large')\n",
    "plt.show()"
   ]
  },
  {
   "cell_type": "markdown",
   "id": "successful-dance",
   "metadata": {},
   "source": [
    "# Production"
   ]
  },
  {
   "cell_type": "markdown",
   "id": "comparable-budapest",
   "metadata": {},
   "source": [
    "### Find the best parameters choice for our best model."
   ]
  },
  {
   "cell_type": "code",
   "execution_count": 44,
   "id": "chinese-stocks",
   "metadata": {},
   "outputs": [],
   "source": [
    "import numpy as np\n",
    "import pandas as pd\n",
    "from scipy import stats\n",
    "import matplotlib.pyplot as plt\n",
    "from matplotlib.pyplot import plot, show, savefig, xlim, figure, \\\n",
    "                ylim, legend, boxplot, setp, axes\n",
    "%matplotlib inline\n",
    "import statsmodels.api as sm\n",
    "\n",
    "admissions = pd.read_excel('data/aml_data_8.16.23.xlsx')\n",
    "admissions.dropna(subset=['Cytarabine mg/m2/day'],inplace=True)\n",
    "ads_cv = pd.get_dummies(admissions['CV_line'], drop_first = True)\n",
    "cvs = ads_cv.columns\n",
    "admissions = pd.concat([admissions, ads_cv], axis=1)\n",
    "admissions['male'] = admissions['gender'].map({'M':1, 'F':0})\n",
    "\n",
    "admissions.first_bmi_kg_m2 = admissions.first_bmi_kg_m2.replace(np.nan,admissions.first_bmi_kg_m2.median())\n",
    "admissions.dropna(subset=['lowest_neutrophil'],inplace=True)\n",
    "admissions.dropna(subset=['lowest_platelet'],inplace=True)\n",
    "admissions.dropna(subset=['lowest_hemoglobin'],inplace=True)\n",
    "admissions.dropna(subset=['lowest_monocytes'],inplace=True)\n",
    "admissions.reset_index(inplace=True)\n",
    "# print('There are '+str(len(admissions))+' total admissions.')\n",
    "neg_ads = admissions[admissions['infection_present'] == 0]\n",
    "# print('There are '+str(len(neg_ads))+' infection-negative admissions.')\n",
    "# print(admissions.head())\n",
    "\n",
    "from sklearn.linear_model import LogisticRegression\n",
    "from sklearn.model_selection import GridSearchCV\n",
    "from sklearn.metrics import roc_auc_score, roc_curve\n",
    "\n",
    "featureset = ['age',\n",
    "        'white_caucasian','first_bmi_kg_m2','lowest_neutrophil','lowest_platelet',\n",
    "        'max_temp_38.5','Cytarabine mg/m2/day','levo',\n",
    "        'lowest_hemoglobin','lowest_monocytes',\n",
    "        'Other', 'Port',\n",
    "        'male','infection_present']\n",
    "ads_CART = admissions[featureset]\n",
    "X = ads_CART.drop(['infection_present'],axis=1)\n",
    "y = ads_CART['infection_present']"
   ]
  },
  {
   "cell_type": "code",
   "execution_count": 45,
   "id": "supreme-american",
   "metadata": {},
   "outputs": [
    {
     "name": "stdout",
     "output_type": "stream",
     "text": [
      "LogisticRegression(C=10, penalty='l1', solver='liblinear')\n",
      "\n",
      "0.6307248753941613\n",
      "0.37072053417033585\n",
      "0.6629139602133195\n"
     ]
    }
   ],
   "source": [
    "logreg = LogisticRegression(solver='liblinear')\n",
    "logreg_params = {'C':[0.0001,0.001,0.01,0.1,1,10,100,250,500,750,1000],'penalty':['l1','l2']}\n",
    "\n",
    "# >30 sec\n",
    "logregGS = GridSearchCV(logreg, logreg_params, cv=3, scoring='roc_auc')\n",
    "logregGS.fit(X,y)\n",
    "print(logregGS.best_estimator_)\n",
    "print()\n",
    "print(np.mean(logregGS.cv_results_['mean_test_score'])) #mean CV AUC\n",
    "print(np.min(logregGS.cv_results_['mean_test_score'])) #min CV AUC\n",
    "print(np.max(logregGS.cv_results_['mean_test_score'])) #max CV AUC"
   ]
  },
  {
   "cell_type": "markdown",
   "id": "central-unknown",
   "metadata": {},
   "source": [
    "### Now that we have the best model choice, and the best parameters choice, train the model using all data. We can then use that model to make predictions on new admissions."
   ]
  },
  {
   "cell_type": "code",
   "execution_count": 46,
   "id": "divided-license",
   "metadata": {},
   "outputs": [
    {
     "data": {
      "text/plain": [
       "0.8132387706855791"
      ]
     },
     "execution_count": 46,
     "metadata": {},
     "output_type": "execute_result"
    }
   ],
   "source": [
    "best_model = LogisticRegression(C=10, penalty='l1', solver='liblinear', random_state=0).fit(X,y)\n",
    "best_model.score(X,y)"
   ]
  },
  {
   "cell_type": "code",
   "execution_count": 47,
   "id": "immediate-episode",
   "metadata": {},
   "outputs": [
    {
     "name": "stderr",
     "output_type": "stream",
     "text": [
      "findfont: Font family ['normal'] not found. Falling back to DejaVu Sans.\n"
     ]
    },
    {
     "data": {
      "image/png": "[encoded data removed]",
      "text/plain": [
       "<Figure size 720x432 with 1 Axes>"
      ]
     },
     "metadata": {
      "needs_background": "light"
     },
     "output_type": "display_data"
    }
   ],
   "source": [
    "predsLR = best_model.predict_proba(X).T[1]\n",
    "fprLR, tprLR, threshLR = roc_curve(y, predsLR)\n",
    "roc_auc_LR= roc_auc_score(y, predsLR)\n",
    "\n",
    "fig = figure(figsize=(10, 6))\n",
    "plt.plot([0, 1], [0, 1], linestyle='--')\n",
    "plt.plot(0.62,0.93,'o', label='Fever')\n",
    "plt.plot(0.84,0.96,'o', label='Neutropenia')\n",
    "plt.plot(fprLR, tprLR, label='LR Regularized (AUC = %0.3f)' % roc_auc_LR)\n",
    "plt.xlim([0.0, 1.0])\n",
    "plt.ylim([0.0, 1.0])\n",
    "plt.xlabel('False Positive Rate')\n",
    "plt.ylabel('True Positive Rate')\n",
    "plt.legend(loc='lower right');\n",
    "plt.show()\n",
    "# fig.savefig('output/prediction_models10.png',bbox_inches='tight')"
   ]
  },
  {
   "cell_type": "code",
   "execution_count": 48,
   "id": "downtown-leadership",
   "metadata": {},
   "outputs": [
    {
     "name": "stdout",
     "output_type": "stream",
     "text": [
      "The optimal threshold (outermost point of the curve) is: 0.2239634178371585\n",
      "The corresponding TPR is: 0.7529411764705882\n",
      "The corresponding FPR is: 0.2958579881656805\n"
     ]
    }
   ],
   "source": [
    "optimal_idx = np.argmax(tprLR - fprLR)\n",
    "optimal_threshold = threshLR[optimal_idx]\n",
    "print('The optimal threshold (outermost point of the curve) is:', optimal_threshold)\n",
    "print('The corresponding TPR is:', tprLR[optimal_idx])\n",
    "print('The corresponding FPR is:', fprLR[optimal_idx])"
   ]
  },
  {
   "cell_type": "code",
   "execution_count": 49,
   "id": "intensive-smith",
   "metadata": {},
   "outputs": [
    {
     "name": "stdout",
     "output_type": "stream",
     "text": [
      "0.10138564134651433\n"
     ]
    }
   ],
   "source": [
    "# Comparing TPR of Fever model to same of LR\n",
    "\n",
    "#lr_preds_class = np.concatenate(predsLR).ravel()\n",
    "lrrounds = []\n",
    "for i in predsLR:\n",
    "    if i > threshLR[next(x[0] for x in enumerate(tprLR) if x[1] > 0.93)]:\n",
    "        lrrounds.append(1)\n",
    "    else:\n",
    "        lrrounds.append(0)\n",
    "print(threshLR[next(x[0] for x in enumerate(tprLR) if x[1] > 0.93)])"
   ]
  },
  {
   "cell_type": "code",
   "execution_count": 50,
   "id": "toxic-orlando",
   "metadata": {},
   "outputs": [
    {
     "name": "stdout",
     "output_type": "stream",
     "text": [
      "              precision    recall  f1-score   support\n",
      "\n",
      "           0       0.96      0.40      0.56       338\n",
      "           1       0.28      0.93      0.43        85\n",
      "\n",
      "    accuracy                           0.50       423\n",
      "   macro avg       0.62      0.66      0.50       423\n",
      "weighted avg       0.82      0.50      0.53       423\n",
      "\n"
     ]
    }
   ],
   "source": [
    "from sklearn.metrics import classification_report\n",
    "lr_preds_f = pd.cut(predsLR,bins=[-1,0.10138564134651433,1],right=True,labels=[0,1])\n",
    "#infections = ads_CART['infection_present']\n",
    "print(classification_report(y,lr_preds_f))"
   ]
  },
  {
   "cell_type": "markdown",
   "id": "induced-studio",
   "metadata": {},
   "source": [
    "#### Predict BSI for new admission"
   ]
  },
  {
   "cell_type": "code",
   "execution_count": 51,
   "id": "agricultural-artwork",
   "metadata": {},
   "outputs": [
    {
     "data": {
      "text/html": [
       "<div>\n",
       "<style scoped>\n",
       "    .dataframe tbody tr th:only-of-type {\n",
       "        vertical-align: middle;\n",
       "    }\n",
       "\n",
       "    .dataframe tbody tr th {\n",
       "        vertical-align: top;\n",
       "    }\n",
       "\n",
       "    .dataframe thead th {\n",
       "        text-align: right;\n",
       "    }\n",
       "</style>\n",
       "<table border=\"1\" class=\"dataframe\">\n",
       "  <thead>\n",
       "    <tr style=\"text-align: right;\">\n",
       "      <th></th>\n",
       "      <th>age</th>\n",
       "      <th>white_caucasian</th>\n",
       "      <th>first_bmi_kg_m2</th>\n",
       "      <th>lowest_neutrophil</th>\n",
       "      <th>lowest_platelet</th>\n",
       "      <th>max_temp_38.5</th>\n",
       "      <th>Cytarabine mg/m2/day</th>\n",
       "      <th>levo</th>\n",
       "      <th>lowest_hemoglobin</th>\n",
       "      <th>lowest_monocytes</th>\n",
       "      <th>Other</th>\n",
       "      <th>Port</th>\n",
       "      <th>male</th>\n",
       "    </tr>\n",
       "  </thead>\n",
       "  <tbody>\n",
       "    <tr>\n",
       "      <th>0</th>\n",
       "      <td>20.02</td>\n",
       "      <td>1</td>\n",
       "      <td>20.1</td>\n",
       "      <td>0.014</td>\n",
       "      <td>14</td>\n",
       "      <td>0</td>\n",
       "      <td>1964.912281</td>\n",
       "      <td>1</td>\n",
       "      <td>6.9</td>\n",
       "      <td>1</td>\n",
       "      <td>0</td>\n",
       "      <td>0</td>\n",
       "      <td>1</td>\n",
       "    </tr>\n",
       "  </tbody>\n",
       "</table>\n",
       "</div>"
      ],
      "text/plain": [
       "     age  white_caucasian  first_bmi_kg_m2  lowest_neutrophil  \\\n",
       "0  20.02                1             20.1              0.014   \n",
       "\n",
       "   lowest_platelet  max_temp_38.5  Cytarabine mg/m2/day  levo  \\\n",
       "0               14              0           1964.912281     1   \n",
       "\n",
       "   lowest_hemoglobin  lowest_monocytes  Other  Port  male  \n",
       "0                6.9                 1      0     0     1  "
      ]
     },
     "execution_count": 51,
     "metadata": {},
     "output_type": "execute_result"
    }
   ],
   "source": [
    "new_patient = pd.read_excel('data/New Patient Data Blinded.xlsx')\n",
    "new_patient['male'] = new_patient['gender'].map({'M':1, 'F':0})\n",
    "new_patient['Port'] = 0\n",
    "new_patient['Other'] = 0\n",
    "features = ['age',\n",
    "        'white_caucasian','first_bmi_kg_m2','lowest_neutrophil','lowest_platelet',\n",
    "        'max_temp_38.5','Cytarabine mg/m2/day','levo',\n",
    "        'lowest_hemoglobin','lowest_monocytes',\n",
    "        'Other', 'Port',\n",
    "        'male']\n",
    "new_patient = new_patient[features]\n",
    "\n",
    "new_patient.head()"
   ]
  },
  {
   "cell_type": "code",
   "execution_count": 52,
   "id": "available-democracy",
   "metadata": {},
   "outputs": [
    {
     "data": {
      "text/plain": [
       "array([0.02633542])"
      ]
     },
     "execution_count": 52,
     "metadata": {},
     "output_type": "execute_result"
    }
   ],
   "source": [
    "best_model.predict_proba(new_patient).T[1]"
   ]
  },
  {
   "cell_type": "markdown",
   "id": "alert-luxury",
   "metadata": {},
   "source": [
    "# Archive"
   ]
  },
  {
   "cell_type": "markdown",
   "id": "under-deposit",
   "metadata": {},
   "source": [
    "### Cytarabine Dose Low/High/Very High\n",
    "- 200mg/m2/day x8 or 10 days (low dose)\n",
    "- 2000mg/m2/day x 4 or 5 days (high dose)\n",
    "- 6000mg/m2/day x 4 days (very high)"
   ]
  },
  {
   "cell_type": "code",
   "execution_count": null,
   "id": "arbitrary-celebrity",
   "metadata": {},
   "outputs": [],
   "source": [
    "import numpy as np\n",
    "import pandas as pd\n",
    "from scipy import stats\n",
    "import matplotlib.pyplot as plt\n",
    "from matplotlib.pyplot import plot, show, savefig, xlim, figure, \\\n",
    "                ylim, legend, boxplot, setp, axes\n",
    "%matplotlib inline\n",
    "import statsmodels.api as sm\n",
    "\n",
    "admissions = pd.read_excel('data/aml_data_8.16.23.xlsx')\n",
    "admissions.dropna(subset=['cyt_low'],inplace=True)\n",
    "admissions.reset_index(inplace=True)\n",
    "ads_cv = pd.get_dummies(admissions['CV_line'], drop_first = True)\n",
    "cvs = ads_cv.columns\n",
    "admissions = pd.concat([admissions, ads_cv], axis=1)\n",
    "admissions['male'] = admissions['gender'].map({'M':1, 'F':0})\n",
    "\n",
    "admissions.first_bmi_kg_m2 = admissions.first_bmi_kg_m2.replace(np.nan,admissions.first_bmi_kg_m2.median())\n",
    "admissions.dropna(subset=['lowest_neutrophil'],inplace=True)\n",
    "admissions.dropna(subset=['lowest_platelet'],inplace=True)\n",
    "admissions.reset_index(inplace=True)\n",
    "print('There are '+str(len(admissions))+' total admissions.')\n",
    "neg_ads = admissions[admissions['infection_present'] == 0]\n",
    "print('There are '+str(len(neg_ads))+' infection-negative admissions.')"
   ]
  },
  {
   "cell_type": "code",
   "execution_count": null,
   "id": "defined-bones",
   "metadata": {},
   "outputs": [],
   "source": [
    "# ~4 hours\n",
    "from sklearn.linear_model import LogisticRegression\n",
    "from sklearn.tree import DecisionTreeClassifier\n",
    "from sklearn.neighbors import KNeighborsClassifier\n",
    "from sklearn.ensemble import RandomForestClassifier\n",
    "\n",
    "from sklearn.model_selection import train_test_split\n",
    "from sklearn.model_selection import KFold\n",
    "from sklearn.model_selection import LeaveOneOut\n",
    "from sklearn.model_selection import GridSearchCV\n",
    "from sklearn.metrics import roc_auc_score, roc_curve\n",
    "\n",
    "featureset = ['age',\n",
    "        'white_caucasian','first_bmi_kg_m2','lowest_neutrophil','lowest_platelet',\n",
    "        'max_temp_38.5','cyt_low','cyt_high','cyt_very_high','levo',\n",
    "        'Other', 'Port',\n",
    "        'male','infection_present']\n",
    "ads_CART = admissions[featureset]\n",
    "X = ads_CART.drop(['infection_present'],axis=1)\n",
    "y = ads_CART['infection_present']\n",
    "\n",
    "cart = DecisionTreeClassifier()\n",
    "logreg = LogisticRegression(solver='liblinear')\n",
    "knn = KNeighborsClassifier()\n",
    "rf = RandomForestClassifier()\n",
    "\n",
    "cart_params = {'max_depth':[1,2,3,4,5,6,7,8,9,10]}\n",
    "logreg_params = {'C':[0.0001,0.001,0.01,0.1,1,10,100,250,500,750,1000],'penalty':['l1','l2']}\n",
    "knn_params = {'n_neighbors':[1,2,3,4,5,6,7,8,9,10],'weights':['uniform','distance']}\n",
    "rf_params = {'n_estimators':[10, 100, 250, 500, 1000],'max_depth':[1,2,5,8,10]} # if slow, only do 1000 n_est\n",
    "\n",
    "loo = LeaveOneOut()\n",
    "cart_preds = []\n",
    "logreg_preds = []\n",
    "knn_preds = []\n",
    "rf_preds = []\n",
    "feat_imp = []\n",
    "y_tests = []\n",
    "logreg_betas = []\n",
    "for train_index, test_index in loo.split(X):\n",
    "    X_train, X_test = X.loc[train_index], X.loc[test_index]\n",
    "    y_train, y_test = y[train_index], y[test_index]\n",
    "    y_tests.append(y_test)\n",
    "\n",
    "    cartGS = GridSearchCV(cart, cart_params, cv=3, scoring='roc_auc')\n",
    "    cartGS.fit(X_train,y_train)\n",
    "    cart_preds.append(cartGS.best_estimator_.predict_proba(X_test).T[1])\n",
    "\n",
    "    logregGS = GridSearchCV(logreg, logreg_params, cv=3, scoring='roc_auc')\n",
    "    logregGS.fit(X_train,y_train)\n",
    "    logreg_preds.append(logregGS.best_estimator_.predict_proba(X_test).T[1])\n",
    "    #Store betas\n",
    "    logreg_betas.append(logregGS.best_estimator_.coef_)\n",
    "\n",
    "    knnGS = GridSearchCV(knn, knn_params, cv=3, scoring='roc_auc')\n",
    "    knnGS.fit(X_train,y_train)\n",
    "    knn_preds.append(knnGS.best_estimator_.predict_proba(X_test).T[1])\n",
    "\n",
    "    rfGS = GridSearchCV(rf, rf_params, cv=3, scoring='roc_auc')\n",
    "    rfGS.fit(X_train,y_train)\n",
    "    rf_preds.append(rfGS.best_estimator_.predict_proba(X_test).T[1])\n",
    "    #Store feature importances\n",
    "    feat_imp.append(rfGS.best_estimator_.feature_importances_)"
   ]
  },
  {
   "cell_type": "code",
   "execution_count": null,
   "id": "legendary-float",
   "metadata": {},
   "outputs": [],
   "source": [
    "# Saving our lists/findings\n",
    "import pickle\n",
    "with open('output/cart_preds2.pickle', 'wb') as handle:\n",
    "    pickle.dump(cart_preds, handle, protocol=pickle.HIGHEST_PROTOCOL)\n",
    "with open('output/logreg_preds2.pickle', 'wb') as handle:\n",
    "    pickle.dump(logreg_preds, handle, protocol=pickle.HIGHEST_PROTOCOL)\n",
    "with open('output/knn_preds2.pickle', 'wb') as handle:\n",
    "    pickle.dump(knn_preds, handle, protocol=pickle.HIGHEST_PROTOCOL)\n",
    "with open('output/rf_preds2.pickle', 'wb') as handle:\n",
    "    pickle.dump(rf_preds, handle, protocol=pickle.HIGHEST_PROTOCOL)\n",
    "with open('output/feat_imp2.pickle', 'wb') as handle:\n",
    "    pickle.dump(feat_imp, handle, protocol=pickle.HIGHEST_PROTOCOL)\n",
    "with open('output/y_tests2.pickle', 'wb') as handle:\n",
    "    pickle.dump(y_tests, handle, protocol=pickle.HIGHEST_PROTOCOL)\n",
    "with open('output/logreg_betas2.pickle', 'wb') as handle:\n",
    "    pickle.dump(logreg_betas, handle, protocol=pickle.HIGHEST_PROTOCOL)"
   ]
  },
  {
   "cell_type": "code",
   "execution_count": null,
   "id": "described-ballet",
   "metadata": {},
   "outputs": [],
   "source": [
    "# Retrieve lists/findings\n",
    "import pickle\n",
    "with open('output/cart_preds2.pickle', 'rb') as handle:\n",
    "    cart_preds = pickle.load(handle)\n",
    "with open('output/logreg_preds2.pickle', 'rb') as handle:\n",
    "    logreg_preds = pickle.load(handle)\n",
    "with open('output/knn_preds2.pickle', 'rb') as handle:\n",
    "    knn_preds = pickle.load(handle)\n",
    "with open('output/rf_preds2.pickle', 'rb') as handle:\n",
    "    rf_preds = pickle.load(handle)\n",
    "with open('output/feat_imp2.pickle', 'rb') as handle:\n",
    "    feat_imp = pickle.load(handle)\n",
    "with open('output/y_tests2.pickle', 'rb') as handle:\n",
    "    y_tests = pickle.load(handle)"
   ]
  },
  {
   "cell_type": "code",
   "execution_count": null,
   "id": "fresh-bradford",
   "metadata": {},
   "outputs": [],
   "source": [
    "#Build Final ROC plot\n",
    "fpr, tpr, thresh = roc_curve(y_tests, cart_preds)\n",
    "auc= roc_auc_score(y_tests, cart_preds)\n",
    "\n",
    "fpr1, tpr1, thresh1 = roc_curve(y_tests, logreg_preds)\n",
    "auc1= roc_auc_score(y_tests, logreg_preds)\n",
    "\n",
    "fpr2, tpr2, thresh2 = roc_curve(y_tests, knn_preds)\n",
    "auc2= roc_auc_score(y_tests, knn_preds)\n",
    "\n",
    "fpr3, tpr3, thresh3 = roc_curve(y_tests, rf_preds)\n",
    "auc3= roc_auc_score(y_tests, rf_preds)\n",
    "\n",
    "fig = plt.figure(figsize=(10, 6))\n",
    "font = {'family' : 'normal',\n",
    "        'weight' : 'normal',\n",
    "        'size'   : 14}\n",
    "plt.rc('font', **font)\n",
    "plt.plot([0, 1], [0, 1], linestyle='--')\n",
    "plt.plot(0.58,0.94,'o', label='Fever') # baseline fever model\n",
    "plt.plot(0.76,0.95,'o', label='Neutropenia') # baseline anc model\n",
    "plt.plot(fpr, tpr, label='CART (AUC = %0.3f)' % auc)\n",
    "plt.plot(fpr1, tpr1, label='Logistic regression (AUC = %0.3f)' % auc1)\n",
    "plt.plot(fpr2, tpr2, label='KNN (AUC = %0.3f)' % auc2)\n",
    "plt.plot(fpr3, tpr3, label='Random Forest (AUC = %0.3f)' % auc3)\n",
    "#plt.plot(fpr4, tpr4, label='ANC Log Reg (AUC = %0.3f)' % auc4)\n",
    "plt.xlim([0.0, 1.0])\n",
    "plt.ylim([0.0, 1.0])\n",
    "plt.xlabel('False Positive Rate')\n",
    "plt.ylabel('True Positive Rate')\n",
    "plt.legend(loc='lower right');\n",
    "plt.show()\n",
    "#fig.savefig('output/prediction_models2.png',bbox_inches='tight')"
   ]
  },
  {
   "cell_type": "code",
   "execution_count": null,
   "id": "fitted-science",
   "metadata": {
    "scrolled": true
   },
   "outputs": [],
   "source": [
    "sum(feat_imp)/len(feat_imp)"
   ]
  },
  {
   "cell_type": "code",
   "execution_count": null,
   "id": "abandoned-original",
   "metadata": {},
   "outputs": [],
   "source": [
    "featureset = ['age','white_caucasian','first_bmi_kg_m2','lowest_neutrophil','lowest_platelet',\n",
    "        'max_temp_38.5','cyt_low','cyt_high','cyt_very_high','levo',\n",
    "        'Other', 'Port','male',\n",
    "        'infection_present']"
   ]
  },
  {
   "cell_type": "markdown",
   "id": "metropolitan-minneapolis",
   "metadata": {},
   "source": [
    "### Cytarabine high dose threshold of 1000 or 2000"
   ]
  },
  {
   "cell_type": "code",
   "execution_count": null,
   "id": "classical-emerald",
   "metadata": {},
   "outputs": [],
   "source": [
    "import numpy as np\n",
    "import pandas as pd\n",
    "from scipy import stats\n",
    "import matplotlib.pyplot as plt\n",
    "from matplotlib.pyplot import plot, show, savefig, xlim, figure, \\\n",
    "                ylim, legend, boxplot, setp, axes\n",
    "%matplotlib inline\n",
    "import statsmodels.api as sm\n",
    "\n",
    "admissions = pd.read_excel('data/aml_data_8.16.23.xlsx')\n",
    "admissions.dropna(subset=['cyt_1000'],inplace=True)\n",
    "ads_cv = pd.get_dummies(admissions['CV_line'], drop_first = True)\n",
    "cvs = ads_cv.columns\n",
    "admissions = pd.concat([admissions, ads_cv], axis=1)\n",
    "admissions['male'] = admissions['gender'].map({'M':1, 'F':0})\n",
    "\n",
    "admissions.first_bmi_kg_m2 = admissions.first_bmi_kg_m2.replace(np.nan,admissions.first_bmi_kg_m2.median())\n",
    "admissions.dropna(subset=['lowest_neutrophil'],inplace=True)\n",
    "admissions.dropna(subset=['lowest_platelet'],inplace=True)\n",
    "admissions.reset_index(inplace=True)\n",
    "print('There are '+str(len(admissions))+' total admissions.')\n",
    "neg_ads = admissions[admissions['infection_present'] == 0]\n",
    "print('There are '+str(len(neg_ads))+' infection-negative admissions.')"
   ]
  },
  {
   "cell_type": "code",
   "execution_count": null,
   "id": "alleged-conditions",
   "metadata": {},
   "outputs": [],
   "source": [
    "from sklearn.linear_model import LogisticRegression\n",
    "from sklearn.tree import DecisionTreeClassifier\n",
    "from sklearn.neighbors import KNeighborsClassifier\n",
    "from sklearn.ensemble import RandomForestClassifier\n",
    "\n",
    "from sklearn.model_selection import train_test_split\n",
    "from sklearn.model_selection import KFold\n",
    "from sklearn.model_selection import LeaveOneOut\n",
    "from sklearn.model_selection import GridSearchCV\n",
    "from sklearn.metrics import roc_auc_score, roc_curve\n",
    "\n",
    "featureset = ['age',\n",
    "        'white_caucasian','first_bmi_kg_m2','lowest_neutrophil','lowest_platelet',\n",
    "        'max_temp_38.5','cyt_2000','levo',\n",
    "        'Other', 'Port',\n",
    "        'male','infection_present']\n",
    "ads_CART = admissions[featureset]\n",
    "X = ads_CART.drop(['infection_present'],axis=1)\n",
    "y = ads_CART['infection_present']\n",
    "\n",
    "# >6 hrs to run\n",
    "cart = DecisionTreeClassifier()\n",
    "logreg = LogisticRegression(solver='liblinear')\n",
    "knn = KNeighborsClassifier()\n",
    "rf = RandomForestClassifier()\n",
    "\n",
    "cart_params = {'max_depth':[1,2,3,4,5,6,7,8,9,10]}\n",
    "logreg_params = {'C':[0.0001,0.001,0.01,0.1,1,10,100,250,500,750,1000],'penalty':['l1','l2']}\n",
    "knn_params = {'n_neighbors':[1,2,3,4,5,6,7,8,9,10],'weights':['uniform','distance']}\n",
    "rf_params = {'n_estimators':[10, 100, 250, 500, 1000],'max_depth':[1,2,5,8,10]} # if slow, only do 1000 n_est\n",
    "\n",
    "flogreg_score = []\n",
    "cart_score = []\n",
    "logreg_score = []\n",
    "knn_score = []\n",
    "rf_score = []\n",
    "\n",
    "loo = LeaveOneOut()\n",
    "cart_preds = []\n",
    "logreg_preds = []\n",
    "knn_preds = []\n",
    "rf_preds = []\n",
    "feat_imp = []\n",
    "y_tests = []\n",
    "for train_index, test_index in loo.split(X):\n",
    "    X_train, X_test = X.loc[train_index], X.loc[test_index]\n",
    "    y_train, y_test = y[train_index], y[test_index]\n",
    "    y_tests.append(y_test)\n",
    "\n",
    "    cartGS = GridSearchCV(cart, cart_params, cv=3, scoring='roc_auc')\n",
    "    cartGS.fit(X_train,y_train)\n",
    "    cart_preds.append(cartGS.best_estimator_.predict_proba(X_test).T[1])\n",
    "\n",
    "    logregGS = GridSearchCV(logreg, logreg_params, cv=3, scoring='roc_auc')\n",
    "    logregGS.fit(X_train,y_train)\n",
    "    logreg_preds.append(logregGS.best_estimator_.predict_proba(X_test).T[1])\n",
    "    #Store betas\n",
    "    #logreg_betas.append(logregGS.best_estimator_.coef_)\n",
    "\n",
    "    knnGS = GridSearchCV(knn, knn_params, cv=3, scoring='roc_auc')\n",
    "    knnGS.fit(X_train,y_train)\n",
    "    knn_preds.append(knnGS.best_estimator_.predict_proba(X_test).T[1])\n",
    "\n",
    "    rfGS = GridSearchCV(rf, rf_params, cv=3, scoring='roc_auc')\n",
    "    rfGS.fit(X_train,y_train)\n",
    "    rf_preds.append(rfGS.best_estimator_.predict_proba(X_test).T[1])\n",
    "    #Store feature importances\n",
    "    feat_imp.append(rfGS.best_estimator_.feature_importances_)"
   ]
  },
  {
   "cell_type": "code",
   "execution_count": null,
   "id": "black-savage",
   "metadata": {},
   "outputs": [],
   "source": [
    "# Saving our lists/findings\n",
    "import pickle\n",
    "with open('output/cart_preds4.pickle', 'wb') as handle:\n",
    "    pickle.dump(cart_preds, handle, protocol=pickle.HIGHEST_PROTOCOL)\n",
    "with open('output/logreg_preds4.pickle', 'wb') as handle:\n",
    "    pickle.dump(logreg_preds, handle, protocol=pickle.HIGHEST_PROTOCOL)\n",
    "with open('output/knn_preds4.pickle', 'wb') as handle:\n",
    "    pickle.dump(knn_preds, handle, protocol=pickle.HIGHEST_PROTOCOL)\n",
    "with open('output/rf_preds4.pickle', 'wb') as handle:\n",
    "    pickle.dump(rf_preds, handle, protocol=pickle.HIGHEST_PROTOCOL)\n",
    "with open('output/feat_imp4.pickle', 'wb') as handle:\n",
    "    pickle.dump(feat_imp, handle, protocol=pickle.HIGHEST_PROTOCOL)\n",
    "with open('output/y_tests4.pickle', 'wb') as handle:\n",
    "    pickle.dump(y_tests, handle, protocol=pickle.HIGHEST_PROTOCOL)"
   ]
  },
  {
   "cell_type": "code",
   "execution_count": null,
   "id": "spatial-costume",
   "metadata": {},
   "outputs": [],
   "source": [
    "# Retrieve lists/findings\n",
    "import pickle\n",
    "with open('output/cart_preds4.pickle', 'rb') as handle:\n",
    "    cart_preds = pickle.load(handle)\n",
    "with open('output/logreg_preds4.pickle', 'rb') as handle:\n",
    "    logreg_preds = pickle.load(handle)\n",
    "with open('output/knn_preds4.pickle', 'rb') as handle:\n",
    "    knn_preds = pickle.load(handle)\n",
    "with open('output/rf_preds4.pickle', 'rb') as handle:\n",
    "    rf_preds = pickle.load(handle)\n",
    "with open('output/feat_imp4.pickle', 'rb') as handle:\n",
    "    feat_imp = pickle.load(handle)\n",
    "with open('output/y_tests4.pickle', 'rb') as handle:\n",
    "    y_tests = pickle.load(handle)"
   ]
  },
  {
   "cell_type": "code",
   "execution_count": null,
   "id": "younger-desire",
   "metadata": {},
   "outputs": [],
   "source": [
    "# Baseline fever model\n",
    "# (0, recall) is specificity/TNR = 1 - FPR\n",
    "# (1, recall) is sensitivity/TPR = 0.94\n",
    "from sklearn.metrics import classification_report\n",
    "fevers = admissions['max_temp_38.5']\n",
    "infections = admissions['infection_present']\n",
    "print(classification_report(infections,fevers))"
   ]
  },
  {
   "cell_type": "code",
   "execution_count": null,
   "id": "married-alabama",
   "metadata": {},
   "outputs": [],
   "source": [
    "neutropenia = admissions['neutropenia']\n",
    "infections = admissions['infection_present']\n",
    "print(classification_report(infections,neutropenia))"
   ]
  },
  {
   "cell_type": "code",
   "execution_count": null,
   "id": "serial-civilian",
   "metadata": {},
   "outputs": [],
   "source": [
    "#Build Final ROC plot\n",
    "fpr, tpr, thresh = roc_curve(y_tests, cart_preds)\n",
    "auc= roc_auc_score(y_tests, cart_preds)\n",
    "\n",
    "fpr1, tpr1, thresh1 = roc_curve(y_tests, logreg_preds)\n",
    "auc1= roc_auc_score(y_tests, logreg_preds)\n",
    "\n",
    "fpr2, tpr2, thresh2 = roc_curve(y_tests, knn_preds)\n",
    "auc2= roc_auc_score(y_tests, knn_preds)\n",
    "\n",
    "fpr3, tpr3, thresh3 = roc_curve(y_tests, rf_preds)\n",
    "auc3= roc_auc_score(y_tests, rf_preds)\n",
    "\n",
    "fig = plt.figure(figsize=(10, 6))\n",
    "font = {'family' : 'normal',\n",
    "        'weight' : 'normal',\n",
    "        'size'   : 14}\n",
    "plt.rc('font', **font)\n",
    "plt.plot([0, 1], [0, 1], linestyle='--')\n",
    "plt.plot(0.58,0.94,'o', label='Fever') # baseline fever model\n",
    "plt.plot(0.76,0.95,'o', label='Neutropenia') # baseline anc model\n",
    "plt.plot(fpr, tpr, label='CART (AUC = %0.3f)' % auc)\n",
    "plt.plot(fpr1, tpr1, label='Logistic regression (AUC = %0.3f)' % auc1)\n",
    "plt.plot(fpr2, tpr2, label='KNN (AUC = %0.3f)' % auc2)\n",
    "plt.plot(fpr3, tpr3, label='Random Forest (AUC = %0.3f)' % auc3)\n",
    "#plt.plot(fpr4, tpr4, label='ANC Log Reg (AUC = %0.3f)' % auc4)\n",
    "plt.xlim([0.0, 1.0])\n",
    "plt.ylim([0.0, 1.0])\n",
    "plt.xlabel('False Positive Rate')\n",
    "plt.ylabel('True Positive Rate')\n",
    "plt.legend(loc='lower right');\n",
    "plt.show()\n",
    "# fig.savefig('output/prediction_models4.png',bbox_inches='tight')"
   ]
  },
  {
   "cell_type": "code",
   "execution_count": null,
   "id": "obvious-activation",
   "metadata": {},
   "outputs": [],
   "source": [
    "sum(feat_imp)/len(feat_imp)"
   ]
  },
  {
   "cell_type": "code",
   "execution_count": null,
   "id": "simplified-cholesterol",
   "metadata": {},
   "outputs": [],
   "source": [
    "featureset = ['age','white_caucasian','first_bmi_kg_m2','lowest_neutrophil','lowest_platelet',\n",
    "        'max_temp_38.5','cyt_1000','levo','Other', 'Port',\n",
    "        'male',\n",
    "        'infection_present']"
   ]
  },
  {
   "cell_type": "markdown",
   "id": "tropical-sapphire",
   "metadata": {},
   "source": [
    "### What if included hemoglobin and monocytes?"
   ]
  },
  {
   "cell_type": "code",
   "execution_count": null,
   "id": "increased-charlotte",
   "metadata": {},
   "outputs": [],
   "source": [
    "import numpy as np\n",
    "import pandas as pd\n",
    "from scipy import stats\n",
    "import matplotlib.pyplot as plt\n",
    "from matplotlib.pyplot import plot, show, savefig, xlim, figure, \\\n",
    "                ylim, legend, boxplot, setp, axes\n",
    "%matplotlib inline\n",
    "import statsmodels.api as sm\n",
    "\n",
    "admissions = pd.read_excel('data/aml_data_8.16.23.xlsx')\n",
    "admissions.dropna(subset=['Cytarabine mg/m2/day'],inplace=True)\n",
    "ads_cv = pd.get_dummies(admissions['CV_line'], drop_first = True)\n",
    "cvs = ads_cv.columns\n",
    "admissions = pd.concat([admissions, ads_cv], axis=1)\n",
    "admissions['male'] = admissions['gender'].map({'M':1, 'F':0})\n",
    "\n",
    "admissions.first_bmi_kg_m2 = admissions.first_bmi_kg_m2.replace(np.nan,admissions.first_bmi_kg_m2.median())\n",
    "admissions.dropna(subset=['lowest_neutrophil'],inplace=True)\n",
    "admissions.dropna(subset=['lowest_platelet'],inplace=True)\n",
    "admissions.dropna(subset=['lowest_hemoglobin'],inplace=True)\n",
    "admissions.dropna(subset=['lowest_monocytes'],inplace=True)\n",
    "admissions.reset_index(inplace=True)\n",
    "print('There are '+str(len(admissions))+' total admissions.')\n",
    "neg_ads = admissions[admissions['infection_present'] == 0]\n",
    "print('There are '+str(len(neg_ads))+' infection-negative admissions.')"
   ]
  },
  {
   "cell_type": "code",
   "execution_count": null,
   "id": "spare-portrait",
   "metadata": {},
   "outputs": [],
   "source": [
    "from sklearn.linear_model import LogisticRegression\n",
    "from sklearn.tree import DecisionTreeClassifier\n",
    "from sklearn.neighbors import KNeighborsClassifier\n",
    "from sklearn.ensemble import RandomForestClassifier\n",
    "\n",
    "from sklearn.model_selection import train_test_split\n",
    "from sklearn.model_selection import KFold\n",
    "from sklearn.model_selection import LeaveOneOut\n",
    "from sklearn.model_selection import GridSearchCV\n",
    "from sklearn.metrics import roc_auc_score, roc_curve\n",
    "\n",
    "\n",
    "featureset = ['age',\n",
    "        'white_caucasian','first_bmi_kg_m2','lowest_neutrophil','lowest_platelet',\n",
    "        'max_temp_38.5','cyt_2000','levo',\n",
    "        'lowest_hemoglobin','lowest_monocytes',\n",
    "        'Other', 'Port',\n",
    "        'male','infection_present']\n",
    "ads_CART = admissions[featureset]\n",
    "X = ads_CART.drop(['infection_present'],axis=1)\n",
    "y = ads_CART['infection_present']\n",
    "\n",
    "# >6 hrs to run\n",
    "cart = DecisionTreeClassifier()\n",
    "logreg = LogisticRegression(solver='liblinear')\n",
    "knn = KNeighborsClassifier()\n",
    "rf = RandomForestClassifier()\n",
    "\n",
    "cart_params = {'max_depth':[1,2,3,4,5,6,7,8,9,10]}\n",
    "logreg_params = {'C':[0.0001,0.001,0.01,0.1,1,10,100,250,500,750,1000],'penalty':['l1','l2']}\n",
    "knn_params = {'n_neighbors':[1,2,3,4,5,6,7,8,9,10],'weights':['uniform','distance']}\n",
    "rf_params = {'n_estimators':[10, 100, 250, 500, 1000],'max_depth':[1,2,5,8,10]} # if slow, only do 1000 n_est\n",
    "\n",
    "flogreg_score = []\n",
    "cart_score = []\n",
    "logreg_score = []\n",
    "knn_score = []\n",
    "rf_score = []\n",
    "\n",
    "loo = LeaveOneOut()\n",
    "cart_preds = []\n",
    "logreg_preds = []\n",
    "knn_preds = []\n",
    "rf_preds = []\n",
    "feat_imp = []\n",
    "y_tests = []\n",
    "logreg_betas = []\n",
    "for train_index, test_index in loo.split(X):\n",
    "    X_train, X_test = X.loc[train_index], X.loc[test_index]\n",
    "    y_train, y_test = y[train_index], y[test_index]\n",
    "    y_tests.append(y_test)\n",
    "\n",
    "    cartGS = GridSearchCV(cart, cart_params, cv=3, scoring='roc_auc')\n",
    "    cartGS.fit(X_train,y_train)\n",
    "    cart_preds.append(cartGS.best_estimator_.predict_proba(X_test).T[1])\n",
    "\n",
    "    logregGS = GridSearchCV(logreg, logreg_params, cv=3, scoring='roc_auc')\n",
    "    logregGS.fit(X_train,y_train)\n",
    "    logreg_preds.append(logregGS.best_estimator_.predict_proba(X_test).T[1])\n",
    "    #Store betas\n",
    "    logreg_betas.append(logregGS.best_estimator_.coef_)\n",
    "\n",
    "    knnGS = GridSearchCV(knn, knn_params, cv=3, scoring='roc_auc')\n",
    "    knnGS.fit(X_train,y_train)\n",
    "    knn_preds.append(knnGS.best_estimator_.predict_proba(X_test).T[1])\n",
    "\n",
    "    rfGS = GridSearchCV(rf, rf_params, cv=3, scoring='roc_auc')\n",
    "    rfGS.fit(X_train,y_train)\n",
    "    rf_preds.append(rfGS.best_estimator_.predict_proba(X_test).T[1])\n",
    "    #Store feature importances\n",
    "    feat_imp.append(rfGS.best_estimator_.feature_importances_)"
   ]
  },
  {
   "cell_type": "code",
   "execution_count": null,
   "id": "thirty-schedule",
   "metadata": {},
   "outputs": [],
   "source": [
    "# Saving our lists/findings\n",
    "import pickle\n",
    "with open('output/cart_preds8.pickle', 'wb') as handle:\n",
    "    pickle.dump(cart_preds, handle, protocol=pickle.HIGHEST_PROTOCOL)\n",
    "with open('output/logreg_preds8.pickle', 'wb') as handle:\n",
    "    pickle.dump(logreg_preds, handle, protocol=pickle.HIGHEST_PROTOCOL)\n",
    "with open('output/knn_preds8.pickle', 'wb') as handle:\n",
    "    pickle.dump(knn_preds, handle, protocol=pickle.HIGHEST_PROTOCOL)\n",
    "with open('output/rf_preds8.pickle', 'wb') as handle:\n",
    "    pickle.dump(rf_preds, handle, protocol=pickle.HIGHEST_PROTOCOL)\n",
    "with open('output/feat_imp8.pickle', 'wb') as handle:\n",
    "    pickle.dump(feat_imp, handle, protocol=pickle.HIGHEST_PROTOCOL)\n",
    "with open('output/y_tests8.pickle', 'wb') as handle:\n",
    "    pickle.dump(y_tests, handle, protocol=pickle.HIGHEST_PROTOCOL)\n",
    "with open('output/logreg_betas8.pickle', 'wb') as handle:\n",
    "    pickle.dump(logreg_betas, handle, protocol=pickle.HIGHEST_PROTOCOL)"
   ]
  },
  {
   "cell_type": "code",
   "execution_count": null,
   "id": "national-postage",
   "metadata": {},
   "outputs": [],
   "source": [
    "# Baseline fever model\n",
    "# (0, recall) is specificity/TNR = 1 - FPR\n",
    "# (1, recall) is sensitivity/TPR = 0.94\n",
    "from sklearn.metrics import classification_report\n",
    "fevers = admissions['max_temp_38.5']\n",
    "infections = admissions['infection_present']\n",
    "print(classification_report(infections,fevers))"
   ]
  },
  {
   "cell_type": "code",
   "execution_count": null,
   "id": "cleared-degree",
   "metadata": {},
   "outputs": [],
   "source": [
    "neutropenia = admissions['neutropenia']\n",
    "infections = admissions['infection_present']\n",
    "print(classification_report(infections,neutropenia))"
   ]
  },
  {
   "cell_type": "code",
   "execution_count": null,
   "id": "entertaining-dylan",
   "metadata": {},
   "outputs": [],
   "source": [
    "#Build Final ROC plot\n",
    "fpr, tpr, thresh = roc_curve(y_tests, cart_preds)\n",
    "auc= roc_auc_score(y_tests, cart_preds)\n",
    "\n",
    "fpr1, tpr1, thresh1 = roc_curve(y_tests, logreg_preds)\n",
    "auc1= roc_auc_score(y_tests, logreg_preds)\n",
    "\n",
    "fpr2, tpr2, thresh2 = roc_curve(y_tests, knn_preds)\n",
    "auc2= roc_auc_score(y_tests, knn_preds)\n",
    "\n",
    "fpr3, tpr3, thresh3 = roc_curve(y_tests, rf_preds)\n",
    "auc3= roc_auc_score(y_tests, rf_preds)\n",
    "\n",
    "fig = plt.figure(figsize=(10, 6))\n",
    "font = {'family' : 'normal',\n",
    "        'weight' : 'normal',\n",
    "        'size'   : 14}\n",
    "plt.rc('font', **font)\n",
    "plt.plot([0, 1], [0, 1], linestyle='--')\n",
    "plt.plot(0.58,0.94,'o', label='Fever') # baseline fever model\n",
    "plt.plot(0.76,0.95,'o', label='Neutropenia') # baseline anc model\n",
    "plt.plot(fpr, tpr, label='CART (AUC = %0.3f)' % auc)\n",
    "plt.plot(fpr1, tpr1, label='Logistic regression (AUC = %0.3f)' % auc1)\n",
    "plt.plot(fpr2, tpr2, label='KNN (AUC = %0.3f)' % auc2)\n",
    "plt.plot(fpr3, tpr3, label='Random Forest (AUC = %0.3f)' % auc3)\n",
    "#plt.plot(fpr4, tpr4, label='ANC Log Reg (AUC = %0.3f)' % auc4)\n",
    "plt.xlim([0.0, 1.0])\n",
    "plt.ylim([0.0, 1.0])\n",
    "plt.xlabel('False Positive Rate')\n",
    "plt.ylabel('True Positive Rate')\n",
    "plt.legend(loc='lower right');\n",
    "plt.show()\n",
    "# fig.savefig('output/prediction_models8.png',bbox_inches='tight')"
   ]
  },
  {
   "cell_type": "code",
   "execution_count": null,
   "id": "variable-bolivia",
   "metadata": {},
   "outputs": [],
   "source": [
    "# Retrieve lists/findings\n",
    "import pickle\n",
    "with open('output/cart_preds8.pickle', 'rb') as handle:\n",
    "    cart_preds = pickle.load(handle)\n",
    "with open('output/logreg_preds8.pickle', 'rb') as handle:\n",
    "    logreg_preds = pickle.load(handle)\n",
    "with open('output/knn_preds8.pickle', 'rb') as handle:\n",
    "    knn_preds = pickle.load(handle)\n",
    "with open('output/rf_preds8.pickle', 'rb') as handle:\n",
    "    rf_preds = pickle.load(handle)\n",
    "with open('output/feat_imp8.pickle', 'rb') as handle:\n",
    "    feat_imp = pickle.load(handle)\n",
    "with open('output/y_tests8.pickle', 'rb') as handle:\n",
    "    y_tests = pickle.load(handle)\n",
    "with open('output/logreg_betas8.pickle', 'rb') as handle:\n",
    "    logreg_betas = pickle.load(handle)"
   ]
  },
  {
   "cell_type": "code",
   "execution_count": null,
   "id": "respected-continuity",
   "metadata": {},
   "outputs": [],
   "source": [
    "sum(logreg_betas)/len(logreg_betas)"
   ]
  },
  {
   "cell_type": "code",
   "execution_count": null,
   "id": "unable-saver",
   "metadata": {},
   "outputs": [],
   "source": [
    "sum(feat_imp)/len(feat_imp)"
   ]
  },
  {
   "cell_type": "code",
   "execution_count": null,
   "id": "intended-brazilian",
   "metadata": {},
   "outputs": [],
   "source": [
    "featureset = ['age','white_caucasian','first_bmi_kg_m2','lowest_neutrophil','lowest_platelet',\n",
    "        'max_temp_38.5','cyt_2000','levo','Other', 'Port',\n",
    "        'lowest_hemoglobin','lowest_monocytes','male',\n",
    "        'infection_present']"
   ]
  },
  {
   "cell_type": "markdown",
   "id": "legendary-auditor",
   "metadata": {},
   "source": [
    "# EDA"
   ]
  },
  {
   "cell_type": "code",
   "execution_count": null,
   "id": "efficient-clause",
   "metadata": {},
   "outputs": [],
   "source": [
    "import numpy as np\n",
    "import pandas as pd\n",
    "import seaborn as sns\n",
    "import matplotlib.pyplot as plt\n",
    "%matplotlib inline"
   ]
  },
  {
   "cell_type": "code",
   "execution_count": null,
   "id": "electoral-reporter",
   "metadata": {},
   "outputs": [],
   "source": [
    "admissions = pd.read_excel('data/aml_data_8.16.23.xlsx')\n",
    "#admissions.head()\n",
    "len(admissions)"
   ]
  },
  {
   "cell_type": "code",
   "execution_count": null,
   "id": "historical-middle",
   "metadata": {},
   "outputs": [],
   "source": [
    "pos_ads = admissions[admissions['infection_present'] == 1]\n",
    "print('There are '+str(len(pos_ads))+' infection-positive admissions.')\n",
    "print('There are '+str(len(pos_ads.MRN.unique()))+' patients that were infected.')\n",
    "#pos_ads.head()\n",
    "neg_ads = admissions[admissions['infection_present'] == 0]\n",
    "print('There are '+str(len(neg_ads))+' infection-negative admissions.')\n",
    "#neg_ads.head()\n",
    "\n",
    "# number of admissions\n",
    "tot_ads = admissions.pivot_table(index='MRN',values='age',aggfunc='count')\n",
    "tot_ads.plot.hist(bins=5).set_title('Amount of Patient Admissions')\n",
    "plt.xlabel('Admissions Count')\n",
    "plt.ylabel('Number of Patients')"
   ]
  },
  {
   "cell_type": "code",
   "execution_count": null,
   "id": "internal-telescope",
   "metadata": {},
   "outputs": [],
   "source": [
    "# num infections vs age range, pos & neg\n",
    "sns.boxplot(x='infection_present', y='age', data= admissions).set_title('Age Distribution of Pos/Neg Infections')"
   ]
  },
  {
   "cell_type": "code",
   "execution_count": null,
   "id": "square-african",
   "metadata": {},
   "outputs": [],
   "source": [
    "ad_race = admissions.pivot_table(index='race_code', values='MRN', aggfunc='count')\n",
    "pos_race = pos_ads.pivot_table(index='race_code', values='MRN', aggfunc='count')\n",
    "neg_race = neg_ads.pivot_table(index='race_code', values='MRN', aggfunc='count')\n",
    "pos_pie=pos_race.plot.pie(y='MRN',figsize=(10,6)).set_title('Positive Infections by Race',fontsize=18)\n",
    "neg_race.plot.pie(y='MRN',figsize=(10,6)).set_title('Negative Infections by Race',fontsize=18)"
   ]
  },
  {
   "cell_type": "code",
   "execution_count": null,
   "id": "tribal-violence",
   "metadata": {},
   "outputs": [],
   "source": [
    "ad_gender = admissions.pivot_table(index='gender', values='MRN', aggfunc='count')\n",
    "pos_gender= pos_ads.pivot_table(index='gender', values='MRN', aggfunc='count')\n",
    "pos_gender.plot.pie(y='MRN',figsize=(10,4)).set_title('Positive Infections by Gender',fontsize=18)\n",
    "neg_gender= neg_ads.pivot_table(index='gender', values='MRN', aggfunc='count')\n",
    "neg_gender.plot.pie(y='MRN',figsize=(10,4)).set_title('Negative Infections by Gender',fontsize=18)"
   ]
  },
  {
   "cell_type": "code",
   "execution_count": null,
   "id": "derived-suspect",
   "metadata": {},
   "outputs": [],
   "source": [
    "sns.boxplot(data=admissions, x='infection_present', y='age', hue='gender').set_title(\"Positive and Negative Cases Age Range by Gender\");"
   ]
  },
  {
   "cell_type": "code",
   "execution_count": null,
   "id": "decimal-tissue",
   "metadata": {},
   "outputs": [],
   "source": [
    "cond_plot = sns.FacetGrid(data=admissions, col='race_code', col_wrap=4)\n",
    "cond_plot.fig.subplots_adjust(top=0.9) \n",
    "cond_plot.fig.suptitle(\"Positive and Negative Cases Age Range by Race\")\n",
    "cond_plot.map(sns.boxplot, 'infection_present', 'age')"
   ]
  },
  {
   "cell_type": "code",
   "execution_count": null,
   "id": "raising-shelf",
   "metadata": {},
   "outputs": [],
   "source": [
    "sns.boxplot(x= admissions['infection_present'], y=admissions['first_bmi_kg_m2']).set_title(\"BMI for Pos/Neg Infections\");"
   ]
  },
  {
   "cell_type": "code",
   "execution_count": null,
   "id": "brief-genetics",
   "metadata": {},
   "outputs": [],
   "source": [
    "sns.scatterplot(data=admissions, x='age', y='first_bmi_kg_m2', hue='infection_present').set_title(\"Age and BMI for Positive/Negative Infections\");"
   ]
  },
  {
   "cell_type": "code",
   "execution_count": null,
   "id": "corrected-garlic",
   "metadata": {},
   "outputs": [],
   "source": [
    "sns.boxplot(data=admissions, x='infection_present', y='first_bmi_kg_m2', hue='gender').set_title(\"Positive and Negative Cases BMI Range by Gender\");"
   ]
  },
  {
   "cell_type": "code",
   "execution_count": null,
   "id": "surprised-morgan",
   "metadata": {},
   "outputs": [],
   "source": [
    "# los vs infection\n",
    "sns.boxplot(x='infection_present', y='LOS', data= admissions).set_title('Length of Stay (days) of Pos/Neg Infections')"
   ]
  },
  {
   "cell_type": "code",
   "execution_count": null,
   "id": "precious-violation",
   "metadata": {},
   "outputs": [],
   "source": [
    "# how many total icu admissions were there?\n",
    "len(admissions)-sum(admissions.icu_los.isna())"
   ]
  },
  {
   "cell_type": "code",
   "execution_count": null,
   "id": "understanding-basement",
   "metadata": {},
   "outputs": [],
   "source": [
    "ads_icu = admissions.pivot_table(index='infection_present', values='icu_los',aggfunc='count')\n",
    "pos_ratio = ads_icu.loc[1]/len(pos_ads)\n",
    "neg_ratio = ads_icu.loc[0]/len(neg_ads)\n",
    "ratio = [neg_ratio,pos_ratio]\n",
    "ratio = pd.DataFrame(ratio)\n",
    "ratio.plot.bar(y='icu_los').set_title('ICU Admissions Ratios of Pos/Neg Infections')\n",
    "plt.xticks(rotation=0)"
   ]
  },
  {
   "cell_type": "code",
   "execution_count": null,
   "id": "equivalent-monitor",
   "metadata": {},
   "outputs": [],
   "source": [
    "# deaths\n",
    "ads_dod = admissions.pivot_table(index='infection_present', values='dod',aggfunc='count')\n",
    "pos_ratio2 = ads_dod.loc[1]/len(pos_ads)\n",
    "neg_ratio2 = ads_dod.loc[0]/len(neg_ads)\n",
    "ratio2 = [neg_ratio2,pos_ratio2]\n",
    "ratio2 = pd.DataFrame(ratio2)\n",
    "ratio2.plot.bar(y='dod').set_title('Deaths of Positive/Negative Infections')\n",
    "plt.xticks(rotation=0)"
   ]
  },
  {
   "cell_type": "code",
   "execution_count": null,
   "id": "specific-palmer",
   "metadata": {},
   "outputs": [],
   "source": [
    "# distribution of infections over time\n",
    "# look at infections per admissions (ratio) each year\n",
    "pos_ads['infection_present'].groupby(pos_ads['admit_date'].dt.year).count().plot(kind=\"bar\",figsize=(10,4)).set_title('Infections Over Time')\n",
    "plt.xticks(rotation=0);"
   ]
  },
  {
   "cell_type": "code",
   "execution_count": null,
   "id": "qualified-balance",
   "metadata": {},
   "outputs": [],
   "source": [
    "# infection relapses\n",
    "relapses = admissions.pivot_table(index='MRN',values='infection_present',aggfunc='sum')\n",
    "relapses.plot.hist().set_title('Number of Infections Per Patient')\n",
    "plt.xlabel('Number of Infections')\n",
    "plt.ylabel('Number of Patients')"
   ]
  },
  {
   "cell_type": "code",
   "execution_count": null,
   "id": "strong-village",
   "metadata": {},
   "outputs": [],
   "source": [
    "# lowest_neutrophil\n",
    "sns.boxplot(x='infection_present', y='lowest_neutrophil', data= admissions).set_title('Lowest Neutrophil Count of Admissions for Pos/Neg Infections')"
   ]
  },
  {
   "cell_type": "code",
   "execution_count": null,
   "id": "immediate-container",
   "metadata": {},
   "outputs": [],
   "source": [
    "#CV_line_name\n",
    "ad_cv = admissions.pivot_table(index='CV_buckets', values='MRN', aggfunc='count')\n",
    "ad_cv.plot.pie(y='MRN',figsize=(10,8)).set_title('CV Lines per Admission',fontsize=18)"
   ]
  }
 ],
 "metadata": {
  "kernelspec": {
   "display_name": "Python 3",
   "language": "python",
   "name": "python3"
  },
  "language_info": {
   "codemirror_mode": {
    "name": "ipython",
    "version": 3
   },
   "file_extension": ".py",
   "mimetype": "text/x-python",
   "name": "python",
   "nbconvert_exporter": "python",
   "pygments_lexer": "ipython3",
   "version": "3.9.13"
  }
 },
 "nbformat": 4,
 "nbformat_minor": 5
}
