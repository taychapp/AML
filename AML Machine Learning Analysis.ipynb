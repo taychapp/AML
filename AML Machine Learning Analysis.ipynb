{
 "cells": [
  {
   "cell_type": "markdown",
   "id": "necessary-orchestra",
   "metadata": {},
   "source": [
    "<center>\n",
    "    <h1><u>AML Infections Data Analysis</u></h1>\n",
    "</center>"
   ]
  },
  {
   "cell_type": "code",
   "execution_count": null,
   "id": "fuzzy-presentation",
   "metadata": {},
   "outputs": [],
   "source": [
    "import numpy as np\n",
    "import pandas as pd\n",
    "import matplotlib.pyplot as plt\n",
    "%matplotlib inline\n",
    "from matplotlib.pyplot import plot, show, savefig, xlim, figure, \\\n",
    "                ylim, legend, boxplot, setp, axes\n",
    "\n",
    "#run once\n",
    "#pip install openpyxl\n",
    "#pip install lifelines\n",
    "\n",
    "admissions = pd.read_excel('aml_data_8.16.23.xlsx')\n",
    "#admissions.head()\n",
    "len(admissions)"
   ]
  },
  {
   "cell_type": "code",
   "execution_count": null,
   "id": "preliminary-sheep",
   "metadata": {},
   "outputs": [],
   "source": [
    "neg_ads = admissions[admissions['infection_present'] == 0]\n",
    "print('There are '+str(len(neg_ads))+' infection-negative admissions.')"
   ]
  },
  {
   "cell_type": "code",
   "execution_count": null,
   "id": "minor-pension",
   "metadata": {},
   "outputs": [],
   "source": [
    "len(admissions.columns)"
   ]
  },
  {
   "cell_type": "markdown",
   "id": "referenced-netherlands",
   "metadata": {},
   "source": [
    "# Survival Analysis: Kaplan Meier Curve"
   ]
  },
  {
   "cell_type": "code",
   "execution_count": null,
   "id": "interesting-arrest",
   "metadata": {},
   "outputs": [],
   "source": [
    "from lifelines import KaplanMeierFitter\n",
    "# infected vs not infected\n",
    "kmf = KaplanMeierFitter()\n",
    "kmc_ads = admissions.drop_duplicates(subset='MRN',keep='last')\n",
    "X = kmc_ads['survival_months']\n",
    "Y = kmc_ads['alive_dead']\n",
    "score_group = kmc_ads['infection_present'] == 1\n",
    "ax = plt.subplot(111)\n",
    "kmf.fit(X[~score_group], event_observed = Y[~score_group], label = 'No Infection')\n",
    "kmf.plot(ax = ax)\n",
    "kmf.fit(X[score_group], event_observed = Y[score_group], label = 'Infection')\n",
    "kmf.plot(ax = ax)\n",
    "font = {'family' : 'normal',\n",
    "        'weight' : 'normal',\n",
    "        'size'   : 14}\n",
    "plt.rc('font', **font)\n",
    "#plt.title(\"Kaplan Meier Estimates by Infection/No Infection\")\n",
    "plt.xlabel(\"Month After AML diagnosis\")\n",
    "plt.ylabel(\"Probability of Survival\")\n",
    "plt.savefig('KM_infections.png',bbox_inches='tight')"
   ]
  },
  {
   "cell_type": "code",
   "execution_count": null,
   "id": "happy-ceramic",
   "metadata": {},
   "outputs": [],
   "source": [
    "print(len(Y)) # num patients\n",
    "print(sum(Y)) # num deaths\n",
    "print(sum(Y)/len(Y)) # death ratio"
   ]
  },
  {
   "cell_type": "code",
   "execution_count": null,
   "id": "standing-publisher",
   "metadata": {},
   "outputs": [],
   "source": [
    "# logrank test\n",
    "from lifelines.statistics import logrank_test\n",
    "results=logrank_test(X[~score_group],X[score_group],event_observed_A=Y[~score_group], event_observed_B=Y[score_group])\n",
    "results.print_summary()"
   ]
  },
  {
   "cell_type": "code",
   "execution_count": null,
   "id": "casual-worry",
   "metadata": {},
   "outputs": [],
   "source": [
    "# race (white vs. other)\n",
    "kmf = KaplanMeierFitter()\n",
    "kmc_ads = admissions.drop_duplicates(subset='MRN',keep='last')\n",
    "X = kmc_ads['survival_months']\n",
    "Y = kmc_ads['alive_dead']\n",
    "score_group = kmc_ads['white_caucasian'] == 1\n",
    "ax = plt.subplot(111)\n",
    "kmf.fit(X[score_group], event_observed = Y[score_group], label = 'White/Caucasian')\n",
    "kmf.plot(ax = ax)\n",
    "kmf.fit(X[~score_group], event_observed = Y[~score_group], label = 'Other')\n",
    "kmf.plot(ax = ax)\n",
    "font = {'family' : 'normal',\n",
    "        'weight' : 'normal',\n",
    "        'size'   : 14}\n",
    "plt.rc('font', **font)\n",
    "#plt.title(\"Kaplan Meier Estimates by Race\")\n",
    "plt.xlabel(\"Month After AML diagnosis\")\n",
    "plt.ylabel(\"Probability of Survival\")\n",
    "plt.savefig('KM_race.png',bbox_inches='tight')"
   ]
  },
  {
   "cell_type": "code",
   "execution_count": null,
   "id": "explicit-light",
   "metadata": {},
   "outputs": [],
   "source": [
    "results=logrank_test(X[score_group],X[~score_group],event_observed_A=Y[score_group], event_observed_B=Y[~score_group])\n",
    "results.print_summary()"
   ]
  },
  {
   "cell_type": "markdown",
   "id": "conservative-springer",
   "metadata": {},
   "source": [
    "# Machine Learning Analysis"
   ]
  },
  {
   "cell_type": "markdown",
   "id": "rental-privilege",
   "metadata": {},
   "source": [
    "## Explanation"
   ]
  },
  {
   "cell_type": "code",
   "execution_count": null,
   "id": "large-daughter",
   "metadata": {},
   "outputs": [],
   "source": [
    "import numpy as np\n",
    "import pandas as pd\n",
    "from scipy import stats\n",
    "import matplotlib.pyplot as plt\n",
    "from matplotlib.pyplot import plot, show, savefig, xlim, figure, \\\n",
    "                ylim, legend, boxplot, setp, axes\n",
    "%matplotlib inline\n",
    "import statsmodels.api as sm\n",
    "\n",
    "admissions = pd.read_excel('aml_data_8.16.23.xlsx')\n",
    "admissions.dropna(subset=['cytarabine'],inplace=True)\n",
    "ads_cv = pd.get_dummies(admissions['CV_line'], drop_first = True)\n",
    "cvs = ads_cv.columns\n",
    "admissions = pd.concat([admissions, ads_cv], axis=1)\n",
    "admissions['male'] = admissions['gender'].map({'M':1, 'F':0})\n",
    "\n",
    "print('There are '+str(len(admissions))+' total admissions.')\n",
    "neg_ads = admissions[admissions['infection_present'] == 0]\n",
    "print('There are '+str(len(neg_ads))+' infection-negative admissions.')"
   ]
  },
  {
   "cell_type": "markdown",
   "id": "static-kelly",
   "metadata": {},
   "source": [
    "### Univariate Analysis & Logistic Regression"
   ]
  },
  {
   "cell_type": "code",
   "execution_count": null,
   "id": "absent-myanmar",
   "metadata": {},
   "outputs": [],
   "source": [
    "alpha = .05"
   ]
  },
  {
   "cell_type": "code",
   "execution_count": null,
   "id": "smaller-certification",
   "metadata": {},
   "outputs": [],
   "source": [
    "pos_ads = admissions[admissions['infection_present'] == 1]\n",
    "print('There are '+str(len(pos_ads))+' infection-positive admissions.')\n",
    "print('There are '+str(len(pos_ads.MRN.unique()))+' patients that were infected.')\n",
    "#pos_ads.head()\n",
    "neg_ads = admissions[admissions['infection_present'] == 0]\n",
    "print('There are '+str(len(neg_ads))+' infection-negative admissions.')\n",
    "#neg_ads.head()"
   ]
  },
  {
   "cell_type": "markdown",
   "id": "exclusive-senior",
   "metadata": {},
   "source": [
    "#### Cytarabine"
   ]
  },
  {
   "cell_type": "code",
   "execution_count": null,
   "id": "further-louisiana",
   "metadata": {},
   "outputs": [],
   "source": [
    "admissions['Cytarabine_g/m2/day'] = admissions['Cytarabine mg/m2/day']*0.001\n",
    "#admissions['Cytarabine_g/m2/day'] = admissions['Cytarabine_g/m2/day'].replace(np.nan,0)\n",
    "featureset = ['age','male','white_caucasian','Cytarabine_g/m2/day','infection_present']\n",
    "ads_logreg = admissions[featureset]\n",
    "target = ads_logreg['infection_present']\n",
    "features = ads_logreg.drop(['infection_present'],axis=1)\n",
    "model = sm.Logit(target, sm.add_constant(features))\n",
    "result = model.fit()\n",
    "result.summary()"
   ]
  },
  {
   "cell_type": "code",
   "execution_count": null,
   "id": "aging-community",
   "metadata": {},
   "outputs": [],
   "source": [
    "featureset = ['age','male','white_caucasian','cyt_2000','infection_present']\n",
    "ads_logreg = admissions[featureset]\n",
    "target = ads_logreg['infection_present']\n",
    "features = ads_logreg.drop(['infection_present'],axis=1)\n",
    "model = sm.Logit(target, sm.add_constant(features))\n",
    "result = model.fit()\n",
    "result.summary()"
   ]
  },
  {
   "cell_type": "code",
   "execution_count": null,
   "id": "toxic-universe",
   "metadata": {},
   "outputs": [],
   "source": [
    "featureset = ['age','male','white_caucasian','cytarabine','infection_present']\n",
    "ads_logreg = admissions[featureset]\n",
    "target = ads_logreg['infection_present']\n",
    "features = ads_logreg.drop(['infection_present'],axis=1)\n",
    "model = sm.Logit(target, sm.add_constant(features))\n",
    "result = model.fit()\n",
    "result.summary()"
   ]
  },
  {
   "cell_type": "code",
   "execution_count": null,
   "id": "touched-sullivan",
   "metadata": {},
   "outputs": [],
   "source": [
    "admissions['Cytarabine mg/m2'] = admissions['Cytarabine mg/m2'].replace(np.nan,0)\n",
    "featureset = ['age','male','white_caucasian','Cytarabine mg/m2','infection_present']\n",
    "ads_logreg = admissions[featureset]\n",
    "target = ads_logreg['infection_present']\n",
    "features = ads_logreg.drop(['infection_present'],axis=1)\n",
    "model = sm.Logit(target, sm.add_constant(features))\n",
    "result = model.fit()\n",
    "result.summary()"
   ]
  },
  {
   "cell_type": "code",
   "execution_count": null,
   "id": "extreme-divide",
   "metadata": {},
   "outputs": [],
   "source": [
    "# scaling cytarabine (and age)\n",
    "featureset = ['age','male','white_caucasian','Cytarabine mg/m2/day','infection_present']\n",
    "ads_logreg = admissions[featureset]\n",
    "ads_logreg_norm = (ads_logreg-ads_logreg.min())/(ads_logreg.max()-ads_logreg.min())\n",
    "target = ads_logreg_norm['infection_present']\n",
    "features = ads_logreg_norm.drop(['infection_present'],axis=1)\n",
    "model = sm.Logit(target, sm.add_constant(features))\n",
    "result = model.fit()\n",
    "result.summary()"
   ]
  },
  {
   "cell_type": "markdown",
   "id": "compact-parking",
   "metadata": {},
   "source": [
    "#### Levofloxacin"
   ]
  },
  {
   "cell_type": "code",
   "execution_count": null,
   "id": "chubby-recipe",
   "metadata": {},
   "outputs": [],
   "source": [
    "featureset = ['age','male','white_caucasian','levo','infection_present']\n",
    "ads_logreg = admissions[featureset]\n",
    "target = ads_logreg['infection_present']\n",
    "features = ads_logreg.drop(['infection_present'],axis=1)\n",
    "model = sm.Logit(target, sm.add_constant(features))\n",
    "result = model.fit()\n",
    "result.summary()"
   ]
  },
  {
   "cell_type": "markdown",
   "id": "approved-layout",
   "metadata": {},
   "source": [
    "#### Vancomycin - not reporting anymore"
   ]
  },
  {
   "cell_type": "code",
   "execution_count": null,
   "id": "discrete-webmaster",
   "metadata": {},
   "outputs": [],
   "source": [
    "featureset = ['age','male','white_caucasian','vanco','infection_present']\n",
    "ads_logreg = admissions[featureset]\n",
    "target = ads_logreg['infection_present']\n",
    "features = ads_logreg.drop(['infection_present'],axis=1)\n",
    "model = sm.Logit(target, sm.add_constant(features))\n",
    "result = model.fit()\n",
    "result.summary()"
   ]
  },
  {
   "cell_type": "markdown",
   "id": "opposite-rachel",
   "metadata": {},
   "source": [
    "#### Logistic Regression with  Treatments and Controls (age,sex,race)"
   ]
  },
  {
   "cell_type": "code",
   "execution_count": null,
   "id": "norman-minneapolis",
   "metadata": {},
   "outputs": [],
   "source": [
    "admissions = pd.read_excel('aml_data_8.16.23.xlsx')\n",
    "admissions.dropna(subset=['Cytarabine mg/m2/day'],inplace=True)\n",
    "admissions['male'] = admissions['gender'].map({'M':1, 'F':0})\n",
    "\n",
    "admissions['Cytarabine_g/m2/day'] = admissions['Cytarabine mg/m2/day']*0.001\n",
    "#admissions['Cytarabine_g/m2/day'] = admissions['Cytarabine_g/m2/day'].replace(np.nan,0)\n",
    "featureset = ['age','male','white_caucasian','Cytarabine_g/m2/day','levo','infection_present']\n",
    "ads_logreg = admissions[featureset]\n",
    "target = ads_logreg['infection_present']\n",
    "features = ads_logreg.drop(['infection_present'],axis=1)\n",
    "model = sm.Logit(target, sm.add_constant(features))\n",
    "result = model.fit()\n",
    "result.summary()"
   ]
  },
  {
   "cell_type": "code",
   "execution_count": null,
   "id": "spectacular-community",
   "metadata": {},
   "outputs": [],
   "source": [
    "admissions = pd.read_excel('aml_data_8.16.23.xlsx')\n",
    "admissions.dropna(subset=['Cytarabine mg/m2/day'],inplace=True)\n",
    "admissions['male'] = admissions['gender'].map({'M':1, 'F':0})\n",
    "\n",
    "featureset = ['age','male','white_caucasian','cyt_2000','levo','infection_present']\n",
    "ads_logreg = admissions[featureset]\n",
    "target = ads_logreg['infection_present']\n",
    "features = ads_logreg.drop(['infection_present'],axis=1)\n",
    "model = sm.Logit(target, sm.add_constant(features))\n",
    "result = model.fit()\n",
    "result.summary()"
   ]
  },
  {
   "cell_type": "code",
   "execution_count": null,
   "id": "boolean-challenge",
   "metadata": {},
   "outputs": [],
   "source": [
    "admissions = pd.read_excel('aml_data_8.16.23.xlsx')\n",
    "admissions.dropna(subset=['Cytarabine mg/m2/day'],inplace=True)\n",
    "ads_cv = pd.get_dummies(admissions['CV_line'], drop_first = True)\n",
    "cvs = ads_cv.columns\n",
    "admissions = pd.concat([admissions, ads_cv], axis=1)\n",
    "admissions['male'] = admissions['gender'].map({'M':1, 'F':0})\n",
    "\n",
    "featureset = ['age','male','white_caucasian','cytarabine','levo','infection_present']\n",
    "ads_logreg = admissions[featureset]\n",
    "target = ads_logreg['infection_present']\n",
    "features = ads_logreg.drop(['infection_present'],axis=1)\n",
    "model = sm.Logit(target, sm.add_constant(features))\n",
    "result = model.fit()\n",
    "result.summary()"
   ]
  },
  {
   "cell_type": "code",
   "execution_count": null,
   "id": "eastern-correspondence",
   "metadata": {},
   "outputs": [],
   "source": [
    "admissions = pd.read_excel('aml_data_8.16.23.xlsx')\n",
    "admissions.dropna(subset=['Cytarabine mg/m2/day'],inplace=True)\n",
    "ads_cv = pd.get_dummies(admissions['CV_line'], drop_first = True)\n",
    "cvs = ads_cv.columns\n",
    "admissions = pd.concat([admissions, ads_cv], axis=1)\n",
    "admissions['male'] = admissions['gender'].map({'M':1, 'F':0})\n",
    "\n",
    "featureset = ['age','male','white_caucasian','Cytarabine mg/m2/day','levo','infection_present']\n",
    "ads_logreg = admissions[featureset]\n",
    "ads_logreg_norm = (ads_logreg-ads_logreg.min())/(ads_logreg.max()-ads_logreg.min())\n",
    "target = ads_logreg_norm['infection_present']\n",
    "features = ads_logreg_norm.drop(['infection_present'],axis=1)\n",
    "model = sm.Logit(target, sm.add_constant(features))\n",
    "result = model.fit()\n",
    "result.summary()"
   ]
  },
  {
   "cell_type": "markdown",
   "id": "documented-amino",
   "metadata": {},
   "source": [
    "## Prediction"
   ]
  },
  {
   "cell_type": "code",
   "execution_count": 1,
   "id": "stretch-ferry",
   "metadata": {},
   "outputs": [
    {
     "name": "stdout",
     "output_type": "stream",
     "text": [
      "There are 426 total admissions.\n",
      "There are 340 infection-negative admissions.\n"
     ]
    }
   ],
   "source": [
    "import numpy as np\n",
    "import pandas as pd\n",
    "from scipy import stats\n",
    "import matplotlib.pyplot as plt\n",
    "from matplotlib.pyplot import plot, show, savefig, xlim, figure, \\\n",
    "                ylim, legend, boxplot, setp, axes\n",
    "%matplotlib inline\n",
    "import statsmodels.api as sm\n",
    "\n",
    "admissions = pd.read_excel('aml_data_8.16.23.xlsx')\n",
    "admissions.dropna(subset=['Cytarabine mg/m2/day'],inplace=True)\n",
    "ads_cv = pd.get_dummies(admissions['CV_line'], drop_first = True)\n",
    "cvs = ads_cv.columns\n",
    "admissions = pd.concat([admissions, ads_cv], axis=1)\n",
    "admissions['male'] = admissions['gender'].map({'M':1, 'F':0})\n",
    "\n",
    "admissions.first_bmi_kg_m2 = admissions.first_bmi_kg_m2.replace(np.nan,admissions.first_bmi_kg_m2.median())\n",
    "admissions.dropna(subset=['lowest_neutrophil'],inplace=True)\n",
    "admissions.dropna(subset=['lowest_platelet'],inplace=True)\n",
    "admissions.reset_index(inplace=True)\n",
    "print('There are '+str(len(admissions))+' total admissions.')\n",
    "neg_ads = admissions[admissions['infection_present'] == 0]\n",
    "print('There are '+str(len(neg_ads))+' infection-negative admissions.')"
   ]
  },
  {
   "cell_type": "code",
   "execution_count": 2,
   "id": "complete-league",
   "metadata": {},
   "outputs": [],
   "source": [
    "from sklearn.linear_model import LogisticRegression\n",
    "from sklearn.tree import DecisionTreeClassifier\n",
    "from sklearn.neighbors import KNeighborsClassifier\n",
    "from sklearn.ensemble import RandomForestClassifier\n",
    "\n",
    "from sklearn.model_selection import train_test_split\n",
    "from sklearn.model_selection import KFold\n",
    "from sklearn.model_selection import LeaveOneOut\n",
    "from sklearn.model_selection import GridSearchCV\n",
    "from sklearn.metrics import roc_auc_score, roc_curve\n",
    "\n",
    "featureset = ['age',\n",
    "        'white_caucasian','first_bmi_kg_m2','lowest_neutrophil','lowest_platelet',\n",
    "        'max_temp_38.5','Cytarabine mg/m2/day','levo',\n",
    "        'Other', 'Port',\n",
    "        'male','infection_present']\n",
    "ads_CART = admissions[featureset]\n",
    "X = ads_CART.drop(['infection_present'],axis=1)\n",
    "y = ads_CART['infection_present']\n",
    "\n",
    "cart = DecisionTreeClassifier()\n",
    "logreg = LogisticRegression(solver='liblinear')\n",
    "knn = KNeighborsClassifier()\n",
    "rf = RandomForestClassifier()\n",
    "\n",
    "cart_params = {'max_depth':[1,2,3,4,5,6,7,8,9,10]}\n",
    "logreg_params = {'C':[0.0001,0.001,0.01,0.1,1,10,100,250,500,750,1000],'penalty':['l1','l2']}\n",
    "knn_params = {'n_neighbors':[1,2,3,4,5,6,7,8,9,10],'weights':['uniform','distance']}\n",
    "rf_params = {'n_estimators':[10, 100, 250, 500, 1000],'max_depth':[1,2,5,8,10]} # if slow, only do 1000 n_est"
   ]
  },
  {
   "cell_type": "markdown",
   "id": "young-inside",
   "metadata": {},
   "source": [
    "### LOO (Leave One Out) Cross Validation *(<6 hrs)*"
   ]
  },
  {
   "cell_type": "code",
   "execution_count": null,
   "id": "mature-compensation",
   "metadata": {},
   "outputs": [],
   "source": [
    "loo = LeaveOneOut()\n",
    "cart_preds = []\n",
    "logreg_preds = []\n",
    "knn_preds = []\n",
    "rf_preds = []\n",
    "feat_imp = []\n",
    "y_tests = []\n",
    "logreg_betas = []\n",
    "for train_index, test_index in loo.split(X):\n",
    "    X_train, X_test = X.loc[train_index], X.loc[test_index]\n",
    "    y_train, y_test = y[train_index], y[test_index]\n",
    "    y_tests.append(y_test)\n",
    "\n",
    "    cartGS = GridSearchCV(cart, cart_params, cv=3, scoring='roc_auc')\n",
    "    cartGS.fit(X_train,y_train)\n",
    "    cart_preds.append(cartGS.best_estimator_.predict_proba(X_test).T[1])\n",
    "\n",
    "    logregGS = GridSearchCV(logreg, logreg_params, cv=3, scoring='roc_auc')\n",
    "    logregGS.fit(X_train,y_train)\n",
    "    logreg_preds.append(logregGS.best_estimator_.predict_proba(X_test).T[1])\n",
    "    #Store betas\n",
    "    logreg_betas.append(logregGS.best_estimator_.coef_)\n",
    "\n",
    "    knnGS = GridSearchCV(knn, knn_params, cv=3, scoring='roc_auc')\n",
    "    knnGS.fit(X_train,y_train)\n",
    "    knn_preds.append(knnGS.best_estimator_.predict_proba(X_test).T[1])\n",
    "\n",
    "    rfGS = GridSearchCV(rf, rf_params, cv=3, scoring='roc_auc')\n",
    "    rfGS.fit(X_train,y_train)\n",
    "    rf_preds.append(rfGS.best_estimator_.predict_proba(X_test).T[1])\n",
    "    #Store feature importances\n",
    "    feat_imp.append(rfGS.best_estimator_.feature_importances_)"
   ]
  },
  {
   "cell_type": "code",
   "execution_count": null,
   "id": "above-disorder",
   "metadata": {},
   "outputs": [],
   "source": [
    "\n",
    "# Saving our lists/findings\n",
    "import pickle\n",
    "with open('cart_preds1.pickle', 'wb') as handle:\n",
    "    pickle.dump(cart_preds, handle, protocol=pickle.HIGHEST_PROTOCOL)\n",
    "with open('logreg_preds1.pickle', 'wb') as handle:\n",
    "    pickle.dump(logreg_preds, handle, protocol=pickle.HIGHEST_PROTOCOL)\n",
    "with open('knn_preds1.pickle', 'wb') as handle:\n",
    "    pickle.dump(knn_preds, handle, protocol=pickle.HIGHEST_PROTOCOL)\n",
    "with open('rf_preds1.pickle', 'wb') as handle:\n",
    "    pickle.dump(rf_preds, handle, protocol=pickle.HIGHEST_PROTOCOL)\n",
    "with open('feat_imp1.pickle', 'wb') as handle:\n",
    "    pickle.dump(feat_imp, handle, protocol=pickle.HIGHEST_PROTOCOL)\n",
    "with open('y_tests1.pickle', 'wb') as handle:\n",
    "    pickle.dump(y_tests, handle, protocol=pickle.HIGHEST_PROTOCOL)\n",
    "with open('logreg_betas1.pickle', 'wb') as handle:\n",
    "    pickle.dump(logreg_betas, handle, protocol=pickle.HIGHEST_PROTOCOL)"
   ]
  },
  {
   "cell_type": "code",
   "execution_count": null,
   "id": "accredited-moscow",
   "metadata": {},
   "outputs": [],
   "source": [
    "# Retrieve lists/findings\n",
    "import pickle\n",
    "with open('cart_preds5.pickle', 'rb') as handle:\n",
    "    cart_preds = pickle.load(handle)\n",
    "with open('logreg_preds5.pickle', 'rb') as handle:\n",
    "    logreg_preds = pickle.load(handle)\n",
    "with open('knn_preds5.pickle', 'rb') as handle:\n",
    "    knn_preds = pickle.load(handle)\n",
    "with open('rf_preds5.pickle', 'rb') as handle:\n",
    "    rf_preds = pickle.load(handle)\n",
    "with open('feat_imp5.pickle', 'rb') as handle:\n",
    "    feat_imp = pickle.load(handle)\n",
    "with open('y_tests5.pickle', 'rb') as handle:\n",
    "    y_tests = pickle.load(handle)\n",
    "with open('logreg_betas5.pickle', 'rb') as handle:\n",
    "    logreg_betas = pickle.load(handle)"
   ]
  },
  {
   "cell_type": "code",
   "execution_count": null,
   "id": "resistant-following",
   "metadata": {},
   "outputs": [],
   "source": [
    "#Build Final ROC plot\n",
    "from sklearn.metrics import roc_auc_score, roc_curve\n",
    "fpr, tpr, thresh = roc_curve(y_tests, cart_preds)\n",
    "auc= roc_auc_score(y_tests, cart_preds)\n",
    "\n",
    "fpr1, tpr1, thresh1 = roc_curve(y_tests, logreg_preds)\n",
    "auc1= roc_auc_score(y_tests, logreg_preds)\n",
    "\n",
    "fpr2, tpr2, thresh2 = roc_curve(y_tests, knn_preds)\n",
    "auc2= roc_auc_score(y_tests, knn_preds)\n",
    "\n",
    "fpr3, tpr3, thresh3 = roc_curve(y_tests, rf_preds)\n",
    "auc3= roc_auc_score(y_tests, rf_preds)\n",
    "\n",
    "fig = plt.figure(figsize=(10, 6))\n",
    "font = {'family' : 'normal',\n",
    "        'weight' : 'normal',\n",
    "        'size'   : 14}\n",
    "plt.rc('font', **font)\n",
    "plt.plot([0, 1], [0, 1], linestyle='--')\n",
    "plt.plot(0.62,0.93,'o', label='Fever')\n",
    "plt.plot(0.84,0.96,'o', label='Neutropenia')\n",
    "plt.plot(fpr, tpr, label='CART (AUC = %0.3f)' % auc)\n",
    "plt.plot(fpr1, tpr1, label='Logistic regression (AUC = %0.3f)' % auc1)\n",
    "plt.plot(fpr2, tpr2, label='KNN (AUC = %0.3f)' % auc2)\n",
    "plt.plot(fpr3, tpr3, label='Random Forest (AUC = %0.3f)' % auc3)\n",
    "#plt.plot(fpr4, tpr4, label='ANC Log Reg (AUC = %0.3f)' % auc4)\n",
    "plt.xlim([0.0, 1.0])\n",
    "plt.ylim([0.0, 1.0])\n",
    "plt.xlabel('False Positive Rate')\n",
    "plt.ylabel('True Positive Rate')\n",
    "plt.legend(loc='lower right');\n",
    "plt.show()\n",
    "fig.savefig('prediction_models5.png',bbox_inches='tight') #cyt no thresh w/hemo & mono"
   ]
  },
  {
   "cell_type": "markdown",
   "id": "touched-works",
   "metadata": {},
   "source": [
    "Logistic model performs similarly to the simple Fever model. "
   ]
  },
  {
   "cell_type": "code",
   "execution_count": null,
   "id": "electronic-robinson",
   "metadata": {},
   "outputs": [],
   "source": [
    "# looking for fpr3 where tpr3 == 0.95, look at left-most point for RF\n",
    "#tpr3[131] #0.93617\n",
    "#tpr3[132] #0.9574\n",
    "#fpr3[131] #0.693\n",
    "fpr3[132] #0.66, same as fpr1[131]"
   ]
  },
  {
   "cell_type": "markdown",
   "id": "recorded-redhead",
   "metadata": {},
   "source": [
    "LR model reduces FPR from 0.76 to 0.69 compared to the Neutropenia model. This is a 9.2% reduction."
   ]
  },
  {
   "cell_type": "markdown",
   "id": "neural-appliance",
   "metadata": {},
   "source": [
    "Logistic Regression, Random Forest perform similarly to simple Fever"
   ]
  },
  {
   "cell_type": "code",
   "execution_count": null,
   "id": "optimum-japan",
   "metadata": {},
   "outputs": [],
   "source": [
    "# looking for fpr1 where tpr1 == 0.94, look at left-most point for LR\n",
    "#tpr1[111] # 0.93617\n",
    "fpr1[111]"
   ]
  },
  {
   "cell_type": "markdown",
   "id": "deluxe-money",
   "metadata": {},
   "source": [
    "1/23 The top 5 most important features in the random forest model:\n",
    "1. max_temp_38.5\n",
    "2. lowest_neutrophil\n",
    "3. lowest_platelet\n",
    "4. age\n",
    "5. first_bmi_kg_m2"
   ]
  },
  {
   "cell_type": "code",
   "execution_count": null,
   "id": "twelve-script",
   "metadata": {},
   "outputs": [],
   "source": [
    "sum(feat_imp)/len(feat_imp)"
   ]
  },
  {
   "cell_type": "code",
   "execution_count": null,
   "id": "informed-hungarian",
   "metadata": {},
   "outputs": [],
   "source": [
    "featureset = ['age','white_caucasian','first_bmi_kg_m2','lowest_neutrophil','lowest_platelet',\n",
    "        'max_temp_38.5','Cytarabine mg/m2/day','levo','Other', 'Port',\n",
    "        'male',\n",
    "        'infection_present']"
   ]
  },
  {
   "cell_type": "markdown",
   "id": "elect-living",
   "metadata": {},
   "source": [
    "### Build Baseline Fever, Baseline ANC, Log Reg ANC, and compare to RF"
   ]
  },
  {
   "cell_type": "markdown",
   "id": "attempted-reporter",
   "metadata": {},
   "source": [
    "#### Using our best model that has cyt_2000 and hemoglobin and monocytes (pickles #6)"
   ]
  },
  {
   "cell_type": "code",
   "execution_count": null,
   "id": "vocal-smile",
   "metadata": {},
   "outputs": [],
   "source": [
    "import numpy as np\n",
    "import pandas as pd\n",
    "from scipy import stats\n",
    "import matplotlib.pyplot as plt\n",
    "from matplotlib.pyplot import plot, show, savefig, xlim, figure, \\\n",
    "                ylim, legend, boxplot, setp, axes\n",
    "%matplotlib inline\n",
    "import statsmodels.api as sm\n",
    "\n",
    "admissions = pd.read_excel('aml_data_8.16.23.xlsx')\n",
    "admissions.dropna(subset=['Cytarabine mg/m2/day'],inplace=True)\n",
    "ads_cv = pd.get_dummies(admissions['CV_line'], drop_first = True)\n",
    "cvs = ads_cv.columns\n",
    "admissions = pd.concat([admissions, ads_cv], axis=1)\n",
    "admissions['male'] = admissions['gender'].map({'M':1, 'F':0})\n",
    "\n",
    "admissions.first_bmi_kg_m2 = admissions.first_bmi_kg_m2.replace(np.nan,admissions.first_bmi_kg_m2.median())\n",
    "admissions.dropna(subset=['lowest_neutrophil'],inplace=True)\n",
    "admissions.dropna(subset=['lowest_platelet'],inplace=True)\n",
    "admissions.dropna(subset=['lowest_hemoglobin'],inplace=True)\n",
    "admissions.dropna(subset=['lowest_monocytes'],inplace=True)\n",
    "admissions.reset_index(inplace=True)\n",
    "print('There are '+str(len(admissions))+' total admissions.')\n",
    "neg_ads = admissions[admissions['infection_present'] == 0]\n",
    "print('There are '+str(len(neg_ads))+' infection-negative admissions.')"
   ]
  },
  {
   "cell_type": "code",
   "execution_count": null,
   "id": "controversial-modification",
   "metadata": {},
   "outputs": [],
   "source": [
    "from sklearn.linear_model import LogisticRegression\n",
    "from sklearn.tree import DecisionTreeClassifier\n",
    "from sklearn.neighbors import KNeighborsClassifier\n",
    "from sklearn.ensemble import RandomForestClassifier\n",
    "\n",
    "from sklearn.model_selection import train_test_split\n",
    "from sklearn.model_selection import KFold\n",
    "from sklearn.model_selection import LeaveOneOut\n",
    "from sklearn.model_selection import GridSearchCV\n",
    "from sklearn.metrics import roc_auc_score, roc_curve\n",
    "\n",
    "\n",
    "featureset = ['age',\n",
    "        'white_caucasian','first_bmi_kg_m2','lowest_neutrophil','lowest_platelet',\n",
    "        'max_temp_38.5','cyt_2000','levo',\n",
    "        'lowest_hemoglobin','lowest_monocytes',\n",
    "        'Other', 'Port',\n",
    "        'male','infection_present']\n",
    "ads_CART = admissions[featureset]\n",
    "X = ads_CART.drop(['infection_present'],axis=1)\n",
    "y = ads_CART['infection_present']\n",
    "\n",
    "# >6 hrs to run\n",
    "cart = DecisionTreeClassifier()\n",
    "logreg = LogisticRegression(solver='liblinear')\n",
    "knn = KNeighborsClassifier()\n",
    "rf = RandomForestClassifier()\n",
    "\n",
    "cart_params = {'max_depth':[1,2,3,4,5,6,7,8,9,10]}\n",
    "logreg_params = {'C':[0.0001,0.001,0.01,0.1,1,10,100,250,500,750,1000],'penalty':['l1','l2']}\n",
    "knn_params = {'n_neighbors':[1,2,3,4,5,6,7,8,9,10],'weights':['uniform','distance']}\n",
    "rf_params = {'n_estimators':[10, 100, 250, 500, 1000],'max_depth':[1,2,5,8,10]} # if slow, only do 1000 n_est\n",
    "\n",
    "flogreg_score = []\n",
    "cart_score = []\n",
    "logreg_score = []\n",
    "knn_score = []\n",
    "rf_score = []"
   ]
  },
  {
   "cell_type": "code",
   "execution_count": 3,
   "id": "homeless-prison",
   "metadata": {},
   "outputs": [],
   "source": [
    "import pickle\n",
    "with open('cart_preds6.pickle', 'rb') as handle:\n",
    "    cart_preds = pickle.load(handle)\n",
    "with open('logreg_preds6.pickle', 'rb') as handle:\n",
    "    logreg_preds = pickle.load(handle)\n",
    "with open('knn_preds6.pickle', 'rb') as handle:\n",
    "    knn_preds = pickle.load(handle)\n",
    "with open('rf_preds6.pickle', 'rb') as handle:\n",
    "    rf_preds = pickle.load(handle)\n",
    "with open('feat_imp6.pickle', 'rb') as handle:\n",
    "    feat_imp = pickle.load(handle)\n",
    "with open('y_tests6.pickle', 'rb') as handle:\n",
    "    y_tests = pickle.load(handle)\n",
    "# with open('logreg_betas6.pickle', 'rb') as handle:\n",
    "#     logreg_betas = pickle.load(handle)"
   ]
  },
  {
   "cell_type": "code",
   "execution_count": null,
   "id": "dangerous-aaron",
   "metadata": {},
   "outputs": [],
   "source": [
    "# Baseline fever model\n",
    "# (0, recall) is specificity/TNR. FPR = 1-0.38 = 0.62\n",
    "# (1, recall) is sensitivity/TPR = 0.93\n",
    "from sklearn.metrics import classification_report\n",
    "fevers = admissions['max_temp_38.5']\n",
    "infections = admissions['infection_present']\n",
    "print(classification_report(infections,fevers))"
   ]
  },
  {
   "cell_type": "code",
   "execution_count": null,
   "id": "sporting-custom",
   "metadata": {},
   "outputs": [],
   "source": [
    "# Baseline ANC model\n",
    "anc = admissions['neutropenia']\n",
    "infections = admissions['infection_present']\n",
    "print(classification_report(infections,anc))"
   ]
  },
  {
   "cell_type": "code",
   "execution_count": null,
   "id": "employed-bible",
   "metadata": {},
   "outputs": [],
   "source": [
    "fpr, tpr, thresh = roc_curve(y_tests, cart_preds)\n",
    "auc= roc_auc_score(y_tests, cart_preds)\n",
    "\n",
    "fpr1, tpr1, thresh1 = roc_curve(y_tests, logreg_preds)\n",
    "auc1= roc_auc_score(y_tests, logreg_preds)\n",
    "\n",
    "fpr2, tpr2, thresh2 = roc_curve(y_tests, knn_preds)\n",
    "auc2= roc_auc_score(y_tests, knn_preds)\n",
    "\n",
    "fpr3, tpr3, thresh3 = roc_curve(y_tests, rf_preds)\n",
    "auc3= roc_auc_score(y_tests, rf_preds)\n",
    "\n",
    "fig = plt.figure(figsize=(10, 6))\n",
    "font = {'family' : 'normal',\n",
    "        'weight' : 'normal',\n",
    "        'size'   : 14}\n",
    "plt.rc('font', **font)\n",
    "plt.plot([0, 1], [0, 1], linestyle='--')\n",
    "plt.plot(0.62,0.93,'o', label='Fever')\n",
    "plt.plot(0.84,0.96,'o', label='Neutropenia')\n",
    "plt.plot(fpr, tpr, label='CART (AUC = %0.3f)' % auc)\n",
    "plt.plot(fpr1, tpr1, label='Logistic regression (AUC = %0.3f)' % auc1)\n",
    "plt.plot(fpr2, tpr2, label='KNN (AUC = %0.3f)' % auc2)\n",
    "plt.plot(fpr3, tpr3, label='Random Forest (AUC = %0.3f)' % auc3)\n",
    "plt.xlim([0.0, 1.0])\n",
    "plt.ylim([0.0, 1.0])\n",
    "plt.xlabel('False Positive Rate')\n",
    "plt.ylabel('True Positive Rate')\n",
    "plt.legend(loc='lower right');\n",
    "plt.show()\n",
    "#fig.savefig('prediction_models6.png',bbox_inches='tight')"
   ]
  },
  {
   "cell_type": "code",
   "execution_count": null,
   "id": "certified-gentleman",
   "metadata": {},
   "outputs": [],
   "source": [
    "# looking for fpr3 where tpr3 == 0.93, look at left-most point for RF\n",
    "#tpr3[113] #0.9176\n",
    "#tpr3[114] #0.9412\n",
    "#fpr3[113] #0.6893\n",
    "fpr3[114] #0.6893, same as fpr1[113]"
   ]
  },
  {
   "cell_type": "code",
   "execution_count": null,
   "id": "characteristic-texture",
   "metadata": {},
   "outputs": [],
   "source": [
    "# looking for fpr1 where tpr1 == 0.93, look at left-most point for LR\n",
    "#tpr1[107] #\n",
    "fpr1[108]"
   ]
  },
  {
   "cell_type": "code",
   "execution_count": null,
   "id": "lucky-mayor",
   "metadata": {},
   "outputs": [],
   "source": [
    "# comparing LR to Neutropenia TPR=0.96\n",
    "tpr1[113] #0.965\n",
    "fpr1[113]"
   ]
  },
  {
   "cell_type": "code",
   "execution_count": 4,
   "id": "subsequent-darwin",
   "metadata": {},
   "outputs": [
    {
     "data": {
      "text/plain": [
       "array([0.07222225, 0.0124984 , 0.05511358, 0.17220583, 0.0927168 ,\n",
       "       0.21049094, 0.11793829, 0.05036775, 0.04097311, 0.15306527,\n",
       "       0.00672387, 0.00321798, 0.01246592])"
      ]
     },
     "execution_count": 4,
     "metadata": {},
     "output_type": "execute_result"
    }
   ],
   "source": [
    "sum(feat_imp)/len(feat_imp)"
   ]
  },
  {
   "cell_type": "code",
   "execution_count": null,
   "id": "adverse-denmark",
   "metadata": {},
   "outputs": [],
   "source": [
    "featureset = ['age','white_caucasian','first_bmi_kg_m2','lowest_neutrophil','lowest_platelet',\n",
    "        'max_temp_38.5','cyt_2000','levo','Other', 'Port',\n",
    "        'lowest_hemoglobin','lowest_monocytes','male',\n",
    "        'infection_present']"
   ]
  },
  {
   "cell_type": "code",
   "execution_count": null,
   "id": "engaged-problem",
   "metadata": {},
   "outputs": [],
   "source": [
    "#Find proportion positive\n",
    "from sklearn.metrics import confusion_matrix\n",
    "cMatrix = confusion_matrix(y_true = infections, y_pred = fevers)\n",
    "fig = plt.figure(figsize=(10, 6))\n",
    "plt.imshow(cMatrix, cmap=plt.cm.Blues)\n",
    "plt.text(0, 0, '{}'.format(cMatrix[0, 0]), horizontalalignment='center',fontsize = 'xx-large')\n",
    "plt.text(0, 1, '{}'.format(cMatrix[1, 0]), horizontalalignment='center',fontsize = 'xx-large')\n",
    "plt.text(1, 0, '{}'.format(cMatrix[0, 1]), horizontalalignment='center',fontsize = 'xx-large')\n",
    "plt.text(1, 1, '{}'.format(cMatrix[1, 1]), horizontalalignment='center',fontsize = 'xx-large')\n",
    "tick_marks = [0,1]\n",
    "labels = ['No infection', 'Infection']\n",
    "plt.xticks(tick_marks, labels, rotation=90,fontsize = 'x-large')\n",
    "plt.ylim([-0.5,1.5])\n",
    "plt.yticks(tick_marks, labels,fontsize = 'x-large')\n",
    "plt.ylabel('True label',fontsize = 'xx-large')\n",
    "plt.xlabel('Predicted label',fontsize = 'xx-large')\n",
    "plt.show()"
   ]
  },
  {
   "cell_type": "code",
   "execution_count": null,
   "id": "induced-perfume",
   "metadata": {},
   "outputs": [],
   "source": [
    "#Find proportion positive\n",
    "from sklearn.metrics import confusion_matrix\n",
    "cMatrix = confusion_matrix(y_true = infections, y_pred = anc)\n",
    "fig = plt.figure(figsize=(10, 6))\n",
    "plt.imshow(cMatrix, cmap=plt.cm.Blues)\n",
    "plt.text(0, 0, '{}'.format(cMatrix[0, 0]), horizontalalignment='center',fontsize = 'xx-large')\n",
    "plt.text(0, 1, '{}'.format(cMatrix[1, 0]), horizontalalignment='center',fontsize = 'xx-large')\n",
    "plt.text(1, 0, '{}'.format(cMatrix[0, 1]), horizontalalignment='center',fontsize = 'xx-large')\n",
    "plt.text(1, 1, '{}'.format(cMatrix[1, 1]), horizontalalignment='center',fontsize = 'xx-large')\n",
    "tick_marks = [0,1]\n",
    "labels = ['No infection', 'Infection']\n",
    "plt.xticks(tick_marks, labels, rotation=90,fontsize = 'x-large')\n",
    "plt.ylim([-0.5,1.5])\n",
    "plt.yticks(tick_marks, labels,fontsize = 'x-large')\n",
    "plt.ylabel('True label',fontsize = 'xx-large')\n",
    "plt.xlabel('Predicted label',fontsize = 'xx-large')\n",
    "plt.show()"
   ]
  },
  {
   "cell_type": "code",
   "execution_count": null,
   "id": "flexible-uncertainty",
   "metadata": {},
   "outputs": [],
   "source": [
    "rf_preds_class = np.concatenate(rf_preds).ravel()"
   ]
  },
  {
   "cell_type": "code",
   "execution_count": null,
   "id": "sunset-legend",
   "metadata": {},
   "outputs": [],
   "source": [
    "# Comparing TPR of Fever model to same of RF\n",
    "rfrounds = []\n",
    "for i in rf_preds_class:\n",
    "    if i > thresh3[next(x[0] for x in enumerate(tpr3) if x[1] > 0.93)]:\n",
    "        rfrounds.append(1)\n",
    "    else:\n",
    "        rfrounds.append(0)\n",
    "print(thresh3[next(x[0] for x in enumerate(tpr3) if x[1] > 0.93)])"
   ]
  },
  {
   "cell_type": "code",
   "execution_count": null,
   "id": "respected-renewal",
   "metadata": {},
   "outputs": [],
   "source": [
    "from sklearn.metrics import classification_report\n",
    "rf_preds_f = pd.cut(rf_preds_class,bins=[-1,0.1643888587661629,1],right=True,labels=[0,1])\n",
    "#infections = ads_CART['infection_present']\n",
    "print(classification_report(y_tests,rf_preds_f))"
   ]
  },
  {
   "cell_type": "code",
   "execution_count": null,
   "id": "historical-benchmark",
   "metadata": {},
   "outputs": [],
   "source": [
    "#Positive Proportion calc\n",
    "from sklearn.metrics import confusion_matrix\n",
    "cMatrix = confusion_matrix(y_true = y_tests, y_pred = rf_preds_f)\n",
    "fig = plt.figure(figsize=(10, 6))\n",
    "plt.imshow(cMatrix, cmap=plt.cm.Blues)\n",
    "plt.text(0, 0, '{}'.format(cMatrix[0, 0]), horizontalalignment='center',fontsize = 'xx-large')\n",
    "plt.text(0, 1, '{}'.format(cMatrix[1, 0]), horizontalalignment='center',fontsize = 'xx-large')\n",
    "plt.text(1, 0, '{}'.format(cMatrix[0, 1]), horizontalalignment='center',fontsize = 'xx-large')\n",
    "plt.text(1, 1, '{}'.format(cMatrix[1, 1]), horizontalalignment='center',fontsize = 'xx-large')\n",
    "tick_marks = [0,1]\n",
    "labels = ['No infection', 'Infection']\n",
    "plt.xticks(tick_marks, labels, rotation=90,fontsize = 'x-large')\n",
    "plt.ylim([-0.5,1.5])\n",
    "plt.yticks(tick_marks, labels,fontsize = 'x-large')\n",
    "plt.ylabel('True label',fontsize = 'xx-large')\n",
    "plt.xlabel('Predicted label',fontsize = 'xx-large')\n",
    "plt.show()"
   ]
  },
  {
   "cell_type": "code",
   "execution_count": null,
   "id": "mobile-single",
   "metadata": {},
   "outputs": [],
   "source": [
    "lr_preds_class = np.concatenate(logreg_preds).ravel()"
   ]
  },
  {
   "cell_type": "code",
   "execution_count": null,
   "id": "voluntary-physiology",
   "metadata": {},
   "outputs": [],
   "source": [
    "# Comparing TPR of Fever model to same of LR\n",
    "lrrounds = []\n",
    "for i in lr_preds_class:\n",
    "    if i > thresh1[next(x[0] for x in enumerate(tpr1) if x[1] > 0.93)]:\n",
    "        lrrounds.append(1)\n",
    "    else:\n",
    "        lrrounds.append(0)\n",
    "print(thresh1[next(x[0] for x in enumerate(tpr1) if x[1] > 0.93)])"
   ]
  },
  {
   "cell_type": "code",
   "execution_count": null,
   "id": "social-honey",
   "metadata": {},
   "outputs": [],
   "source": [
    "from sklearn.metrics import classification_report\n",
    "lr_preds_f = pd.cut(lr_preds_class,bins=[-1,0.058274785260887065,1],right=True,labels=[0,1])\n",
    "#infections = ads_CART['infection_present']\n",
    "print(classification_report(y_tests,lr_preds_f))"
   ]
  },
  {
   "cell_type": "code",
   "execution_count": null,
   "id": "laden-conversion",
   "metadata": {},
   "outputs": [],
   "source": [
    "#Positive Proportion calc\n",
    "from sklearn.metrics import confusion_matrix\n",
    "cMatrix = confusion_matrix(y_true = y_tests, y_pred = lr_preds_f)\n",
    "fig = plt.figure(figsize=(10, 6))\n",
    "plt.imshow(cMatrix, cmap=plt.cm.Blues)\n",
    "plt.text(0, 0, '{}'.format(cMatrix[0, 0]), horizontalalignment='center',fontsize = 'xx-large')\n",
    "plt.text(0, 1, '{}'.format(cMatrix[1, 0]), horizontalalignment='center',fontsize = 'xx-large')\n",
    "plt.text(1, 0, '{}'.format(cMatrix[0, 1]), horizontalalignment='center',fontsize = 'xx-large')\n",
    "plt.text(1, 1, '{}'.format(cMatrix[1, 1]), horizontalalignment='center',fontsize = 'xx-large')\n",
    "tick_marks = [0,1]\n",
    "labels = ['No infection', 'Infection']\n",
    "plt.xticks(tick_marks, labels, rotation=90,fontsize = 'x-large')\n",
    "plt.ylim([-0.5,1.5])\n",
    "plt.yticks(tick_marks, labels,fontsize = 'x-large')\n",
    "plt.ylabel('True label',fontsize = 'xx-large')\n",
    "plt.xlabel('Predicted label',fontsize = 'xx-large')\n",
    "plt.show()"
   ]
  },
  {
   "cell_type": "code",
   "execution_count": null,
   "id": "toxic-packaging",
   "metadata": {},
   "outputs": [],
   "source": [
    "# Comparing TPR of ANC model to same of RF\n",
    "rfrounds = []\n",
    "for i in rf_preds_class:\n",
    "    if i > thresh3[next(x[0] for x in enumerate(tpr3) if x[1] > 0.95)]:\n",
    "        rfrounds.append(1)\n",
    "    else:\n",
    "        rfrounds.append(0)\n",
    "print(thresh3[next(x[0] for x in enumerate(tpr3) if x[1] > 0.95)])"
   ]
  },
  {
   "cell_type": "code",
   "execution_count": null,
   "id": "falling-scout",
   "metadata": {},
   "outputs": [],
   "source": [
    "from sklearn.metrics import classification_report\n",
    "rf_preds_f = pd.cut(rf_preds_class,bins=[-1,0.13953274313613712,1],right=True,labels=[0,1])\n",
    "#infections = ads_CART['infection_present']\n",
    "print(classification_report(y_tests,rf_preds_f))"
   ]
  },
  {
   "cell_type": "code",
   "execution_count": null,
   "id": "shaped-helmet",
   "metadata": {},
   "outputs": [],
   "source": [
    "#PPV calc check (1, precision)\n",
    "from sklearn.metrics import confusion_matrix\n",
    "cMatrix = confusion_matrix(y_true = y_tests, y_pred = rf_preds_f)\n",
    "fig = plt.figure(figsize=(10, 6))\n",
    "plt.imshow(cMatrix, cmap=plt.cm.Blues)\n",
    "plt.text(0, 0, '{}'.format(cMatrix[0, 0]), horizontalalignment='center',fontsize = 'xx-large')\n",
    "plt.text(0, 1, '{}'.format(cMatrix[1, 0]), horizontalalignment='center',fontsize = 'xx-large')\n",
    "plt.text(1, 0, '{}'.format(cMatrix[0, 1]), horizontalalignment='center',fontsize = 'xx-large')\n",
    "plt.text(1, 1, '{}'.format(cMatrix[1, 1]), horizontalalignment='center',fontsize = 'xx-large')\n",
    "tick_marks = [0,1]\n",
    "labels = ['No infection', 'Infection']\n",
    "plt.xticks(tick_marks, labels, rotation=90,fontsize = 'x-large')\n",
    "plt.ylim([-0.5,1.5])\n",
    "plt.yticks(tick_marks, labels,fontsize = 'x-large')\n",
    "plt.ylabel('True label',fontsize = 'xx-large')\n",
    "plt.xlabel('Predicted label',fontsize = 'xx-large')\n",
    "plt.show()"
   ]
  },
  {
   "cell_type": "markdown",
   "id": "brazilian-colonial",
   "metadata": {},
   "source": [
    "*Below model is shown on ROC plot, but not used to compare with other models in \"Our Table 5\" as it is basically the normal Log Reg model.*"
   ]
  },
  {
   "cell_type": "code",
   "execution_count": null,
   "id": "united-wages",
   "metadata": {},
   "outputs": [],
   "source": [
    "# Retrieve ANC Log Reg model results\n",
    "import pickle\n",
    "with open('anc_logreg_preds.pickle', 'rb') as handle:\n",
    "    anc_logreg_preds = pickle.load(handle)\n",
    "with open('anc_y_tests.pickle', 'rb') as handle:\n",
    "    anc_y_tests = pickle.load(handle)"
   ]
  },
  {
   "cell_type": "code",
   "execution_count": null,
   "id": "serial-apollo",
   "metadata": {},
   "outputs": [],
   "source": [
    "# Build Log Reg ANC model <5 min\n",
    "X = ads_CART['lowest_neutrophil'].values\n",
    "X = X.reshape(-1, 1)\n",
    "y = ads_CART['infection_present']\n",
    "loo = LeaveOneOut()\n",
    "anc_logreg_preds = []\n",
    "anc_y_tests = []\n",
    "anc_logreg_betas = []\n",
    "for train_index, test_index in loo.split(X):\n",
    "    X_train, X_test = X[train_index], X[test_index]\n",
    "    y_train, y_test = y[train_index], y[test_index]\n",
    "    anc_y_tests.append(y_test)\n",
    "    \n",
    "    logregGS = GridSearchCV(logreg, logreg_params, cv=3, scoring='roc_auc')\n",
    "    logregGS.fit(X_train,y_train)\n",
    "    anc_logreg_preds.append(logregGS.best_estimator_.predict_proba(X_test).T[1])\n",
    "    anc_logreg_betas.append(logregGS.best_estimator_.coef_)\n",
    "    #print(logregGS.best_estimator_)"
   ]
  },
  {
   "cell_type": "code",
   "execution_count": null,
   "id": "extra-entrance",
   "metadata": {},
   "outputs": [],
   "source": [
    "sum(anc_logreg_betas)/len(anc_logreg_betas)"
   ]
  },
  {
   "cell_type": "code",
   "execution_count": null,
   "id": "accessory-importance",
   "metadata": {},
   "outputs": [],
   "source": [
    "fpr4, tpr4, thresh4 = roc_curve(anc_y_tests, anc_logreg_preds)\n",
    "auc4= roc_auc_score(anc_y_tests, anc_logreg_preds)"
   ]
  },
  {
   "cell_type": "code",
   "execution_count": null,
   "id": "starting-proposition",
   "metadata": {},
   "outputs": [],
   "source": [
    "import pickle\n",
    "with open('anc_logreg_preds.pickle', 'wb') as handle:\n",
    "    pickle.dump(anc_logreg_preds, handle, protocol=pickle.HIGHEST_PROTOCOL)\n",
    "with open('anc_y_tests.pickle', 'wb') as handle:\n",
    "    pickle.dump(anc_y_tests, handle, protocol=pickle.HIGHEST_PROTOCOL)\n",
    "with open('anc_logreg_betas.pickle', 'wb') as handle:\n",
    "    pickle.dump(anc_logreg_betas, handle, protocol=pickle.HIGHEST_PROTOCOL)"
   ]
  },
  {
   "cell_type": "code",
   "execution_count": null,
   "id": "cloudy-indie",
   "metadata": {},
   "outputs": [],
   "source": [
    "# Compare to Fever model at same TPR\n",
    "anc_logreg_class = np.concatenate(anc_logreg_preds).ravel()\n",
    "anc_rounds = []\n",
    "for i in anc_logreg_class:\n",
    "    if i > thresh4[next(x[0] for x in enumerate(tpr4) if x[1] > 0.87)]:\n",
    "        anc_rounds.append(1)\n",
    "    else:\n",
    "        anc_rounds.append(0)\n",
    "print(thresh4[next(x[0] for x in enumerate(tpr4) if x[1] > 0.87)])"
   ]
  },
  {
   "cell_type": "code",
   "execution_count": null,
   "id": "precious-photographer",
   "metadata": {},
   "outputs": [],
   "source": [
    "anc_logreg_preds_f = pd.cut(anc_logreg_class,bins=[-1,0.08487083115242275,1],right=True,labels=[0,1])\n",
    "infections = admissions['infection_present']\n",
    "print(classification_report(infections,anc_logreg_preds_f))"
   ]
  },
  {
   "cell_type": "code",
   "execution_count": null,
   "id": "searching-battery",
   "metadata": {},
   "outputs": [],
   "source": [
    "#Build Final ROC plot\n",
    "fpr, tpr, thresh = roc_curve(y_tests, cart_preds)\n",
    "auc= roc_auc_score(y_tests, cart_preds)\n",
    "\n",
    "fpr1, tpr1, thresh1 = roc_curve(y_tests, logreg_preds)\n",
    "auc1= roc_auc_score(y_tests, logreg_preds)\n",
    "\n",
    "fpr2, tpr2, thresh2 = roc_curve(y_tests, knn_preds)\n",
    "auc2= roc_auc_score(y_tests, knn_preds)\n",
    "\n",
    "fpr3, tpr3, thresh3 = roc_curve(y_tests, rf_preds)\n",
    "auc3= roc_auc_score(y_tests, rf_preds)\n",
    "\n",
    "fig = plt.figure(figsize=(10, 6))\n",
    "font = {'family' : 'normal',\n",
    "        'weight' : 'normal',\n",
    "        'size'   : 14}\n",
    "plt.rc('font', **font)\n",
    "plt.plot([0, 1], [0, 1], linestyle='--')\n",
    "plt.plot(0.58,0.94,'o', label='Fever') # baseline fever model\n",
    "plt.plot(0.76,0.95,'o', label='Neutropenia') # baseline anc model\n",
    "plt.plot(fpr, tpr, label='CART (AUC = %0.3f)' % auc)\n",
    "plt.plot(fpr1, tpr1, label='Logistic regression (AUC = %0.3f)' % auc1)\n",
    "plt.plot(fpr2, tpr2, label='KNN (AUC = %0.3f)' % auc2)\n",
    "plt.plot(fpr3, tpr3, label='Random Forest (AUC = %0.3f)' % auc3)\n",
    "#plt.plot(fpr4, tpr4, label='ANC Log Reg (AUC = %0.3f)' % auc4)\n",
    "plt.xlim([0.0, 1.0])\n",
    "plt.ylim([0.0, 1.0])\n",
    "plt.xlabel('False Positive Rate')\n",
    "plt.ylabel('True Positive Rate')\n",
    "plt.legend(loc='lower right');\n",
    "plt.show()\n",
    "fig.savefig('prediction_models.png',bbox_inches='tight')"
   ]
  },
  {
   "cell_type": "markdown",
   "id": "under-deposit",
   "metadata": {},
   "source": [
    "### Cytarabine Dose Low/High/Very High\n",
    "- 200mg/m2/day x8 or 10 days (low dose)\n",
    "- 2000mg/m2/day x 4 or 5 days (high dose)\n",
    "- 6000mg/m2/day x 4 days (very high)"
   ]
  },
  {
   "cell_type": "code",
   "execution_count": null,
   "id": "arbitrary-celebrity",
   "metadata": {},
   "outputs": [],
   "source": [
    "import numpy as np\n",
    "import pandas as pd\n",
    "from scipy import stats\n",
    "import matplotlib.pyplot as plt\n",
    "from matplotlib.pyplot import plot, show, savefig, xlim, figure, \\\n",
    "                ylim, legend, boxplot, setp, axes\n",
    "%matplotlib inline\n",
    "import statsmodels.api as sm\n",
    "\n",
    "admissions = pd.read_excel('aml_data_8.16.23.xlsx')\n",
    "admissions.dropna(subset=['cyt_low'],inplace=True)\n",
    "admissions.reset_index(inplace=True)\n",
    "ads_cv = pd.get_dummies(admissions['CV_line'], drop_first = True)\n",
    "cvs = ads_cv.columns\n",
    "admissions = pd.concat([admissions, ads_cv], axis=1)\n",
    "admissions['male'] = admissions['gender'].map({'M':1, 'F':0})\n",
    "\n",
    "admissions.first_bmi_kg_m2 = admissions.first_bmi_kg_m2.replace(np.nan,admissions.first_bmi_kg_m2.median())\n",
    "admissions.dropna(subset=['lowest_neutrophil'],inplace=True)\n",
    "admissions.dropna(subset=['lowest_platelet'],inplace=True)\n",
    "admissions.reset_index(inplace=True)\n",
    "print('There are '+str(len(admissions))+' total admissions.')\n",
    "neg_ads = admissions[admissions['infection_present'] == 0]\n",
    "print('There are '+str(len(neg_ads))+' infection-negative admissions.')"
   ]
  },
  {
   "cell_type": "code",
   "execution_count": null,
   "id": "defined-bones",
   "metadata": {},
   "outputs": [],
   "source": [
    "# ~4 hours\n",
    "from sklearn.linear_model import LogisticRegression\n",
    "from sklearn.tree import DecisionTreeClassifier\n",
    "from sklearn.neighbors import KNeighborsClassifier\n",
    "from sklearn.ensemble import RandomForestClassifier\n",
    "\n",
    "from sklearn.model_selection import train_test_split\n",
    "from sklearn.model_selection import KFold\n",
    "from sklearn.model_selection import LeaveOneOut\n",
    "from sklearn.model_selection import GridSearchCV\n",
    "from sklearn.metrics import roc_auc_score, roc_curve\n",
    "\n",
    "featureset = ['age',\n",
    "        'white_caucasian','first_bmi_kg_m2','lowest_neutrophil','lowest_platelet',\n",
    "        'max_temp_38.5','cyt_low','cyt_high','cyt_very_high','levo',\n",
    "        'Other', 'Port',\n",
    "        'male','infection_present']\n",
    "ads_CART = admissions[featureset]\n",
    "X = ads_CART.drop(['infection_present'],axis=1)\n",
    "y = ads_CART['infection_present']\n",
    "\n",
    "cart = DecisionTreeClassifier()\n",
    "logreg = LogisticRegression(solver='liblinear')\n",
    "knn = KNeighborsClassifier()\n",
    "rf = RandomForestClassifier()\n",
    "\n",
    "cart_params = {'max_depth':[1,2,3,4,5,6,7,8,9,10]}\n",
    "logreg_params = {'C':[0.0001,0.001,0.01,0.1,1,10,100,250,500,750,1000],'penalty':['l1','l2']}\n",
    "knn_params = {'n_neighbors':[1,2,3,4,5,6,7,8,9,10],'weights':['uniform','distance']}\n",
    "rf_params = {'n_estimators':[10, 100, 250, 500, 1000],'max_depth':[1,2,5,8,10]} # if slow, only do 1000 n_est\n",
    "\n",
    "loo = LeaveOneOut()\n",
    "cart_preds = []\n",
    "logreg_preds = []\n",
    "knn_preds = []\n",
    "rf_preds = []\n",
    "feat_imp = []\n",
    "y_tests = []\n",
    "logreg_betas = []\n",
    "for train_index, test_index in loo.split(X):\n",
    "    X_train, X_test = X.loc[train_index], X.loc[test_index]\n",
    "    y_train, y_test = y[train_index], y[test_index]\n",
    "    y_tests.append(y_test)\n",
    "\n",
    "    cartGS = GridSearchCV(cart, cart_params, cv=3, scoring='roc_auc')\n",
    "    cartGS.fit(X_train,y_train)\n",
    "    cart_preds.append(cartGS.best_estimator_.predict_proba(X_test).T[1])\n",
    "\n",
    "    logregGS = GridSearchCV(logreg, logreg_params, cv=3, scoring='roc_auc')\n",
    "    logregGS.fit(X_train,y_train)\n",
    "    logreg_preds.append(logregGS.best_estimator_.predict_proba(X_test).T[1])\n",
    "    #Store betas\n",
    "    logreg_betas.append(logregGS.best_estimator_.coef_)\n",
    "\n",
    "    knnGS = GridSearchCV(knn, knn_params, cv=3, scoring='roc_auc')\n",
    "    knnGS.fit(X_train,y_train)\n",
    "    knn_preds.append(knnGS.best_estimator_.predict_proba(X_test).T[1])\n",
    "\n",
    "    rfGS = GridSearchCV(rf, rf_params, cv=3, scoring='roc_auc')\n",
    "    rfGS.fit(X_train,y_train)\n",
    "    rf_preds.append(rfGS.best_estimator_.predict_proba(X_test).T[1])\n",
    "    #Store feature importances\n",
    "    feat_imp.append(rfGS.best_estimator_.feature_importances_)"
   ]
  },
  {
   "cell_type": "code",
   "execution_count": null,
   "id": "legendary-float",
   "metadata": {},
   "outputs": [],
   "source": [
    "# Saving our lists/findings\n",
    "import pickle\n",
    "with open('cart_preds2.pickle', 'wb') as handle:\n",
    "    pickle.dump(cart_preds, handle, protocol=pickle.HIGHEST_PROTOCOL)\n",
    "with open('logreg_preds2.pickle', 'wb') as handle:\n",
    "    pickle.dump(logreg_preds, handle, protocol=pickle.HIGHEST_PROTOCOL)\n",
    "with open('knn_preds2.pickle', 'wb') as handle:\n",
    "    pickle.dump(knn_preds, handle, protocol=pickle.HIGHEST_PROTOCOL)\n",
    "with open('rf_preds2.pickle', 'wb') as handle:\n",
    "    pickle.dump(rf_preds, handle, protocol=pickle.HIGHEST_PROTOCOL)\n",
    "with open('feat_imp2.pickle', 'wb') as handle:\n",
    "    pickle.dump(feat_imp, handle, protocol=pickle.HIGHEST_PROTOCOL)\n",
    "with open('y_tests2.pickle', 'wb') as handle:\n",
    "    pickle.dump(y_tests, handle, protocol=pickle.HIGHEST_PROTOCOL)\n",
    "with open('logreg_betas2.pickle', 'wb') as handle:\n",
    "    pickle.dump(logreg_betas, handle, protocol=pickle.HIGHEST_PROTOCOL)"
   ]
  },
  {
   "cell_type": "code",
   "execution_count": null,
   "id": "described-ballet",
   "metadata": {},
   "outputs": [],
   "source": [
    "# Retrieve lists/findings\n",
    "import pickle\n",
    "with open('cart_preds2.pickle', 'rb') as handle:\n",
    "    cart_preds = pickle.load(handle)\n",
    "with open('logreg_preds2.pickle', 'rb') as handle:\n",
    "    logreg_preds = pickle.load(handle)\n",
    "with open('knn_preds2.pickle', 'rb') as handle:\n",
    "    knn_preds = pickle.load(handle)\n",
    "with open('rf_preds2.pickle', 'rb') as handle:\n",
    "    rf_preds = pickle.load(handle)\n",
    "with open('feat_imp2.pickle', 'rb') as handle:\n",
    "    feat_imp = pickle.load(handle)\n",
    "with open('y_tests2.pickle', 'rb') as handle:\n",
    "    y_tests = pickle.load(handle)"
   ]
  },
  {
   "cell_type": "code",
   "execution_count": null,
   "id": "fresh-bradford",
   "metadata": {},
   "outputs": [],
   "source": [
    "#Build Final ROC plot\n",
    "fpr, tpr, thresh = roc_curve(y_tests, cart_preds)\n",
    "auc= roc_auc_score(y_tests, cart_preds)\n",
    "\n",
    "fpr1, tpr1, thresh1 = roc_curve(y_tests, logreg_preds)\n",
    "auc1= roc_auc_score(y_tests, logreg_preds)\n",
    "\n",
    "fpr2, tpr2, thresh2 = roc_curve(y_tests, knn_preds)\n",
    "auc2= roc_auc_score(y_tests, knn_preds)\n",
    "\n",
    "fpr3, tpr3, thresh3 = roc_curve(y_tests, rf_preds)\n",
    "auc3= roc_auc_score(y_tests, rf_preds)\n",
    "\n",
    "fig = plt.figure(figsize=(10, 6))\n",
    "font = {'family' : 'normal',\n",
    "        'weight' : 'normal',\n",
    "        'size'   : 14}\n",
    "plt.rc('font', **font)\n",
    "plt.plot([0, 1], [0, 1], linestyle='--')\n",
    "plt.plot(0.58,0.94,'o', label='Fever') # baseline fever model\n",
    "plt.plot(0.76,0.95,'o', label='Neutropenia') # baseline anc model\n",
    "plt.plot(fpr, tpr, label='CART (AUC = %0.3f)' % auc)\n",
    "plt.plot(fpr1, tpr1, label='Logistic regression (AUC = %0.3f)' % auc1)\n",
    "plt.plot(fpr2, tpr2, label='KNN (AUC = %0.3f)' % auc2)\n",
    "plt.plot(fpr3, tpr3, label='Random Forest (AUC = %0.3f)' % auc3)\n",
    "#plt.plot(fpr4, tpr4, label='ANC Log Reg (AUC = %0.3f)' % auc4)\n",
    "plt.xlim([0.0, 1.0])\n",
    "plt.ylim([0.0, 1.0])\n",
    "plt.xlabel('False Positive Rate')\n",
    "plt.ylabel('True Positive Rate')\n",
    "plt.legend(loc='lower right');\n",
    "plt.show()\n",
    "fig.savefig('prediction_models2.png',bbox_inches='tight')"
   ]
  },
  {
   "cell_type": "code",
   "execution_count": null,
   "id": "fitted-science",
   "metadata": {
    "scrolled": true
   },
   "outputs": [],
   "source": [
    "sum(feat_imp)/len(feat_imp)"
   ]
  },
  {
   "cell_type": "code",
   "execution_count": null,
   "id": "abandoned-original",
   "metadata": {},
   "outputs": [],
   "source": [
    "featureset = ['age','white_caucasian','first_bmi_kg_m2','lowest_neutrophil','lowest_platelet',\n",
    "        'max_temp_38.5','cyt_low','cyt_high','cyt_very_high','levo',\n",
    "        'Other', 'Port','male',\n",
    "        'infection_present']"
   ]
  },
  {
   "cell_type": "markdown",
   "id": "metropolitan-minneapolis",
   "metadata": {},
   "source": [
    "### Cytarabine high dose threshold of 1000 or 2000"
   ]
  },
  {
   "cell_type": "code",
   "execution_count": null,
   "id": "classical-emerald",
   "metadata": {},
   "outputs": [],
   "source": [
    "import numpy as np\n",
    "import pandas as pd\n",
    "from scipy import stats\n",
    "import matplotlib.pyplot as plt\n",
    "from matplotlib.pyplot import plot, show, savefig, xlim, figure, \\\n",
    "                ylim, legend, boxplot, setp, axes\n",
    "%matplotlib inline\n",
    "import statsmodels.api as sm\n",
    "\n",
    "admissions = pd.read_excel('aml_data_8.16.23.xlsx')\n",
    "admissions.dropna(subset=['cyt_1000'],inplace=True)\n",
    "ads_cv = pd.get_dummies(admissions['CV_line'], drop_first = True)\n",
    "cvs = ads_cv.columns\n",
    "admissions = pd.concat([admissions, ads_cv], axis=1)\n",
    "admissions['male'] = admissions['gender'].map({'M':1, 'F':0})\n",
    "\n",
    "admissions.first_bmi_kg_m2 = admissions.first_bmi_kg_m2.replace(np.nan,admissions.first_bmi_kg_m2.median())\n",
    "admissions.dropna(subset=['lowest_neutrophil'],inplace=True)\n",
    "admissions.dropna(subset=['lowest_platelet'],inplace=True)\n",
    "admissions.reset_index(inplace=True)\n",
    "print('There are '+str(len(admissions))+' total admissions.')\n",
    "neg_ads = admissions[admissions['infection_present'] == 0]\n",
    "print('There are '+str(len(neg_ads))+' infection-negative admissions.')"
   ]
  },
  {
   "cell_type": "code",
   "execution_count": null,
   "id": "alleged-conditions",
   "metadata": {},
   "outputs": [],
   "source": [
    "from sklearn.linear_model import LogisticRegression\n",
    "from sklearn.tree import DecisionTreeClassifier\n",
    "from sklearn.neighbors import KNeighborsClassifier\n",
    "from sklearn.ensemble import RandomForestClassifier\n",
    "\n",
    "from sklearn.model_selection import train_test_split\n",
    "from sklearn.model_selection import KFold\n",
    "from sklearn.model_selection import LeaveOneOut\n",
    "from sklearn.model_selection import GridSearchCV\n",
    "from sklearn.metrics import roc_auc_score, roc_curve\n",
    "\n",
    "featureset = ['age',\n",
    "        'white_caucasian','first_bmi_kg_m2','lowest_neutrophil','lowest_platelet',\n",
    "        'max_temp_38.5','cyt_2000','levo',\n",
    "        'Other', 'Port',\n",
    "        'male','infection_present']\n",
    "ads_CART = admissions[featureset]\n",
    "X = ads_CART.drop(['infection_present'],axis=1)\n",
    "y = ads_CART['infection_present']\n",
    "\n",
    "# >6 hrs to run\n",
    "cart = DecisionTreeClassifier()\n",
    "logreg = LogisticRegression(solver='liblinear')\n",
    "knn = KNeighborsClassifier()\n",
    "rf = RandomForestClassifier()\n",
    "\n",
    "cart_params = {'max_depth':[1,2,3,4,5,6,7,8,9,10]}\n",
    "logreg_params = {'C':[0.0001,0.001,0.01,0.1,1,10,100,250,500,750,1000],'penalty':['l1','l2']}\n",
    "knn_params = {'n_neighbors':[1,2,3,4,5,6,7,8,9,10],'weights':['uniform','distance']}\n",
    "rf_params = {'n_estimators':[10, 100, 250, 500, 1000],'max_depth':[1,2,5,8,10]} # if slow, only do 1000 n_est\n",
    "\n",
    "flogreg_score = []\n",
    "cart_score = []\n",
    "logreg_score = []\n",
    "knn_score = []\n",
    "rf_score = []\n",
    "\n",
    "loo = LeaveOneOut()\n",
    "cart_preds = []\n",
    "logreg_preds = []\n",
    "knn_preds = []\n",
    "rf_preds = []\n",
    "feat_imp = []\n",
    "y_tests = []\n",
    "for train_index, test_index in loo.split(X):\n",
    "    X_train, X_test = X.loc[train_index], X.loc[test_index]\n",
    "    y_train, y_test = y[train_index], y[test_index]\n",
    "    y_tests.append(y_test)\n",
    "\n",
    "    cartGS = GridSearchCV(cart, cart_params, cv=3, scoring='roc_auc')\n",
    "    cartGS.fit(X_train,y_train)\n",
    "    cart_preds.append(cartGS.best_estimator_.predict_proba(X_test).T[1])\n",
    "\n",
    "    logregGS = GridSearchCV(logreg, logreg_params, cv=3, scoring='roc_auc')\n",
    "    logregGS.fit(X_train,y_train)\n",
    "    logreg_preds.append(logregGS.best_estimator_.predict_proba(X_test).T[1])\n",
    "    #Store betas\n",
    "    #logreg_betas.append(logregGS.best_estimator_.coef_)\n",
    "\n",
    "    knnGS = GridSearchCV(knn, knn_params, cv=3, scoring='roc_auc')\n",
    "    knnGS.fit(X_train,y_train)\n",
    "    knn_preds.append(knnGS.best_estimator_.predict_proba(X_test).T[1])\n",
    "\n",
    "    rfGS = GridSearchCV(rf, rf_params, cv=3, scoring='roc_auc')\n",
    "    rfGS.fit(X_train,y_train)\n",
    "    rf_preds.append(rfGS.best_estimator_.predict_proba(X_test).T[1])\n",
    "    #Store feature importances\n",
    "    feat_imp.append(rfGS.best_estimator_.feature_importances_)"
   ]
  },
  {
   "cell_type": "code",
   "execution_count": null,
   "id": "black-savage",
   "metadata": {},
   "outputs": [],
   "source": [
    "# Saving our lists/findings\n",
    "import pickle\n",
    "with open('cart_preds4.pickle', 'wb') as handle:\n",
    "    pickle.dump(cart_preds, handle, protocol=pickle.HIGHEST_PROTOCOL)\n",
    "with open('logreg_preds4.pickle', 'wb') as handle:\n",
    "    pickle.dump(logreg_preds, handle, protocol=pickle.HIGHEST_PROTOCOL)\n",
    "with open('knn_preds4.pickle', 'wb') as handle:\n",
    "    pickle.dump(knn_preds, handle, protocol=pickle.HIGHEST_PROTOCOL)\n",
    "with open('rf_preds4.pickle', 'wb') as handle:\n",
    "    pickle.dump(rf_preds, handle, protocol=pickle.HIGHEST_PROTOCOL)\n",
    "with open('feat_imp4.pickle', 'wb') as handle:\n",
    "    pickle.dump(feat_imp, handle, protocol=pickle.HIGHEST_PROTOCOL)\n",
    "with open('y_tests4.pickle', 'wb') as handle:\n",
    "    pickle.dump(y_tests, handle, protocol=pickle.HIGHEST_PROTOCOL)"
   ]
  },
  {
   "cell_type": "code",
   "execution_count": null,
   "id": "spatial-costume",
   "metadata": {},
   "outputs": [],
   "source": [
    "# Retrieve lists/findings\n",
    "import pickle\n",
    "with open('cart_preds4.pickle', 'rb') as handle:\n",
    "    cart_preds = pickle.load(handle)\n",
    "with open('logreg_preds4.pickle', 'rb') as handle:\n",
    "    logreg_preds = pickle.load(handle)\n",
    "with open('knn_preds4.pickle', 'rb') as handle:\n",
    "    knn_preds = pickle.load(handle)\n",
    "with open('rf_preds4.pickle', 'rb') as handle:\n",
    "    rf_preds = pickle.load(handle)\n",
    "with open('feat_imp4.pickle', 'rb') as handle:\n",
    "    feat_imp = pickle.load(handle)\n",
    "with open('y_tests4.pickle', 'rb') as handle:\n",
    "    y_tests = pickle.load(handle)"
   ]
  },
  {
   "cell_type": "code",
   "execution_count": null,
   "id": "younger-desire",
   "metadata": {},
   "outputs": [],
   "source": [
    "# Baseline fever model\n",
    "# (0, recall) is specificity/TNR = 1 - FPR\n",
    "# (1, recall) is sensitivity/TPR = 0.94\n",
    "from sklearn.metrics import classification_report\n",
    "fevers = admissions['max_temp_38.5']\n",
    "infections = admissions['infection_present']\n",
    "print(classification_report(infections,fevers))"
   ]
  },
  {
   "cell_type": "code",
   "execution_count": null,
   "id": "married-alabama",
   "metadata": {},
   "outputs": [],
   "source": [
    "neutropenia = admissions['neutropenia']\n",
    "infections = admissions['infection_present']\n",
    "print(classification_report(infections,neutropenia))"
   ]
  },
  {
   "cell_type": "code",
   "execution_count": null,
   "id": "serial-civilian",
   "metadata": {},
   "outputs": [],
   "source": [
    "#Build Final ROC plot\n",
    "fpr, tpr, thresh = roc_curve(y_tests, cart_preds)\n",
    "auc= roc_auc_score(y_tests, cart_preds)\n",
    "\n",
    "fpr1, tpr1, thresh1 = roc_curve(y_tests, logreg_preds)\n",
    "auc1= roc_auc_score(y_tests, logreg_preds)\n",
    "\n",
    "fpr2, tpr2, thresh2 = roc_curve(y_tests, knn_preds)\n",
    "auc2= roc_auc_score(y_tests, knn_preds)\n",
    "\n",
    "fpr3, tpr3, thresh3 = roc_curve(y_tests, rf_preds)\n",
    "auc3= roc_auc_score(y_tests, rf_preds)\n",
    "\n",
    "fig = plt.figure(figsize=(10, 6))\n",
    "font = {'family' : 'normal',\n",
    "        'weight' : 'normal',\n",
    "        'size'   : 14}\n",
    "plt.rc('font', **font)\n",
    "plt.plot([0, 1], [0, 1], linestyle='--')\n",
    "plt.plot(0.58,0.94,'o', label='Fever') # baseline fever model\n",
    "plt.plot(0.76,0.95,'o', label='Neutropenia') # baseline anc model\n",
    "plt.plot(fpr, tpr, label='CART (AUC = %0.3f)' % auc)\n",
    "plt.plot(fpr1, tpr1, label='Logistic regression (AUC = %0.3f)' % auc1)\n",
    "plt.plot(fpr2, tpr2, label='KNN (AUC = %0.3f)' % auc2)\n",
    "plt.plot(fpr3, tpr3, label='Random Forest (AUC = %0.3f)' % auc3)\n",
    "#plt.plot(fpr4, tpr4, label='ANC Log Reg (AUC = %0.3f)' % auc4)\n",
    "plt.xlim([0.0, 1.0])\n",
    "plt.ylim([0.0, 1.0])\n",
    "plt.xlabel('False Positive Rate')\n",
    "plt.ylabel('True Positive Rate')\n",
    "plt.legend(loc='lower right');\n",
    "plt.show()\n",
    "fig.savefig('prediction_models4.png',bbox_inches='tight')"
   ]
  },
  {
   "cell_type": "code",
   "execution_count": null,
   "id": "obvious-activation",
   "metadata": {},
   "outputs": [],
   "source": [
    "sum(feat_imp)/len(feat_imp)"
   ]
  },
  {
   "cell_type": "code",
   "execution_count": null,
   "id": "simplified-cholesterol",
   "metadata": {},
   "outputs": [],
   "source": [
    "featureset = ['age','white_caucasian','first_bmi_kg_m2','lowest_neutrophil','lowest_platelet',\n",
    "        'max_temp_38.5','cyt_1000','levo','Other', 'Port',\n",
    "        'male',\n",
    "        'infection_present']"
   ]
  },
  {
   "cell_type": "markdown",
   "id": "tropical-sapphire",
   "metadata": {},
   "source": [
    "### What if included hemoglobin and monocytes?"
   ]
  },
  {
   "cell_type": "code",
   "execution_count": null,
   "id": "increased-charlotte",
   "metadata": {},
   "outputs": [],
   "source": [
    "import numpy as np\n",
    "import pandas as pd\n",
    "from scipy import stats\n",
    "import matplotlib.pyplot as plt\n",
    "from matplotlib.pyplot import plot, show, savefig, xlim, figure, \\\n",
    "                ylim, legend, boxplot, setp, axes\n",
    "%matplotlib inline\n",
    "import statsmodels.api as sm\n",
    "\n",
    "admissions = pd.read_excel('aml_data_8.16.23.xlsx')\n",
    "admissions.dropna(subset=['Cytarabine mg/m2/day'],inplace=True)\n",
    "ads_cv = pd.get_dummies(admissions['CV_line'], drop_first = True)\n",
    "cvs = ads_cv.columns\n",
    "admissions = pd.concat([admissions, ads_cv], axis=1)\n",
    "admissions['male'] = admissions['gender'].map({'M':1, 'F':0})\n",
    "\n",
    "admissions.first_bmi_kg_m2 = admissions.first_bmi_kg_m2.replace(np.nan,admissions.first_bmi_kg_m2.median())\n",
    "admissions.dropna(subset=['lowest_neutrophil'],inplace=True)\n",
    "admissions.dropna(subset=['lowest_platelet'],inplace=True)\n",
    "admissions.dropna(subset=['lowest_hemoglobin'],inplace=True)\n",
    "admissions.dropna(subset=['lowest_monocytes'],inplace=True)\n",
    "admissions.reset_index(inplace=True)\n",
    "print('There are '+str(len(admissions))+' total admissions.')\n",
    "neg_ads = admissions[admissions['infection_present'] == 0]\n",
    "print('There are '+str(len(neg_ads))+' infection-negative admissions.')"
   ]
  },
  {
   "cell_type": "code",
   "execution_count": null,
   "id": "spare-portrait",
   "metadata": {},
   "outputs": [],
   "source": [
    "from sklearn.linear_model import LogisticRegression\n",
    "from sklearn.tree import DecisionTreeClassifier\n",
    "from sklearn.neighbors import KNeighborsClassifier\n",
    "from sklearn.ensemble import RandomForestClassifier\n",
    "\n",
    "from sklearn.model_selection import train_test_split\n",
    "from sklearn.model_selection import KFold\n",
    "from sklearn.model_selection import LeaveOneOut\n",
    "from sklearn.model_selection import GridSearchCV\n",
    "from sklearn.metrics import roc_auc_score, roc_curve\n",
    "\n",
    "\n",
    "featureset = ['age',\n",
    "        'white_caucasian','first_bmi_kg_m2','lowest_neutrophil','lowest_platelet',\n",
    "        'max_temp_38.5','cyt_2000','levo',\n",
    "        'lowest_hemoglobin','lowest_monocytes',\n",
    "        'Other', 'Port',\n",
    "        'male','infection_present']\n",
    "ads_CART = admissions[featureset]\n",
    "X = ads_CART.drop(['infection_present'],axis=1)\n",
    "y = ads_CART['infection_present']\n",
    "\n",
    "# >6 hrs to run\n",
    "cart = DecisionTreeClassifier()\n",
    "logreg = LogisticRegression(solver='liblinear')\n",
    "knn = KNeighborsClassifier()\n",
    "rf = RandomForestClassifier()\n",
    "\n",
    "cart_params = {'max_depth':[1,2,3,4,5,6,7,8,9,10]}\n",
    "logreg_params = {'C':[0.0001,0.001,0.01,0.1,1,10,100,250,500,750,1000],'penalty':['l1','l2']}\n",
    "knn_params = {'n_neighbors':[1,2,3,4,5,6,7,8,9,10],'weights':['uniform','distance']}\n",
    "rf_params = {'n_estimators':[10, 100, 250, 500, 1000],'max_depth':[1,2,5,8,10]} # if slow, only do 1000 n_est\n",
    "\n",
    "flogreg_score = []\n",
    "cart_score = []\n",
    "logreg_score = []\n",
    "knn_score = []\n",
    "rf_score = []\n",
    "\n",
    "loo = LeaveOneOut()\n",
    "cart_preds = []\n",
    "logreg_preds = []\n",
    "knn_preds = []\n",
    "rf_preds = []\n",
    "feat_imp = []\n",
    "y_tests = []\n",
    "logreg_betas = []\n",
    "for train_index, test_index in loo.split(X):\n",
    "    X_train, X_test = X.loc[train_index], X.loc[test_index]\n",
    "    y_train, y_test = y[train_index], y[test_index]\n",
    "    y_tests.append(y_test)\n",
    "\n",
    "    cartGS = GridSearchCV(cart, cart_params, cv=3, scoring='roc_auc')\n",
    "    cartGS.fit(X_train,y_train)\n",
    "    cart_preds.append(cartGS.best_estimator_.predict_proba(X_test).T[1])\n",
    "\n",
    "    logregGS = GridSearchCV(logreg, logreg_params, cv=3, scoring='roc_auc')\n",
    "    logregGS.fit(X_train,y_train)\n",
    "    logreg_preds.append(logregGS.best_estimator_.predict_proba(X_test).T[1])\n",
    "    #Store betas\n",
    "    logreg_betas.append(logregGS.best_estimator_.coef_)\n",
    "\n",
    "    knnGS = GridSearchCV(knn, knn_params, cv=3, scoring='roc_auc')\n",
    "    knnGS.fit(X_train,y_train)\n",
    "    knn_preds.append(knnGS.best_estimator_.predict_proba(X_test).T[1])\n",
    "\n",
    "    rfGS = GridSearchCV(rf, rf_params, cv=3, scoring='roc_auc')\n",
    "    rfGS.fit(X_train,y_train)\n",
    "    rf_preds.append(rfGS.best_estimator_.predict_proba(X_test).T[1])\n",
    "    #Store feature importances\n",
    "    feat_imp.append(rfGS.best_estimator_.feature_importances_)"
   ]
  },
  {
   "cell_type": "code",
   "execution_count": null,
   "id": "thirty-schedule",
   "metadata": {},
   "outputs": [],
   "source": [
    "# Saving our lists/findings\n",
    "import pickle\n",
    "with open('cart_preds8.pickle', 'wb') as handle:\n",
    "    pickle.dump(cart_preds, handle, protocol=pickle.HIGHEST_PROTOCOL)\n",
    "with open('logreg_preds8.pickle', 'wb') as handle:\n",
    "    pickle.dump(logreg_preds, handle, protocol=pickle.HIGHEST_PROTOCOL)\n",
    "with open('knn_preds8.pickle', 'wb') as handle:\n",
    "    pickle.dump(knn_preds, handle, protocol=pickle.HIGHEST_PROTOCOL)\n",
    "with open('rf_preds8.pickle', 'wb') as handle:\n",
    "    pickle.dump(rf_preds, handle, protocol=pickle.HIGHEST_PROTOCOL)\n",
    "with open('feat_imp8.pickle', 'wb') as handle:\n",
    "    pickle.dump(feat_imp, handle, protocol=pickle.HIGHEST_PROTOCOL)\n",
    "with open('y_tests8.pickle', 'wb') as handle:\n",
    "    pickle.dump(y_tests, handle, protocol=pickle.HIGHEST_PROTOCOL)\n",
    "with open('logreg_betas8.pickle', 'wb') as handle:\n",
    "    pickle.dump(logreg_betas, handle, protocol=pickle.HIGHEST_PROTOCOL)"
   ]
  },
  {
   "cell_type": "code",
   "execution_count": null,
   "id": "national-postage",
   "metadata": {},
   "outputs": [],
   "source": [
    "# Baseline fever model\n",
    "# (0, recall) is specificity/TNR = 1 - FPR\n",
    "# (1, recall) is sensitivity/TPR = 0.94\n",
    "from sklearn.metrics import classification_report\n",
    "fevers = admissions['max_temp_38.5']\n",
    "infections = admissions['infection_present']\n",
    "print(classification_report(infections,fevers))"
   ]
  },
  {
   "cell_type": "code",
   "execution_count": null,
   "id": "cleared-degree",
   "metadata": {},
   "outputs": [],
   "source": [
    "neutropenia = admissions['neutropenia']\n",
    "infections = admissions['infection_present']\n",
    "print(classification_report(infections,neutropenia))"
   ]
  },
  {
   "cell_type": "code",
   "execution_count": null,
   "id": "entertaining-dylan",
   "metadata": {},
   "outputs": [],
   "source": [
    "#Build Final ROC plot\n",
    "fpr, tpr, thresh = roc_curve(y_tests, cart_preds)\n",
    "auc= roc_auc_score(y_tests, cart_preds)\n",
    "\n",
    "fpr1, tpr1, thresh1 = roc_curve(y_tests, logreg_preds)\n",
    "auc1= roc_auc_score(y_tests, logreg_preds)\n",
    "\n",
    "fpr2, tpr2, thresh2 = roc_curve(y_tests, knn_preds)\n",
    "auc2= roc_auc_score(y_tests, knn_preds)\n",
    "\n",
    "fpr3, tpr3, thresh3 = roc_curve(y_tests, rf_preds)\n",
    "auc3= roc_auc_score(y_tests, rf_preds)\n",
    "\n",
    "fig = plt.figure(figsize=(10, 6))\n",
    "font = {'family' : 'normal',\n",
    "        'weight' : 'normal',\n",
    "        'size'   : 14}\n",
    "plt.rc('font', **font)\n",
    "plt.plot([0, 1], [0, 1], linestyle='--')\n",
    "plt.plot(0.58,0.94,'o', label='Fever') # baseline fever model\n",
    "plt.plot(0.76,0.95,'o', label='Neutropenia') # baseline anc model\n",
    "plt.plot(fpr, tpr, label='CART (AUC = %0.3f)' % auc)\n",
    "plt.plot(fpr1, tpr1, label='Logistic regression (AUC = %0.3f)' % auc1)\n",
    "plt.plot(fpr2, tpr2, label='KNN (AUC = %0.3f)' % auc2)\n",
    "plt.plot(fpr3, tpr3, label='Random Forest (AUC = %0.3f)' % auc3)\n",
    "#plt.plot(fpr4, tpr4, label='ANC Log Reg (AUC = %0.3f)' % auc4)\n",
    "plt.xlim([0.0, 1.0])\n",
    "plt.ylim([0.0, 1.0])\n",
    "plt.xlabel('False Positive Rate')\n",
    "plt.ylabel('True Positive Rate')\n",
    "plt.legend(loc='lower right');\n",
    "plt.show()\n",
    "fig.savefig('prediction_models8.png',bbox_inches='tight')"
   ]
  },
  {
   "cell_type": "code",
   "execution_count": null,
   "id": "variable-bolivia",
   "metadata": {},
   "outputs": [],
   "source": [
    "# Retrieve lists/findings\n",
    "import pickle\n",
    "with open('cart_preds8.pickle', 'rb') as handle:\n",
    "    cart_preds = pickle.load(handle)\n",
    "with open('logreg_preds8.pickle', 'rb') as handle:\n",
    "    logreg_preds = pickle.load(handle)\n",
    "with open('knn_preds8.pickle', 'rb') as handle:\n",
    "    knn_preds = pickle.load(handle)\n",
    "with open('rf_preds8.pickle', 'rb') as handle:\n",
    "    rf_preds = pickle.load(handle)\n",
    "with open('feat_imp8.pickle', 'rb') as handle:\n",
    "    feat_imp = pickle.load(handle)\n",
    "with open('y_tests8.pickle', 'rb') as handle:\n",
    "    y_tests = pickle.load(handle)\n",
    "with open('logreg_betas8.pickle', 'rb') as handle:\n",
    "    logreg_betas = pickle.load(handle)"
   ]
  },
  {
   "cell_type": "code",
   "execution_count": null,
   "id": "respected-continuity",
   "metadata": {},
   "outputs": [],
   "source": [
    "sum(logreg_betas)/len(logreg_betas)"
   ]
  },
  {
   "cell_type": "code",
   "execution_count": null,
   "id": "unable-saver",
   "metadata": {},
   "outputs": [],
   "source": [
    "sum(feat_imp)/len(feat_imp)"
   ]
  },
  {
   "cell_type": "code",
   "execution_count": null,
   "id": "intended-brazilian",
   "metadata": {},
   "outputs": [],
   "source": [
    "featureset = ['age','white_caucasian','first_bmi_kg_m2','lowest_neutrophil','lowest_platelet',\n",
    "        'max_temp_38.5','cyt_2000','levo','Other', 'Port',\n",
    "        'lowest_hemoglobin','lowest_monocytes','male',\n",
    "        'infection_present']"
   ]
  },
  {
   "cell_type": "markdown",
   "id": "legendary-auditor",
   "metadata": {},
   "source": [
    "# EDA"
   ]
  },
  {
   "cell_type": "code",
   "execution_count": null,
   "id": "efficient-clause",
   "metadata": {},
   "outputs": [],
   "source": [
    "import numpy as np\n",
    "import pandas as pd\n",
    "import seaborn as sns\n",
    "import matplotlib.pyplot as plt\n",
    "%matplotlib inline"
   ]
  },
  {
   "cell_type": "code",
   "execution_count": null,
   "id": "electoral-reporter",
   "metadata": {},
   "outputs": [],
   "source": [
    "admissions = pd.read_excel('aml_data_8.1.xlsx')\n",
    "#admissions.head()\n",
    "len(admissions)"
   ]
  },
  {
   "cell_type": "code",
   "execution_count": null,
   "id": "historical-middle",
   "metadata": {},
   "outputs": [],
   "source": [
    "pos_ads = admissions[admissions['infection_present'] == 1]\n",
    "print('There are '+str(len(pos_ads))+' infection-positive admissions.')\n",
    "print('There are '+str(len(pos_ads.MRN.unique()))+' patients that were infected.')\n",
    "#pos_ads.head()\n",
    "neg_ads = admissions[admissions['infection_present'] == 0]\n",
    "print('There are '+str(len(neg_ads))+' infection-negative admissions.')\n",
    "#neg_ads.head()\n",
    "\n",
    "# number of admissions\n",
    "tot_ads = admissions.pivot_table(index='MRN',values='age',aggfunc='count')\n",
    "tot_ads.plot.hist(bins=5).set_title('Amount of Patient Admissions')\n",
    "plt.xlabel('Admissions Count')\n",
    "plt.ylabel('Number of Patients')"
   ]
  },
  {
   "cell_type": "code",
   "execution_count": null,
   "id": "internal-telescope",
   "metadata": {},
   "outputs": [],
   "source": [
    "# num infections vs age range, pos & neg\n",
    "sns.boxplot(x='infection_present', y='age', data= admissions).set_title('Age Distribution of Pos/Neg Infections')"
   ]
  },
  {
   "cell_type": "code",
   "execution_count": null,
   "id": "square-african",
   "metadata": {},
   "outputs": [],
   "source": [
    "ad_race = admissions.pivot_table(index='race_code', values='MRN', aggfunc='count')\n",
    "pos_race = pos_ads.pivot_table(index='race_code', values='MRN', aggfunc='count')\n",
    "neg_race = neg_ads.pivot_table(index='race_code', values='MRN', aggfunc='count')\n",
    "pos_pie=pos_race.plot.pie(y='MRN',figsize=(10,6)).set_title('Positive Infections by Race',fontsize=18)\n",
    "neg_race.plot.pie(y='MRN',figsize=(10,6)).set_title('Negative Infections by Race',fontsize=18)"
   ]
  },
  {
   "cell_type": "code",
   "execution_count": null,
   "id": "tribal-violence",
   "metadata": {},
   "outputs": [],
   "source": [
    "ad_gender = admissions.pivot_table(index='gender', values='MRN', aggfunc='count')\n",
    "pos_gender= pos_ads.pivot_table(index='gender', values='MRN', aggfunc='count')\n",
    "pos_gender.plot.pie(y='MRN',figsize=(10,4)).set_title('Positive Infections by Gender',fontsize=18)\n",
    "neg_gender= neg_ads.pivot_table(index='gender', values='MRN', aggfunc='count')\n",
    "neg_gender.plot.pie(y='MRN',figsize=(10,4)).set_title('Negative Infections by Gender',fontsize=18)"
   ]
  },
  {
   "cell_type": "code",
   "execution_count": null,
   "id": "derived-suspect",
   "metadata": {},
   "outputs": [],
   "source": [
    "sns.boxplot(data=admissions, x='infection_present', y='age', hue='gender').set_title(\"Positive and Negative Cases Age Range by Gender\");"
   ]
  },
  {
   "cell_type": "code",
   "execution_count": null,
   "id": "decimal-tissue",
   "metadata": {},
   "outputs": [],
   "source": [
    "cond_plot = sns.FacetGrid(data=admissions, col='race_code', col_wrap=4)\n",
    "cond_plot.fig.subplots_adjust(top=0.9) \n",
    "cond_plot.fig.suptitle(\"Positive and Negative Cases Age Range by Race\")\n",
    "cond_plot.map(sns.boxplot, 'infection_present', 'age')"
   ]
  },
  {
   "cell_type": "code",
   "execution_count": null,
   "id": "raising-shelf",
   "metadata": {},
   "outputs": [],
   "source": [
    "sns.boxplot(x= admissions['infection_present'], y=admissions['first_bmi_kg_m2']).set_title(\"BMI for Pos/Neg Infections\");"
   ]
  },
  {
   "cell_type": "code",
   "execution_count": null,
   "id": "brief-genetics",
   "metadata": {},
   "outputs": [],
   "source": [
    "sns.scatterplot(data=admissions, x='age', y='first_bmi_kg_m2', hue='infection_present').set_title(\"Age and BMI for Positive/Negative Infections\");"
   ]
  },
  {
   "cell_type": "code",
   "execution_count": null,
   "id": "corrected-garlic",
   "metadata": {},
   "outputs": [],
   "source": [
    "sns.boxplot(data=admissions, x='infection_present', y='first_bmi_kg_m2', hue='gender').set_title(\"Positive and Negative Cases BMI Range by Gender\");"
   ]
  },
  {
   "cell_type": "code",
   "execution_count": null,
   "id": "surprised-morgan",
   "metadata": {},
   "outputs": [],
   "source": [
    "# los vs infection\n",
    "sns.boxplot(x='infection_present', y='LOS', data= admissions).set_title('Length of Stay (days) of Pos/Neg Infections')"
   ]
  },
  {
   "cell_type": "code",
   "execution_count": null,
   "id": "precious-violation",
   "metadata": {},
   "outputs": [],
   "source": [
    "# how many total icu admissions were there?\n",
    "len(admissions)-sum(admissions.icu_los.isna())"
   ]
  },
  {
   "cell_type": "code",
   "execution_count": null,
   "id": "understanding-basement",
   "metadata": {},
   "outputs": [],
   "source": [
    "ads_icu = admissions.pivot_table(index='infection_present', values='icu_los',aggfunc='count')\n",
    "pos_ratio = ads_icu.loc[1]/len(pos_ads)\n",
    "neg_ratio = ads_icu.loc[0]/len(neg_ads)\n",
    "ratio = [neg_ratio,pos_ratio]\n",
    "ratio = pd.DataFrame(ratio)\n",
    "ratio.plot.bar(y='icu_los').set_title('ICU Admissions Ratios of Pos/Neg Infections')\n",
    "plt.xticks(rotation=0)"
   ]
  },
  {
   "cell_type": "code",
   "execution_count": null,
   "id": "equivalent-monitor",
   "metadata": {},
   "outputs": [],
   "source": [
    "# deaths\n",
    "ads_dod = admissions.pivot_table(index='infection_present', values='dod',aggfunc='count')\n",
    "pos_ratio2 = ads_dod.loc[1]/len(pos_ads)\n",
    "neg_ratio2 = ads_dod.loc[0]/len(neg_ads)\n",
    "ratio2 = [neg_ratio2,pos_ratio2]\n",
    "ratio2 = pd.DataFrame(ratio2)\n",
    "ratio2.plot.bar(y='dod').set_title('Deaths of Positive/Negative Infections')\n",
    "plt.xticks(rotation=0)"
   ]
  },
  {
   "cell_type": "code",
   "execution_count": null,
   "id": "specific-palmer",
   "metadata": {},
   "outputs": [],
   "source": [
    "# distribution of infections over time\n",
    "# look at infections per admissions (ratio) each year\n",
    "pos_ads['infection_present'].groupby(pos_ads['admit_date'].dt.year).count().plot(kind=\"bar\",figsize=(10,4)).set_title('Infections Over Time')\n",
    "plt.xticks(rotation=0);"
   ]
  },
  {
   "cell_type": "code",
   "execution_count": null,
   "id": "qualified-balance",
   "metadata": {},
   "outputs": [],
   "source": [
    "# infection relapses\n",
    "relapses = admissions.pivot_table(index='MRN',values='infection_present',aggfunc='sum')\n",
    "relapses.plot.hist().set_title('Number of Infections Per Patient')\n",
    "plt.xlabel('Number of Infections')\n",
    "plt.ylabel('Number of Patients')"
   ]
  },
  {
   "cell_type": "code",
   "execution_count": null,
   "id": "strong-village",
   "metadata": {},
   "outputs": [],
   "source": [
    "# lowest_neutrophil\n",
    "sns.boxplot(x='infection_present', y='lowest_neutrophil', data= admissions).set_title('Lowest Neutrophil Count of Admissions for Pos/Neg Infections')"
   ]
  },
  {
   "cell_type": "code",
   "execution_count": null,
   "id": "immediate-container",
   "metadata": {},
   "outputs": [],
   "source": [
    "#CV_line_name\n",
    "ad_cv = admissions.pivot_table(index='CV_buckets', values='MRN', aggfunc='count')\n",
    "ad_cv.plot.pie(y='MRN',figsize=(10,8)).set_title('CV Lines per Admission',fontsize=18)"
   ]
  }
 ],
 "metadata": {
  "kernelspec": {
   "display_name": "Python 3",
   "language": "python",
   "name": "python3"
  },
  "language_info": {
   "codemirror_mode": {
    "name": "ipython",
    "version": 3
   },
   "file_extension": ".py",
   "mimetype": "text/x-python",
   "name": "python",
   "nbconvert_exporter": "python",
   "pygments_lexer": "ipython3",
   "version": "3.9.13"
  }
 },
 "nbformat": 4,
 "nbformat_minor": 5
}
